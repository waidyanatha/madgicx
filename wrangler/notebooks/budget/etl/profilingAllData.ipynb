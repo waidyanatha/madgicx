{
 "cells": [
  {
   "cell_type": "markdown",
   "id": "9e1a19de",
   "metadata": {},
   "source": [
    "# Data discovery through Bigquery\n"
   ]
  },
  {
   "cell_type": "code",
   "execution_count": 1,
   "id": "ea2801e6",
   "metadata": {},
   "outputs": [],
   "source": [
    "'''\n",
    "    WARNING CONTROL to display or ignore all warnings\n",
    "'''\n",
    "import warnings; warnings.simplefilter('ignore')     #switch betweeb 'default' and 'ignore'\n",
    "import traceback\n",
    "\n",
    "''' Set debug flag to view extended error messages; else set it to False to turn off debugging mode '''\n",
    "debug = True\n"
   ]
  },
  {
   "cell_type": "markdown",
   "id": "fa3bda64",
   "metadata": {},
   "source": [
    "## Instantiate Classes"
   ]
  },
  {
   "cell_type": "code",
   "execution_count": 2,
   "id": "93e9a568",
   "metadata": {},
   "outputs": [
    {
     "name": "stdout",
     "output_type": "stream",
     "text": [
      "All functional __PROPATTR__-libraries in LOADER-package of ETL-module imported successfully!\n",
      "All functional SPARKRDBM-libraries in LOADER-package of ETL-module imported successfully!\n",
      "All functional SPARKRDBM-libraries in LOADER-package of ETL-module imported successfully!\n",
      "All functional __PROPATTR__-libraries in LOADER-package of ETL-module imported successfully!\n",
      "bigquery\n",
      "All functional APP-libraries in REZAWARE-package of REZAWARE-module imported successfully!\n",
      "__propAttr__ Class initialization complete\n",
      "\n",
      "read and write files from and to BigQuery database class initialization and load complete!\n"
     ]
    }
   ],
   "source": [
    "import os\n",
    "import sys\n",
    "\n",
    "proj_dir = os.path.abspath(os.pardir)\n",
    "sys.path.insert(1,proj_dir.split('wrangler/')[0])\n",
    "from rezaware.modules.etl.loader import sparkRDBM as db\n",
    "from rezaware.modules.etl.loader import __propAttr__ as attr\n",
    "\n",
    "''' restart initiate classes '''\n",
    "if debug:\n",
    "    import importlib\n",
    "    db = importlib.reload(db)\n",
    "    attr=importlib.reload(attr)\n",
    "\n",
    "# _jar = os.path.join(os.getenv('SPARK_HOME'),\n",
    "#                     'jars',\n",
    "#                     'spark-bigquery_2.13-0.32.2.jar'\n",
    "#                     # 'spark-3.4-bigquery-0.41.1.jar'\n",
    "#                    )\n",
    "\n",
    "__desc__ = \"read and write files from and to BigQuery database\"\n",
    "clsSDB = db.dataWorkLoads(\n",
    "    desc=__desc__,\n",
    "    db_type = 'bigquery',\n",
    "    db_driver=None,\n",
    "    db_hostIP=None,\n",
    "    db_port = None,\n",
    "    db_name = None,\n",
    "    db_schema='combined_data_facebook_ads',\n",
    "    spark_partitions=None,\n",
    "    spark_format = 'bigquery',\n",
    "    spark_save_mode=None,\n",
    "    # spark_jar_dir = _jar,\n",
    ")\n",
    "# if clsSDB.session:\n",
    "#     clsSDB._session.stop\n",
    "print(\"\\n%s class initialization and load complete!\" % __desc__)"
   ]
  },
  {
   "cell_type": "markdown",
   "id": "2a8066d7-a018-4f32-aceb-b0f35fb1d3d2",
   "metadata": {},
   "source": [
    "## Load data"
   ]
  },
  {
   "cell_type": "code",
   "execution_count": 3,
   "id": "958f7a62-0f2c-4908-a0a1-a2c0a42f9429",
   "metadata": {},
   "outputs": [
    {
     "name": "stderr",
     "output_type": "stream",
     "text": [
      "Warning: Ignoring non-Spark config property: viewsEnabled\n",
      "Warning: Ignoring non-Spark config property: materializationDataset\n",
      "25/01/12 00:06:04 WARN Utils: Your hostname, Waidy-Think-Three resolves to a loopback address: 127.0.1.1; using 192.168.1.100 instead (on interface wlp3s0)\n",
      "25/01/12 00:06:04 WARN Utils: Set SPARK_LOCAL_IP if you need to bind to another address\n",
      "25/01/12 00:06:05 WARN NativeCodeLoader: Unable to load native-hadoop library for your platform... using builtin-java classes where applicable\n",
      "Setting default log level to \"WARN\".\n",
      "To adjust logging level use sc.setLogLevel(newLevel). For SparkR, use setLogLevel(newLevel).\n",
      "25/01/12 00:06:07 WARN Utils: Service 'SparkUI' could not bind on port 4040. Attempting port 4041.\n",
      "                                                                                "
     ]
    },
    {
     "name": "stdout",
     "output_type": "stream",
     "text": [
      "Loaded 1000 rows\n",
      "root\n",
      " |-- id: string (nullable = true)\n",
      " |-- name: string (nullable = true)\n",
      " |-- status: string (nullable = true)\n",
      " |-- campaign: string (nullable = true)\n",
      " |-- end_time: string (nullable = true)\n",
      " |-- estimate: string (nullable = true)\n",
      " |-- dsa_payor: string (nullable = true)\n",
      " |-- targeting: string (nullable = true)\n",
      " |-- account_id: string (nullable = true)\n",
      " |-- bid_amount: double (nullable = true)\n",
      " |-- start_time: string (nullable = true)\n",
      " |-- campaign_id: string (nullable = true)\n",
      " |-- created_time: string (nullable = true)\n",
      " |-- daily_budget: double (nullable = true)\n",
      " |-- source_adset: string (nullable = true)\n",
      " |-- updated_time: string (nullable = true)\n",
      " |-- billing_event: string (nullable = true)\n",
      " |-- lifetime_imps: double (nullable = true)\n",
      " |-- dsa_beneficiary: string (nullable = true)\n",
      " |-- lifetime_budget: double (nullable = true)\n",
      " |-- promoted_object: string (nullable = true)\n",
      " |-- review_feedback: string (nullable = true)\n",
      " |-- source_adset_id: string (nullable = true)\n",
      " |-- budget_remaining: double (nullable = true)\n",
      " |-- destination_type: string (nullable = true)\n",
      " |-- effective_status: string (nullable = true)\n",
      " |-- configured_status: string (nullable = true)\n",
      " |-- optimization_goal: string (nullable = true)\n",
      " |-- use_new_app_click: boolean (nullable = true)\n",
      " |-- is_dynamic_creative: boolean (nullable = true)\n",
      " |-- campaign_active_time: string (nullable = true)\n",
      " |-- campaign_attribution: string (nullable = true)\n",
      " |-- optimization_sub_event: string (nullable = true)\n",
      " |-- recurring_budget_semantics: boolean (nullable = true)\n",
      " |-- min_budget_spend_percentage: string (nullable = true)\n",
      " |-- multi_optimization_goal_weight: string (nullable = true)\n",
      "\n"
     ]
    }
   ],
   "source": [
    "query = \"\"\"\n",
    "    SELECT id, name, status, campaign, end_time, estimate, dsa_payor, targeting,\n",
    "        account_id, bid_amount, start_time, campaign_id, created_time, daily_budget,\n",
    "        source_adset, updated_time, billing_event, lifetime_imps, dsa_beneficiary, \n",
    "        lifetime_budget, promoted_object, review_feedback, source_adset_id, budget_remaining,\n",
    "        destination_type, effective_status, configured_status, optimization_goal,\n",
    "        use_new_app_click, is_dynamic_creative, campaign_active_time, campaign_attribution,\n",
    "        optimization_sub_event, recurring_budget_semantics, min_budget_spend_percentage,\n",
    "        multi_optimization_goal_weight\n",
    "    FROM fresh-deck-445306-b0.combined_data_facebook_ads.combine__metadata_adset as adset\n",
    "    LIMIT 1000\n",
    "\"\"\"\n",
    "_tbl = \"fresh-deck-445306-b0:combined_data_facebook_ads.combine__metadata_adset\"\n",
    "options = {\n",
    "    \"project\" : 'fresh-deck-445306-b0',\n",
    "    \"dataset\" : 'combined_data_facebook_ads',\n",
    "}\n",
    "sdf = clsSDB.read_data_from_table(\n",
    "    select=query,\n",
    "    db_table=None, #_tbl,\n",
    "    **options\n",
    ")\n",
    "print(\"Loaded %d rows\" % sdf.count())\n",
    "sdf.printSchema()"
   ]
  },
  {
   "cell_type": "markdown",
   "id": "b550ee49-88ad-438a-8f48-e44e9773a80c",
   "metadata": {},
   "source": [
    "## Profiling"
   ]
  },
  {
   "cell_type": "code",
   "execution_count": 5,
   "id": "8d54ed6d-d031-4ca4-a682-8c5568201222",
   "metadata": {},
   "outputs": [
    {
     "name": "stderr",
     "output_type": "stream",
     "text": [
      "                                                                                "
     ]
    }
   ],
   "source": [
    "from ydata_profiling import ProfileReport\n",
    "_cols = sdf.columns\n",
    "# _cols = [\"ad_name\",\"type\",\"status\",\"name\",\"post\",\"body\",\"thumbnail_url\",\"post_1\"]\n",
    "rpt_sdf_ = sdf.select(*_cols)\n",
    "_fname = \"combine_metadata_adset.html\"\n",
    "\n",
    "report = ProfileReport(\n",
    "    rpt_sdf_, \n",
    "    title=f\"Profiling {_fname}\",\n",
    "    infer_dtypes=False,\n",
    "    interactions=None,\n",
    "    missing_diagrams=None,\n",
    "    correlations={\n",
    "        \"auto\": {\"calculate\": True},\n",
    "        \"pearson\": {\"calculate\": False},\n",
    "        \"spearman\": {\"calculate\": False},\n",
    "        \"phi_k\" : {\"calculate\": False},\n",
    "    },\n",
    ")"
   ]
  },
  {
   "cell_type": "code",
   "execution_count": 6,
   "id": "12f59ea5-cd31-4b89-9329-c24fb468e6ac",
   "metadata": {},
   "outputs": [
    {
     "name": "stdout",
     "output_type": "stream",
     "text": [
      "writing to ... /home/nuwan/workspace/madgicx/wrangler/data/budget/etl/profiling/combine_metadata_adset.html\n"
     ]
    }
   ],
   "source": [
    "_fpath = os.path.join(proj_dir.split('wrangler/')[0],'wrangler/data/budget/etl/profiling',_fname)\n",
    "print(\"writing to ...\",_fpath)"
   ]
  },
  {
   "cell_type": "code",
   "execution_count": 7,
   "id": "10c413df-af5e-45e2-aa88-3ce03ee4ea96",
   "metadata": {},
   "outputs": [
    {
     "data": {
      "application/vnd.jupyter.widget-view+json": {
       "model_id": "d2766e6e6cae45f18b9439165bfd3f41",
       "version_major": 2,
       "version_minor": 0
      },
      "text/plain": [
       "Summarize dataset:   0%|          | 0/5 [00:00<?, ?it/s]"
      ]
     },
     "metadata": {},
     "output_type": "display_data"
    },
    {
     "name": "stderr",
     "output_type": "stream",
     "text": [
      "25/01/12 00:12:36 WARN CacheManager: Asked to cache already cached data.        \n",
      "25/01/12 00:12:36 WARN CacheManager: Asked to cache already cached data.\n",
      "25/01/12 00:12:36 WARN CacheManager: Asked to cache already cached data.\n",
      "25/01/12 00:12:36 WARN CacheManager: Asked to cache already cached data.\n",
      "25/01/12 00:12:36 WARN CacheManager: Asked to cache already cached data.\n",
      "25/01/12 00:12:36 WARN CacheManager: Asked to cache already cached data.\n",
      "25/01/12 00:12:37 WARN CacheManager: Asked to cache already cached data.\n",
      "25/01/12 00:12:37 WARN CacheManager: Asked to cache already cached data.\n",
      "25/01/12 00:12:37 WARN CacheManager: Asked to cache already cached data.\n",
      "25/01/12 00:12:37 WARN CacheManager: Asked to cache already cached data.\n",
      "25/01/12 00:12:37 WARN CacheManager: Asked to cache already cached data.\n",
      "25/01/12 00:12:37 WARN CacheManager: Asked to cache already cached data.\n",
      "25/01/12 00:12:59 WARN CacheManager: Asked to cache already cached data.        \n",
      "25/01/12 00:13:00 WARN CacheManager: Asked to cache already cached data.        \n",
      "25/01/12 00:13:01 WARN CacheManager: Asked to cache already cached data.        \n",
      "25/01/12 00:13:04 WARN CacheManager: Asked to cache already cached data.        \n",
      "25/01/12 00:13:04 WARN CacheManager: Asked to cache already cached data.\n",
      "25/01/12 00:13:04 WARN CacheManager: Asked to cache already cached data.\n",
      "25/01/12 00:13:04 WARN CacheManager: Asked to cache already cached data.\n",
      "25/01/12 00:13:04 WARN CacheManager: Asked to cache already cached data.\n",
      "25/01/12 00:13:04 WARN CacheManager: Asked to cache already cached data.\n",
      "25/01/12 00:13:05 WARN CacheManager: Asked to cache already cached data.\n",
      "25/01/12 00:13:05 WARN CacheManager: Asked to cache already cached data.\n",
      "25/01/12 00:13:08 WARN CacheManager: Asked to cache already cached data.        \n",
      "25/01/12 00:13:26 WARN CacheManager: Asked to cache already cached data.        \n",
      "25/01/12 00:13:26 WARN CacheManager: Asked to cache already cached data.\n",
      "25/01/12 00:13:26 WARN CacheManager: Asked to cache already cached data.\n",
      "25/01/12 00:13:26 WARN CacheManager: Asked to cache already cached data.\n",
      "25/01/12 00:13:26 WARN CacheManager: Asked to cache already cached data.\n",
      "25/01/12 00:13:26 WARN CacheManager: Asked to cache already cached data.\n",
      "25/01/12 00:13:26 WARN CacheManager: Asked to cache already cached data.\n",
      "25/01/12 00:13:27 WARN CacheManager: Asked to cache already cached data.\n",
      "25/01/12 00:13:28 WARN CacheManager: Asked to cache already cached data.        \n",
      "25/01/12 00:13:32 WARN CacheManager: Asked to cache already cached data.        ]\n",
      "25/01/12 00:13:32 WARN CacheManager: Asked to cache already cached data.\n",
      "25/01/12 00:13:35 WARN CacheManager: Asked to cache already cached data.\n",
      "                                                                                "
     ]
    },
    {
     "data": {
      "application/vnd.jupyter.widget-view+json": {
       "model_id": "dcc09258e04f4a488fac2892136d6ff5",
       "version_major": 2,
       "version_minor": 0
      },
      "text/plain": [
       "Generate report structure:   0%|          | 0/1 [00:00<?, ?it/s]"
      ]
     },
     "metadata": {},
     "output_type": "display_data"
    },
    {
     "ename": "TypeError",
     "evalue": "unsupported format string passed to NoneType.__format__",
     "output_type": "error",
     "traceback": [
      "\u001b[0;31m---------------------------------------------------------------------------\u001b[0m",
      "\u001b[0;31mTypeError\u001b[0m                                 Traceback (most recent call last)",
      "Cell \u001b[0;32mIn[7], line 1\u001b[0m\n\u001b[0;32m----> 1\u001b[0m \u001b[43mreport\u001b[49m\u001b[38;5;241;43m.\u001b[39;49m\u001b[43mto_file\u001b[49m\u001b[43m(\u001b[49m\u001b[43m_fpath\u001b[49m\u001b[43m)\u001b[49m\n",
      "File \u001b[0;32m~/.cache/pypoetry/virtualenvs/madgicx-63NknB0J-py3.10/lib/python3.10/site-packages/ydata_profiling/profile_report.py:374\u001b[0m, in \u001b[0;36mProfileReport.to_file\u001b[0;34m(self, output_file, silent)\u001b[0m\n\u001b[1;32m    371\u001b[0m         \u001b[38;5;28mself\u001b[39m\u001b[38;5;241m.\u001b[39mconfig\u001b[38;5;241m.\u001b[39mhtml\u001b[38;5;241m.\u001b[39massets_prefix \u001b[38;5;241m=\u001b[39m \u001b[38;5;28mstr\u001b[39m(output_file\u001b[38;5;241m.\u001b[39mstem) \u001b[38;5;241m+\u001b[39m \u001b[38;5;124m\"\u001b[39m\u001b[38;5;124m_assets\u001b[39m\u001b[38;5;124m\"\u001b[39m\n\u001b[1;32m    372\u001b[0m     create_html_assets(\u001b[38;5;28mself\u001b[39m\u001b[38;5;241m.\u001b[39mconfig, output_file)\n\u001b[0;32m--> 374\u001b[0m data \u001b[38;5;241m=\u001b[39m \u001b[38;5;28mself\u001b[39m\u001b[38;5;241m.\u001b[39mto_html()\n\u001b[1;32m    376\u001b[0m \u001b[38;5;28;01mif\u001b[39;00m output_file\u001b[38;5;241m.\u001b[39msuffix \u001b[38;5;241m!=\u001b[39m \u001b[38;5;124m\"\u001b[39m\u001b[38;5;124m.html\u001b[39m\u001b[38;5;124m\"\u001b[39m:\n\u001b[1;32m    377\u001b[0m     suffix \u001b[38;5;241m=\u001b[39m output_file\u001b[38;5;241m.\u001b[39msuffix\n",
      "File \u001b[0;32m~/.cache/pypoetry/virtualenvs/madgicx-63NknB0J-py3.10/lib/python3.10/site-packages/ydata_profiling/profile_report.py:491\u001b[0m, in \u001b[0;36mProfileReport.to_html\u001b[0;34m(self)\u001b[0m\n\u001b[1;32m    483\u001b[0m \u001b[38;5;28;01mdef\u001b[39;00m\u001b[38;5;250m \u001b[39m\u001b[38;5;21mto_html\u001b[39m(\u001b[38;5;28mself\u001b[39m) \u001b[38;5;241m-\u001b[39m\u001b[38;5;241m>\u001b[39m \u001b[38;5;28mstr\u001b[39m:\n\u001b[1;32m    484\u001b[0m \u001b[38;5;250m    \u001b[39m\u001b[38;5;124;03m\"\"\"Generate and return complete template as lengthy string\u001b[39;00m\n\u001b[1;32m    485\u001b[0m \u001b[38;5;124;03m        for using with frameworks.\u001b[39;00m\n\u001b[1;32m    486\u001b[0m \n\u001b[0;32m   (...)\u001b[0m\n\u001b[1;32m    489\u001b[0m \n\u001b[1;32m    490\u001b[0m \u001b[38;5;124;03m    \"\"\"\u001b[39;00m\n\u001b[0;32m--> 491\u001b[0m     \u001b[38;5;28;01mreturn\u001b[39;00m \u001b[38;5;28mself\u001b[39m\u001b[38;5;241m.\u001b[39mhtml\n",
      "File \u001b[0;32m~/.cache/pypoetry/virtualenvs/madgicx-63NknB0J-py3.10/lib/python3.10/site-packages/ydata_profiling/profile_report.py:287\u001b[0m, in \u001b[0;36mProfileReport.html\u001b[0;34m(self)\u001b[0m\n\u001b[1;32m    284\u001b[0m \u001b[38;5;129m@property\u001b[39m\n\u001b[1;32m    285\u001b[0m \u001b[38;5;28;01mdef\u001b[39;00m\u001b[38;5;250m \u001b[39m\u001b[38;5;21mhtml\u001b[39m(\u001b[38;5;28mself\u001b[39m) \u001b[38;5;241m-\u001b[39m\u001b[38;5;241m>\u001b[39m \u001b[38;5;28mstr\u001b[39m:\n\u001b[1;32m    286\u001b[0m     \u001b[38;5;28;01mif\u001b[39;00m \u001b[38;5;28mself\u001b[39m\u001b[38;5;241m.\u001b[39m_html \u001b[38;5;129;01mis\u001b[39;00m \u001b[38;5;28;01mNone\u001b[39;00m:\n\u001b[0;32m--> 287\u001b[0m         \u001b[38;5;28mself\u001b[39m\u001b[38;5;241m.\u001b[39m_html \u001b[38;5;241m=\u001b[39m \u001b[38;5;28mself\u001b[39m\u001b[38;5;241m.\u001b[39m_render_html()\n\u001b[1;32m    288\u001b[0m     \u001b[38;5;28;01mreturn\u001b[39;00m \u001b[38;5;28mself\u001b[39m\u001b[38;5;241m.\u001b[39m_html\n",
      "File \u001b[0;32m~/.cache/pypoetry/virtualenvs/madgicx-63NknB0J-py3.10/lib/python3.10/site-packages/ydata_profiling/profile_report.py:404\u001b[0m, in \u001b[0;36mProfileReport._render_html\u001b[0;34m(self)\u001b[0m\n\u001b[1;32m    401\u001b[0m \u001b[38;5;28;01mdef\u001b[39;00m\u001b[38;5;250m \u001b[39m\u001b[38;5;21m_render_html\u001b[39m(\u001b[38;5;28mself\u001b[39m) \u001b[38;5;241m-\u001b[39m\u001b[38;5;241m>\u001b[39m \u001b[38;5;28mstr\u001b[39m:\n\u001b[1;32m    402\u001b[0m     \u001b[38;5;28;01mfrom\u001b[39;00m\u001b[38;5;250m \u001b[39m\u001b[38;5;21;01mydata_profiling\u001b[39;00m\u001b[38;5;21;01m.\u001b[39;00m\u001b[38;5;21;01mreport\u001b[39;00m\u001b[38;5;21;01m.\u001b[39;00m\u001b[38;5;21;01mpresentation\u001b[39;00m\u001b[38;5;21;01m.\u001b[39;00m\u001b[38;5;21;01mflavours\u001b[39;00m\u001b[38;5;250m \u001b[39m\u001b[38;5;28;01mimport\u001b[39;00m HTMLReport\n\u001b[0;32m--> 404\u001b[0m     report \u001b[38;5;241m=\u001b[39m \u001b[38;5;28mself\u001b[39m\u001b[38;5;241m.\u001b[39mreport\n\u001b[1;32m    406\u001b[0m     \u001b[38;5;28;01mwith\u001b[39;00m tqdm(\n\u001b[1;32m    407\u001b[0m         total\u001b[38;5;241m=\u001b[39m\u001b[38;5;241m1\u001b[39m, desc\u001b[38;5;241m=\u001b[39m\u001b[38;5;124m\"\u001b[39m\u001b[38;5;124mRender HTML\u001b[39m\u001b[38;5;124m\"\u001b[39m, disable\u001b[38;5;241m=\u001b[39m\u001b[38;5;129;01mnot\u001b[39;00m \u001b[38;5;28mself\u001b[39m\u001b[38;5;241m.\u001b[39mconfig\u001b[38;5;241m.\u001b[39mprogress_bar\n\u001b[1;32m    408\u001b[0m     ) \u001b[38;5;28;01mas\u001b[39;00m pbar:\n\u001b[1;32m    409\u001b[0m         html \u001b[38;5;241m=\u001b[39m HTMLReport(copy\u001b[38;5;241m.\u001b[39mdeepcopy(report))\u001b[38;5;241m.\u001b[39mrender(\n\u001b[1;32m    410\u001b[0m             nav\u001b[38;5;241m=\u001b[39m\u001b[38;5;28mself\u001b[39m\u001b[38;5;241m.\u001b[39mconfig\u001b[38;5;241m.\u001b[39mhtml\u001b[38;5;241m.\u001b[39mnavbar_show,\n\u001b[1;32m    411\u001b[0m             offline\u001b[38;5;241m=\u001b[39m\u001b[38;5;28mself\u001b[39m\u001b[38;5;241m.\u001b[39mconfig\u001b[38;5;241m.\u001b[39mhtml\u001b[38;5;241m.\u001b[39muse_local_assets,\n\u001b[0;32m   (...)\u001b[0m\n\u001b[1;32m    419\u001b[0m             version\u001b[38;5;241m=\u001b[39m\u001b[38;5;28mself\u001b[39m\u001b[38;5;241m.\u001b[39mdescription_set\u001b[38;5;241m.\u001b[39mpackage[\u001b[38;5;124m\"\u001b[39m\u001b[38;5;124mydata_profiling_version\u001b[39m\u001b[38;5;124m\"\u001b[39m],\n\u001b[1;32m    420\u001b[0m         )\n",
      "File \u001b[0;32m~/.cache/pypoetry/virtualenvs/madgicx-63NknB0J-py3.10/lib/python3.10/site-packages/ydata_profiling/profile_report.py:281\u001b[0m, in \u001b[0;36mProfileReport.report\u001b[0;34m(self)\u001b[0m\n\u001b[1;32m    278\u001b[0m \u001b[38;5;129m@property\u001b[39m\n\u001b[1;32m    279\u001b[0m \u001b[38;5;28;01mdef\u001b[39;00m\u001b[38;5;250m \u001b[39m\u001b[38;5;21mreport\u001b[39m(\u001b[38;5;28mself\u001b[39m) \u001b[38;5;241m-\u001b[39m\u001b[38;5;241m>\u001b[39m Root:\n\u001b[1;32m    280\u001b[0m     \u001b[38;5;28;01mif\u001b[39;00m \u001b[38;5;28mself\u001b[39m\u001b[38;5;241m.\u001b[39m_report \u001b[38;5;129;01mis\u001b[39;00m \u001b[38;5;28;01mNone\u001b[39;00m:\n\u001b[0;32m--> 281\u001b[0m         \u001b[38;5;28mself\u001b[39m\u001b[38;5;241m.\u001b[39m_report \u001b[38;5;241m=\u001b[39m get_report_structure(\u001b[38;5;28mself\u001b[39m\u001b[38;5;241m.\u001b[39mconfig, \u001b[38;5;28mself\u001b[39m\u001b[38;5;241m.\u001b[39mdescription_set)\n\u001b[1;32m    282\u001b[0m     \u001b[38;5;28;01mreturn\u001b[39;00m \u001b[38;5;28mself\u001b[39m\u001b[38;5;241m.\u001b[39m_report\n",
      "File \u001b[0;32m~/.cache/pypoetry/virtualenvs/madgicx-63NknB0J-py3.10/lib/python3.10/site-packages/ydata_profiling/report/structure/report.py:387\u001b[0m, in \u001b[0;36mget_report_structure\u001b[0;34m(config, summary)\u001b[0m\n\u001b[1;32m    368\u001b[0m section_items: List[Renderable] \u001b[38;5;241m=\u001b[39m [\n\u001b[1;32m    369\u001b[0m     Container(\n\u001b[1;32m    370\u001b[0m         get_dataset_items(config, summary, alerts),\n\u001b[0;32m   (...)\u001b[0m\n\u001b[1;32m    374\u001b[0m     ),\n\u001b[1;32m    375\u001b[0m ]\n\u001b[1;32m    377\u001b[0m \u001b[38;5;28;01mif\u001b[39;00m \u001b[38;5;28mlen\u001b[39m(summary\u001b[38;5;241m.\u001b[39mvariables) \u001b[38;5;241m>\u001b[39m \u001b[38;5;241m0\u001b[39m:\n\u001b[1;32m    378\u001b[0m     section_items\u001b[38;5;241m.\u001b[39mappend(\n\u001b[1;32m    379\u001b[0m         Dropdown(\n\u001b[1;32m    380\u001b[0m             name\u001b[38;5;241m=\u001b[39m\u001b[38;5;124m\"\u001b[39m\u001b[38;5;124mVariables\u001b[39m\u001b[38;5;124m\"\u001b[39m,\n\u001b[1;32m    381\u001b[0m             anchor_id\u001b[38;5;241m=\u001b[39m\u001b[38;5;124m\"\u001b[39m\u001b[38;5;124mvariables-dropdown\u001b[39m\u001b[38;5;124m\"\u001b[39m,\n\u001b[1;32m    382\u001b[0m             \u001b[38;5;28mid\u001b[39m\u001b[38;5;241m=\u001b[39m\u001b[38;5;124m\"\u001b[39m\u001b[38;5;124mvariables-dropdown\u001b[39m\u001b[38;5;124m\"\u001b[39m,\n\u001b[1;32m    383\u001b[0m             is_row\u001b[38;5;241m=\u001b[39m\u001b[38;5;28;01mFalse\u001b[39;00m,\n\u001b[1;32m    384\u001b[0m             classes\u001b[38;5;241m=\u001b[39m[\u001b[38;5;124m\"\u001b[39m\u001b[38;5;124mform-select\u001b[39m\u001b[38;5;124m\"\u001b[39m],\n\u001b[1;32m    385\u001b[0m             items\u001b[38;5;241m=\u001b[39m\u001b[38;5;28mlist\u001b[39m(summary\u001b[38;5;241m.\u001b[39mvariables),\n\u001b[1;32m    386\u001b[0m             item\u001b[38;5;241m=\u001b[39mContainer(\n\u001b[0;32m--> 387\u001b[0m                 \u001b[43mrender_variables_section\u001b[49m\u001b[43m(\u001b[49m\u001b[43mconfig\u001b[49m\u001b[43m,\u001b[49m\u001b[43m \u001b[49m\u001b[43msummary\u001b[49m\u001b[43m)\u001b[49m,\n\u001b[1;32m    388\u001b[0m                 sequence_type\u001b[38;5;241m=\u001b[39m\u001b[38;5;124m\"\u001b[39m\u001b[38;5;124maccordion\u001b[39m\u001b[38;5;124m\"\u001b[39m,\n\u001b[1;32m    389\u001b[0m                 name\u001b[38;5;241m=\u001b[39m\u001b[38;5;124m\"\u001b[39m\u001b[38;5;124mVariables\u001b[39m\u001b[38;5;124m\"\u001b[39m,\n\u001b[1;32m    390\u001b[0m                 anchor_id\u001b[38;5;241m=\u001b[39m\u001b[38;5;124m\"\u001b[39m\u001b[38;5;124mvariables\u001b[39m\u001b[38;5;124m\"\u001b[39m,\n\u001b[1;32m    391\u001b[0m             ),\n\u001b[1;32m    392\u001b[0m         )\n\u001b[1;32m    393\u001b[0m     )\n\u001b[1;32m    395\u001b[0m scatter_items \u001b[38;5;241m=\u001b[39m get_interactions(config, summary\u001b[38;5;241m.\u001b[39mscatter)\n\u001b[1;32m    396\u001b[0m \u001b[38;5;28;01mif\u001b[39;00m \u001b[38;5;28mlen\u001b[39m(scatter_items) \u001b[38;5;241m>\u001b[39m \u001b[38;5;241m0\u001b[39m:\n",
      "File \u001b[0;32m~/.cache/pypoetry/virtualenvs/madgicx-63NknB0J-py3.10/lib/python3.10/site-packages/ydata_profiling/report/structure/report.py:162\u001b[0m, in \u001b[0;36mrender_variables_section\u001b[0;34m(config, dataframe_summary)\u001b[0m\n\u001b[1;32m    160\u001b[0m     variable_type \u001b[38;5;241m=\u001b[39m summary[\u001b[38;5;124m\"\u001b[39m\u001b[38;5;124mtype\u001b[39m\u001b[38;5;124m\"\u001b[39m]\n\u001b[1;32m    161\u001b[0m render_map_type \u001b[38;5;241m=\u001b[39m render_map\u001b[38;5;241m.\u001b[39mget(variable_type, render_map[\u001b[38;5;124m\"\u001b[39m\u001b[38;5;124mUnsupported\u001b[39m\u001b[38;5;124m\"\u001b[39m])\n\u001b[0;32m--> 162\u001b[0m template_variables\u001b[38;5;241m.\u001b[39mupdate(\u001b[43mrender_map_type\u001b[49m\u001b[43m(\u001b[49m\u001b[43mconfig\u001b[49m\u001b[43m,\u001b[49m\u001b[43m \u001b[49m\u001b[43mtemplate_variables\u001b[49m\u001b[43m)\u001b[49m)\n\u001b[1;32m    164\u001b[0m \u001b[38;5;66;03m# Ignore these\u001b[39;00m\n\u001b[1;32m    165\u001b[0m \u001b[38;5;28;01mif\u001b[39;00m reject_variables:\n",
      "File \u001b[0;32m~/.cache/pypoetry/virtualenvs/madgicx-63NknB0J-py3.10/lib/python3.10/site-packages/ydata_profiling/report/structure/variables/render_real.py:199\u001b[0m, in \u001b[0;36mrender_real\u001b[0;34m(config, summary)\u001b[0m\n\u001b[1;32m    138\u001b[0m template_variables[\u001b[38;5;124m\"\u001b[39m\u001b[38;5;124mtop\u001b[39m\u001b[38;5;124m\"\u001b[39m] \u001b[38;5;241m=\u001b[39m Container(\n\u001b[1;32m    139\u001b[0m     [info, table1, table2, mini_histo], sequence_type\u001b[38;5;241m=\u001b[39m\u001b[38;5;124m\"\u001b[39m\u001b[38;5;124mgrid\u001b[39m\u001b[38;5;124m\"\u001b[39m\n\u001b[1;32m    140\u001b[0m )\n\u001b[1;32m    142\u001b[0m quantile_statistics \u001b[38;5;241m=\u001b[39m Table(\n\u001b[1;32m    143\u001b[0m     [\n\u001b[1;32m    144\u001b[0m         {\n\u001b[0;32m   (...)\u001b[0m\n\u001b[1;32m    184\u001b[0m     style\u001b[38;5;241m=\u001b[39mconfig\u001b[38;5;241m.\u001b[39mhtml\u001b[38;5;241m.\u001b[39mstyle,\n\u001b[1;32m    185\u001b[0m )\n\u001b[1;32m    187\u001b[0m descriptive_statistics \u001b[38;5;241m=\u001b[39m Table(\n\u001b[1;32m    188\u001b[0m     [\n\u001b[1;32m    189\u001b[0m         {\n\u001b[1;32m    190\u001b[0m             \u001b[38;5;124m\"\u001b[39m\u001b[38;5;124mname\u001b[39m\u001b[38;5;124m\"\u001b[39m: \u001b[38;5;124m\"\u001b[39m\u001b[38;5;124mStandard deviation\u001b[39m\u001b[38;5;124m\"\u001b[39m,\n\u001b[1;32m    191\u001b[0m             \u001b[38;5;124m\"\u001b[39m\u001b[38;5;124mvalue\u001b[39m\u001b[38;5;124m\"\u001b[39m: fmt_numeric(summary[\u001b[38;5;124m\"\u001b[39m\u001b[38;5;124mstd\u001b[39m\u001b[38;5;124m\"\u001b[39m], precision\u001b[38;5;241m=\u001b[39mconfig\u001b[38;5;241m.\u001b[39mreport\u001b[38;5;241m.\u001b[39mprecision),\n\u001b[1;32m    192\u001b[0m         },\n\u001b[1;32m    193\u001b[0m         {\n\u001b[1;32m    194\u001b[0m             \u001b[38;5;124m\"\u001b[39m\u001b[38;5;124mname\u001b[39m\u001b[38;5;124m\"\u001b[39m: \u001b[38;5;124m\"\u001b[39m\u001b[38;5;124mCoefficient of variation (CV)\u001b[39m\u001b[38;5;124m\"\u001b[39m,\n\u001b[1;32m    195\u001b[0m             \u001b[38;5;124m\"\u001b[39m\u001b[38;5;124mvalue\u001b[39m\u001b[38;5;124m\"\u001b[39m: fmt_numeric(summary[\u001b[38;5;124m\"\u001b[39m\u001b[38;5;124mcv\u001b[39m\u001b[38;5;124m\"\u001b[39m], precision\u001b[38;5;241m=\u001b[39mconfig\u001b[38;5;241m.\u001b[39mreport\u001b[38;5;241m.\u001b[39mprecision),\n\u001b[1;32m    196\u001b[0m         },\n\u001b[1;32m    197\u001b[0m         {\n\u001b[1;32m    198\u001b[0m             \u001b[38;5;124m\"\u001b[39m\u001b[38;5;124mname\u001b[39m\u001b[38;5;124m\"\u001b[39m: \u001b[38;5;124m\"\u001b[39m\u001b[38;5;124mKurtosis\u001b[39m\u001b[38;5;124m\"\u001b[39m,\n\u001b[0;32m--> 199\u001b[0m             \u001b[38;5;124m\"\u001b[39m\u001b[38;5;124mvalue\u001b[39m\u001b[38;5;124m\"\u001b[39m: \u001b[43mfmt_numeric\u001b[49m\u001b[43m(\u001b[49m\n\u001b[1;32m    200\u001b[0m \u001b[43m                \u001b[49m\u001b[43msummary\u001b[49m\u001b[43m[\u001b[49m\u001b[38;5;124;43m\"\u001b[39;49m\u001b[38;5;124;43mkurtosis\u001b[39;49m\u001b[38;5;124;43m\"\u001b[39;49m\u001b[43m]\u001b[49m\u001b[43m,\u001b[49m\u001b[43m \u001b[49m\u001b[43mprecision\u001b[49m\u001b[38;5;241;43m=\u001b[39;49m\u001b[43mconfig\u001b[49m\u001b[38;5;241;43m.\u001b[39;49m\u001b[43mreport\u001b[49m\u001b[38;5;241;43m.\u001b[39;49m\u001b[43mprecision\u001b[49m\n\u001b[1;32m    201\u001b[0m \u001b[43m            \u001b[49m\u001b[43m)\u001b[49m,\n\u001b[1;32m    202\u001b[0m         },\n\u001b[1;32m    203\u001b[0m         {\n\u001b[1;32m    204\u001b[0m             \u001b[38;5;124m\"\u001b[39m\u001b[38;5;124mname\u001b[39m\u001b[38;5;124m\"\u001b[39m: \u001b[38;5;124m\"\u001b[39m\u001b[38;5;124mMean\u001b[39m\u001b[38;5;124m\"\u001b[39m,\n\u001b[1;32m    205\u001b[0m             \u001b[38;5;124m\"\u001b[39m\u001b[38;5;124mvalue\u001b[39m\u001b[38;5;124m\"\u001b[39m: fmt_numeric(\n\u001b[1;32m    206\u001b[0m                 summary[\u001b[38;5;124m\"\u001b[39m\u001b[38;5;124mmean\u001b[39m\u001b[38;5;124m\"\u001b[39m], precision\u001b[38;5;241m=\u001b[39mconfig\u001b[38;5;241m.\u001b[39mreport\u001b[38;5;241m.\u001b[39mprecision\n\u001b[1;32m    207\u001b[0m             ),\n\u001b[1;32m    208\u001b[0m         },\n\u001b[1;32m    209\u001b[0m         {\n\u001b[1;32m    210\u001b[0m             \u001b[38;5;124m\"\u001b[39m\u001b[38;5;124mname\u001b[39m\u001b[38;5;124m\"\u001b[39m: \u001b[38;5;124m\"\u001b[39m\u001b[38;5;124mMedian Absolute Deviation (MAD)\u001b[39m\u001b[38;5;124m\"\u001b[39m,\n\u001b[1;32m    211\u001b[0m             \u001b[38;5;124m\"\u001b[39m\u001b[38;5;124mvalue\u001b[39m\u001b[38;5;124m\"\u001b[39m: fmt_numeric(summary[\u001b[38;5;124m\"\u001b[39m\u001b[38;5;124mmad\u001b[39m\u001b[38;5;124m\"\u001b[39m], precision\u001b[38;5;241m=\u001b[39mconfig\u001b[38;5;241m.\u001b[39mreport\u001b[38;5;241m.\u001b[39mprecision),\n\u001b[1;32m    212\u001b[0m         },\n\u001b[1;32m    213\u001b[0m         {\n\u001b[1;32m    214\u001b[0m             \u001b[38;5;124m\"\u001b[39m\u001b[38;5;124mname\u001b[39m\u001b[38;5;124m\"\u001b[39m: \u001b[38;5;124m\"\u001b[39m\u001b[38;5;124mSkewness\u001b[39m\u001b[38;5;124m\"\u001b[39m,\n\u001b[1;32m    215\u001b[0m             \u001b[38;5;124m\"\u001b[39m\u001b[38;5;124mvalue\u001b[39m\u001b[38;5;124m\"\u001b[39m: fmt_numeric(\n\u001b[1;32m    216\u001b[0m                 summary[\u001b[38;5;124m\"\u001b[39m\u001b[38;5;124mskewness\u001b[39m\u001b[38;5;124m\"\u001b[39m], precision\u001b[38;5;241m=\u001b[39mconfig\u001b[38;5;241m.\u001b[39mreport\u001b[38;5;241m.\u001b[39mprecision\n\u001b[1;32m    217\u001b[0m             ),\n\u001b[1;32m    218\u001b[0m             \u001b[38;5;124m\"\u001b[39m\u001b[38;5;124mclass\u001b[39m\u001b[38;5;124m\"\u001b[39m: \u001b[38;5;124m\"\u001b[39m\u001b[38;5;124malert\u001b[39m\u001b[38;5;124m\"\u001b[39m \u001b[38;5;28;01mif\u001b[39;00m \u001b[38;5;124m\"\u001b[39m\u001b[38;5;124mskewness\u001b[39m\u001b[38;5;124m\"\u001b[39m \u001b[38;5;129;01min\u001b[39;00m summary[\u001b[38;5;124m\"\u001b[39m\u001b[38;5;124malert_fields\u001b[39m\u001b[38;5;124m\"\u001b[39m] \u001b[38;5;28;01melse\u001b[39;00m \u001b[38;5;124m\"\u001b[39m\u001b[38;5;124m\"\u001b[39m,\n\u001b[1;32m    219\u001b[0m         },\n\u001b[1;32m    220\u001b[0m         {\n\u001b[1;32m    221\u001b[0m             \u001b[38;5;124m\"\u001b[39m\u001b[38;5;124mname\u001b[39m\u001b[38;5;124m\"\u001b[39m: \u001b[38;5;124m\"\u001b[39m\u001b[38;5;124mSum\u001b[39m\u001b[38;5;124m\"\u001b[39m,\n\u001b[1;32m    222\u001b[0m             \u001b[38;5;124m\"\u001b[39m\u001b[38;5;124mvalue\u001b[39m\u001b[38;5;124m\"\u001b[39m: fmt_numeric(summary[\u001b[38;5;124m\"\u001b[39m\u001b[38;5;124msum\u001b[39m\u001b[38;5;124m\"\u001b[39m], precision\u001b[38;5;241m=\u001b[39mconfig\u001b[38;5;241m.\u001b[39mreport\u001b[38;5;241m.\u001b[39mprecision),\n\u001b[1;32m    223\u001b[0m         },\n\u001b[1;32m    224\u001b[0m         {\n\u001b[1;32m    225\u001b[0m             \u001b[38;5;124m\"\u001b[39m\u001b[38;5;124mname\u001b[39m\u001b[38;5;124m\"\u001b[39m: \u001b[38;5;124m\"\u001b[39m\u001b[38;5;124mVariance\u001b[39m\u001b[38;5;124m\"\u001b[39m,\n\u001b[1;32m    226\u001b[0m             \u001b[38;5;124m\"\u001b[39m\u001b[38;5;124mvalue\u001b[39m\u001b[38;5;124m\"\u001b[39m: fmt_numeric(\n\u001b[1;32m    227\u001b[0m                 summary[\u001b[38;5;124m\"\u001b[39m\u001b[38;5;124mvariance\u001b[39m\u001b[38;5;124m\"\u001b[39m], precision\u001b[38;5;241m=\u001b[39mconfig\u001b[38;5;241m.\u001b[39mreport\u001b[38;5;241m.\u001b[39mprecision\n\u001b[1;32m    228\u001b[0m             ),\n\u001b[1;32m    229\u001b[0m         },\n\u001b[1;32m    230\u001b[0m         {\n\u001b[1;32m    231\u001b[0m             \u001b[38;5;124m\"\u001b[39m\u001b[38;5;124mname\u001b[39m\u001b[38;5;124m\"\u001b[39m: \u001b[38;5;124m\"\u001b[39m\u001b[38;5;124mMonotonicity\u001b[39m\u001b[38;5;124m\"\u001b[39m,\n\u001b[1;32m    232\u001b[0m             \u001b[38;5;124m\"\u001b[39m\u001b[38;5;124mvalue\u001b[39m\u001b[38;5;124m\"\u001b[39m: fmt_monotonic(summary[\u001b[38;5;124m\"\u001b[39m\u001b[38;5;124mmonotonic\u001b[39m\u001b[38;5;124m\"\u001b[39m]),\n\u001b[1;32m    233\u001b[0m         },\n\u001b[1;32m    234\u001b[0m     ],\n\u001b[1;32m    235\u001b[0m     name\u001b[38;5;241m=\u001b[39m\u001b[38;5;124m\"\u001b[39m\u001b[38;5;124mDescriptive statistics\u001b[39m\u001b[38;5;124m\"\u001b[39m,\n\u001b[1;32m    236\u001b[0m     style\u001b[38;5;241m=\u001b[39mconfig\u001b[38;5;241m.\u001b[39mhtml\u001b[38;5;241m.\u001b[39mstyle,\n\u001b[1;32m    237\u001b[0m )\n\u001b[1;32m    239\u001b[0m statistics \u001b[38;5;241m=\u001b[39m Container(\n\u001b[1;32m    240\u001b[0m     [quantile_statistics, descriptive_statistics],\n\u001b[1;32m    241\u001b[0m     anchor_id\u001b[38;5;241m=\u001b[39m\u001b[38;5;124mf\u001b[39m\u001b[38;5;124m\"\u001b[39m\u001b[38;5;132;01m{\u001b[39;00mvarid\u001b[38;5;132;01m}\u001b[39;00m\u001b[38;5;124mstatistics\u001b[39m\u001b[38;5;124m\"\u001b[39m,\n\u001b[1;32m    242\u001b[0m     name\u001b[38;5;241m=\u001b[39m\u001b[38;5;124m\"\u001b[39m\u001b[38;5;124mStatistics\u001b[39m\u001b[38;5;124m\"\u001b[39m,\n\u001b[1;32m    243\u001b[0m     sequence_type\u001b[38;5;241m=\u001b[39m\u001b[38;5;124m\"\u001b[39m\u001b[38;5;124mgrid\u001b[39m\u001b[38;5;124m\"\u001b[39m,\n\u001b[1;32m    244\u001b[0m )\n\u001b[1;32m    246\u001b[0m \u001b[38;5;28;01mif\u001b[39;00m \u001b[38;5;28misinstance\u001b[39m(summary\u001b[38;5;241m.\u001b[39mget(\u001b[38;5;124m\"\u001b[39m\u001b[38;5;124mhistogram\u001b[39m\u001b[38;5;124m\"\u001b[39m, []), \u001b[38;5;28mlist\u001b[39m):\n",
      "File \u001b[0;32m~/.cache/pypoetry/virtualenvs/madgicx-63NknB0J-py3.10/lib/python3.10/site-packages/ydata_profiling/report/formatters.py:27\u001b[0m, in \u001b[0;36mlist_args.<locals>.inner\u001b[0;34m(arg, *args, **kwargs)\u001b[0m\n\u001b[1;32m     24\u001b[0m \u001b[38;5;28;01mif\u001b[39;00m \u001b[38;5;28misinstance\u001b[39m(arg, \u001b[38;5;28mlist\u001b[39m):\n\u001b[1;32m     25\u001b[0m     \u001b[38;5;28;01mreturn\u001b[39;00m [func(v, \u001b[38;5;241m*\u001b[39margs, \u001b[38;5;241m*\u001b[39m\u001b[38;5;241m*\u001b[39mkwargs) \u001b[38;5;28;01mfor\u001b[39;00m v \u001b[38;5;129;01min\u001b[39;00m arg]\n\u001b[0;32m---> 27\u001b[0m \u001b[38;5;28;01mreturn\u001b[39;00m \u001b[43mfunc\u001b[49m\u001b[43m(\u001b[49m\u001b[43marg\u001b[49m\u001b[43m,\u001b[49m\u001b[43m \u001b[49m\u001b[38;5;241;43m*\u001b[39;49m\u001b[43margs\u001b[49m\u001b[43m,\u001b[49m\u001b[43m \u001b[49m\u001b[38;5;241;43m*\u001b[39;49m\u001b[38;5;241;43m*\u001b[39;49m\u001b[43mkwargs\u001b[49m\u001b[43m)\u001b[49m\n",
      "File \u001b[0;32m~/.cache/pypoetry/virtualenvs/madgicx-63NknB0J-py3.10/lib/python3.10/site-packages/ydata_profiling/report/formatters.py:248\u001b[0m, in \u001b[0;36mfmt_numeric\u001b[0;34m(value, precision)\u001b[0m\n\u001b[1;32m    237\u001b[0m \u001b[38;5;129m@list_args\u001b[39m\n\u001b[1;32m    238\u001b[0m \u001b[38;5;28;01mdef\u001b[39;00m\u001b[38;5;250m \u001b[39m\u001b[38;5;21mfmt_numeric\u001b[39m(value: \u001b[38;5;28mfloat\u001b[39m, precision: \u001b[38;5;28mint\u001b[39m \u001b[38;5;241m=\u001b[39m \u001b[38;5;241m10\u001b[39m) \u001b[38;5;241m-\u001b[39m\u001b[38;5;241m>\u001b[39m \u001b[38;5;28mstr\u001b[39m:\n\u001b[1;32m    239\u001b[0m \u001b[38;5;250m    \u001b[39m\u001b[38;5;124;03m\"\"\"Format any numeric value.\u001b[39;00m\n\u001b[1;32m    240\u001b[0m \n\u001b[1;32m    241\u001b[0m \u001b[38;5;124;03m    Args:\u001b[39;00m\n\u001b[0;32m   (...)\u001b[0m\n\u001b[1;32m    246\u001b[0m \u001b[38;5;124;03m        The numeric value with the given precision.\u001b[39;00m\n\u001b[1;32m    247\u001b[0m \u001b[38;5;124;03m    \"\"\"\u001b[39;00m\n\u001b[0;32m--> 248\u001b[0m     fmtted \u001b[38;5;241m=\u001b[39m \u001b[38;5;124;43mf\u001b[39;49m\u001b[38;5;124;43m\"\u001b[39;49m\u001b[38;5;130;43;01m{{\u001b[39;49;00m\u001b[38;5;124;43m:.\u001b[39;49m\u001b[38;5;132;43;01m{\u001b[39;49;00m\u001b[43mprecision\u001b[49m\u001b[38;5;132;43;01m}\u001b[39;49;00m\u001b[38;5;124;43mg\u001b[39;49m\u001b[38;5;130;43;01m}}\u001b[39;49;00m\u001b[38;5;124;43m\"\u001b[39;49m\u001b[38;5;241;43m.\u001b[39;49m\u001b[43mformat\u001b[49m\u001b[43m(\u001b[49m\u001b[43mvalue\u001b[49m\u001b[43m)\u001b[49m\n\u001b[1;32m    249\u001b[0m     \u001b[38;5;28;01mfor\u001b[39;00m v \u001b[38;5;129;01min\u001b[39;00m [\u001b[38;5;124m\"\u001b[39m\u001b[38;5;124me+\u001b[39m\u001b[38;5;124m\"\u001b[39m, \u001b[38;5;124m\"\u001b[39m\u001b[38;5;124me-\u001b[39m\u001b[38;5;124m\"\u001b[39m]:\n\u001b[1;32m    250\u001b[0m         \u001b[38;5;28;01mif\u001b[39;00m v \u001b[38;5;129;01min\u001b[39;00m fmtted:\n",
      "\u001b[0;31mTypeError\u001b[0m: unsupported format string passed to NoneType.__format__"
     ]
    }
   ],
   "source": [
    "report.to_file(_fpath)"
   ]
  },
  {
   "cell_type": "code",
   "execution_count": 4,
   "id": "8f03f865-5b1f-4f36-91f8-a4530b9df360",
   "metadata": {},
   "outputs": [
    {
     "name": "stdout",
     "output_type": "stream",
     "text": [
      "/opt/spark_hadoop_3/jars/spark-3.4-bigquery-0.41.1.jar\n"
     ]
    },
    {
     "name": "stderr",
     "output_type": "stream",
     "text": [
      "25/01/11 20:05:24 WARN Utils: Service 'SparkUI' could not bind on port 4040. Attempting port 4041.\n"
     ]
    },
    {
     "name": "stdout",
     "output_type": "stream",
     "text": [
      "Data read successfully\n",
      "Sample data:\n",
      "3861\n"
     ]
    },
    {
     "name": "stderr",
     "output_type": "stream",
     "text": [
      "                                                                                "
     ]
    },
    {
     "name": "stdout",
     "output_type": "stream",
     "text": [
      "+------------------+--------------+------+--------+--------+--------------------+--------------------+--------------------+---------+--------------------+----------------+----------+--------------------+------------------+-----------+-----------+------------+--------------------+------------+------------+--------------------+-------------+-------------+-------------+--------------+---------------+---------------+---------------+---------------+---------------+---------------+---------------+---------------+---------------+----------------+----------------+----------------+----------------+----------------+-----------------+-----------------+--------------------+-----------------+------------------+------------------+-------------------+-------------------+-------------------+--------------------+--------------------+----------------------+----------------------+-----------------------+-------------------------+--------------------------+---------------------------+----------------------------+-----------------------------+------------------------------+------------------------------+--------------------------------+--------------------------------+\n",
      "|                id|          name|status|adlabels|bid_info|            campaign|            end_time|            estimate|dsa_payor|           targeting|      account_id|bid_amount|          start_time|       campaign_id|issues_info|pacing_type|bid_strategy|        created_time|daily_budget|source_adset|        updated_time|asset_feed_id|billing_event|lifetime_imps|adset_schedule|bid_adjustments|bid_constraints|daily_spend_cap|dsa_beneficiary|lifetime_budget|promoted_object|recommendations|review_feedback|source_adset_id|attribution_spec|budget_remaining|destination_type|effective_status|rf_prediction_id|configured_status|creative_sequence|   optimization_goal|use_new_app_click|instagram_actor_id|lifetime_spend_cap|brand_safety_config|is_dynamic_creative|learning_stage_info|campaign_active_time|campaign_attribution|daily_min_spend_target|optimization_sub_event|frequency_control_specs|lifetime_min_spend_target|recurring_budget_semantics|min_budget_spend_percentage|targeting_optimization_types|regional_regulated_categories|multi_optimization_goal_weight|regional_regulation_identities|time_based_ad_rotation_id_blocks|time_based_ad_rotation_intervals|\n",
      "+------------------+--------------+------+--------+--------+--------------------+--------------------+--------------------+---------+--------------------+----------------+----------+--------------------+------------------+-----------+-----------+------------+--------------------+------------+------------+--------------------+-------------+-------------+-------------+--------------+---------------+---------------+---------------+---------------+---------------+---------------+---------------+---------------+---------------+----------------+----------------+----------------+----------------+----------------+-----------------+-----------------+--------------------+-----------------+------------------+------------------+-------------------+-------------------+-------------------+--------------------+--------------------+----------------------+----------------------+-----------------------+-------------------------+--------------------------+---------------------------+----------------------------+-----------------------------+------------------------------+------------------------------+--------------------------------+--------------------------------+\n",
      "|120210335544910788|Instagram Post|ACTIVE|      []|    null|{\"id\": \"120210335...|2024-08-13T15:15:...|{\"estimate_ready\"...|     null|{\"age_max\": 40, \"...|1000970874779653|      null|2024-08-08T15:15:...|120210335543810788|         []|         []|        null|2024-08-08T15:15:...|        null|        null|2024-08-08T15:15:...|         null|  IMPRESSIONS|          0.0|            []|           null|           null|           null|           null|           null|           null|             []|           null|              0|              []|             0.0|       UNDEFINED| CAMPAIGN_PAUSED|            null|           ACTIVE|               []|VISIT_INSTAGRAM_P...|            false|              null|              null|               null|              false|               null|                   0|             DEFAULT|                  null|                  NONE|                     []|                     null|                     false|                          0|        [{\"key\": \"detaile...|                           []|                     UNDEFINED|                          null|                              []|                              []|\n",
      "|120209587979020788|Instagram Post|ACTIVE|      []|    null|{\"id\": \"120209587...|2024-07-08T16:44:...|{\"estimate_ready\"...|     null|{\"age_max\": 40, \"...|1000970874779653|      null|2024-07-03T16:44:...|120209587978950788|         []|         []|        null|2024-07-03T16:43:...|        null|        null|2024-10-03T18:10:...|         null|  IMPRESSIONS|          0.0|            []|           null|           null|           null|           null|           null|           null|             []|           null|              0|              []|             0.0|       UNDEFINED| CAMPAIGN_PAUSED|            null|           ACTIVE|               []|VISIT_INSTAGRAM_P...|            false|              null|              null|               null|              false|               null|                   0|             DEFAULT|                  null|                  NONE|                     []|                     null|                     false|                          0|        [{\"key\": \"detaile...|                           []|                     UNDEFINED|                          null|                              []|                              []|\n",
      "|120209658504030788|Instagram Post|ACTIVE|      []|    null|{\"id\": \"120209658...|2024-07-11T11:36:...|{\"estimate_ready\"...|     null|{\"age_max\": 40, \"...|1000970874779653|      null|2024-07-06T11:36:...|120209658504010788|         []|         []|        null|2024-07-06T11:35:...|        null|        null|2024-10-03T18:10:...|         null|  IMPRESSIONS|          0.0|            []|           null|           null|           null|           null|           null|           null|             []|           null|              0|              []|             0.0|       UNDEFINED| CAMPAIGN_PAUSED|            null|           ACTIVE|               []|VISIT_INSTAGRAM_P...|            false|              null|              null|               null|              false|               null|                   0|             DEFAULT|                  null|                  NONE|                     []|                     null|                     false|                          0|        [{\"key\": \"detaile...|                           []|                     UNDEFINED|                          null|                              []|                              []|\n",
      "|120209770358320788|Instagram Post|ACTIVE|      []|    null|{\"id\": \"120209770...|2024-07-15T20:14:...|{\"estimate_ready\"...|     null|{\"age_max\": 40, \"...|1000970874779653|      null|2024-07-11T20:14:...|120209770358280788|         []|         []|        null|2024-07-11T20:13:...|        null|        null|2024-10-03T18:10:...|         null|  IMPRESSIONS|          0.0|            []|           null|           null|           null|           null|           null|           null|             []|           null|              0|              []|             0.0|       UNDEFINED| CAMPAIGN_PAUSED|            null|           ACTIVE|               []|VISIT_INSTAGRAM_P...|            false|              null|              null|               null|              false|               null|                   0|             DEFAULT|                  null|                  NONE|                     []|                     null|                     false|                          0|        [{\"key\": \"detaile...|                           []|                     UNDEFINED|                          null|                              []|                              []|\n",
      "|120209722827640788|Instagram Post|ACTIVE|      []|    null|{\"id\": \"120209722...|2024-07-13T19:17:...|{\"estimate_ready\"...|     null|{\"age_max\": 40, \"...|1000970874779653|      null|2024-07-09T19:17:...|120209722827590788|         []|         []|        null|2024-07-09T19:16:...|        null|        null|2024-10-03T18:10:...|         null|  IMPRESSIONS|          0.0|            []|           null|           null|           null|           null|           null|           null|             []|           null|              0|              []|             0.0|       UNDEFINED| CAMPAIGN_PAUSED|            null|           ACTIVE|               []|VISIT_INSTAGRAM_P...|            false|              null|              null|               null|              false|               null|                   0|             DEFAULT|                  null|                  NONE|                     []|                     null|                     false|                          0|        [{\"key\": \"detaile...|                           []|                     UNDEFINED|                          null|                              []|                              []|\n",
      "+------------------+--------------+------+--------+--------+--------------------+--------------------+--------------------+---------+--------------------+----------------+----------+--------------------+------------------+-----------+-----------+------------+--------------------+------------+------------+--------------------+-------------+-------------+-------------+--------------+---------------+---------------+---------------+---------------+---------------+---------------+---------------+---------------+---------------+----------------+----------------+----------------+----------------+----------------+-----------------+-----------------+--------------------+-----------------+------------------+------------------+-------------------+-------------------+-------------------+--------------------+--------------------+----------------------+----------------------+-----------------------+-------------------------+--------------------------+---------------------------+----------------------------+-----------------------------+------------------------------+------------------------------+--------------------------------+--------------------------------+\n",
      "only showing top 5 rows\n",
      "\n"
     ]
    }
   ],
   "source": [
    "from pyspark.sql import SparkSession\n",
    "import os\n",
    "from dotenv import load_dotenv\n",
    "load_dotenv()\n",
    "\n",
    "def create_spark_session():\n",
    "    \"\"\"\n",
    "    Creates a Spark session configured for BigQuery operations\n",
    "    \"\"\"\n",
    "    # Set Google Cloud credentials\n",
    "    # os.environ[\"GOOGLE_APPLICATION_CREDENTIALS\"] = \"/path/to/your/credentials.json\"\n",
    "    \n",
    "    # Create Spark session with BigQuery configurations\n",
    "    _jarf = os.path.join(os.environ.get('SPARK_HOME'),'jars','spark-3.4-bigquery-0.41.1.jar')\n",
    "    print(_jarf)\n",
    "\n",
    "    # .config(\"spark.jars.packages\", \"com.google.cloud.spark:spark-bigquery-with-dependencies_2.12:0.32.2\") \\\n",
    "    spark = SparkSession.builder \\\n",
    "        .appName(\"bigquery-operations\") \\\n",
    "        .config(\"spark.jars\", f\"{os.path.expanduser('/opt/spark_hadoop_3/jars/spark-bigquery-with-dependencies_2.12-0.33.0.jar')},\" + \\\n",
    "            f\"{os.path.expanduser('/opt/spark_hadoop_3/jars/gcs-connector-hadoop3-latest.jar')}\") \\\n",
    "        .config(\"spark.hadoop.google.cloud.auth.service.account.enable\", \"true\") \\\n",
    "        .config(\"spark.hadoop.google.cloud.auth.service.account.json.keyfile\", \n",
    "                os.environ[\"GOOGLE_APPLICATION_CREDENTIALS\"]) \\\n",
    "        .getOrCreate()\n",
    "    \n",
    "    return spark\n",
    "\n",
    "def read_from_bigquery(spark, project_id, dataset, table):\n",
    "    \"\"\"\n",
    "    Reads data from a BigQuery table into a Spark DataFrame\n",
    "    \n",
    "    Args:\n",
    "        spark: SparkSession object\n",
    "        project_id: GCP project ID\n",
    "        dataset: BigQuery dataset name\n",
    "        table: BigQuery table name\n",
    "    \n",
    "    Returns:\n",
    "        Spark DataFrame containing the table data\n",
    "    \"\"\"\n",
    "    table_path = f\"{project_id}.{dataset}.{table}\"\n",
    "    \n",
    "    df = spark.read \\\n",
    "        .format(\"bigquery\") \\\n",
    "        .option(\"table\", table_path) \\\n",
    "        .load()\n",
    "    \n",
    "    return df\n",
    "\n",
    "def write_to_bigquery(df, project_id, dataset, table, mode=\"append\"):\n",
    "    \"\"\"\n",
    "    Writes a Spark DataFrame to a BigQuery table\n",
    "    \n",
    "    Args:\n",
    "        df: Spark DataFrame to write\n",
    "        project_id: GCP project ID\n",
    "        dataset: BigQuery dataset name\n",
    "        table: BigQuery table name\n",
    "        mode: Write mode (\"append\", \"overwrite\", \"ignore\", \"error\")\n",
    "    \"\"\"\n",
    "    table_path = f\"{project_id}.{dataset}.{table}\"\n",
    "    \n",
    "    df.write \\\n",
    "        .format(\"bigquery\") \\\n",
    "        .option(\"table\", table_path) \\\n",
    "        .option(\"temporaryGcsBucket\", \"your-temporary-gcs-bucket\") \\\n",
    "        .mode(mode) \\\n",
    "        .save()\n",
    "\n",
    "# Example usage\n",
    "if __name__ == \"__main__\":\n",
    "    # Initialize Spark session\n",
    "    spark = create_spark_session()\n",
    "    \n",
    "    # Example configuration\n",
    "    PROJECT_ID = \"fresh-deck-445306-b0\"\n",
    "    DATASET = \"combined_data_facebook_ads\"\n",
    "    SOURCE_TABLE = \"combine__metadata_adset\"\n",
    "    TARGET_TABLE = \"target_table\"\n",
    "    \n",
    "    try:\n",
    "        # Read from BigQuery\n",
    "        df = read_from_bigquery(spark, PROJECT_ID, DATASET, SOURCE_TABLE)\n",
    "        print(\"Data read successfully\")\n",
    "        print(\"Sample data:\")\n",
    "        print(df.count())\n",
    "        df.show(5)\n",
    "        \n",
    "        # Perform any transformations here\n",
    "        # Example: df = df.filter(df.column > 100)\n",
    "        \n",
    "        # Write back to BigQuery\n",
    "        # write_to_bigquery(df, PROJECT_ID, DATASET, TARGET_TABLE, mode=\"append\")\n",
    "        # print(\"Data written successfully\")\n",
    "        \n",
    "    except Exception as e:\n",
    "        print(f\"Error: {str(e)}\")\n",
    "        \n",
    "    finally:\n",
    "        spark.stop()"
   ]
  },
  {
   "cell_type": "code",
   "execution_count": null,
   "id": "55d06e5e",
   "metadata": {},
   "outputs": [],
   "source": []
  }
 ],
 "metadata": {
  "kernelspec": {
   "display_name": "Python 3 (ipykernel)",
   "language": "python",
   "name": "python3"
  },
  "language_info": {
   "codemirror_mode": {
    "name": "ipython",
    "version": 3
   },
   "file_extension": ".py",
   "mimetype": "text/x-python",
   "name": "python",
   "nbconvert_exporter": "python",
   "pygments_lexer": "ipython3",
   "version": "3.10.16"
  }
 },
 "nbformat": 4,
 "nbformat_minor": 5
}
