{
 "cells": [
  {
   "cell_type": "markdown",
   "id": "b6b2ae34-6ea4-44ea-a964-586c2615200f",
   "metadata": {},
   "source": [
    "# Testing Bayesian Networks"
   ]
  },
  {
   "cell_type": "code",
   "execution_count": 1,
   "id": "808e3322-ec14-4682-bee1-4b477eaedb7e",
   "metadata": {},
   "outputs": [],
   "source": [
    "'''\n",
    "    WARNING CONTROL to display or ignore all warnings\n",
    "'''\n",
    "import warnings; warnings.simplefilter('ignore')     #switch betweeb 'default' and 'ignore'\n",
    "import traceback\n",
    "\n",
    "''' Set debug flag to view extended error messages; else set it to False to turn off debugging mode '''\n",
    "debug = True\n"
   ]
  },
  {
   "cell_type": "code",
   "execution_count": 7,
   "id": "cddcfcce-391c-4a13-b9e6-a4bd163541d2",
   "metadata": {},
   "outputs": [
    {
     "name": "stdout",
     "output_type": "stream",
     "text": [
      "All functional __PROPATTR__-libraries in LOADER-package of ETL-module imported successfully!\n",
      "All functional SPARKRDBM-libraries in LOADER-package of ETL-module imported successfully!\n",
      "All functional SPARKRDBM-libraries in LOADER-package of ETL-module imported successfully!\n",
      "All functional APP-libraries in REZAWARE-package of REZAWARE-module imported successfully!\n",
      "__propAttr__ Class initialization complete\n"
     ]
    },
    {
     "name": "stderr",
     "output_type": "stream",
     "text": [
      "25/01/11 08:29:01 WARN Utils: Your hostname, Waidy-Think-Three resolves to a loopback address: 127.0.1.1; using 192.168.1.100 instead (on interface wlp3s0)\n",
      "25/01/11 08:29:01 WARN Utils: Set SPARK_LOCAL_IP if you need to bind to another address\n",
      "25/01/11 08:29:02 WARN NativeCodeLoader: Unable to load native-hadoop library for your platform... using builtin-java classes where applicable\n",
      "Setting default log level to \"WARN\".\n",
      "To adjust logging level use sc.setLogLevel(newLevel). For SparkR, use setLogLevel(newLevel).\n"
     ]
    },
    {
     "name": "stdout",
     "output_type": "stream",
     "text": [
      "\n",
      "read and write files from and to BigQuery database class initialization and load complete!\n"
     ]
    }
   ],
   "source": [
    "import os\n",
    "import sys\n",
    "\n",
    "proj_dir = os.path.abspath(os.pardir)\n",
    "sys.path.insert(1,proj_dir.split('mining/')[0])\n",
    "from rezaware.modules.etl.loader import sparkRDBM as db\n",
    "\n",
    "''' restart initiate classes '''\n",
    "if debug:\n",
    "    import importlib\n",
    "    db = importlib.reload(db)\n",
    "\n",
    "_jar = os.path.join(os.getenv('SPARK_HOME'),\n",
    "                    'jars',\n",
    "                    'spark-3.4-bigquery-0.41.1.jar')\n",
    "\n",
    "__desc__ = \"read and write files from and to BigQuery database\"\n",
    "clsSDB = db.dataWorkLoads(\n",
    "    desc=__desc__,\n",
    "    db_type = 'BigQuery',\n",
    "    db_driver=None,\n",
    "    db_hostIP=None,\n",
    "    db_port = None,\n",
    "    db_name = None,\n",
    "    db_schema='combined_data_facebook_ads',\n",
    "    spark_partitions=None,\n",
    "    spark_format = 'bigquery',\n",
    "    spark_save_mode=None,\n",
    "    # spark_jar_dir = _jar,\n",
    ")\n",
    "if clsSDB.session:\n",
    "    clsSDB._session.stop\n",
    "print(\"\\n%s class initialization and load complete!\" % __desc__)"
   ]
  },
  {
   "cell_type": "markdown",
   "id": "87f5a2d4-c6c5-4b23-9738-671528c1e25e",
   "metadata": {},
   "source": [
    "## Read data"
   ]
  },
  {
   "cell_type": "code",
   "execution_count": 96,
   "id": "3424814a-b3be-4e9f-8933-7a7b0aa29333",
   "metadata": {},
   "outputs": [
    {
     "name": "stdout",
     "output_type": "stream",
     "text": [
      "Loaded 100 rows\n",
      "root\n",
      " |-- id: string (nullable = true)\n",
      " |-- name: string (nullable = true)\n",
      " |-- status: string (nullable = true)\n",
      " |-- campaign: string (nullable = true)\n",
      " |-- end_time: string (nullable = true)\n",
      " |-- estimate: string (nullable = true)\n",
      " |-- dsa_payor: string (nullable = true)\n",
      " |-- targeting: string (nullable = true)\n",
      " |-- account_id: string (nullable = true)\n",
      " |-- bid_amount: double (nullable = true)\n",
      " |-- start_time: string (nullable = true)\n",
      " |-- campaign_id: string (nullable = true)\n",
      " |-- created_time: string (nullable = true)\n",
      " |-- daily_budget: double (nullable = true)\n",
      " |-- source_adset: string (nullable = true)\n",
      " |-- updated_time: string (nullable = true)\n",
      " |-- billing_event: string (nullable = true)\n",
      " |-- lifetime_imps: double (nullable = true)\n",
      " |-- dsa_beneficiary: string (nullable = true)\n",
      " |-- lifetime_budget: double (nullable = true)\n",
      " |-- promoted_object: string (nullable = true)\n",
      " |-- review_feedback: string (nullable = true)\n",
      " |-- source_adset_id: string (nullable = true)\n",
      " |-- budget_remaining: double (nullable = true)\n",
      " |-- destination_type: string (nullable = true)\n",
      " |-- effective_status: string (nullable = true)\n",
      " |-- configured_status: string (nullable = true)\n",
      " |-- optimization_goal: string (nullable = true)\n",
      " |-- use_new_app_click: boolean (nullable = true)\n",
      " |-- is_dynamic_creative: boolean (nullable = true)\n",
      " |-- campaign_active_time: string (nullable = true)\n",
      " |-- campaign_attribution: string (nullable = true)\n",
      " |-- optimization_sub_event: string (nullable = true)\n",
      " |-- recurring_budget_semantics: boolean (nullable = true)\n",
      " |-- min_budget_spend_percentage: string (nullable = true)\n",
      " |-- multi_optimization_goal_weight: string (nullable = true)\n",
      "\n"
     ]
    }
   ],
   "source": [
    "query = \"\"\"\n",
    "    SELECT id, name, status, campaign, end_time, estimate, dsa_payor, targeting,\n",
    "        account_id, bid_amount, start_time, campaign_id, created_time, daily_budget,\n",
    "        source_adset, updated_time, billing_event, lifetime_imps, dsa_beneficiary, \n",
    "        lifetime_budget, promoted_object, review_feedback, source_adset_id, budget_remaining,\n",
    "        destination_type, effective_status, configured_status, optimization_goal,\n",
    "        use_new_app_click, is_dynamic_creative, campaign_active_time, campaign_attribution,\n",
    "        optimization_sub_event, recurring_budget_semantics, min_budget_spend_percentage,\n",
    "        multi_optimization_goal_weight\n",
    "    FROM fresh-deck-445306-b0.combined_data_facebook_ads.combine__metadata_adset as adset\n",
    "    LIMIT 100\n",
    "\"\"\"\n",
    "sdf = clsSDB.read_data_from_table(\n",
    "    select = query,\n",
    ")\n",
    "print(\"Loaded %d rows\" % sdf.count())\n",
    "sdf.printSchema()"
   ]
  },
  {
   "cell_type": "code",
   "execution_count": 2,
   "id": "9fa4b77a-5dbb-46ee-a1b0-72272d3c3e7c",
   "metadata": {},
   "outputs": [
    {
     "name": "stderr",
     "output_type": "stream",
     "text": [
      "Matplotlib is building the font cache; this may take a moment.\n"
     ]
    }
   ],
   "source": [
    "import pycaret.classification as cl"
   ]
  },
  {
   "cell_type": "code",
   "execution_count": 5,
   "id": "b3843a8c-36a5-4d6b-a4bd-b84a6de1ee63",
   "metadata": {},
   "outputs": [
    {
     "data": {
      "text/plain": [
       "['ClassificationExperiment',\n",
       " '__all__',\n",
       " '__builtins__',\n",
       " '__cached__',\n",
       " '__doc__',\n",
       " '__file__',\n",
       " '__loader__',\n",
       " '__name__',\n",
       " '__package__',\n",
       " '__path__',\n",
       " '__spec__',\n",
       " 'add_metric',\n",
       " 'automl',\n",
       " 'blend_models',\n",
       " 'calibrate_model',\n",
       " 'check_drift',\n",
       " 'check_fairness',\n",
       " 'compare_models',\n",
       " 'convert_model',\n",
       " 'create_api',\n",
       " 'create_app',\n",
       " 'create_docker',\n",
       " 'create_model',\n",
       " 'dashboard',\n",
       " 'deploy_model',\n",
       " 'ensemble_model',\n",
       " 'evaluate_model',\n",
       " 'finalize_model',\n",
       " 'functional',\n",
       " 'get_allowed_engines',\n",
       " 'get_config',\n",
       " 'get_current_experiment',\n",
       " 'get_engine',\n",
       " 'get_leaderboard',\n",
       " 'get_logs',\n",
       " 'get_metrics',\n",
       " 'interpret_model',\n",
       " 'load_experiment',\n",
       " 'load_model',\n",
       " 'models',\n",
       " 'oop',\n",
       " 'optimize_threshold',\n",
       " 'plot_model',\n",
       " 'predict_model',\n",
       " 'pull',\n",
       " 'remove_metric',\n",
       " 'save_experiment',\n",
       " 'save_model',\n",
       " 'set_config',\n",
       " 'set_current_experiment',\n",
       " 'setup',\n",
       " 'stack_models',\n",
       " 'tune_model']"
      ]
     },
     "execution_count": 5,
     "metadata": {},
     "output_type": "execute_result"
    }
   ],
   "source": [
    "dir(cl)"
   ]
  },
  {
   "cell_type": "code",
   "execution_count": null,
   "id": "bff25851-6d90-456c-a10e-b4deb7134af0",
   "metadata": {},
   "outputs": [],
   "source": []
  }
 ],
 "metadata": {
  "kernelspec": {
   "display_name": "Python 3 (ipykernel)",
   "language": "python",
   "name": "python3"
  },
  "language_info": {
   "codemirror_mode": {
    "name": "ipython",
    "version": 3
   },
   "file_extension": ".py",
   "mimetype": "text/x-python",
   "name": "python",
   "nbconvert_exporter": "python",
   "pygments_lexer": "ipython3",
   "version": "3.10.16"
  }
 },
 "nbformat": 4,
 "nbformat_minor": 5
}
