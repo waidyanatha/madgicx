{
 "cells": [
  {
   "cell_type": "markdown",
   "id": "2b86b064-5943-4a78-b205-f2665d5e05f4",
   "metadata": {},
   "source": [
    "## Analze the data to find any trends"
   ]
  },
  {
   "cell_type": "code",
   "execution_count": 1,
   "id": "8b75889c-44e5-4857-99ae-9c6f7ded2e58",
   "metadata": {},
   "outputs": [],
   "source": [
    "'''\n",
    "    WARNING CONTROL to display or ignore all warnings\n",
    "'''\n",
    "import warnings; warnings.simplefilter('ignore')     #switch betweeb 'default' and 'ignore'\n",
    "import traceback\n",
    "\n",
    "''' Set debug flag to view extended error messages; else set it to False to turn off debugging mode '''\n",
    "debug = True"
   ]
  },
  {
   "cell_type": "code",
   "execution_count": 3,
   "id": "d075ec77-0838-4c9c-84fe-5536d5481b19",
   "metadata": {},
   "outputs": [
    {
     "name": "stdout",
     "output_type": "stream",
     "text": [
      "All functional SPARKFILE-libraries in LOADER-package of ETL-module imported successfully!\n",
      "__propAttr__ Class initialization complete\n",
      "sparkFile Class initialization complete\n",
      "\n",
      "read and write BigQuery dataset for hypothese testing class initialization and load complete!\n"
     ]
    }
   ],
   "source": [
    "import os\n",
    "import sys\n",
    "import numpy as np\n",
    "from pyspark.sql import functions as F\n",
    "import tensorflow_probability as tfp\n",
    "import tensorflow as tf\n",
    "\n",
    "proj_dir = os.path.abspath(os.pardir)\n",
    "sys.path.insert(1,proj_dir.split('mining/')[0])\n",
    "# from rezaware.modules.etl.loader import sparkRDBM as db\n",
    "from rezaware.modules.etl.loader import sparkFile as file\n",
    "# from rezaware.modules.etl.loader import __propAttr__ as attr\n",
    "\n",
    "''' restart initiate classes '''\n",
    "if debug:\n",
    "    import importlib\n",
    "    # db = importlib.reload(db)\n",
    "    file=importlib.reload(file)\n",
    "    # attr=importlib.reload(attr)\n",
    "\n",
    "__desc__ = \"read and write BigQuery dataset for hypothese testing\"\n",
    "\n",
    "clsFile = file.dataWorkLoads(\n",
    "    desc = \"optimizing action_type budgets for an ad\",\n",
    "    store_mode='local-fs',\n",
    "    store_root=proj_dir.split('mining/')[0],\n",
    "    jar_dir=None,\n",
    ")\n",
    "\n",
    "print(\"\\n%s class initialization and load complete!\" % __desc__)"
   ]
  },
  {
   "cell_type": "markdown",
   "id": "8807f684-dc81-4a00-ac94-08f04dc73249",
   "metadata": {},
   "source": [
    "## Load Data"
   ]
  },
  {
   "cell_type": "code",
   "execution_count": 5,
   "id": "77265401-c482-4ba2-976f-98f717821112",
   "metadata": {},
   "outputs": [
    {
     "name": "stderr",
     "output_type": "stream",
     "text": [
      "25/02/21 14:08:56 WARN Utils: Your hostname, Waidy-Think-Three resolves to a loopback address: 127.0.1.1; using 192.168.2.82 instead (on interface enp0s25)\n",
      "25/02/21 14:08:56 WARN Utils: Set SPARK_LOCAL_IP if you need to bind to another address\n",
      "25/02/21 14:08:58 WARN NativeCodeLoader: Unable to load native-hadoop library for your platform... using builtin-java classes where applicable\n",
      "Setting default log level to \"WARN\".\n",
      "To adjust logging level use sc.setLogLevel(newLevel). For SparkR, use setLogLevel(newLevel).\n",
      "                                                                                "
     ]
    },
    {
     "name": "stdout",
     "output_type": "stream",
     "text": [
      "Loaded 61513 rows\n"
     ]
    }
   ],
   "source": [
    "options = {\n",
    "    \"inferSchema\":True,\n",
    "    \"header\":True,\n",
    "    \"delimiter\":\",\",\n",
    "    \"pathGlobFilter\":'*.csv',\n",
    "    \"recursiveFileLookup\":True,\n",
    "}\n",
    "\n",
    "sdf=clsFile.read_files_to_dtype(\n",
    "    as_type = \"SPARK\",      # optional - define the data type to return\n",
    "    folder_path=\"mining/data/budget/\",  # optional - relative path, w.r.t. self.storeRoot\n",
    "    file_name=\"complete-60-accounts.csv\",  # optional - name of the file to read\n",
    "    file_type=None,  # optional - read all the files of same type\n",
    "    **options,\n",
    ")\n",
    "print(\"Loaded %d rows\" % sdf.count())"
   ]
  },
  {
   "cell_type": "markdown",
   "id": "4b8ab4b6-05af-43c2-bcd6-f185c1ed9377",
   "metadata": {},
   "source": [
    "## Currency Convert the Spend"
   ]
  },
  {
   "cell_type": "code",
   "execution_count": 6,
   "id": "e4be46b3-b20e-48bd-a3d9-9fdc3ca05e88",
   "metadata": {},
   "outputs": [],
   "source": [
    "### USE python currency-converter librabry with date\n",
    "sdf = sdf.withColumn(\n",
    "    \"spend_usd\",\n",
    "    F.when(F.col('account_currency').isin('CAD'), F.col('spend') * 0.70)\n",
    "     .when(F.col('account_currency').isin('EUR'), F.col('spend') * 1.05)\n",
    "     .when(F.col('account_currency').isin('THB'), F.col('spend') * 0.03)\n",
    "     .when(F.col('account_currency').isin('INR'), F.col('spend') * 0.012)\n",
    "     .when(F.col('account_currency').isin('USD'), F.col('spend') * 1.00)\n",
    "     .otherwise(F.col('spend') * 1.00)\n",
    ")\n",
    "\n",
    "# sdf.printSchema()"
   ]
  },
  {
   "cell_type": "code",
   "execution_count": 7,
   "id": "57ab089d-ade9-4105-9074-f587ed211b83",
   "metadata": {},
   "outputs": [
    {
     "name": "stderr",
     "output_type": "stream",
     "text": [
      "[Stage 14:>                                                         (0 + 1) / 1]"
     ]
    },
    {
     "name": "stdout",
     "output_type": "stream",
     "text": [
      "+--------------------+----------------+-----+\n",
      "|                goal|account_currency|count|\n",
      "+--------------------+----------------+-----+\n",
      "|         IMPRESSIONS|             THB|    1|\n",
      "|         LINK_CLICKS|             USD|   17|\n",
      "|MESSAGING_PURCHAS...|             THB|  269|\n",
      "|MESSAGING_PURCHAS...|             USD|    1|\n",
      "| OFFSITE_CONVERSIONS|             INR|34681|\n",
      "| OFFSITE_CONVERSIONS|             EUR|  205|\n",
      "| OFFSITE_CONVERSIONS|             CAD| 5200|\n",
      "| OFFSITE_CONVERSIONS|             USD|16223|\n",
      "|     POST_ENGAGEMENT|             THB|    2|\n",
      "|               REACH|             THB|    1|\n",
      "|               REACH|             USD|   32|\n",
      "|             REPLIES|             THB|  417|\n",
      "|             REPLIES|             CAD| 4040|\n",
      "|  RETURN_ON_AD_SPEND|             USD|   82|\n",
      "|  RETURN_ON_AD_SPEND|             INR|  342|\n",
      "+--------------------+----------------+-----+\n",
      "\n"
     ]
    },
    {
     "name": "stderr",
     "output_type": "stream",
     "text": [
      "                                                                                "
     ]
    }
   ],
   "source": [
    "sdf.groupBy(F.col('goal'), F.col('account_currency')).count()\\\n",
    "    .orderBy(F.col('goal')).show()\n",
    "# sdf.select('updated_time','spend_usd', 'CPC', 'CPM', 'CTR', 'ROAS', \n",
    "#            'account_currency','impressions', 'click', 'reach', 'frequency').where(F.col('goal').isin('REPLIES')).show()"
   ]
  },
  {
   "cell_type": "markdown",
   "id": "e1186be9-b3b1-4bf5-ac53-e67d879765a4",
   "metadata": {},
   "source": [
    "## Filtered Dataframe\n",
    "* goal = OFFSITE_CONVERSIONS\n",
    "* columns = spend_usd, CPC, CPM, CTR, ROAS,<br><tab><tab>click, impressions, frequency, reach\n",
    "* column value >= mean + 2 x sigma (95 percentile)\n",
    "* account_currency = USD (market segment)"
   ]
  },
  {
   "cell_type": "code",
   "execution_count": 8,
   "id": "369e51e0-6c9c-422f-a9e5-e48e5940c417",
   "metadata": {},
   "outputs": [
    {
     "name": "stdout",
     "output_type": "stream",
     "text": [
      "(1313, 10)\n",
      "data shape: (1313, 10)\n",
      "some stats:\n",
      "          spend_usd          CPC          CPM          CTR         ROAS  \\\n",
      "count  1313.000000  1313.000000  1313.000000  1313.000000  1313.000000   \n",
      "mean     13.177998     1.425051    64.003815     4.573616     7.368967   \n",
      "std      13.987713     1.011975    34.132467     3.066206   100.412233   \n",
      "min       0.014000     0.000000     5.789474     0.000000     0.005794   \n",
      "25%       2.891000     0.885111    37.204169     2.507837     0.239250   \n",
      "50%       7.266000     1.202857    59.333333     4.278075     0.695623   \n",
      "75%      19.236000     1.745000    85.900000     6.239168     1.633562   \n",
      "max      80.591000    10.750000   314.000000    25.000000  3324.500000   \n",
      "\n",
      "       impressions        click        reach    frequency  \n",
      "count  1313.000000  1313.000000  1313.000000  1313.000000  \n",
      "mean    345.784463    16.269612   318.175171     1.067327  \n",
      "std     415.739996    20.158340   374.273921     0.048370  \n",
      "min       1.000000     0.000000     1.000000     1.000000  \n",
      "25%      79.000000     3.000000    75.000000     1.033175  \n",
      "50%     199.000000     7.000000   186.000000     1.062591  \n",
      "75%     479.000000    24.000000   440.000000     1.094737  \n",
      "max    4874.000000   145.000000  3931.000000     1.625000  \n"
     ]
    }
   ],
   "source": [
    "_data_sdf= sdf.select('updated_time','spend_usd', 'CPC', 'CPM', 'CTR', 'ROAS',\n",
    "                      'impressions', 'click', 'reach', 'frequency')\\\n",
    "            .where(F.col('goal').isin('REPLIES')) \\\n",
    "            .dropna().orderBy('updated_time').toPandas()\n",
    "# _data_sdf= sdf.select('updated_time','spend_usd',\n",
    "#                      'CPC', 'CPM', 'CTR', 'ROAS', \n",
    "#                      'impressions', 'click', 'reach', 'frequency')\\\n",
    "#             .where(F.col('goal').isin('OFFSITE_CONVERSIONS') & \\\n",
    "#                   F.col('account_currency').isin('CAD'))\\\n",
    "#             .dropna().orderBy('updated_time').toPandas()\n",
    "print(_data_sdf.shape)\n",
    "''' keep 95 percentile of the data '''\n",
    "# for _col in _data_df.columns:\n",
    "#     _data_df = _data_df[_data_df[_col]<=\\\n",
    "#                     _data_df[_col].mean()+2*_data_df[_col].std()]\n",
    "# _data_df = _data_df.sample(n=1000)\n",
    "\n",
    "print(\"data shape:\", _data_sdf.shape)\n",
    "print(\"some stats:\\n\", _data_sdf.describe())"
   ]
  },
  {
   "cell_type": "markdown",
   "id": "aa7a92a3-2c92-4c9d-b6fb-54c3fcb6fb49",
   "metadata": {},
   "source": [
    "## Enrich data"
   ]
  },
  {
   "cell_type": "code",
   "execution_count": 10,
   "id": "9212e171-eaf9-49da-90de-00715c1afdc3",
   "metadata": {},
   "outputs": [
    {
     "name": "stdout",
     "output_type": "stream",
     "text": [
      "<class 'pandas.core.frame.DataFrame'>\n",
      "RangeIndex: 1313 entries, 0 to 1312\n",
      "Data columns (total 12 columns):\n",
      " #   Column        Non-Null Count  Dtype         \n",
      "---  ------        --------------  -----         \n",
      " 0   updated_time  1313 non-null   datetime64[ns]\n",
      " 1   spend_usd     1313 non-null   float64       \n",
      " 2   CPC           1313 non-null   float64       \n",
      " 3   CPM           1313 non-null   float64       \n",
      " 4   CTR           1313 non-null   float64       \n",
      " 5   ROAS          1313 non-null   float64       \n",
      " 6   impressions   1313 non-null   int32         \n",
      " 7   click         1313 non-null   int32         \n",
      " 8   reach         1313 non-null   int32         \n",
      " 9   frequency     1313 non-null   float64       \n",
      " 10  day_of_week   1313 non-null   string        \n",
      " 11  month         1313 non-null   string        \n",
      "dtypes: datetime64[ns](1), float64(6), int32(3), string(2)\n",
      "memory usage: 107.8 KB\n"
     ]
    }
   ],
   "source": [
    "import pandas as pd\n",
    "import matplotlib.pyplot as plt\n",
    "import numpy as np\n",
    "\n",
    "# Read data from Excel file\n",
    "df = _data_sdf\n",
    "df['updated_time']=pd.to_datetime(df['updated_time'])\n",
    "df['day_of_week']=df['updated_time'].dt.day_name().astype('string')\n",
    "df['month']=df['updated_time'].dt.month_name().astype('string')\n",
    "df.info()"
   ]
  },
  {
   "cell_type": "code",
   "execution_count": 11,
   "id": "f1fd165d-47fc-4cf6-9107-9c7c52297311",
   "metadata": {},
   "outputs": [
    {
     "data": {
      "text/html": [
       "<div>\n",
       "<style scoped>\n",
       "    .dataframe tbody tr th:only-of-type {\n",
       "        vertical-align: middle;\n",
       "    }\n",
       "\n",
       "    .dataframe tbody tr th {\n",
       "        vertical-align: top;\n",
       "    }\n",
       "\n",
       "    .dataframe thead th {\n",
       "        text-align: right;\n",
       "    }\n",
       "</style>\n",
       "<table border=\"1\" class=\"dataframe\">\n",
       "  <thead>\n",
       "    <tr style=\"text-align: right;\">\n",
       "      <th></th>\n",
       "      <th>spend_usd</th>\n",
       "      <th>CPC</th>\n",
       "      <th>CPM</th>\n",
       "      <th>CTR</th>\n",
       "      <th>ROAS</th>\n",
       "      <th>impressions</th>\n",
       "      <th>click</th>\n",
       "      <th>reach</th>\n",
       "      <th>frequency</th>\n",
       "    </tr>\n",
       "  </thead>\n",
       "  <tbody>\n",
       "    <tr>\n",
       "      <th>spend_usd</th>\n",
       "      <td>1.000000</td>\n",
       "      <td>-0.094214</td>\n",
       "      <td>0.078410</td>\n",
       "      <td>0.257901</td>\n",
       "      <td>-0.062700</td>\n",
       "      <td>0.819430</td>\n",
       "      <td>0.933905</td>\n",
       "      <td>0.820355</td>\n",
       "      <td>0.453299</td>\n",
       "    </tr>\n",
       "    <tr>\n",
       "      <th>CPC</th>\n",
       "      <td>-0.094214</td>\n",
       "      <td>1.000000</td>\n",
       "      <td>0.216084</td>\n",
       "      <td>-0.197738</td>\n",
       "      <td>-0.081631</td>\n",
       "      <td>-0.144302</td>\n",
       "      <td>-0.221037</td>\n",
       "      <td>-0.144354</td>\n",
       "      <td>-0.064503</td>\n",
       "    </tr>\n",
       "    <tr>\n",
       "      <th>CPM</th>\n",
       "      <td>0.078410</td>\n",
       "      <td>0.216084</td>\n",
       "      <td>1.000000</td>\n",
       "      <td>0.463379</td>\n",
       "      <td>-0.050952</td>\n",
       "      <td>-0.233142</td>\n",
       "      <td>-0.032588</td>\n",
       "      <td>-0.241034</td>\n",
       "      <td>0.107562</td>\n",
       "    </tr>\n",
       "    <tr>\n",
       "      <th>CTR</th>\n",
       "      <td>0.257901</td>\n",
       "      <td>-0.197738</td>\n",
       "      <td>0.463379</td>\n",
       "      <td>1.000000</td>\n",
       "      <td>-0.036595</td>\n",
       "      <td>0.035702</td>\n",
       "      <td>0.303679</td>\n",
       "      <td>0.031831</td>\n",
       "      <td>0.258411</td>\n",
       "    </tr>\n",
       "    <tr>\n",
       "      <th>ROAS</th>\n",
       "      <td>-0.062700</td>\n",
       "      <td>-0.081631</td>\n",
       "      <td>-0.050952</td>\n",
       "      <td>-0.036595</td>\n",
       "      <td>1.000000</td>\n",
       "      <td>-0.054444</td>\n",
       "      <td>-0.053614</td>\n",
       "      <td>-0.055528</td>\n",
       "      <td>-0.083660</td>\n",
       "    </tr>\n",
       "    <tr>\n",
       "      <th>impressions</th>\n",
       "      <td>0.819430</td>\n",
       "      <td>-0.144302</td>\n",
       "      <td>-0.233142</td>\n",
       "      <td>0.035702</td>\n",
       "      <td>-0.054444</td>\n",
       "      <td>1.000000</td>\n",
       "      <td>0.864067</td>\n",
       "      <td>0.997963</td>\n",
       "      <td>0.368273</td>\n",
       "    </tr>\n",
       "    <tr>\n",
       "      <th>click</th>\n",
       "      <td>0.933905</td>\n",
       "      <td>-0.221037</td>\n",
       "      <td>-0.032588</td>\n",
       "      <td>0.303679</td>\n",
       "      <td>-0.053614</td>\n",
       "      <td>0.864067</td>\n",
       "      <td>1.000000</td>\n",
       "      <td>0.868092</td>\n",
       "      <td>0.415750</td>\n",
       "    </tr>\n",
       "    <tr>\n",
       "      <th>reach</th>\n",
       "      <td>0.820355</td>\n",
       "      <td>-0.144354</td>\n",
       "      <td>-0.241034</td>\n",
       "      <td>0.031831</td>\n",
       "      <td>-0.055528</td>\n",
       "      <td>0.997963</td>\n",
       "      <td>0.868092</td>\n",
       "      <td>1.000000</td>\n",
       "      <td>0.342040</td>\n",
       "    </tr>\n",
       "    <tr>\n",
       "      <th>frequency</th>\n",
       "      <td>0.453299</td>\n",
       "      <td>-0.064503</td>\n",
       "      <td>0.107562</td>\n",
       "      <td>0.258411</td>\n",
       "      <td>-0.083660</td>\n",
       "      <td>0.368273</td>\n",
       "      <td>0.415750</td>\n",
       "      <td>0.342040</td>\n",
       "      <td>1.000000</td>\n",
       "    </tr>\n",
       "  </tbody>\n",
       "</table>\n",
       "</div>"
      ],
      "text/plain": [
       "             spend_usd       CPC       CPM       CTR      ROAS  impressions  \\\n",
       "spend_usd     1.000000 -0.094214  0.078410  0.257901 -0.062700     0.819430   \n",
       "CPC          -0.094214  1.000000  0.216084 -0.197738 -0.081631    -0.144302   \n",
       "CPM           0.078410  0.216084  1.000000  0.463379 -0.050952    -0.233142   \n",
       "CTR           0.257901 -0.197738  0.463379  1.000000 -0.036595     0.035702   \n",
       "ROAS         -0.062700 -0.081631 -0.050952 -0.036595  1.000000    -0.054444   \n",
       "impressions   0.819430 -0.144302 -0.233142  0.035702 -0.054444     1.000000   \n",
       "click         0.933905 -0.221037 -0.032588  0.303679 -0.053614     0.864067   \n",
       "reach         0.820355 -0.144354 -0.241034  0.031831 -0.055528     0.997963   \n",
       "frequency     0.453299 -0.064503  0.107562  0.258411 -0.083660     0.368273   \n",
       "\n",
       "                click     reach  frequency  \n",
       "spend_usd    0.933905  0.820355   0.453299  \n",
       "CPC         -0.221037 -0.144354  -0.064503  \n",
       "CPM         -0.032588 -0.241034   0.107562  \n",
       "CTR          0.303679  0.031831   0.258411  \n",
       "ROAS        -0.053614 -0.055528  -0.083660  \n",
       "impressions  0.864067  0.997963   0.368273  \n",
       "click        1.000000  0.868092   0.415750  \n",
       "reach        0.868092  1.000000   0.342040  \n",
       "frequency    0.415750  0.342040   1.000000  "
      ]
     },
     "execution_count": 11,
     "metadata": {},
     "output_type": "execute_result"
    }
   ],
   "source": [
    "df.corr()"
   ]
  },
  {
   "cell_type": "code",
   "execution_count": 12,
   "id": "512dc9cb-a17c-424d-b1c5-738968063d82",
   "metadata": {},
   "outputs": [
    {
     "data": {
      "text/html": [
       "<style type=\"text/css\">\n",
       "#T_a6455_row9_col1 {\n",
       "  background-color: lightgreen;\n",
       "}\n",
       "</style>\n",
       "<table id=\"T_a6455\">\n",
       "  <thead>\n",
       "    <tr>\n",
       "      <th class=\"blank level0\" >&nbsp;</th>\n",
       "      <th id=\"T_a6455_level0_col0\" class=\"col_heading level0 col0\" >Description</th>\n",
       "      <th id=\"T_a6455_level0_col1\" class=\"col_heading level0 col1\" >Value</th>\n",
       "    </tr>\n",
       "  </thead>\n",
       "  <tbody>\n",
       "    <tr>\n",
       "      <th id=\"T_a6455_level0_row0\" class=\"row_heading level0 row0\" >0</th>\n",
       "      <td id=\"T_a6455_row0_col0\" class=\"data row0 col0\" >Session id</td>\n",
       "      <td id=\"T_a6455_row0_col1\" class=\"data row0 col1\" >123</td>\n",
       "    </tr>\n",
       "    <tr>\n",
       "      <th id=\"T_a6455_level0_row1\" class=\"row_heading level0 row1\" >1</th>\n",
       "      <td id=\"T_a6455_row1_col0\" class=\"data row1 col0\" >Target</td>\n",
       "      <td id=\"T_a6455_row1_col1\" class=\"data row1 col1\" >spend_usd</td>\n",
       "    </tr>\n",
       "    <tr>\n",
       "      <th id=\"T_a6455_level0_row2\" class=\"row_heading level0 row2\" >2</th>\n",
       "      <td id=\"T_a6455_row2_col0\" class=\"data row2 col0\" >Target type</td>\n",
       "      <td id=\"T_a6455_row2_col1\" class=\"data row2 col1\" >Regression</td>\n",
       "    </tr>\n",
       "    <tr>\n",
       "      <th id=\"T_a6455_level0_row3\" class=\"row_heading level0 row3\" >3</th>\n",
       "      <td id=\"T_a6455_row3_col0\" class=\"data row3 col0\" >Original data shape</td>\n",
       "      <td id=\"T_a6455_row3_col1\" class=\"data row3 col1\" >(1313, 6)</td>\n",
       "    </tr>\n",
       "    <tr>\n",
       "      <th id=\"T_a6455_level0_row4\" class=\"row_heading level0 row4\" >4</th>\n",
       "      <td id=\"T_a6455_row4_col0\" class=\"data row4 col0\" >Transformed data shape</td>\n",
       "      <td id=\"T_a6455_row4_col1\" class=\"data row4 col1\" >(1313, 8)</td>\n",
       "    </tr>\n",
       "    <tr>\n",
       "      <th id=\"T_a6455_level0_row5\" class=\"row_heading level0 row5\" >5</th>\n",
       "      <td id=\"T_a6455_row5_col0\" class=\"data row5 col0\" >Transformed train set shape</td>\n",
       "      <td id=\"T_a6455_row5_col1\" class=\"data row5 col1\" >(919, 8)</td>\n",
       "    </tr>\n",
       "    <tr>\n",
       "      <th id=\"T_a6455_level0_row6\" class=\"row_heading level0 row6\" >6</th>\n",
       "      <td id=\"T_a6455_row6_col0\" class=\"data row6 col0\" >Transformed test set shape</td>\n",
       "      <td id=\"T_a6455_row6_col1\" class=\"data row6 col1\" >(394, 8)</td>\n",
       "    </tr>\n",
       "    <tr>\n",
       "      <th id=\"T_a6455_level0_row7\" class=\"row_heading level0 row7\" >7</th>\n",
       "      <td id=\"T_a6455_row7_col0\" class=\"data row7 col0\" >Numeric features</td>\n",
       "      <td id=\"T_a6455_row7_col1\" class=\"data row7 col1\" >4</td>\n",
       "    </tr>\n",
       "    <tr>\n",
       "      <th id=\"T_a6455_level0_row8\" class=\"row_heading level0 row8\" >8</th>\n",
       "      <td id=\"T_a6455_row8_col0\" class=\"data row8 col0\" >Date features</td>\n",
       "      <td id=\"T_a6455_row8_col1\" class=\"data row8 col1\" >1</td>\n",
       "    </tr>\n",
       "    <tr>\n",
       "      <th id=\"T_a6455_level0_row9\" class=\"row_heading level0 row9\" >9</th>\n",
       "      <td id=\"T_a6455_row9_col0\" class=\"data row9 col0\" >Preprocess</td>\n",
       "      <td id=\"T_a6455_row9_col1\" class=\"data row9 col1\" >True</td>\n",
       "    </tr>\n",
       "    <tr>\n",
       "      <th id=\"T_a6455_level0_row10\" class=\"row_heading level0 row10\" >10</th>\n",
       "      <td id=\"T_a6455_row10_col0\" class=\"data row10 col0\" >Imputation type</td>\n",
       "      <td id=\"T_a6455_row10_col1\" class=\"data row10 col1\" >simple</td>\n",
       "    </tr>\n",
       "    <tr>\n",
       "      <th id=\"T_a6455_level0_row11\" class=\"row_heading level0 row11\" >11</th>\n",
       "      <td id=\"T_a6455_row11_col0\" class=\"data row11 col0\" >Numeric imputation</td>\n",
       "      <td id=\"T_a6455_row11_col1\" class=\"data row11 col1\" >mean</td>\n",
       "    </tr>\n",
       "    <tr>\n",
       "      <th id=\"T_a6455_level0_row12\" class=\"row_heading level0 row12\" >12</th>\n",
       "      <td id=\"T_a6455_row12_col0\" class=\"data row12 col0\" >Categorical imputation</td>\n",
       "      <td id=\"T_a6455_row12_col1\" class=\"data row12 col1\" >mode</td>\n",
       "    </tr>\n",
       "    <tr>\n",
       "      <th id=\"T_a6455_level0_row13\" class=\"row_heading level0 row13\" >13</th>\n",
       "      <td id=\"T_a6455_row13_col0\" class=\"data row13 col0\" >Fold Generator</td>\n",
       "      <td id=\"T_a6455_row13_col1\" class=\"data row13 col1\" >KFold</td>\n",
       "    </tr>\n",
       "    <tr>\n",
       "      <th id=\"T_a6455_level0_row14\" class=\"row_heading level0 row14\" >14</th>\n",
       "      <td id=\"T_a6455_row14_col0\" class=\"data row14 col0\" >Fold Number</td>\n",
       "      <td id=\"T_a6455_row14_col1\" class=\"data row14 col1\" >10</td>\n",
       "    </tr>\n",
       "    <tr>\n",
       "      <th id=\"T_a6455_level0_row15\" class=\"row_heading level0 row15\" >15</th>\n",
       "      <td id=\"T_a6455_row15_col0\" class=\"data row15 col0\" >CPU Jobs</td>\n",
       "      <td id=\"T_a6455_row15_col1\" class=\"data row15 col1\" >-1</td>\n",
       "    </tr>\n",
       "    <tr>\n",
       "      <th id=\"T_a6455_level0_row16\" class=\"row_heading level0 row16\" >16</th>\n",
       "      <td id=\"T_a6455_row16_col0\" class=\"data row16 col0\" >Use GPU</td>\n",
       "      <td id=\"T_a6455_row16_col1\" class=\"data row16 col1\" >False</td>\n",
       "    </tr>\n",
       "    <tr>\n",
       "      <th id=\"T_a6455_level0_row17\" class=\"row_heading level0 row17\" >17</th>\n",
       "      <td id=\"T_a6455_row17_col0\" class=\"data row17 col0\" >Log Experiment</td>\n",
       "      <td id=\"T_a6455_row17_col1\" class=\"data row17 col1\" >False</td>\n",
       "    </tr>\n",
       "    <tr>\n",
       "      <th id=\"T_a6455_level0_row18\" class=\"row_heading level0 row18\" >18</th>\n",
       "      <td id=\"T_a6455_row18_col0\" class=\"data row18 col0\" >Experiment Name</td>\n",
       "      <td id=\"T_a6455_row18_col1\" class=\"data row18 col1\" >reg-default-name</td>\n",
       "    </tr>\n",
       "    <tr>\n",
       "      <th id=\"T_a6455_level0_row19\" class=\"row_heading level0 row19\" >19</th>\n",
       "      <td id=\"T_a6455_row19_col0\" class=\"data row19 col0\" >USI</td>\n",
       "      <td id=\"T_a6455_row19_col1\" class=\"data row19 col1\" >60e9</td>\n",
       "    </tr>\n",
       "  </tbody>\n",
       "</table>\n"
      ],
      "text/plain": [
       "<pandas.io.formats.style.Styler at 0x7f54b4c315d0>"
      ]
     },
     "metadata": {},
     "output_type": "display_data"
    },
    {
     "data": {
      "text/html": [],
      "text/plain": [
       "<IPython.core.display.HTML object>"
      ]
     },
     "metadata": {},
     "output_type": "display_data"
    },
    {
     "data": {
      "text/html": [
       "<style type=\"text/css\">\n",
       "#T_73a52 th {\n",
       "  text-align: left;\n",
       "}\n",
       "#T_73a52_row0_col0, #T_73a52_row1_col0, #T_73a52_row1_col1, #T_73a52_row1_col2, #T_73a52_row1_col3, #T_73a52_row1_col4, #T_73a52_row1_col5, #T_73a52_row1_col6, #T_73a52_row2_col0, #T_73a52_row2_col1, #T_73a52_row2_col2, #T_73a52_row2_col3, #T_73a52_row2_col4, #T_73a52_row2_col5, #T_73a52_row2_col6, #T_73a52_row3_col0, #T_73a52_row3_col1, #T_73a52_row3_col2, #T_73a52_row3_col3, #T_73a52_row3_col4, #T_73a52_row3_col5, #T_73a52_row3_col6, #T_73a52_row4_col0, #T_73a52_row4_col1, #T_73a52_row4_col2, #T_73a52_row4_col3, #T_73a52_row4_col4, #T_73a52_row4_col5, #T_73a52_row4_col6, #T_73a52_row5_col0, #T_73a52_row5_col1, #T_73a52_row5_col2, #T_73a52_row5_col3, #T_73a52_row5_col4, #T_73a52_row5_col5, #T_73a52_row5_col6, #T_73a52_row6_col0, #T_73a52_row6_col1, #T_73a52_row6_col2, #T_73a52_row6_col3, #T_73a52_row6_col4, #T_73a52_row6_col5, #T_73a52_row6_col6, #T_73a52_row7_col0, #T_73a52_row7_col1, #T_73a52_row7_col2, #T_73a52_row7_col3, #T_73a52_row7_col4, #T_73a52_row7_col5, #T_73a52_row7_col6, #T_73a52_row8_col0, #T_73a52_row8_col1, #T_73a52_row8_col2, #T_73a52_row8_col3, #T_73a52_row8_col4, #T_73a52_row8_col5, #T_73a52_row8_col6, #T_73a52_row9_col0, #T_73a52_row9_col1, #T_73a52_row9_col2, #T_73a52_row9_col3, #T_73a52_row9_col4, #T_73a52_row9_col5, #T_73a52_row9_col6, #T_73a52_row10_col0, #T_73a52_row10_col1, #T_73a52_row10_col2, #T_73a52_row10_col3, #T_73a52_row10_col4, #T_73a52_row10_col5, #T_73a52_row10_col6, #T_73a52_row11_col0, #T_73a52_row11_col1, #T_73a52_row11_col2, #T_73a52_row11_col3, #T_73a52_row11_col4, #T_73a52_row11_col5, #T_73a52_row11_col6, #T_73a52_row12_col0, #T_73a52_row12_col1, #T_73a52_row12_col2, #T_73a52_row12_col3, #T_73a52_row12_col4, #T_73a52_row12_col5, #T_73a52_row12_col6, #T_73a52_row13_col0, #T_73a52_row13_col1, #T_73a52_row13_col2, #T_73a52_row13_col3, #T_73a52_row13_col4, #T_73a52_row13_col5, #T_73a52_row13_col6, #T_73a52_row14_col0, #T_73a52_row14_col1, #T_73a52_row14_col2, #T_73a52_row14_col3, #T_73a52_row14_col4, #T_73a52_row14_col5, #T_73a52_row14_col6, #T_73a52_row15_col0, #T_73a52_row15_col1, #T_73a52_row15_col2, #T_73a52_row15_col3, #T_73a52_row15_col4, #T_73a52_row15_col5, #T_73a52_row15_col6, #T_73a52_row16_col0, #T_73a52_row16_col1, #T_73a52_row16_col2, #T_73a52_row16_col3, #T_73a52_row16_col4, #T_73a52_row16_col5, #T_73a52_row16_col6, #T_73a52_row17_col0, #T_73a52_row17_col1, #T_73a52_row17_col2, #T_73a52_row17_col3, #T_73a52_row17_col4, #T_73a52_row17_col5, #T_73a52_row17_col6 {\n",
       "  text-align: left;\n",
       "}\n",
       "#T_73a52_row0_col1, #T_73a52_row0_col2, #T_73a52_row0_col3, #T_73a52_row0_col4, #T_73a52_row0_col5, #T_73a52_row0_col6 {\n",
       "  text-align: left;\n",
       "  background-color: yellow;\n",
       "}\n",
       "#T_73a52_row0_col7, #T_73a52_row1_col7, #T_73a52_row2_col7, #T_73a52_row3_col7, #T_73a52_row4_col7, #T_73a52_row5_col7, #T_73a52_row6_col7, #T_73a52_row7_col7, #T_73a52_row8_col7, #T_73a52_row10_col7, #T_73a52_row11_col7, #T_73a52_row12_col7, #T_73a52_row13_col7, #T_73a52_row14_col7, #T_73a52_row15_col7, #T_73a52_row16_col7 {\n",
       "  text-align: left;\n",
       "  background-color: lightgrey;\n",
       "}\n",
       "#T_73a52_row9_col7, #T_73a52_row17_col7 {\n",
       "  text-align: left;\n",
       "  background-color: yellow;\n",
       "  background-color: lightgrey;\n",
       "}\n",
       "</style>\n",
       "<table id=\"T_73a52\">\n",
       "  <thead>\n",
       "    <tr>\n",
       "      <th class=\"blank level0\" >&nbsp;</th>\n",
       "      <th id=\"T_73a52_level0_col0\" class=\"col_heading level0 col0\" >Model</th>\n",
       "      <th id=\"T_73a52_level0_col1\" class=\"col_heading level0 col1\" >MAE</th>\n",
       "      <th id=\"T_73a52_level0_col2\" class=\"col_heading level0 col2\" >MSE</th>\n",
       "      <th id=\"T_73a52_level0_col3\" class=\"col_heading level0 col3\" >RMSE</th>\n",
       "      <th id=\"T_73a52_level0_col4\" class=\"col_heading level0 col4\" >R2</th>\n",
       "      <th id=\"T_73a52_level0_col5\" class=\"col_heading level0 col5\" >RMSLE</th>\n",
       "      <th id=\"T_73a52_level0_col6\" class=\"col_heading level0 col6\" >MAPE</th>\n",
       "      <th id=\"T_73a52_level0_col7\" class=\"col_heading level0 col7\" >TT (Sec)</th>\n",
       "    </tr>\n",
       "  </thead>\n",
       "  <tbody>\n",
       "    <tr>\n",
       "      <th id=\"T_73a52_level0_row0\" class=\"row_heading level0 row0\" >et</th>\n",
       "      <td id=\"T_73a52_row0_col0\" class=\"data row0 col0\" >Extra Trees Regressor</td>\n",
       "      <td id=\"T_73a52_row0_col1\" class=\"data row0 col1\" >2.2134</td>\n",
       "      <td id=\"T_73a52_row0_col2\" class=\"data row0 col2\" >11.9721</td>\n",
       "      <td id=\"T_73a52_row0_col3\" class=\"data row0 col3\" >3.4130</td>\n",
       "      <td id=\"T_73a52_row0_col4\" class=\"data row0 col4\" >0.9373</td>\n",
       "      <td id=\"T_73a52_row0_col5\" class=\"data row0 col5\" >0.2589</td>\n",
       "      <td id=\"T_73a52_row0_col6\" class=\"data row0 col6\" >0.3205</td>\n",
       "      <td id=\"T_73a52_row0_col7\" class=\"data row0 col7\" >0.1770</td>\n",
       "    </tr>\n",
       "    <tr>\n",
       "      <th id=\"T_73a52_level0_row1\" class=\"row_heading level0 row1\" >gbr</th>\n",
       "      <td id=\"T_73a52_row1_col0\" class=\"data row1 col0\" >Gradient Boosting Regressor</td>\n",
       "      <td id=\"T_73a52_row1_col1\" class=\"data row1 col1\" >2.2261</td>\n",
       "      <td id=\"T_73a52_row1_col2\" class=\"data row1 col2\" >12.0139</td>\n",
       "      <td id=\"T_73a52_row1_col3\" class=\"data row1 col3\" >3.4230</td>\n",
       "      <td id=\"T_73a52_row1_col4\" class=\"data row1 col4\" >0.9371</td>\n",
       "      <td id=\"T_73a52_row1_col5\" class=\"data row1 col5\" >0.2683</td>\n",
       "      <td id=\"T_73a52_row1_col6\" class=\"data row1 col6\" >0.4278</td>\n",
       "      <td id=\"T_73a52_row1_col7\" class=\"data row1 col7\" >0.1100</td>\n",
       "    </tr>\n",
       "    <tr>\n",
       "      <th id=\"T_73a52_level0_row2\" class=\"row_heading level0 row2\" >rf</th>\n",
       "      <td id=\"T_73a52_row2_col0\" class=\"data row2 col0\" >Random Forest Regressor</td>\n",
       "      <td id=\"T_73a52_row2_col1\" class=\"data row2 col1\" >2.2428</td>\n",
       "      <td id=\"T_73a52_row2_col2\" class=\"data row2 col2\" >12.0391</td>\n",
       "      <td id=\"T_73a52_row2_col3\" class=\"data row2 col3\" >3.4192</td>\n",
       "      <td id=\"T_73a52_row2_col4\" class=\"data row2 col4\" >0.9367</td>\n",
       "      <td id=\"T_73a52_row2_col5\" class=\"data row2 col5\" >0.2654</td>\n",
       "      <td id=\"T_73a52_row2_col6\" class=\"data row2 col6\" >0.3286</td>\n",
       "      <td id=\"T_73a52_row2_col7\" class=\"data row2 col7\" >0.2680</td>\n",
       "    </tr>\n",
       "    <tr>\n",
       "      <th id=\"T_73a52_level0_row3\" class=\"row_heading level0 row3\" >lightgbm</th>\n",
       "      <td id=\"T_73a52_row3_col0\" class=\"data row3 col0\" >Light Gradient Boosting Machine</td>\n",
       "      <td id=\"T_73a52_row3_col1\" class=\"data row3 col1\" >2.2858</td>\n",
       "      <td id=\"T_73a52_row3_col2\" class=\"data row3 col2\" >13.4050</td>\n",
       "      <td id=\"T_73a52_row3_col3\" class=\"data row3 col3\" >3.5998</td>\n",
       "      <td id=\"T_73a52_row3_col4\" class=\"data row3 col4\" >0.9299</td>\n",
       "      <td id=\"T_73a52_row3_col5\" class=\"data row3 col5\" >0.2662</td>\n",
       "      <td id=\"T_73a52_row3_col6\" class=\"data row3 col6\" >0.3930</td>\n",
       "      <td id=\"T_73a52_row3_col7\" class=\"data row3 col7\" >28.1510</td>\n",
       "    </tr>\n",
       "    <tr>\n",
       "      <th id=\"T_73a52_level0_row4\" class=\"row_heading level0 row4\" >ada</th>\n",
       "      <td id=\"T_73a52_row4_col0\" class=\"data row4 col0\" >AdaBoost Regressor</td>\n",
       "      <td id=\"T_73a52_row4_col1\" class=\"data row4 col1\" >3.5430</td>\n",
       "      <td id=\"T_73a52_row4_col2\" class=\"data row4 col2\" >19.9157</td>\n",
       "      <td id=\"T_73a52_row4_col3\" class=\"data row4 col3\" >4.4366</td>\n",
       "      <td id=\"T_73a52_row4_col4\" class=\"data row4 col4\" >0.8938</td>\n",
       "      <td id=\"T_73a52_row4_col5\" class=\"data row4 col5\" >0.5453</td>\n",
       "      <td id=\"T_73a52_row4_col6\" class=\"data row4 col6\" >2.3203</td>\n",
       "      <td id=\"T_73a52_row4_col7\" class=\"data row4 col7\" >0.0910</td>\n",
       "    </tr>\n",
       "    <tr>\n",
       "      <th id=\"T_73a52_level0_row5\" class=\"row_heading level0 row5\" >dt</th>\n",
       "      <td id=\"T_73a52_row5_col0\" class=\"data row5 col0\" >Decision Tree Regressor</td>\n",
       "      <td id=\"T_73a52_row5_col1\" class=\"data row5 col1\" >2.8781</td>\n",
       "      <td id=\"T_73a52_row5_col2\" class=\"data row5 col2\" >20.3419</td>\n",
       "      <td id=\"T_73a52_row5_col3\" class=\"data row5 col3\" >4.4154</td>\n",
       "      <td id=\"T_73a52_row5_col4\" class=\"data row5 col4\" >0.8937</td>\n",
       "      <td id=\"T_73a52_row5_col5\" class=\"data row5 col5\" >0.3478</td>\n",
       "      <td id=\"T_73a52_row5_col6\" class=\"data row5 col6\" >0.4094</td>\n",
       "      <td id=\"T_73a52_row5_col7\" class=\"data row5 col7\" >0.0360</td>\n",
       "    </tr>\n",
       "    <tr>\n",
       "      <th id=\"T_73a52_level0_row6\" class=\"row_heading level0 row6\" >lr</th>\n",
       "      <td id=\"T_73a52_row6_col0\" class=\"data row6 col0\" >Linear Regression</td>\n",
       "      <td id=\"T_73a52_row6_col1\" class=\"data row6 col1\" >3.0861</td>\n",
       "      <td id=\"T_73a52_row6_col2\" class=\"data row6 col2\" >21.8412</td>\n",
       "      <td id=\"T_73a52_row6_col3\" class=\"data row6 col3\" >4.5268</td>\n",
       "      <td id=\"T_73a52_row6_col4\" class=\"data row6 col4\" >0.8863</td>\n",
       "      <td id=\"T_73a52_row6_col5\" class=\"data row6 col5\" >0.4332</td>\n",
       "      <td id=\"T_73a52_row6_col6\" class=\"data row6 col6\" >1.0848</td>\n",
       "      <td id=\"T_73a52_row6_col7\" class=\"data row6 col7\" >3.4360</td>\n",
       "    </tr>\n",
       "    <tr>\n",
       "      <th id=\"T_73a52_level0_row7\" class=\"row_heading level0 row7\" >ridge</th>\n",
       "      <td id=\"T_73a52_row7_col0\" class=\"data row7 col0\" >Ridge Regression</td>\n",
       "      <td id=\"T_73a52_row7_col1\" class=\"data row7 col1\" >3.0906</td>\n",
       "      <td id=\"T_73a52_row7_col2\" class=\"data row7 col2\" >22.0042</td>\n",
       "      <td id=\"T_73a52_row7_col3\" class=\"data row7 col3\" >4.5306</td>\n",
       "      <td id=\"T_73a52_row7_col4\" class=\"data row7 col4\" >0.8852</td>\n",
       "      <td id=\"T_73a52_row7_col5\" class=\"data row7 col5\" >0.4330</td>\n",
       "      <td id=\"T_73a52_row7_col6\" class=\"data row7 col6\" >1.1640</td>\n",
       "      <td id=\"T_73a52_row7_col7\" class=\"data row7 col7\" >0.0700</td>\n",
       "    </tr>\n",
       "    <tr>\n",
       "      <th id=\"T_73a52_level0_row8\" class=\"row_heading level0 row8\" >br</th>\n",
       "      <td id=\"T_73a52_row8_col0\" class=\"data row8 col0\" >Bayesian Ridge</td>\n",
       "      <td id=\"T_73a52_row8_col1\" class=\"data row8 col1\" >3.0933</td>\n",
       "      <td id=\"T_73a52_row8_col2\" class=\"data row8 col2\" >22.0467</td>\n",
       "      <td id=\"T_73a52_row8_col3\" class=\"data row8 col3\" >4.5397</td>\n",
       "      <td id=\"T_73a52_row8_col4\" class=\"data row8 col4\" >0.8852</td>\n",
       "      <td id=\"T_73a52_row8_col5\" class=\"data row8 col5\" >0.4335</td>\n",
       "      <td id=\"T_73a52_row8_col6\" class=\"data row8 col6\" >1.1417</td>\n",
       "      <td id=\"T_73a52_row8_col7\" class=\"data row8 col7\" >0.0450</td>\n",
       "    </tr>\n",
       "    <tr>\n",
       "      <th id=\"T_73a52_level0_row9\" class=\"row_heading level0 row9\" >en</th>\n",
       "      <td id=\"T_73a52_row9_col0\" class=\"data row9 col0\" >Elastic Net</td>\n",
       "      <td id=\"T_73a52_row9_col1\" class=\"data row9 col1\" >3.3101</td>\n",
       "      <td id=\"T_73a52_row9_col2\" class=\"data row9 col2\" >25.6570</td>\n",
       "      <td id=\"T_73a52_row9_col3\" class=\"data row9 col3\" >4.9150</td>\n",
       "      <td id=\"T_73a52_row9_col4\" class=\"data row9 col4\" >0.8651</td>\n",
       "      <td id=\"T_73a52_row9_col5\" class=\"data row9 col5\" >0.4103</td>\n",
       "      <td id=\"T_73a52_row9_col6\" class=\"data row9 col6\" >1.2040</td>\n",
       "      <td id=\"T_73a52_row9_col7\" class=\"data row9 col7\" >0.0320</td>\n",
       "    </tr>\n",
       "    <tr>\n",
       "      <th id=\"T_73a52_level0_row10\" class=\"row_heading level0 row10\" >huber</th>\n",
       "      <td id=\"T_73a52_row10_col0\" class=\"data row10 col0\" >Huber Regressor</td>\n",
       "      <td id=\"T_73a52_row10_col1\" class=\"data row10 col1\" >2.9855</td>\n",
       "      <td id=\"T_73a52_row10_col2\" class=\"data row10 col2\" >26.7906</td>\n",
       "      <td id=\"T_73a52_row10_col3\" class=\"data row10 col3\" >4.8578</td>\n",
       "      <td id=\"T_73a52_row10_col4\" class=\"data row10 col4\" >0.8630</td>\n",
       "      <td id=\"T_73a52_row10_col5\" class=\"data row10 col5\" >0.3461</td>\n",
       "      <td id=\"T_73a52_row10_col6\" class=\"data row10 col6\" >0.8507</td>\n",
       "      <td id=\"T_73a52_row10_col7\" class=\"data row10 col7\" >0.0550</td>\n",
       "    </tr>\n",
       "    <tr>\n",
       "      <th id=\"T_73a52_level0_row11\" class=\"row_heading level0 row11\" >lasso</th>\n",
       "      <td id=\"T_73a52_row11_col0\" class=\"data row11 col0\" >Lasso Regression</td>\n",
       "      <td id=\"T_73a52_row11_col1\" class=\"data row11 col1\" >3.3683</td>\n",
       "      <td id=\"T_73a52_row11_col2\" class=\"data row11 col2\" >26.2510</td>\n",
       "      <td id=\"T_73a52_row11_col3\" class=\"data row11 col3\" >4.9787</td>\n",
       "      <td id=\"T_73a52_row11_col4\" class=\"data row11 col4\" >0.8618</td>\n",
       "      <td id=\"T_73a52_row11_col5\" class=\"data row11 col5\" >0.4160</td>\n",
       "      <td id=\"T_73a52_row11_col6\" class=\"data row11 col6\" >1.2236</td>\n",
       "      <td id=\"T_73a52_row11_col7\" class=\"data row11 col7\" >0.0370</td>\n",
       "    </tr>\n",
       "    <tr>\n",
       "      <th id=\"T_73a52_level0_row12\" class=\"row_heading level0 row12\" >llar</th>\n",
       "      <td id=\"T_73a52_row12_col0\" class=\"data row12 col0\" >Lasso Least Angle Regression</td>\n",
       "      <td id=\"T_73a52_row12_col1\" class=\"data row12 col1\" >3.3685</td>\n",
       "      <td id=\"T_73a52_row12_col2\" class=\"data row12 col2\" >26.2668</td>\n",
       "      <td id=\"T_73a52_row12_col3\" class=\"data row12 col3\" >4.9799</td>\n",
       "      <td id=\"T_73a52_row12_col4\" class=\"data row12 col4\" >0.8617</td>\n",
       "      <td id=\"T_73a52_row12_col5\" class=\"data row12 col5\" >0.4159</td>\n",
       "      <td id=\"T_73a52_row12_col6\" class=\"data row12 col6\" >1.2224</td>\n",
       "      <td id=\"T_73a52_row12_col7\" class=\"data row12 col7\" >0.0410</td>\n",
       "    </tr>\n",
       "    <tr>\n",
       "      <th id=\"T_73a52_level0_row13\" class=\"row_heading level0 row13\" >knn</th>\n",
       "      <td id=\"T_73a52_row13_col0\" class=\"data row13 col0\" >K Neighbors Regressor</td>\n",
       "      <td id=\"T_73a52_row13_col1\" class=\"data row13 col1\" >3.6029</td>\n",
       "      <td id=\"T_73a52_row13_col2\" class=\"data row13 col2\" >32.2676</td>\n",
       "      <td id=\"T_73a52_row13_col3\" class=\"data row13 col3\" >5.5907</td>\n",
       "      <td id=\"T_73a52_row13_col4\" class=\"data row13 col4\" >0.8276</td>\n",
       "      <td id=\"T_73a52_row13_col5\" class=\"data row13 col5\" >0.3757</td>\n",
       "      <td id=\"T_73a52_row13_col6\" class=\"data row13 col6\" >0.4750</td>\n",
       "      <td id=\"T_73a52_row13_col7\" class=\"data row13 col7\" >0.0370</td>\n",
       "    </tr>\n",
       "    <tr>\n",
       "      <th id=\"T_73a52_level0_row14\" class=\"row_heading level0 row14\" >lar</th>\n",
       "      <td id=\"T_73a52_row14_col0\" class=\"data row14 col0\" >Least Angle Regression</td>\n",
       "      <td id=\"T_73a52_row14_col1\" class=\"data row14 col1\" >3.4568</td>\n",
       "      <td id=\"T_73a52_row14_col2\" class=\"data row14 col2\" >34.6883</td>\n",
       "      <td id=\"T_73a52_row14_col3\" class=\"data row14 col3\" >5.3454</td>\n",
       "      <td id=\"T_73a52_row14_col4\" class=\"data row14 col4\" >0.8137</td>\n",
       "      <td id=\"T_73a52_row14_col5\" class=\"data row14 col5\" >0.4802</td>\n",
       "      <td id=\"T_73a52_row14_col6\" class=\"data row14 col6\" >2.1318</td>\n",
       "      <td id=\"T_73a52_row14_col7\" class=\"data row14 col7\" >0.0400</td>\n",
       "    </tr>\n",
       "    <tr>\n",
       "      <th id=\"T_73a52_level0_row15\" class=\"row_heading level0 row15\" >par</th>\n",
       "      <td id=\"T_73a52_row15_col0\" class=\"data row15 col0\" >Passive Aggressive Regressor</td>\n",
       "      <td id=\"T_73a52_row15_col1\" class=\"data row15 col1\" >5.6933</td>\n",
       "      <td id=\"T_73a52_row15_col2\" class=\"data row15 col2\" >63.6546</td>\n",
       "      <td id=\"T_73a52_row15_col3\" class=\"data row15 col3\" >7.5682</td>\n",
       "      <td id=\"T_73a52_row15_col4\" class=\"data row15 col4\" >0.6850</td>\n",
       "      <td id=\"T_73a52_row15_col5\" class=\"data row15 col5\" >0.6699</td>\n",
       "      <td id=\"T_73a52_row15_col6\" class=\"data row15 col6\" >3.1066</td>\n",
       "      <td id=\"T_73a52_row15_col7\" class=\"data row15 col7\" >0.0460</td>\n",
       "    </tr>\n",
       "    <tr>\n",
       "      <th id=\"T_73a52_level0_row16\" class=\"row_heading level0 row16\" >omp</th>\n",
       "      <td id=\"T_73a52_row16_col0\" class=\"data row16 col0\" >Orthogonal Matching Pursuit</td>\n",
       "      <td id=\"T_73a52_row16_col1\" class=\"data row16 col1\" >5.4141</td>\n",
       "      <td id=\"T_73a52_row16_col2\" class=\"data row16 col2\" >74.9688</td>\n",
       "      <td id=\"T_73a52_row16_col3\" class=\"data row16 col3\" >8.1985</td>\n",
       "      <td id=\"T_73a52_row16_col4\" class=\"data row16 col4\" >0.6204</td>\n",
       "      <td id=\"T_73a52_row16_col5\" class=\"data row16 col5\" >0.6126</td>\n",
       "      <td id=\"T_73a52_row16_col6\" class=\"data row16 col6\" >2.1435</td>\n",
       "      <td id=\"T_73a52_row16_col7\" class=\"data row16 col7\" >0.0360</td>\n",
       "    </tr>\n",
       "    <tr>\n",
       "      <th id=\"T_73a52_level0_row17\" class=\"row_heading level0 row17\" >dummy</th>\n",
       "      <td id=\"T_73a52_row17_col0\" class=\"data row17 col0\" >Dummy Regressor</td>\n",
       "      <td id=\"T_73a52_row17_col1\" class=\"data row17 col1\" >10.6485</td>\n",
       "      <td id=\"T_73a52_row17_col2\" class=\"data row17 col2\" >190.7583</td>\n",
       "      <td id=\"T_73a52_row17_col3\" class=\"data row17 col3\" >13.7566</td>\n",
       "      <td id=\"T_73a52_row17_col4\" class=\"data row17 col4\" >-0.0087</td>\n",
       "      <td id=\"T_73a52_row17_col5\" class=\"data row17 col5\" >1.1008</td>\n",
       "      <td id=\"T_73a52_row17_col6\" class=\"data row17 col6\" >6.3124</td>\n",
       "      <td id=\"T_73a52_row17_col7\" class=\"data row17 col7\" >0.0320</td>\n",
       "    </tr>\n",
       "  </tbody>\n",
       "</table>\n"
      ],
      "text/plain": [
       "<pandas.io.formats.style.Styler at 0x7f54b4f67100>"
      ]
     },
     "metadata": {},
     "output_type": "display_data"
    },
    {
     "data": {
      "text/html": [],
      "text/plain": [
       "<IPython.core.display.HTML object>"
      ]
     },
     "metadata": {},
     "output_type": "display_data"
    },
    {
     "data": {
      "application/vnd.jupyter.widget-view+json": {
       "model_id": "7f32e1d4db7f4d7295a8f873046cf5f2",
       "version_major": 2,
       "version_minor": 0
      },
      "text/plain": [
       "interactive(children=(ToggleButtons(description='Plot Type:', icons=('',), options=(('Pipeline Plot', 'pipelin…"
      ]
     },
     "metadata": {},
     "output_type": "display_data"
    },
    {
     "data": {
      "text/html": [
       "<style type=\"text/css\">\n",
       "</style>\n",
       "<table id=\"T_5ecc7\">\n",
       "  <thead>\n",
       "    <tr>\n",
       "      <th class=\"blank level0\" >&nbsp;</th>\n",
       "      <th id=\"T_5ecc7_level0_col0\" class=\"col_heading level0 col0\" >Model</th>\n",
       "      <th id=\"T_5ecc7_level0_col1\" class=\"col_heading level0 col1\" >MAE</th>\n",
       "      <th id=\"T_5ecc7_level0_col2\" class=\"col_heading level0 col2\" >MSE</th>\n",
       "      <th id=\"T_5ecc7_level0_col3\" class=\"col_heading level0 col3\" >RMSE</th>\n",
       "      <th id=\"T_5ecc7_level0_col4\" class=\"col_heading level0 col4\" >R2</th>\n",
       "      <th id=\"T_5ecc7_level0_col5\" class=\"col_heading level0 col5\" >RMSLE</th>\n",
       "      <th id=\"T_5ecc7_level0_col6\" class=\"col_heading level0 col6\" >MAPE</th>\n",
       "    </tr>\n",
       "  </thead>\n",
       "  <tbody>\n",
       "    <tr>\n",
       "      <th id=\"T_5ecc7_level0_row0\" class=\"row_heading level0 row0\" >0</th>\n",
       "      <td id=\"T_5ecc7_row0_col0\" class=\"data row0 col0\" >Extra Trees Regressor</td>\n",
       "      <td id=\"T_5ecc7_row0_col1\" class=\"data row0 col1\" >2.5412</td>\n",
       "      <td id=\"T_5ecc7_row0_col2\" class=\"data row0 col2\" >15.7564</td>\n",
       "      <td id=\"T_5ecc7_row0_col3\" class=\"data row0 col3\" >3.9694</td>\n",
       "      <td id=\"T_5ecc7_row0_col4\" class=\"data row0 col4\" >0.9234</td>\n",
       "      <td id=\"T_5ecc7_row0_col5\" class=\"data row0 col5\" >0.2643</td>\n",
       "      <td id=\"T_5ecc7_row0_col6\" class=\"data row0 col6\" >0.3170</td>\n",
       "    </tr>\n",
       "  </tbody>\n",
       "</table>\n"
      ],
      "text/plain": [
       "<pandas.io.formats.style.Styler at 0x7f54b5d27f70>"
      ]
     },
     "metadata": {},
     "output_type": "display_data"
    },
    {
     "data": {
      "text/html": [],
      "text/plain": [
       "<IPython.core.display.HTML object>"
      ]
     },
     "metadata": {},
     "output_type": "display_data"
    },
    {
     "name": "stdout",
     "output_type": "stream",
     "text": [
      "Transformation Pipeline and Model Successfully Saved\n"
     ]
    },
    {
     "data": {
      "text/plain": [
       "(Pipeline(memory=Memory(location=None),\n",
       "          steps=[('date_feature_extractor',\n",
       "                  TransformerWrapper(include=['updated_time'],\n",
       "                                     transformer=ExtractDateTimeFeatures())),\n",
       "                 ('numerical_imputer',\n",
       "                  TransformerWrapper(include=['impressions', 'click', 'reach',\n",
       "                                              'frequency'],\n",
       "                                     transformer=SimpleImputer())),\n",
       "                 ('categorical_imputer',\n",
       "                  TransformerWrapper(include=[],\n",
       "                                     transformer=SimpleImputer(strategy='most_frequent'))),\n",
       "                 ('trained_model',\n",
       "                  ExtraTreesRegressor(n_jobs=-1, random_state=123))]),\n",
       " 'best_pipeline.pkl')"
      ]
     },
     "execution_count": 12,
     "metadata": {},
     "output_type": "execute_result"
    }
   ],
   "source": [
    "from pycaret.regression import *\n",
    "\n",
    "data = df[['updated_time', 'spend_usd', 'impressions', 'click', 'reach', 'frequency']]\n",
    "s = setup(data, target='spend_usd', session_id = 123)\n",
    "best = compare_models()\n",
    "evaluate_model(best)\n",
    "pre_holdout = predict_model(best)\n",
    "\n",
    "new_df = data.copy().drop(['spend_usd'], axis=1)\n",
    "predictions = predict_model(best, data=new_df)\n",
    "save_model(best, 'best_pipeline')"
   ]
  },
  {
   "cell_type": "code",
   "execution_count": 88,
   "id": "dc4ee435-56d3-4113-bcc0-dbe9731638d7",
   "metadata": {},
   "outputs": [
    {
     "data": {
      "text/plain": [
       "<Axes: xlabel='dates'>"
      ]
     },
     "execution_count": 88,
     "metadata": {},
     "output_type": "execute_result"
    },
    {
     "data": {
      "image/png": "[encoded data removed]",
      "text/plain": [
       "<Figure size 2000x600 with 1 Axes>"
      ]
     },
     "metadata": {},
     "output_type": "display_data"
    }
   ],
   "source": [
    "d_df.plot(x='dates',y='date_diff', kind='bar', figsize=(20,6), ylim=(0, 60))\n",
    "# d_df.info()"
   ]
  },
  {
   "cell_type": "code",
   "execution_count": 76,
   "id": "a9cef305-4972-472a-8a7e-66657aa16e38",
   "metadata": {},
   "outputs": [
    {
     "data": {
      "text/plain": [
       "count    141.000000\n",
       "mean       3.496454\n",
       "std        8.841965\n",
       "min        1.000000\n",
       "25%        1.000000\n",
       "50%        1.000000\n",
       "75%        2.000000\n",
       "max       59.000000\n",
       "Name: date_diff, dtype: float64"
      ]
     },
     "execution_count": 76,
     "metadata": {},
     "output_type": "execute_result"
    }
   ],
   "source": [
    "dates_arr = _data_df.sort_values(by='updated_time', ascending=True)['updated_time'].unique()\n",
    "d_df = pd.DataFrame(dates_arr, columns=['dates'])\n",
    "d_df['dates_shift'] = d_df['dates'].shift(-1)\n",
    "d_df['date_diff'] = (d_df['dates_shift'] - d_df['dates']) / pd.Timedelta(days=1)\n",
    "d_df['date_diff'].describe()"
   ]
  },
  {
   "cell_type": "code",
   "execution_count": 90,
   "id": "58cb0acc-c3ab-4dd8-82e5-34bf7e73aea8",
   "metadata": {},
   "outputs": [
    {
     "data": {
      "text/plain": [
       "<Axes: xlabel='updated_time'>"
      ]
     },
     "execution_count": 90,
     "metadata": {},
     "output_type": "execute_result"
    },
    {
     "data": {
      "image/png": "[encoded data removed]",
      "text/plain": [
       "<Figure size 2000x600 with 1 Axes>"
      ]
     },
     "metadata": {},
     "output_type": "display_data"
    }
   ],
   "source": [
    "from datetime import date\n",
    "\n",
    "df=_data_df[_data_df['updated_time']>=date(2024,6,1)]\n",
    "df.plot(x='updated_time', y='click', figsize=(20,6), ylim=(0, 6000))"
   ]
  },
  {
   "cell_type": "code",
   "execution_count": 22,
   "id": "2bee98a9-88dd-40b3-8dc0-88d14b8f95f1",
   "metadata": {},
   "outputs": [
    {
     "name": "stderr",
     "output_type": "stream",
     "text": [
      "                                                                                "
     ]
    },
    {
     "data": {
      "image/png": "[encoded data removed]",
      "text/plain": [
       "<Figure size 640x480 with 1 Axes>"
      ]
     },
     "metadata": {},
     "output_type": "display_data"
    }
   ],
   "source": [
    "import matplotlib.pyplot as plt\n",
    "%matplotlib inline\n",
    "\n",
    "_data_df = sdf.toPandas()\n",
    "_x_col, _y_col = 'spend_usd', 'ROAS' #, 'reach'\n",
    "plt.scatter(_data_df[_x_col],_data_df[_y_col])\n",
    "plt.title(\"Scatter Plot\")\n",
    "plt.xlabel(_x_col)\n",
    "plt.ylabel(_y_col)\n",
    "plt.show()"
   ]
  },
  {
   "cell_type": "code",
   "execution_count": 10,
   "id": "2a287897-88e4-48a8-bb62-ff52d80ef150",
   "metadata": {},
   "outputs": [
    {
     "data": {
      "text/plain": [
       "<seaborn.axisgrid.FacetGrid at 0x7faa01fc29b0>"
      ]
     },
     "execution_count": 10,
     "metadata": {},
     "output_type": "execute_result"
    },
    {
     "data": {
      "image/png": "[encoded data removed]",
      "text/plain": [
       "<Figure size 500x500 with 1 Axes>"
      ]
     },
     "metadata": {},
     "output_type": "display_data"
    }
   ],
   "source": [
    "import seaborn as sns \n",
    "\n",
    "# sns.displot(_data_df, x=_x_col)\n",
    "sns.displot(_data_df, x=_y_col)"
   ]
  },
  {
   "cell_type": "code",
   "execution_count": 48,
   "id": "d1ae3043-1a24-4d62-9693-f1be48bf4e36",
   "metadata": {},
   "outputs": [
    {
     "data": {
      "text/plain": [
       "<Axes: xlabel='updated_time'>"
      ]
     },
     "execution_count": 48,
     "metadata": {},
     "output_type": "execute_result"
    },
    {
     "data": {
      "image/png": "[encoded data removed]",
      "text/plain": [
       "<Figure size 1200x400 with 1 Axes>"
      ]
     },
     "metadata": {},
     "output_type": "display_data"
    }
   ],
   "source": [
    "import matplotlib.pyplot as plt\n",
    "%matplotlib inline\n",
    "\n",
    "plot_df = dow_df.pivot(index=\"updated_time\", \n",
    "                       columns=\"day_of_week\", values=\"click_sum\")\n",
    "\n",
    "fig, axs = plt.subplots(figsize=(12, 4))\n",
    "\n",
    "plot_df.plot(kind='bar', rot=0, ax=axs)"
   ]
  }
 ],
 "metadata": {
  "kernelspec": {
   "display_name": "Python 3 (ipykernel)",
   "language": "python",
   "name": "python3"
  },
  "language_info": {
   "codemirror_mode": {
    "name": "ipython",
    "version": 3
   },
   "file_extension": ".py",
   "mimetype": "text/x-python",
   "name": "python",
   "nbconvert_exporter": "python",
   "pygments_lexer": "ipython3",
   "version": "3.10.16"
  }
 },
 "nbformat": 4,
 "nbformat_minor": 5
}
