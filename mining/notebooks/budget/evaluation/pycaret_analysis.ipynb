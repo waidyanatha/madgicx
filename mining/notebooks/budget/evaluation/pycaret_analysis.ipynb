{
 "cells": [
  {
   "cell_type": "markdown",
   "id": "2b86b064-5943-4a78-b205-f2665d5e05f4",
   "metadata": {},
   "source": [
    "## Analze the data to find any trends"
   ]
  },
  {
   "cell_type": "code",
   "execution_count": 1,
   "id": "8b75889c-44e5-4857-99ae-9c6f7ded2e58",
   "metadata": {},
   "outputs": [],
   "source": [
    "'''\n",
    "    WARNING CONTROL to display or ignore all warnings\n",
    "'''\n",
    "import warnings; warnings.simplefilter('ignore')     #switch betweeb 'default' and 'ignore'\n",
    "import traceback\n",
    "\n",
    "''' Set debug flag to view extended error messages; else set it to False to turn off debugging mode '''\n",
    "debug = True"
   ]
  },
  {
   "cell_type": "code",
   "execution_count": 2,
   "id": "d075ec77-0838-4c9c-84fe-5536d5481b19",
   "metadata": {},
   "outputs": [
    {
     "name": "stdout",
     "output_type": "stream",
     "text": [
      "All functional __PROPATTR__-libraries in LOADER-package of ETL-module imported successfully!\n",
      "All functional SPARKFILE-libraries in LOADER-package of ETL-module imported successfully!\n",
      "All functional SPARKFILE-libraries in LOADER-package of ETL-module imported successfully!\n",
      "All functional APP-libraries in REZAWARE-package of REZAWARE-module imported successfully!\n",
      "__propAttr__ Class initialization complete\n",
      "sparkFile Class initialization complete\n",
      "\n",
      "read and write BigQuery dataset for hypothese testing class initialization and load complete!\n"
     ]
    }
   ],
   "source": [
    "import os\n",
    "import sys\n",
    "import numpy as np\n",
    "# import findspark\n",
    "# findspark.init()\n",
    "from pyspark.sql import functions as F\n",
    "# import tensorflow_probability as tfp\n",
    "# import tensorflow as tf\n",
    "\n",
    "proj_dir = os.path.abspath(os.pardir)\n",
    "sys.path.insert(1,proj_dir.split('mining/')[0])\n",
    "# from rezaware.modules.etl.loader import sparkRDBM as db\n",
    "from rezaware.modules.etl.loader import sparkFile as file\n",
    "# from rezaware.modules.etl.loader import __propAttr__ as attr\n",
    "\n",
    "''' restart initiate classes '''\n",
    "if debug:\n",
    "    import importlib\n",
    "    # db = importlib.reload(db)\n",
    "    file=importlib.reload(file)\n",
    "    # attr=importlib.reload(attr)\n",
    "\n",
    "__desc__ = \"read and write BigQuery dataset for hypothese testing\"\n",
    "\n",
    "clsFile = file.dataWorkLoads(\n",
    "    desc = \"optimizing action_type budgets for an ad\",\n",
    "    store_mode='local-fs',\n",
    "    store_root=proj_dir.split('mining/')[0],\n",
    "    jar_dir=None,\n",
    ")\n",
    "\n",
    "print(\"\\n%s class initialization and load complete!\" % __desc__)"
   ]
  },
  {
   "cell_type": "markdown",
   "id": "8807f684-dc81-4a00-ac94-08f04dc73249",
   "metadata": {},
   "source": [
    "## Load Data"
   ]
  },
  {
   "cell_type": "markdown",
   "id": "aa7a92a3-2c92-4c9d-b6fb-54c3fcb6fb49",
   "metadata": {},
   "source": [
    "#### spark sesion options"
   ]
  },
  {
   "cell_type": "code",
   "execution_count": 3,
   "id": "8701fa83-5f93-4231-a5c4-6d9d6cac28e0",
   "metadata": {},
   "outputs": [],
   "source": [
    "options = {\n",
    "    \"inferSchema\":True,\n",
    "    \"header\":True,\n",
    "    \"delimiter\":\",\",\n",
    "    \"pathGlobFilter\":'*.csv',\n",
    "    \"recursiveFileLookup\":True,\n",
    "}"
   ]
  },
  {
   "cell_type": "markdown",
   "id": "31b944b3-aeec-442a-bc89-3cd5bb30b513",
   "metadata": {},
   "source": [
    "#### Full Dataset"
   ]
  },
  {
   "cell_type": "code",
   "execution_count": 4,
   "id": "77265401-c482-4ba2-976f-98f717821112",
   "metadata": {},
   "outputs": [
    {
     "name": "stderr",
     "output_type": "stream",
     "text": [
      "25/02/26 10:56:47 WARN Utils: Your hostname, FarmRaider2 resolves to a loopback address: 127.0.1.1; using 192.168.2.85 instead (on interface enp3s0)\n",
      "25/02/26 10:56:47 WARN Utils: Set SPARK_LOCAL_IP if you need to bind to another address\n",
      "25/02/26 10:56:47 WARN NativeCodeLoader: Unable to load native-hadoop library for your platform... using builtin-java classes where applicable\n",
      "Setting default log level to \"WARN\".\n",
      "To adjust logging level use sc.setLogLevel(newLevel). For SparkR, use setLogLevel(newLevel).\n",
      "                                                                                "
     ]
    },
    {
     "name": "stdout",
     "output_type": "stream",
     "text": [
      "Loaded FullDataset.csv 1777681 rows\n"
     ]
    },
    {
     "name": "stderr",
     "output_type": "stream",
     "text": [
      "[Stage 14:==============================================>           (4 + 1) / 5]"
     ]
    },
    {
     "name": "stdout",
     "output_type": "stream",
     "text": [
      "timestamp converted unix_timestamp for 1777681 rows\n"
     ]
    },
    {
     "name": "stderr",
     "output_type": "stream",
     "text": [
      "                                                                                "
     ]
    }
   ],
   "source": [
    "_fname = \"FullDataset.csv\"\n",
    "_fpath = \"mining/data/budget\"\n",
    "sdf=clsFile.read_files_to_dtype(\n",
    "    as_type = \"SPARK\",      # optional - define the data type to return\n",
    "    folder_path=_fpath,  # optional - relative path, w.r.t. self.storeRoot\n",
    "    file_name = _fname,  # optional - name of the file to read (complete-60-accounts.csv)\n",
    "    file_type = None,  # optional - read all the files of same type\n",
    "    **options,\n",
    ")\n",
    "print(\"Loaded %s %d rows\" % (_fname, sdf.count()))\n",
    "\n",
    "''' convert date to int '''\n",
    "sdf = sdf.withColumn('date', F.unix_timestamp('updated_time'))\n",
    "print(\"timestamp converted unix_timestamp for %d rows\" % sdf.count())"
   ]
  },
  {
   "cell_type": "markdown",
   "id": "fbe1a9e3-50e8-4db0-94d9-bbf9508ce9d4",
   "metadata": {},
   "source": [
    "### Filter by objective\n",
    "Also remove all null columns"
   ]
  },
  {
   "cell_type": "code",
   "execution_count": 6,
   "id": "b867d122-02d6-4090-bdfa-3af8e92bd704",
   "metadata": {},
   "outputs": [
    {
     "name": "stderr",
     "output_type": "stream",
     "text": [
      "25/02/26 11:00:29 WARN package: Truncated the string representation of a plan since it was too large. This behavior can be adjusted by setting 'spark.sql.debug.maxToStringFields'.\n",
      "[Stage 413:=============================================>           (4 + 1) / 5]"
     ]
    },
    {
     "name": "stdout",
     "output_type": "stream",
     "text": [
      "Filtered 71717 rows and reduced to 51 of 131 columns\n"
     ]
    },
    {
     "name": "stderr",
     "output_type": "stream",
     "text": [
      "                                                                                "
     ]
    }
   ],
   "source": [
    "obj_name = \"LINK_CLICKS\"\n",
    "obj_sdf=sdf.filter(F.col('objective').isin(obj_name))\n",
    "null_counts = obj_sdf.select([F.count(F.when(F.col(c).isNull(), c)).alias(c) for c in obj_sdf.columns]).collect()[0].asDict()\n",
    "to_drop = [k for k, v in null_counts.items() if v >= obj_sdf.count()]\n",
    "obj_sdf = obj_sdf.drop(*to_drop)\n",
    "print(\"Filtered %d rows and reduced to %d of %d columns\" \n",
    "      % (obj_sdf.count(), len(obj_sdf.columns), len(sdf.columns)))"
   ]
  },
  {
   "cell_type": "markdown",
   "id": "d0b85446-94f1-489d-9aab-3050ab033775",
   "metadata": {},
   "source": [
    "### Define predictors and labels"
   ]
  },
  {
   "cell_type": "code",
   "execution_count": 25,
   "id": "d21ab534-bffd-48e7-b64b-d2b93ed08645",
   "metadata": {},
   "outputs": [],
   "source": [
    "_num_cols_lst = ['d1_view', 'd7_view', 'd28_view', 'd1_click', 'd7_click', 'd28_click', \n",
    "                 'CTR', 'CPM', 'CPC', 'CPP'] \n",
    "_act_cols_lst = ['app_interactions_app_custom_event__fb_mobile_add_to_wishlist',\n",
    "                 'app_interactions_app_custom_event__fb_mobile_spent_credits', \n",
    "                 'app_interactions_app_custom_event__fb_mobile_content_view', \n",
    "                 'checkout_offsite_conversion__fb_pixel_add_to_cart', \n",
    "                 'checkout_app_custom_event__fb_mobile_initiated_checkout', \n",
    "                 'checkout_offsite_conversion__fb_pixel_initiate_checkout', \n",
    "                 'checkout_app_custom_event__fb_mobile_add_to_cart', \n",
    "                 'checkout_app_custom_event__fb_mobile_add_payment_info', \n",
    "                 'checkout_offsite_conversion__fb_pixel_add_payment_info', \n",
    "                 'custom_conversions_app_custom_event__other', \n",
    "                 'custom_conversions_offsite_conversion__fb_pixel_custom', \n",
    "                 'custom_conversions_omni_custom', \n",
    "                 'lead_generation_onsite_conversion__lead_grouped', \n",
    "                 'lead_generation_offsite_conversion__fb_pixel_lead', \n",
    "                 'lead_generation_lead', \n",
    "                 'purchase_onsite_conversion__purchase', \n",
    "                 'purchase_offsite_conversion__fb_pixel_purchase', \n",
    "                 'purchase_app_custom_event__fb_mobile_purchase', \n",
    "                 'purchase_omni_purchase', \n",
    "                 'registration_omni_complete_registration', \n",
    "                 'registration_offsite_conversion__fb_pixel_complete_registration', \n",
    "                 'search_offsite_conversion__fb_pixel_search']\n",
    "_target = ['purchase_roas']\n",
    "_target_cols_lst = ['impressions', 'clicks', 'reach', 'frequency', 'spend', \n",
    "                    'purchase_value', ]\n",
    "_ignore_cols_lst = ['date', 'timezone_name', 'business_country_code', 'business_city',\n",
    "                    'business_state', 'campaign_id', 'adset_id', 'ad_id', 'account_id',]\n",
    "                    # 'CTR', 'CPM', 'CPC', 'CPP']"
   ]
  },
  {
   "cell_type": "markdown",
   "id": "42cc8e78-5c42-49ed-96db-e047dba58917",
   "metadata": {},
   "source": [
    "### Remove target null values"
   ]
  },
  {
   "cell_type": "code",
   "execution_count": 30,
   "id": "9797f105-94da-4f68-8dc4-dc14b2430882",
   "metadata": {},
   "outputs": [
    {
     "name": "stderr",
     "output_type": "stream",
     "text": [
      "                                                                                "
     ]
    },
    {
     "name": "stdout",
     "output_type": "stream",
     "text": [
      "After Null col remove: 51 of 51 active columns\n"
     ]
    },
    {
     "name": "stderr",
     "output_type": "stream",
     "text": [
      "[Stage 437:=============================================>           (4 + 1) / 5]"
     ]
    },
    {
     "name": "stdout",
     "output_type": "stream",
     "text": [
      "Cleanup reduced rows 10697 of 71717\n"
     ]
    },
    {
     "name": "stderr",
     "output_type": "stream",
     "text": [
      "                                                                                "
     ]
    }
   ],
   "source": [
    "data = obj_sdf.filter(F.greatest(*[F.col(c).isNotNull() \\\n",
    "                      for c in [*_target_cols_lst, *_target]])).toPandas()\n",
    "data = data.dropna(axis=0, subset=_target)\n",
    "print(\"After Null col remove: %d of %d active columns\" \n",
    "      % (len(data.columns), len(obj_sdf.columns)))\n",
    "print(\"Cleanup reduced rows %d of %d\" % (data.shape[0], obj_sdf.count()))"
   ]
  },
  {
   "cell_type": "markdown",
   "id": "6ffa611d-5ee4-4b37-805d-30f0b14abafc",
   "metadata": {},
   "source": [
    "### Setup pycaret"
   ]
  },
  {
   "cell_type": "code",
   "execution_count": 31,
   "id": "eb7916e8-b16c-46a0-96ca-224cf2fce8bf",
   "metadata": {},
   "outputs": [
    {
     "data": {
      "text/html": [
       "<style type=\"text/css\">\n",
       "#T_01bc9_row11_col1 {\n",
       "  background-color: lightgreen;\n",
       "}\n",
       "</style>\n",
       "<table id=\"T_01bc9\">\n",
       "  <thead>\n",
       "    <tr>\n",
       "      <th class=\"blank level0\" >&nbsp;</th>\n",
       "      <th id=\"T_01bc9_level0_col0\" class=\"col_heading level0 col0\" >Description</th>\n",
       "      <th id=\"T_01bc9_level0_col1\" class=\"col_heading level0 col1\" >Value</th>\n",
       "    </tr>\n",
       "  </thead>\n",
       "  <tbody>\n",
       "    <tr>\n",
       "      <th id=\"T_01bc9_level0_row0\" class=\"row_heading level0 row0\" >0</th>\n",
       "      <td id=\"T_01bc9_row0_col0\" class=\"data row0 col0\" >Session id</td>\n",
       "      <td id=\"T_01bc9_row0_col1\" class=\"data row0 col1\" >1969</td>\n",
       "    </tr>\n",
       "    <tr>\n",
       "      <th id=\"T_01bc9_level0_row1\" class=\"row_heading level0 row1\" >1</th>\n",
       "      <td id=\"T_01bc9_row1_col0\" class=\"data row1 col0\" >Target</td>\n",
       "      <td id=\"T_01bc9_row1_col1\" class=\"data row1 col1\" >purchase_roas</td>\n",
       "    </tr>\n",
       "    <tr>\n",
       "      <th id=\"T_01bc9_level0_row2\" class=\"row_heading level0 row2\" >2</th>\n",
       "      <td id=\"T_01bc9_row2_col0\" class=\"data row2 col0\" >Target type</td>\n",
       "      <td id=\"T_01bc9_row2_col1\" class=\"data row2 col1\" >Regression</td>\n",
       "    </tr>\n",
       "    <tr>\n",
       "      <th id=\"T_01bc9_level0_row3\" class=\"row_heading level0 row3\" >3</th>\n",
       "      <td id=\"T_01bc9_row3_col0\" class=\"data row3 col0\" >Original data shape</td>\n",
       "      <td id=\"T_01bc9_row3_col1\" class=\"data row3 col1\" >(10697, 51)</td>\n",
       "    </tr>\n",
       "    <tr>\n",
       "      <th id=\"T_01bc9_level0_row4\" class=\"row_heading level0 row4\" >4</th>\n",
       "      <td id=\"T_01bc9_row4_col0\" class=\"data row4 col0\" >Transformed data shape</td>\n",
       "      <td id=\"T_01bc9_row4_col1\" class=\"data row4 col1\" >(10697, 64)</td>\n",
       "    </tr>\n",
       "    <tr>\n",
       "      <th id=\"T_01bc9_level0_row5\" class=\"row_heading level0 row5\" >5</th>\n",
       "      <td id=\"T_01bc9_row5_col0\" class=\"data row5 col0\" >Transformed train set shape</td>\n",
       "      <td id=\"T_01bc9_row5_col1\" class=\"data row5 col1\" >(7487, 64)</td>\n",
       "    </tr>\n",
       "    <tr>\n",
       "      <th id=\"T_01bc9_level0_row6\" class=\"row_heading level0 row6\" >6</th>\n",
       "      <td id=\"T_01bc9_row6_col0\" class=\"data row6 col0\" >Transformed test set shape</td>\n",
       "      <td id=\"T_01bc9_row6_col1\" class=\"data row6 col1\" >(3210, 64)</td>\n",
       "    </tr>\n",
       "    <tr>\n",
       "      <th id=\"T_01bc9_level0_row7\" class=\"row_heading level0 row7\" >7</th>\n",
       "      <td id=\"T_01bc9_row7_col0\" class=\"data row7 col0\" >Ignore features</td>\n",
       "      <td id=\"T_01bc9_row7_col1\" class=\"data row7 col1\" >9</td>\n",
       "    </tr>\n",
       "    <tr>\n",
       "      <th id=\"T_01bc9_level0_row8\" class=\"row_heading level0 row8\" >8</th>\n",
       "      <td id=\"T_01bc9_row8_col0\" class=\"data row8 col0\" >Numeric features</td>\n",
       "      <td id=\"T_01bc9_row8_col1\" class=\"data row8 col1\" >38</td>\n",
       "    </tr>\n",
       "    <tr>\n",
       "      <th id=\"T_01bc9_level0_row9\" class=\"row_heading level0 row9\" >9</th>\n",
       "      <td id=\"T_01bc9_row9_col0\" class=\"data row9 col0\" >Categorical features</td>\n",
       "      <td id=\"T_01bc9_row9_col1\" class=\"data row9 col1\" >3</td>\n",
       "    </tr>\n",
       "    <tr>\n",
       "      <th id=\"T_01bc9_level0_row10\" class=\"row_heading level0 row10\" >10</th>\n",
       "      <td id=\"T_01bc9_row10_col0\" class=\"data row10 col0\" >Rows with missing values</td>\n",
       "      <td id=\"T_01bc9_row10_col1\" class=\"data row10 col1\" >100.0%</td>\n",
       "    </tr>\n",
       "    <tr>\n",
       "      <th id=\"T_01bc9_level0_row11\" class=\"row_heading level0 row11\" >11</th>\n",
       "      <td id=\"T_01bc9_row11_col0\" class=\"data row11 col0\" >Preprocess</td>\n",
       "      <td id=\"T_01bc9_row11_col1\" class=\"data row11 col1\" >True</td>\n",
       "    </tr>\n",
       "    <tr>\n",
       "      <th id=\"T_01bc9_level0_row12\" class=\"row_heading level0 row12\" >12</th>\n",
       "      <td id=\"T_01bc9_row12_col0\" class=\"data row12 col0\" >Imputation type</td>\n",
       "      <td id=\"T_01bc9_row12_col1\" class=\"data row12 col1\" >simple</td>\n",
       "    </tr>\n",
       "    <tr>\n",
       "      <th id=\"T_01bc9_level0_row13\" class=\"row_heading level0 row13\" >13</th>\n",
       "      <td id=\"T_01bc9_row13_col0\" class=\"data row13 col0\" >Numeric imputation</td>\n",
       "      <td id=\"T_01bc9_row13_col1\" class=\"data row13 col1\" >mean</td>\n",
       "    </tr>\n",
       "    <tr>\n",
       "      <th id=\"T_01bc9_level0_row14\" class=\"row_heading level0 row14\" >14</th>\n",
       "      <td id=\"T_01bc9_row14_col0\" class=\"data row14 col0\" >Categorical imputation</td>\n",
       "      <td id=\"T_01bc9_row14_col1\" class=\"data row14 col1\" >mode</td>\n",
       "    </tr>\n",
       "    <tr>\n",
       "      <th id=\"T_01bc9_level0_row15\" class=\"row_heading level0 row15\" >15</th>\n",
       "      <td id=\"T_01bc9_row15_col0\" class=\"data row15 col0\" >Maximum one-hot encoding</td>\n",
       "      <td id=\"T_01bc9_row15_col1\" class=\"data row15 col1\" >25</td>\n",
       "    </tr>\n",
       "    <tr>\n",
       "      <th id=\"T_01bc9_level0_row16\" class=\"row_heading level0 row16\" >16</th>\n",
       "      <td id=\"T_01bc9_row16_col0\" class=\"data row16 col0\" >Encoding method</td>\n",
       "      <td id=\"T_01bc9_row16_col1\" class=\"data row16 col1\" >None</td>\n",
       "    </tr>\n",
       "    <tr>\n",
       "      <th id=\"T_01bc9_level0_row17\" class=\"row_heading level0 row17\" >17</th>\n",
       "      <td id=\"T_01bc9_row17_col0\" class=\"data row17 col0\" >Fold Generator</td>\n",
       "      <td id=\"T_01bc9_row17_col1\" class=\"data row17 col1\" >KFold</td>\n",
       "    </tr>\n",
       "    <tr>\n",
       "      <th id=\"T_01bc9_level0_row18\" class=\"row_heading level0 row18\" >18</th>\n",
       "      <td id=\"T_01bc9_row18_col0\" class=\"data row18 col0\" >Fold Number</td>\n",
       "      <td id=\"T_01bc9_row18_col1\" class=\"data row18 col1\" >10</td>\n",
       "    </tr>\n",
       "    <tr>\n",
       "      <th id=\"T_01bc9_level0_row19\" class=\"row_heading level0 row19\" >19</th>\n",
       "      <td id=\"T_01bc9_row19_col0\" class=\"data row19 col0\" >CPU Jobs</td>\n",
       "      <td id=\"T_01bc9_row19_col1\" class=\"data row19 col1\" >-1</td>\n",
       "    </tr>\n",
       "    <tr>\n",
       "      <th id=\"T_01bc9_level0_row20\" class=\"row_heading level0 row20\" >20</th>\n",
       "      <td id=\"T_01bc9_row20_col0\" class=\"data row20 col0\" >Use GPU</td>\n",
       "      <td id=\"T_01bc9_row20_col1\" class=\"data row20 col1\" >False</td>\n",
       "    </tr>\n",
       "    <tr>\n",
       "      <th id=\"T_01bc9_level0_row21\" class=\"row_heading level0 row21\" >21</th>\n",
       "      <td id=\"T_01bc9_row21_col0\" class=\"data row21 col0\" >Log Experiment</td>\n",
       "      <td id=\"T_01bc9_row21_col1\" class=\"data row21 col1\" >False</td>\n",
       "    </tr>\n",
       "    <tr>\n",
       "      <th id=\"T_01bc9_level0_row22\" class=\"row_heading level0 row22\" >22</th>\n",
       "      <td id=\"T_01bc9_row22_col0\" class=\"data row22 col0\" >Experiment Name</td>\n",
       "      <td id=\"T_01bc9_row22_col1\" class=\"data row22 col1\" >reg-default-name</td>\n",
       "    </tr>\n",
       "    <tr>\n",
       "      <th id=\"T_01bc9_level0_row23\" class=\"row_heading level0 row23\" >23</th>\n",
       "      <td id=\"T_01bc9_row23_col0\" class=\"data row23 col0\" >USI</td>\n",
       "      <td id=\"T_01bc9_row23_col1\" class=\"data row23 col1\" >338b</td>\n",
       "    </tr>\n",
       "  </tbody>\n",
       "</table>\n"
      ],
      "text/plain": [
       "<pandas.io.formats.style.Styler at 0x7f5db3cbb3a0>"
      ]
     },
     "metadata": {},
     "output_type": "display_data"
    }
   ],
   "source": [
    "from pycaret.regression import *\n",
    "\n",
    "s = setup(data, target=_target[0], \n",
    "          numeric_features=[*_num_cols_lst, *_act_cols_lst, *_target_cols_lst], \n",
    "          ignore_features=[*_ignore_cols_lst], session_id = 1969)"
   ]
  },
  {
   "cell_type": "markdown",
   "id": "01513cb7-5fad-4906-8816-df8116a05913",
   "metadata": {},
   "source": [
    "### Use found model (Extra Tree Regressor)"
   ]
  },
  {
   "cell_type": "code",
   "execution_count": 35,
   "id": "1f0ebe90-859d-47b0-9f28-6bcf68895b61",
   "metadata": {},
   "outputs": [
    {
     "ename": "ValueError",
     "evalue": "Estimator xgboost not available. Please see docstring for list of available estimators.",
     "output_type": "error",
     "traceback": [
      "\u001b[0;31m---------------------------------------------------------------------------\u001b[0m",
      "\u001b[0;31mValueError\u001b[0m                                Traceback (most recent call last)",
      "Cell \u001b[0;32mIn[35], line 4\u001b[0m\n\u001b[1;32m      1\u001b[0m \u001b[38;5;124;03m'''Extra Trees Regressor'''\u001b[39;00m\n\u001b[1;32m      2\u001b[0m \u001b[38;5;66;03m# best = compare_models()\u001b[39;00m\n\u001b[1;32m      3\u001b[0m \u001b[38;5;66;03m# create best models\u001b[39;00m\n\u001b[0;32m----> 4\u001b[0m best \u001b[38;5;241m=\u001b[39m \u001b[43mcreate_model\u001b[49m\u001b[43m(\u001b[49m\u001b[38;5;124;43m'\u001b[39;49m\u001b[38;5;124;43mxgboost\u001b[39;49m\u001b[38;5;124;43m'\u001b[39;49m\u001b[43m)\u001b[49m\n\u001b[1;32m      6\u001b[0m evaluate_model(best)\n\u001b[1;32m      7\u001b[0m pre_holdout \u001b[38;5;241m=\u001b[39m predict_model(best)\n",
      "File \u001b[0;32m~/.cache/pypoetry/virtualenvs/madgicx-63NknB0J-py3.10/lib/python3.10/site-packages/pycaret/utils/generic.py:964\u001b[0m, in \u001b[0;36mcheck_if_global_is_not_none.<locals>.decorator.<locals>.wrapper\u001b[0;34m(*args, **kwargs)\u001b[0m\n\u001b[1;32m    962\u001b[0m     \u001b[38;5;28;01mif\u001b[39;00m globals_d[name] \u001b[38;5;129;01mis\u001b[39;00m \u001b[38;5;28;01mNone\u001b[39;00m:\n\u001b[1;32m    963\u001b[0m         \u001b[38;5;28;01mraise\u001b[39;00m \u001b[38;5;167;01mValueError\u001b[39;00m(message)\n\u001b[0;32m--> 964\u001b[0m \u001b[38;5;28;01mreturn\u001b[39;00m \u001b[43mfunc\u001b[49m\u001b[43m(\u001b[49m\u001b[38;5;241;43m*\u001b[39;49m\u001b[43margs\u001b[49m\u001b[43m,\u001b[49m\u001b[43m \u001b[49m\u001b[38;5;241;43m*\u001b[39;49m\u001b[38;5;241;43m*\u001b[39;49m\u001b[43mkwargs\u001b[49m\u001b[43m)\u001b[49m\n",
      "File \u001b[0;32m~/.cache/pypoetry/virtualenvs/madgicx-63NknB0J-py3.10/lib/python3.10/site-packages/pycaret/regression/functional.py:990\u001b[0m, in \u001b[0;36mcreate_model\u001b[0;34m(estimator, fold, round, cross_validation, fit_kwargs, groups, experiment_custom_tags, engine, verbose, return_train_score, **kwargs)\u001b[0m\n\u001b[1;32m    862\u001b[0m \u001b[38;5;129m@check_if_global_is_not_none\u001b[39m(\u001b[38;5;28mglobals\u001b[39m(), _CURRENT_EXPERIMENT_DECORATOR_DICT)\n\u001b[1;32m    863\u001b[0m \u001b[38;5;28;01mdef\u001b[39;00m\u001b[38;5;250m \u001b[39m\u001b[38;5;21mcreate_model\u001b[39m(\n\u001b[1;32m    864\u001b[0m     estimator: Union[\u001b[38;5;28mstr\u001b[39m, Any],\n\u001b[0;32m   (...)\u001b[0m\n\u001b[1;32m    874\u001b[0m     \u001b[38;5;241m*\u001b[39m\u001b[38;5;241m*\u001b[39mkwargs,\n\u001b[1;32m    875\u001b[0m ):\n\u001b[1;32m    876\u001b[0m \u001b[38;5;250m    \u001b[39m\u001b[38;5;124;03m\"\"\"\u001b[39;00m\n\u001b[1;32m    877\u001b[0m \u001b[38;5;124;03m    This function trains and evaluates the performance of a given estimator\u001b[39;00m\n\u001b[1;32m    878\u001b[0m \u001b[38;5;124;03m    using cross validation. The output of this function is a score grid with\u001b[39;00m\n\u001b[0;32m   (...)\u001b[0m\n\u001b[1;32m    987\u001b[0m \n\u001b[1;32m    988\u001b[0m \u001b[38;5;124;03m    \"\"\"\u001b[39;00m\n\u001b[0;32m--> 990\u001b[0m     \u001b[38;5;28;01mreturn\u001b[39;00m \u001b[43m_CURRENT_EXPERIMENT\u001b[49m\u001b[38;5;241;43m.\u001b[39;49m\u001b[43mcreate_model\u001b[49m\u001b[43m(\u001b[49m\n\u001b[1;32m    991\u001b[0m \u001b[43m        \u001b[49m\u001b[43mestimator\u001b[49m\u001b[38;5;241;43m=\u001b[39;49m\u001b[43mestimator\u001b[49m\u001b[43m,\u001b[49m\n\u001b[1;32m    992\u001b[0m \u001b[43m        \u001b[49m\u001b[43mfold\u001b[49m\u001b[38;5;241;43m=\u001b[39;49m\u001b[43mfold\u001b[49m\u001b[43m,\u001b[49m\n\u001b[1;32m    993\u001b[0m \u001b[43m        \u001b[49m\u001b[38;5;28;43mround\u001b[39;49m\u001b[38;5;241;43m=\u001b[39;49m\u001b[38;5;28;43mround\u001b[39;49m\u001b[43m,\u001b[49m\n\u001b[1;32m    994\u001b[0m \u001b[43m        \u001b[49m\u001b[43mcross_validation\u001b[49m\u001b[38;5;241;43m=\u001b[39;49m\u001b[43mcross_validation\u001b[49m\u001b[43m,\u001b[49m\n\u001b[1;32m    995\u001b[0m \u001b[43m        \u001b[49m\u001b[43mfit_kwargs\u001b[49m\u001b[38;5;241;43m=\u001b[39;49m\u001b[43mfit_kwargs\u001b[49m\u001b[43m,\u001b[49m\n\u001b[1;32m    996\u001b[0m \u001b[43m        \u001b[49m\u001b[43mgroups\u001b[49m\u001b[38;5;241;43m=\u001b[39;49m\u001b[43mgroups\u001b[49m\u001b[43m,\u001b[49m\n\u001b[1;32m    997\u001b[0m \u001b[43m        \u001b[49m\u001b[43mexperiment_custom_tags\u001b[49m\u001b[38;5;241;43m=\u001b[39;49m\u001b[43mexperiment_custom_tags\u001b[49m\u001b[43m,\u001b[49m\n\u001b[1;32m    998\u001b[0m \u001b[43m        \u001b[49m\u001b[43mengine\u001b[49m\u001b[38;5;241;43m=\u001b[39;49m\u001b[43mengine\u001b[49m\u001b[43m,\u001b[49m\n\u001b[1;32m    999\u001b[0m \u001b[43m        \u001b[49m\u001b[43mverbose\u001b[49m\u001b[38;5;241;43m=\u001b[39;49m\u001b[43mverbose\u001b[49m\u001b[43m,\u001b[49m\n\u001b[1;32m   1000\u001b[0m \u001b[43m        \u001b[49m\u001b[43mreturn_train_score\u001b[49m\u001b[38;5;241;43m=\u001b[39;49m\u001b[43mreturn_train_score\u001b[49m\u001b[43m,\u001b[49m\n\u001b[1;32m   1001\u001b[0m \u001b[43m        \u001b[49m\u001b[38;5;241;43m*\u001b[39;49m\u001b[38;5;241;43m*\u001b[39;49m\u001b[43mkwargs\u001b[49m\u001b[43m,\u001b[49m\n\u001b[1;32m   1002\u001b[0m \u001b[43m    \u001b[49m\u001b[43m)\u001b[49m\n",
      "File \u001b[0;32m~/.cache/pypoetry/virtualenvs/madgicx-63NknB0J-py3.10/lib/python3.10/site-packages/pycaret/regression/oop.py:1285\u001b[0m, in \u001b[0;36mRegressionExperiment.create_model\u001b[0;34m(self, estimator, fold, round, cross_validation, fit_kwargs, groups, experiment_custom_tags, engine, verbose, return_train_score, **kwargs)\u001b[0m\n\u001b[1;32m   1282\u001b[0m     \u001b[38;5;28mself\u001b[39m\u001b[38;5;241m.\u001b[39m_set_engine(estimator\u001b[38;5;241m=\u001b[39mestimator, engine\u001b[38;5;241m=\u001b[39mengine, severity\u001b[38;5;241m=\u001b[39m\u001b[38;5;124m\"\u001b[39m\u001b[38;5;124merror\u001b[39m\u001b[38;5;124m\"\u001b[39m)\n\u001b[1;32m   1284\u001b[0m \u001b[38;5;28;01mtry\u001b[39;00m:\n\u001b[0;32m-> 1285\u001b[0m     return_values \u001b[38;5;241m=\u001b[39m \u001b[38;5;28;43msuper\u001b[39;49m\u001b[43m(\u001b[49m\u001b[43m)\u001b[49m\u001b[38;5;241;43m.\u001b[39;49m\u001b[43mcreate_model\u001b[49m\u001b[43m(\u001b[49m\n\u001b[1;32m   1286\u001b[0m \u001b[43m        \u001b[49m\u001b[43mestimator\u001b[49m\u001b[38;5;241;43m=\u001b[39;49m\u001b[43mestimator\u001b[49m\u001b[43m,\u001b[49m\n\u001b[1;32m   1287\u001b[0m \u001b[43m        \u001b[49m\u001b[43mfold\u001b[49m\u001b[38;5;241;43m=\u001b[39;49m\u001b[43mfold\u001b[49m\u001b[43m,\u001b[49m\n\u001b[1;32m   1288\u001b[0m \u001b[43m        \u001b[49m\u001b[38;5;28;43mround\u001b[39;49m\u001b[38;5;241;43m=\u001b[39;49m\u001b[38;5;28;43mround\u001b[39;49m\u001b[43m,\u001b[49m\n\u001b[1;32m   1289\u001b[0m \u001b[43m        \u001b[49m\u001b[43mcross_validation\u001b[49m\u001b[38;5;241;43m=\u001b[39;49m\u001b[43mcross_validation\u001b[49m\u001b[43m,\u001b[49m\n\u001b[1;32m   1290\u001b[0m \u001b[43m        \u001b[49m\u001b[43mfit_kwargs\u001b[49m\u001b[38;5;241;43m=\u001b[39;49m\u001b[43mfit_kwargs\u001b[49m\u001b[43m,\u001b[49m\n\u001b[1;32m   1291\u001b[0m \u001b[43m        \u001b[49m\u001b[43mgroups\u001b[49m\u001b[38;5;241;43m=\u001b[39;49m\u001b[43mgroups\u001b[49m\u001b[43m,\u001b[49m\n\u001b[1;32m   1292\u001b[0m \u001b[43m        \u001b[49m\u001b[43mexperiment_custom_tags\u001b[49m\u001b[38;5;241;43m=\u001b[39;49m\u001b[43mexperiment_custom_tags\u001b[49m\u001b[43m,\u001b[49m\n\u001b[1;32m   1293\u001b[0m \u001b[43m        \u001b[49m\u001b[43mverbose\u001b[49m\u001b[38;5;241;43m=\u001b[39;49m\u001b[43mverbose\u001b[49m\u001b[43m,\u001b[49m\n\u001b[1;32m   1294\u001b[0m \u001b[43m        \u001b[49m\u001b[43mreturn_train_score\u001b[49m\u001b[38;5;241;43m=\u001b[39;49m\u001b[43mreturn_train_score\u001b[49m\u001b[43m,\u001b[49m\n\u001b[1;32m   1295\u001b[0m \u001b[43m        \u001b[49m\u001b[38;5;241;43m*\u001b[39;49m\u001b[38;5;241;43m*\u001b[39;49m\u001b[43mkwargs\u001b[49m\u001b[43m,\u001b[49m\n\u001b[1;32m   1296\u001b[0m \u001b[43m    \u001b[49m\u001b[43m)\u001b[49m\n\u001b[1;32m   1297\u001b[0m \u001b[38;5;28;01mfinally\u001b[39;00m:\n\u001b[1;32m   1298\u001b[0m     \u001b[38;5;28;01mif\u001b[39;00m engine \u001b[38;5;129;01mis\u001b[39;00m \u001b[38;5;129;01mnot\u001b[39;00m \u001b[38;5;28;01mNone\u001b[39;00m:\n\u001b[1;32m   1299\u001b[0m         \u001b[38;5;66;03m# Reset the models back to the default engines\u001b[39;00m\n",
      "File \u001b[0;32m~/.cache/pypoetry/virtualenvs/madgicx-63NknB0J-py3.10/lib/python3.10/site-packages/pycaret/internal/pycaret_experiment/supervised_experiment.py:1766\u001b[0m, in \u001b[0;36m_SupervisedExperiment.create_model\u001b[0;34m(self, estimator, fold, round, cross_validation, predict, fit_kwargs, groups, refit, probability_threshold, experiment_custom_tags, verbose, return_train_score, **kwargs)\u001b[0m\n\u001b[1;32m   1754\u001b[0m \u001b[38;5;66;03m# TODO improve error message\u001b[39;00m\n\u001b[1;32m   1755\u001b[0m \u001b[38;5;28;01massert\u001b[39;00m \u001b[38;5;129;01mnot\u001b[39;00m \u001b[38;5;28many\u001b[39m(\n\u001b[1;32m   1756\u001b[0m     x\n\u001b[1;32m   1757\u001b[0m     \u001b[38;5;129;01min\u001b[39;00m (\n\u001b[0;32m   (...)\u001b[0m\n\u001b[1;32m   1764\u001b[0m     \u001b[38;5;28;01mfor\u001b[39;00m x \u001b[38;5;129;01min\u001b[39;00m kwargs\n\u001b[1;32m   1765\u001b[0m )\n\u001b[0;32m-> 1766\u001b[0m \u001b[38;5;28;01mreturn\u001b[39;00m \u001b[38;5;28;43mself\u001b[39;49m\u001b[38;5;241;43m.\u001b[39;49m\u001b[43m_create_model\u001b[49m\u001b[43m(\u001b[49m\n\u001b[1;32m   1767\u001b[0m \u001b[43m    \u001b[49m\u001b[43mestimator\u001b[49m\u001b[38;5;241;43m=\u001b[39;49m\u001b[43mestimator\u001b[49m\u001b[43m,\u001b[49m\n\u001b[1;32m   1768\u001b[0m \u001b[43m    \u001b[49m\u001b[43mfold\u001b[49m\u001b[38;5;241;43m=\u001b[39;49m\u001b[43mfold\u001b[49m\u001b[43m,\u001b[49m\n\u001b[1;32m   1769\u001b[0m \u001b[43m    \u001b[49m\u001b[38;5;28;43mround\u001b[39;49m\u001b[38;5;241;43m=\u001b[39;49m\u001b[38;5;28;43mround\u001b[39;49m\u001b[43m,\u001b[49m\n\u001b[1;32m   1770\u001b[0m \u001b[43m    \u001b[49m\u001b[43mcross_validation\u001b[49m\u001b[38;5;241;43m=\u001b[39;49m\u001b[43mcross_validation\u001b[49m\u001b[43m,\u001b[49m\n\u001b[1;32m   1771\u001b[0m \u001b[43m    \u001b[49m\u001b[43mpredict\u001b[49m\u001b[38;5;241;43m=\u001b[39;49m\u001b[43mpredict\u001b[49m\u001b[43m,\u001b[49m\n\u001b[1;32m   1772\u001b[0m \u001b[43m    \u001b[49m\u001b[43mfit_kwargs\u001b[49m\u001b[38;5;241;43m=\u001b[39;49m\u001b[43mfit_kwargs\u001b[49m\u001b[43m,\u001b[49m\n\u001b[1;32m   1773\u001b[0m \u001b[43m    \u001b[49m\u001b[43mgroups\u001b[49m\u001b[38;5;241;43m=\u001b[39;49m\u001b[43mgroups\u001b[49m\u001b[43m,\u001b[49m\n\u001b[1;32m   1774\u001b[0m \u001b[43m    \u001b[49m\u001b[43mrefit\u001b[49m\u001b[38;5;241;43m=\u001b[39;49m\u001b[43mrefit\u001b[49m\u001b[43m,\u001b[49m\n\u001b[1;32m   1775\u001b[0m \u001b[43m    \u001b[49m\u001b[43mprobability_threshold\u001b[49m\u001b[38;5;241;43m=\u001b[39;49m\u001b[43mprobability_threshold\u001b[49m\u001b[43m,\u001b[49m\n\u001b[1;32m   1776\u001b[0m \u001b[43m    \u001b[49m\u001b[43mexperiment_custom_tags\u001b[49m\u001b[38;5;241;43m=\u001b[39;49m\u001b[43mexperiment_custom_tags\u001b[49m\u001b[43m,\u001b[49m\n\u001b[1;32m   1777\u001b[0m \u001b[43m    \u001b[49m\u001b[43mverbose\u001b[49m\u001b[38;5;241;43m=\u001b[39;49m\u001b[43mverbose\u001b[49m\u001b[43m,\u001b[49m\n\u001b[1;32m   1778\u001b[0m \u001b[43m    \u001b[49m\u001b[43mreturn_train_score\u001b[49m\u001b[38;5;241;43m=\u001b[39;49m\u001b[43mreturn_train_score\u001b[49m\u001b[43m,\u001b[49m\n\u001b[1;32m   1779\u001b[0m \u001b[43m    \u001b[49m\u001b[38;5;241;43m*\u001b[39;49m\u001b[38;5;241;43m*\u001b[39;49m\u001b[43mkwargs\u001b[49m\u001b[43m,\u001b[49m\n\u001b[1;32m   1780\u001b[0m \u001b[43m\u001b[49m\u001b[43m)\u001b[49m\n",
      "File \u001b[0;32m~/.cache/pypoetry/virtualenvs/madgicx-63NknB0J-py3.10/lib/python3.10/site-packages/pycaret/internal/pycaret_experiment/supervised_experiment.py:1341\u001b[0m, in \u001b[0;36m_SupervisedExperiment._create_model\u001b[0;34m(self, estimator, fold, round, cross_validation, predict, fit_kwargs, groups, refit, probability_threshold, experiment_custom_tags, verbose, system, add_to_model_list, X_train_data, y_train_data, metrics, display, model_only, return_train_score, error_score, **kwargs)\u001b[0m\n\u001b[1;32m   1339\u001b[0m \u001b[38;5;28;01mif\u001b[39;00m \u001b[38;5;28misinstance\u001b[39m(estimator, \u001b[38;5;28mstr\u001b[39m):\n\u001b[1;32m   1340\u001b[0m     \u001b[38;5;28;01mif\u001b[39;00m estimator \u001b[38;5;129;01mnot\u001b[39;00m \u001b[38;5;129;01min\u001b[39;00m available_estimators:\n\u001b[0;32m-> 1341\u001b[0m         \u001b[38;5;28;01mraise\u001b[39;00m \u001b[38;5;167;01mValueError\u001b[39;00m(\n\u001b[1;32m   1342\u001b[0m             \u001b[38;5;124mf\u001b[39m\u001b[38;5;124m\"\u001b[39m\u001b[38;5;124mEstimator \u001b[39m\u001b[38;5;132;01m{\u001b[39;00mestimator\u001b[38;5;132;01m}\u001b[39;00m\u001b[38;5;124m not available. Please see docstring for list of available estimators.\u001b[39m\u001b[38;5;124m\"\u001b[39m\n\u001b[1;32m   1343\u001b[0m         )\n\u001b[1;32m   1344\u001b[0m \u001b[38;5;28;01melif\u001b[39;00m \u001b[38;5;129;01mnot\u001b[39;00m \u001b[38;5;28mhasattr\u001b[39m(estimator, \u001b[38;5;124m\"\u001b[39m\u001b[38;5;124mfit\u001b[39m\u001b[38;5;124m\"\u001b[39m):\n\u001b[1;32m   1345\u001b[0m     \u001b[38;5;28;01mraise\u001b[39;00m \u001b[38;5;167;01mValueError\u001b[39;00m(\n\u001b[1;32m   1346\u001b[0m         \u001b[38;5;124mf\u001b[39m\u001b[38;5;124m\"\u001b[39m\u001b[38;5;124mEstimator \u001b[39m\u001b[38;5;132;01m{\u001b[39;00mestimator\u001b[38;5;132;01m}\u001b[39;00m\u001b[38;5;124m does not have the required fit() method.\u001b[39m\u001b[38;5;124m\"\u001b[39m\n\u001b[1;32m   1347\u001b[0m     )\n",
      "\u001b[0;31mValueError\u001b[0m: Estimator xgboost not available. Please see docstring for list of available estimators."
     ]
    }
   ],
   "source": [
    "'''Extra Trees Regressor'''\n",
    "best = compare_models()\n",
    "# create best models\n",
    "# best = create_model('et')\n",
    "\n",
    "evaluate_model(best)\n",
    "pre_holdout = predict_model(best)\n",
    "\n",
    "new_df = data.copy().drop([_target], axis=1)\n",
    "predictions = predict_model(best, data=new_df)\n",
    "save_model(best, 'best_pipeline')\n"
   ]
  },
  {
   "cell_type": "markdown",
   "id": "38f91020-04aa-49cf-bcdb-6836244cc829",
   "metadata": {},
   "source": [
    "## Load Model"
   ]
  },
  {
   "cell_type": "code",
   "execution_count": 20,
   "id": "f778b7dc-692d-47c9-b7f2-ac4fc9c80a42",
   "metadata": {},
   "outputs": [
    {
     "name": "stdout",
     "output_type": "stream",
     "text": [
      "Transformation Pipeline and Model Successfully Loaded\n"
     ]
    }
   ],
   "source": [
    "from pycaret.regression import *\n",
    "\n",
    "best=load_model('best_pipeline')"
   ]
  },
  {
   "cell_type": "code",
   "execution_count": 25,
   "id": "5758a3ff-960e-440b-8f20-7f35b2b521b2",
   "metadata": {},
   "outputs": [
    {
     "data": {
      "text/html": [],
      "text/plain": [
       "<IPython.core.display.HTML object>"
      ]
     },
     "metadata": {},
     "output_type": "display_data"
    }
   ],
   "source": [
    "new_df = data.copy().drop(_ignore_cols_lst).iloc[[1]]\n",
    "\n",
    "y_test_df = new_df['spend']\n",
    "X_test_df = new_df.drop('spend', axis=1)\n",
    "y_test_df, X_test_df\n",
    "# predictions = predict_model(best, data=X_test_df)\n"
   ]
  },
  {
   "cell_type": "code",
   "execution_count": 22,
   "id": "00eacab1-894e-4e11-b675-67da04ad0cca",
   "metadata": {},
   "outputs": [
    {
     "data": {
      "text/html": [
       "<div>\n",
       "<style scoped>\n",
       "    .dataframe tbody tr th:only-of-type {\n",
       "        vertical-align: middle;\n",
       "    }\n",
       "\n",
       "    .dataframe tbody tr th {\n",
       "        vertical-align: top;\n",
       "    }\n",
       "\n",
       "    .dataframe thead th {\n",
       "        text-align: right;\n",
       "    }\n",
       "</style>\n",
       "<table border=\"1\" class=\"dataframe\">\n",
       "  <thead>\n",
       "    <tr style=\"text-align: right;\">\n",
       "      <th></th>\n",
       "      <th>account_id</th>\n",
       "      <th>ad_id</th>\n",
       "      <th>adset_id</th>\n",
       "      <th>campaign_id</th>\n",
       "      <th>updated_time</th>\n",
       "      <th>impressions</th>\n",
       "      <th>frequency</th>\n",
       "      <th>reach</th>\n",
       "      <th>CTR</th>\n",
       "      <th>CPP</th>\n",
       "      <th>...</th>\n",
       "      <th>lead_generation_lead</th>\n",
       "      <th>purchase_onsite_conversion__purchase</th>\n",
       "      <th>purchase_offsite_conversion__fb_pixel_purchase</th>\n",
       "      <th>purchase_app_custom_event__fb_mobile_purchase</th>\n",
       "      <th>purchase_omni_purchase</th>\n",
       "      <th>registration_omni_complete_registration</th>\n",
       "      <th>registration_offsite_conversion__fb_pixel_complete_registration</th>\n",
       "      <th>search_offsite_conversion__fb_pixel_search</th>\n",
       "      <th>date</th>\n",
       "      <th>prediction_label</th>\n",
       "    </tr>\n",
       "  </thead>\n",
       "  <tbody>\n",
       "    <tr>\n",
       "      <th>1</th>\n",
       "      <td>10202284950244559</td>\n",
       "      <td>23854099209720543</td>\n",
       "      <td>23854083590040543</td>\n",
       "      <td>23854083127830543</td>\n",
       "      <td>2025-01-31</td>\n",
       "      <td>42163</td>\n",
       "      <td>1.213429</td>\n",
       "      <td>34747</td>\n",
       "      <td>5.602068</td>\n",
       "      <td>1.442462</td>\n",
       "      <td>...</td>\n",
       "      <td>NaN</td>\n",
       "      <td>NaN</td>\n",
       "      <td>154.899994</td>\n",
       "      <td>NaN</td>\n",
       "      <td>154.899994</td>\n",
       "      <td>NaN</td>\n",
       "      <td>NaN</td>\n",
       "      <td>NaN</td>\n",
       "      <td>1738252800</td>\n",
       "      <td>50.121243</td>\n",
       "    </tr>\n",
       "  </tbody>\n",
       "</table>\n",
       "<p>1 rows × 51 columns</p>\n",
       "</div>"
      ],
      "text/plain": [
       "          account_id              ad_id           adset_id        campaign_id  \\\n",
       "1  10202284950244559  23854099209720543  23854083590040543  23854083127830543   \n",
       "\n",
       "  updated_time  impressions  frequency  reach       CTR       CPP  ...  \\\n",
       "1   2025-01-31        42163   1.213429  34747  5.602068  1.442462  ...   \n",
       "\n",
       "   lead_generation_lead  purchase_onsite_conversion__purchase  \\\n",
       "1                   NaN                                   NaN   \n",
       "\n",
       "   purchase_offsite_conversion__fb_pixel_purchase  \\\n",
       "1                                      154.899994   \n",
       "\n",
       "  purchase_app_custom_event__fb_mobile_purchase purchase_omni_purchase  \\\n",
       "1                                           NaN             154.899994   \n",
       "\n",
       "  registration_omni_complete_registration  \\\n",
       "1                                     NaN   \n",
       "\n",
       "  registration_offsite_conversion__fb_pixel_complete_registration  \\\n",
       "1                                                NaN                \n",
       "\n",
       "  search_offsite_conversion__fb_pixel_search        date  prediction_label  \n",
       "1                                        NaN  1738252800         50.121243  \n",
       "\n",
       "[1 rows x 51 columns]"
      ]
     },
     "execution_count": 22,
     "metadata": {},
     "output_type": "execute_result"
    }
   ],
   "source": [
    "predictions"
   ]
  },
  {
   "cell_type": "code",
   "execution_count": null,
   "id": "392da7da-94e4-41e9-bb71-8303239f284c",
   "metadata": {},
   "outputs": [],
   "source": []
  }
 ],
 "metadata": {
  "kernelspec": {
   "display_name": "Python 3 (ipykernel)",
   "language": "python",
   "name": "python3"
  },
  "language_info": {
   "codemirror_mode": {
    "name": "ipython",
    "version": 3
   },
   "file_extension": ".py",
   "mimetype": "text/x-python",
   "name": "python",
   "nbconvert_exporter": "python",
   "pygments_lexer": "ipython3",
   "version": "3.10.16"
  }
 },
 "nbformat": 4,
 "nbformat_minor": 5
}
