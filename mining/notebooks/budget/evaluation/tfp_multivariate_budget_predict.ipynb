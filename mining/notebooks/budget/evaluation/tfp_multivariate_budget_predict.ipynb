{
 "cells": [
  {
   "cell_type": "markdown",
   "id": "9e1a19de",
   "metadata": {},
   "source": [
    "# Tensorflow Multivariate Probability\n",
    "\n",
    "\n",
    "#### Reference\n",
    "[Gentle introduction to Tensorflow Probability](https://towardsdatascience.com/gentle-introduction-to-tensorflow-probability-distribution-objects-1bb6165abee1/)"
   ]
  },
  {
   "cell_type": "code",
   "execution_count": 1,
   "id": "ea2801e6",
   "metadata": {},
   "outputs": [],
   "source": [
    "'''\n",
    "    WARNING CONTROL to display or ignore all warnings\n",
    "'''\n",
    "import warnings; warnings.simplefilter('ignore')     #switch betweeb 'default' and 'ignore'\n",
    "import traceback\n",
    "\n",
    "''' Set debug flag to view extended error messages; else set it to False to turn off debugging mode '''\n",
    "debug = True\n"
   ]
  },
  {
   "cell_type": "markdown",
   "id": "fa3bda64",
   "metadata": {},
   "source": [
    "## Instantiate Classes"
   ]
  },
  {
   "cell_type": "code",
   "execution_count": 3,
   "id": "93e9a568",
   "metadata": {},
   "outputs": [
    {
     "name": "stdout",
     "output_type": "stream",
     "text": [
      "All functional SPARKFILE-libraries in LOADER-package of ETL-module imported successfully!\n",
      "__propAttr__ Class initialization complete\n",
      "sparkFile Class initialization complete\n",
      "\n",
      "read and write BigQuery dataset for hypothese testing class initialization and load complete!\n"
     ]
    }
   ],
   "source": [
    "import os\n",
    "import sys\n",
    "import numpy as np\n",
    "from pyspark.sql import functions as F\n",
    "import tensorflow_probability as tfp\n",
    "import tensorflow as tf\n",
    "\n",
    "proj_dir = os.path.abspath(os.pardir)\n",
    "sys.path.insert(1,proj_dir.split('mining/')[0])\n",
    "# from rezaware.modules.etl.loader import sparkRDBM as db\n",
    "from rezaware.modules.etl.loader import sparkFile as file\n",
    "# from rezaware.modules.etl.loader import __propAttr__ as attr\n",
    "\n",
    "''' restart initiate classes '''\n",
    "if debug:\n",
    "    import importlib\n",
    "    # db = importlib.reload(db)\n",
    "    file=importlib.reload(file)\n",
    "    # attr=importlib.reload(attr)\n",
    "\n",
    "__desc__ = \"read and write BigQuery dataset for hypothese testing\"\n",
    "# clsSDB = db.dataWorkLoads(\n",
    "#     desc=__desc__,\n",
    "#     db_type = 'bigquery',\n",
    "#     db_driver=None,\n",
    "#     db_hostIP=None,\n",
    "#     db_port = None,\n",
    "#     db_name = None,\n",
    "#     db_schema='combined_data_facebook_ads',\n",
    "#     spark_partitions=None,\n",
    "#     spark_format = 'bigquery',\n",
    "#     spark_save_mode=None,\n",
    "#     # spark_jar_dir = _jar,\n",
    "# )\n",
    "clsFile = file.dataWorkLoads(\n",
    "    desc = \"optimizing action_type budgets for an ad\",\n",
    "    store_mode='local-fs',\n",
    "    store_root=proj_dir.split('mining/')[0],\n",
    "    jar_dir=None,\n",
    ")\n",
    "# if clsSDB.session:\n",
    "#     clsSDB._session.stop\n",
    "print(\"\\n%s class initialization and load complete!\" % __desc__)"
   ]
  },
  {
   "cell_type": "markdown",
   "id": "2a8066d7-a018-4f32-aceb-b0f35fb1d3d2",
   "metadata": {},
   "source": [
    "## Load data"
   ]
  },
  {
   "cell_type": "code",
   "execution_count": 4,
   "id": "958f7a62-0f2c-4908-a0a1-a2c0a42f9429",
   "metadata": {},
   "outputs": [
    {
     "name": "stderr",
     "output_type": "stream",
     "text": [
      "25/02/16 09:31:42 WARN Utils: Your hostname, Waidy-Think-Three resolves to a loopback address: 127.0.1.1; using 192.168.2.82 instead (on interface enp0s25)\n",
      "25/02/16 09:31:42 WARN Utils: Set SPARK_LOCAL_IP if you need to bind to another address\n",
      "25/02/16 09:31:44 WARN NativeCodeLoader: Unable to load native-hadoop library for your platform... using builtin-java classes where applicable\n",
      "Setting default log level to \"WARN\".\n",
      "To adjust logging level use sc.setLogLevel(newLevel). For SparkR, use setLogLevel(newLevel).\n",
      "25/02/16 09:31:48 WARN Utils: Service 'SparkUI' could not bind on port 4040. Attempting port 4041.\n",
      "                                                                                "
     ]
    },
    {
     "name": "stdout",
     "output_type": "stream",
     "text": [
      "Loaded 61513 rows\n",
      "root\n",
      " |-- account_id: long (nullable = true)\n",
      " |-- ad_id: long (nullable = true)\n",
      " |-- adset_id: long (nullable = true)\n",
      " |-- campaign_id: long (nullable = true)\n",
      " |-- updated_time: date (nullable = true)\n",
      " |-- impressions: integer (nullable = true)\n",
      " |-- frequency: double (nullable = true)\n",
      " |-- reach: integer (nullable = true)\n",
      " |-- CTR: double (nullable = true)\n",
      " |-- CPC: double (nullable = true)\n",
      " |-- CPM: double (nullable = true)\n",
      " |-- ROAS: double (nullable = true)\n",
      " |-- social_spend: double (nullable = true)\n",
      " |-- spend: double (nullable = true)\n",
      " |-- click: integer (nullable = true)\n",
      " |-- auction_bid: integer (nullable = true)\n",
      " |-- goal: string (nullable = true)\n",
      " |-- purchase_value: double (nullable = true)\n",
      " |-- account_currency: string (nullable = true)\n",
      " |-- purchase: double (nullable = true)\n",
      " |-- fb_pixel_view_value: double (nullable = true)\n",
      " |-- fb_pixel_purchase_value: double (nullable = true)\n",
      " |-- fb_pixel_add_to_cart_value: double (nullable = true)\n",
      " |-- mobile_app_purchase_value: string (nullable = true)\n",
      " |-- link_click_value: string (nullable = true)\n",
      " |-- landing_page_view_value: string (nullable = true)\n",
      " |-- like_value: string (nullable = true)\n",
      " |-- comment_value: string (nullable = true)\n",
      " |-- post_reaction_value: string (nullable = true)\n",
      " |-- video_view_value: string (nullable = true)\n",
      " |-- app_install_value: string (nullable = true)\n",
      " |-- outbound_click_value: string (nullable = true)\n",
      " |-- engagement_value: string (nullable = true)\n",
      " |-- omni_purchase_value: double (nullable = true)\n",
      " |-- omni_view_content_value: double (nullable = true)\n",
      " |-- omni_add_to_cart_value: double (nullable = true)\n",
      " |-- omni_initiated_checkout_value: double (nullable = true)\n",
      " |-- omni_search_value: string (nullable = true)\n",
      "\n"
     ]
    }
   ],
   "source": [
    "options = {\n",
    "    \"inferSchema\":True,\n",
    "    \"header\":True,\n",
    "    \"delimiter\":\",\",\n",
    "    \"pathGlobFilter\":'*.csv',\n",
    "    \"recursiveFileLookup\":True,\n",
    "}\n",
    "\n",
    "sdf=clsFile.read_files_to_dtype(\n",
    "    as_type = \"SPARK\",      # optional - define the data type to return\n",
    "    folder_path=\"mining/data/budget/\",  # optional - relative path, w.r.t. self.storeRoot\n",
    "        file_name=\"complete-60-accounts.csv\",  # optional - name of the file to read\n",
    "        file_type=None,  # optional - read all the files of same type\n",
    "        **options,\n",
    ")\n",
    "print(\"Loaded %d rows\" % sdf.count())\n",
    "sdf.printSchema()"
   ]
  },
  {
   "cell_type": "markdown",
   "id": "88ef9eba-46fe-4961-a60f-8c2b9f627275",
   "metadata": {},
   "source": [
    "## Filter data into Inputs and Outputs\n"
   ]
  },
  {
   "cell_type": "code",
   "execution_count": 28,
   "id": "14ffc03e-b8bd-4795-b841-e3cb5cb491f1",
   "metadata": {},
   "outputs": [
    {
     "name": "stdout",
     "output_type": "stream",
     "text": [
      "26193\n",
      "25554\n"
     ]
    }
   ],
   "source": [
    "### REDUNDANT ###\n",
    "from pyspark.sql import functions as F\n",
    "\n",
    "filt_sdf = sdf.select('spend','CTR', 'CPC', 'CPM', 'ROAS').dropna()\n",
    "print(filt_sdf.count())\n",
    "mean_stddev_sdf = filt_sdf.agg(F.mean('spend').alias('spend_mean'), F.mean('CTR').alias('CTR_mean'), \n",
    "                        F.mean('CPC').alias('CPC_mean'), F.mean('CPM').alias('CPM_mean'), \n",
    "                        F.mean('ROAS').alias('ROAS_mean'),\n",
    "                        F.stddev('spend').alias('spend_stddev'), F.stddev('CTR').alias('CTR_stddev'), \n",
    "                        F.stddev('CPC').alias('CPC_stddev'), F.stddev('CPM').alias('CPM_stddev'),\n",
    "                        F.mean('ROAS').alias('ROAS_stddev'))\n",
    "_lb = mean_stddev_sdf.select(F.col('spend_mean')).first()[0] + \\\n",
    "        2*mean_stddev_sdf.select(F.col('spend_stddev')).first()[0]\n",
    "filt_sdf = filt_sdf.select('*').where(F.col('spend') <= _lb)\n",
    "                   \n",
    "print(filt_sdf.count())"
   ]
  },
  {
   "cell_type": "code",
   "execution_count": 15,
   "id": "ae65b2a4-01ea-414e-bf18-ca4384256daa",
   "metadata": {},
   "outputs": [
    {
     "name": "stdout",
     "output_type": "stream",
     "text": [
      "(26193, 5)\n",
      "data shape: (21771, 5)\n",
      "data quartile  :\n",
      "               spend           CTR           CPC           CPM          ROAS\n",
      "count  21771.000000  21771.000000  21771.000000  21771.000000  21771.000000\n",
      "mean     653.172401      3.125367      4.070958     83.640293      4.484789\n",
      "std      867.888233      2.342454      4.019480     61.742344     19.268487\n",
      "min        0.060000      0.000000      0.000000      2.310524      0.000332\n",
      "25%       57.765000      1.374857      1.184179     35.298006      0.650808\n",
      "50%      310.560000      2.338685      2.478642     63.228397      1.412899\n",
      "75%      869.595000      4.281987      5.667179    117.630144      3.164864\n",
      "max     4371.290000     11.179441     19.852045    268.761782    571.764706\n"
     ]
    }
   ],
   "source": [
    "    # 'spend','omni_view_content_value', 'omni_add_to_cart_value',\n",
    "    # 'omni_initiated_checkout_value', 'omni_purchase_value').dropna().collect())\n",
    "\n",
    "_data_df= sdf.select('spend','CTR', 'CPC', 'CPM', 'ROAS').dropna().toPandas()\n",
    "print(_data_df.shape)\n",
    "_data_df = _data_df[_data_df['spend']<=\\\n",
    "                    _data_df['spend'].mean()+2*_data_df['spend'].std()]\n",
    "_data_df = _data_df[_data_df['CTR']<=\\\n",
    "                    _data_df['CTR'].mean()+2*_data_df['CTR'].std()]\n",
    "_data_df = _data_df[_data_df['CPC']<=\\\n",
    "                    _data_df['CPC'].mean()+2*_data_df['CPC'].std()]\n",
    "_data_df = _data_df[_data_df['ROAS']<=\\\n",
    "                    _data_df['ROAS'].mean()+2*_data_df['ROAS'].std()]\n",
    "_data_df = _data_df[_data_df['CPM']<=\\\n",
    "                    _data_df['CPM'].mean()+2*_data_df['CPM'].std()]\n",
    "# _data_df = _data_df[_data_df['spend']<=4000]\n",
    "\n",
    "# _data_df = _data_df.sample(n=1000)\n",
    "\n",
    "print(\"data shape:\", _data_df.shape)\n",
    "print(\"data quartile  :\\n\", _data_df.describe())"
   ]
  },
  {
   "cell_type": "code",
   "execution_count": 17,
   "id": "9c1b8ee1-9378-4ea6-836b-dfa01cbe7b59",
   "metadata": {},
   "outputs": [
    {
     "data": {
      "image/png": "[encoded data removed]",
      "text/plain": [
       "<Figure size 640x480 with 1 Axes>"
      ]
     },
     "metadata": {},
     "output_type": "display_data"
    }
   ],
   "source": [
    "import matplotlib.pyplot as plt\n",
    "%matplotlib inline\n",
    "\n",
    "plt.scatter(_data_df['spend'],_data_df['CTR'])\n",
    "plt.title(\"Scatter Plot\")\n",
    "plt.xlabel(\"spend\")\n",
    "plt.ylabel(\"CTR\")\n",
    "plt.show()"
   ]
  },
  {
   "cell_type": "markdown",
   "id": "bb7bbdd3-65df-4051-ada8-f2d293ca423c",
   "metadata": {},
   "source": [
    "## Define the model\n",
    "\n",
    "* [Probabilistic Modeling with TensorFlow Probability](https://www.scaler.com/topics/tensorflow/tensorflow-probability/)\n",
    "* [Tensorflow probability examples](https://github.com/tensorflow/probability/tree/main/tensorflow_probability/examples/jupyter_notebooks)"
   ]
  },
  {
   "cell_type": "markdown",
   "id": "a0439274-5a42-4303-808a-73ec0aeabafb",
   "metadata": {},
   "source": [
    "## Split the train & test data"
   ]
  },
  {
   "cell_type": "code",
   "execution_count": 32,
   "id": "d298a953-6e34-4e43-ae1c-85c3cd4cb230",
   "metadata": {},
   "outputs": [
    {
     "name": "stdout",
     "output_type": "stream",
     "text": [
      "X:  (1000, 4) y:  (1000, 1)\n"
     ]
    }
   ],
   "source": [
    "# Compile and train the standard neural network\n",
    "_pred_cols = ['CTR','CPC', 'CPM', 'ROAS']\n",
    "_label_col = ['spend']\n",
    "X = np.array(_data_df[_pred_cols])\n",
    "y = np.array(_data_df[_label_col])             \n",
    "print(\"X: \",X.shape,\"y: \", y.shape)"
   ]
  },
  {
   "cell_type": "code",
   "execution_count": 33,
   "id": "10222b78-01b8-48ec-a62e-afb23f02c5dc",
   "metadata": {},
   "outputs": [
    {
     "name": "stdout",
     "output_type": "stream",
     "text": [
      "X_train:  (800, 4) y_train:  (800, 1) \n",
      "X_test:  (200, 4) y_test:  (200, 1)\n"
     ]
    }
   ],
   "source": [
    "from sklearn.model_selection import train_test_split\n",
    "X_train, X_test, y_train, y_test = train_test_split(X,y,test_size=0.2)\n",
    "print(\"X_train: \",X_train.shape, \"y_train: \", y_train.shape,\n",
    "      \"\\nX_test: \", X_test.shape, \"y_test: \", y_test.shape)"
   ]
  },
  {
   "cell_type": "markdown",
   "id": "a9423c23-f800-4e4f-b88d-4e23c4869776",
   "metadata": {},
   "source": [
    "## Define probabilisti priors model parameters"
   ]
  },
  {
   "cell_type": "code",
   "execution_count": 21,
   "id": "595c1e59-a5af-44d7-9d51-248b6f19ecc7",
   "metadata": {},
   "outputs": [
    {
     "name": "stdout",
     "output_type": "stream",
     "text": [
      "w 0.57595384 b -0.12800595\n"
     ]
    }
   ],
   "source": [
    "# Define variables with priors\n",
    "w = tfp.util.TransformedVariable(\n",
    "    initial_value=tf.random.normal([]),\n",
    "    bijector=tfp.bijectors.Exp(),\n",
    "    name='w'\n",
    ")\n",
    "b = tfp.util.TransformedVariable(\n",
    "    initial_value=tf.random.normal([]),\n",
    "    bijector=tfp.bijectors.Identity(),\n",
    "    name='b'\n",
    ")\n",
    "print(w.name, w.numpy(), b.name, b.numpy())"
   ]
  },
  {
   "cell_type": "markdown",
   "id": "109c8dee-3078-4653-9cf7-cc8b54111319",
   "metadata": {},
   "source": [
    "## Define the Probabilistic Model"
   ]
  },
  {
   "cell_type": "code",
   "execution_count": 22,
   "id": "500d81b8-d4bb-4e1d-9910-82bd8a9c1db0",
   "metadata": {},
   "outputs": [],
   "source": [
    "# Likelihood: Normal distribution\n",
    "likelihood = tfp.distributions.Normal(loc=X * w + b, scale=1.0)\n",
    "\n",
    "# Prior: Normal distribution\n",
    "prior = tfp.distributions.Normal(loc=0.0, scale=1.0)\n"
   ]
  },
  {
   "cell_type": "markdown",
   "id": "1abf5348-84db-4b4e-a6f8-bffd00b46992",
   "metadata": {},
   "source": [
    "## Define Joint Log-Probability Function\n",
    "This function is pivotal in Bayesian inference, aiding the estimation of posterior distributions for the parameters."
   ]
  },
  {
   "cell_type": "code",
   "execution_count": 23,
   "id": "b3089ca7-2a76-4126-9d62-299254e570ed",
   "metadata": {},
   "outputs": [],
   "source": [
    "def joint_log_prob(w, b):\n",
    "    return tf.reduce_sum(likelihood.log_prob(y)) + prior.log_prob(w) + prior.log_prob(b)\n"
   ]
  },
  {
   "cell_type": "markdown",
   "id": "9570aaef-0b79-4724-886a-25f080950440",
   "metadata": {},
   "source": [
    "## Perform Inference\n",
    "It generates num_samples samples after a num_burnin_steps burn-in period using the defined HMC kernel with specified leapfrog steps and step size. The resulting samples provide insights into the parameter distributions, crucial for understanding uncertainty in Bayesian modelling."
   ]
  },
  {
   "cell_type": "code",
   "execution_count": 24,
   "id": "3ba6c93e-c7bd-4fdf-822d-cbf9d0dbdabc",
   "metadata": {},
   "outputs": [],
   "source": [
    "# Run Hamiltonian Monte Carlo\n",
    "num_samples = 1000\n",
    "num_burnin_steps = 500\n",
    "hmc = tfp.mcmc.HamiltonianMonteCarlo(\n",
    "    target_log_prob_fn=joint_log_prob,\n",
    "    num_leapfrog_steps=10,\n",
    "    step_size=0.1\n",
    ")\n",
    "samples, _ = tfp.mcmc.sample_chain(\n",
    "    num_results=num_samples,\n",
    "    num_burnin_steps=num_burnin_steps,\n",
    "    current_state=[w, b],\n",
    "    kernel=hmc\n",
    "    )"
   ]
  },
  {
   "cell_type": "markdown",
   "id": "67c7f59f-de59-48ad-864b-cdeabf00a7ee",
   "metadata": {},
   "source": [
    "## Analyze Results:\n",
    "Analyze the posterior samples to make predictions and infer uncertainty."
   ]
  },
  {
   "cell_type": "code",
   "execution_count": 25,
   "id": "41ac1aae-4e9a-4c1e-94c3-9e270f3cf3dd",
   "metadata": {},
   "outputs": [
    {
     "name": "stdout",
     "output_type": "stream",
     "text": [
      "w posterior mean -0.8213489\n",
      "b posterior mean -0.34411883\n",
      "w posterior stdv 2.3247328\n",
      "b posterior stdv 2.0848193\n",
      "Predicted y [-4.450864]\n"
     ]
    }
   ],
   "source": [
    "# Compute posterior means and standard deviations\n",
    "w_posterior_mean = tf.math.reduce_mean(samples[0])\n",
    "print('w posterior mean',w_posterior_mean.numpy())\n",
    "b_posterior_mean = tf.math.reduce_mean(samples[1])\n",
    "print('b posterior mean',b_posterior_mean.numpy())\n",
    "w_posterior_stddev = tf.math.reduce_std(samples[0])\n",
    "print('w posterior stdv',w_posterior_stddev.numpy())\n",
    "b_posterior_stddev = tf.math.reduce_std(samples[1])\n",
    "print('b posterior stdv',b_posterior_stddev.numpy())\n",
    "\n",
    "# Make predictions\n",
    "X_new = tf.constant([5.0])\n",
    "y_pred = X_new * w_posterior_mean + b_posterior_mean\n",
    "print('Predicted y',y_pred.numpy())"
   ]
  },
  {
   "cell_type": "code",
   "execution_count": null,
   "id": "f201f4a8-adcd-4b42-a901-64bfe54bdb90",
   "metadata": {},
   "outputs": [],
   "source": []
  },
  {
   "cell_type": "code",
   "execution_count": 107,
   "id": "4a46d8a3-850a-4a0c-936f-db1533af26da",
   "metadata": {},
   "outputs": [
    {
     "name": "stdout",
     "output_type": "stream",
     "text": [
      "tf.Tensor(\n",
      "[[ 2.49643744e+03 -7.88446263e-01  1.71886128e+01  2.15684666e+02\n",
      "  -4.87337512e+02]\n",
      " [ 2.01140934e+03 -1.95461483e+00  1.84851381e+00  2.43528923e+01\n",
      "   2.91290725e+02]\n",
      " [ 1.63743996e+03  4.74646288e+00  4.12711029e+00  1.60024312e+02\n",
      "  -9.49096400e+01]\n",
      " ...\n",
      " [ 5.76136509e+02  6.74416321e-01  3.23089529e+00  1.09023232e+01\n",
      "  -4.26150400e+02]\n",
      " [-1.20320048e+03  3.98268872e+00  1.91826767e-01  3.30172761e+02\n",
      "   2.21872526e+02]\n",
      " [ 2.47465358e+03  4.31270382e+00 -7.15948113e-01 -1.10345032e+02\n",
      "  -1.75742185e+02]], shape=(1000, 5), dtype=float64)\n",
      "tf.Tensor(4.215444140563353e-12, shape=(), dtype=float64)\n"
     ]
    }
   ],
   "source": [
    "import tensorflow_probability as tfp\n",
    "import tensorflow as tf\n",
    "\n",
    "# tfd = tfp.distributions\n",
    "\n",
    "# Create a normal distribution with mean 0 and standard deviation 1\n",
    "normal_dist = tfp.distributions.MultivariateNormalDiag(\n",
    "    loc=list(np.mean(_inputs,axis=0)), scale_diag=list(np.std(_inputs,axis=0)))\n",
    "\n",
    "# Sample 10 values from the distribution\n",
    "samples = normal_dist.sample(1000)\n",
    "print(samples)\n",
    "\n",
    "pdf = normal_dist.prob([111.85, 3.141218, 0.972609, 30.551762, 2.24693786])\n",
    "print(pdf)"
   ]
  },
  {
   "cell_type": "code",
   "execution_count": 109,
   "id": "7604ce82-a8cc-4d44-bbb1-459c0037caac",
   "metadata": {},
   "outputs": [
    {
     "name": "stdout",
     "output_type": "stream",
     "text": [
      "tf.Tensor([-1.  0.  1.], shape=(3,), dtype=float32) tf.Tensor([0.26894143 0.5        0.7310586 ], shape=(3,), dtype=float32)\n"
     ]
    }
   ],
   "source": [
    "# Create a bijector (example: Sigmoid)\n",
    "sigmoid_bijector = tfp.bijectors.Sigmoid()\n",
    "\n",
    "# Apply the bijector to a sample\n",
    "x = tf.constant([-1.0, 0.0, 1.0])\n",
    "y = sigmoid_bijector.forward(x)\n",
    "print(x,y)"
   ]
  },
  {
   "cell_type": "code",
   "execution_count": null,
   "id": "0b8348fc-c1e9-4fb7-9a58-e3d320dc51c8",
   "metadata": {},
   "outputs": [],
   "source": []
  }
 ],
 "metadata": {
  "kernelspec": {
   "display_name": "Python 3 (ipykernel)",
   "language": "python",
   "name": "python3"
  },
  "language_info": {
   "codemirror_mode": {
    "name": "ipython",
    "version": 3
   },
   "file_extension": ".py",
   "mimetype": "text/x-python",
   "name": "python",
   "nbconvert_exporter": "python",
   "pygments_lexer": "ipython3",
   "version": "3.10.16"
  }
 },
 "nbformat": 4,
 "nbformat_minor": 5
}
