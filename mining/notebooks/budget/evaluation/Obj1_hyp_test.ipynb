{
 "cells": [
  {
   "cell_type": "markdown",
   "id": "9e1a19de",
   "metadata": {},
   "source": [
    "# AIDAR Objective 1.0 Hypotheses Testing\n",
    "* Query a representative sample of the relevant dataset for each hypotheses\n",
    "* Test the null and alternative hypotheses (P-value) for the confidence interval \n",
    "* Present the results for discussion and evaluation"
   ]
  },
  {
   "cell_type": "code",
   "execution_count": 1,
   "id": "ea2801e6",
   "metadata": {},
   "outputs": [],
   "source": [
    "'''\n",
    "    WARNING CONTROL to display or ignore all warnings\n",
    "'''\n",
    "import warnings; warnings.simplefilter('ignore')     #switch betweeb 'default' and 'ignore'\n",
    "import traceback\n",
    "\n",
    "''' Set debug flag to view extended error messages; else set it to False to turn off debugging mode '''\n",
    "debug = True\n"
   ]
  },
  {
   "cell_type": "markdown",
   "id": "dcfe3c9e-0516-4db8-a9cc-fe014b727748",
   "metadata": {},
   "source": [
    "| Analytics Activity |Hypothese to test | Required data |\n",
    "|--------|-----|--------------|\n",
    "|AA-1.1.1.1 |Test whether Adsets with higher budget_remaining correlate with higher impressions but not necessarily with better ROI. |client type<br>ad_id<br>timestamp<br>remaining budget (allocated - spent)<br>impressions count<br>ROI (CTR, CPM, ...) |\n",
    "|AA-1.1.1.2 |Discover all  other correlating factors that may contribute to underperforming adsets | |\n",
    "|AA-1.2.1.1 |Consider all optimization_goal types (e.g., conversions) and their Powerset combinations on Adsets that outperform those targeting general engagement. | |\n",
    "|AA-1.3.1.1 |Campaigns with defined bid_strategy types (e.g., cost cap) lead to lower CPA. | |\n",
    "|AA-1.3.1.2 |Look at the statistically significant power sets of objective and strategy elements | |\n",
    "|AA-1.4.1.1 |Test whether campaigns with a higher daily_budget allocated to peak hours achieve better ROI | |\n",
    "|AA-1.4.1.2 |Calculate the timeframes that offer high impact time segments or seasonal effects (e.g. peak hours) | |\n",
    "|AA-1.5.1.1 |Evaluate whether Ads targeting specific demographics yield better ROI than generic targeting. | |"
   ]
  },
  {
   "cell_type": "markdown",
   "id": "fa3bda64",
   "metadata": {},
   "source": [
    "## Instantiate Classes"
   ]
  },
  {
   "cell_type": "code",
   "execution_count": 2,
   "id": "93e9a568",
   "metadata": {},
   "outputs": [
    {
     "name": "stdout",
     "output_type": "stream",
     "text": [
      "All functional __PROPATTR__-libraries in LOADER-package of ETL-module imported successfully!\n",
      "All functional SPARKRDBM-libraries in LOADER-package of ETL-module imported successfully!\n",
      "All functional SPARKRDBM-libraries in LOADER-package of ETL-module imported successfully!\n",
      "All functional APP-libraries in REZAWARE-package of REZAWARE-module imported successfully!\n",
      "__propAttr__ Class initialization complete\n",
      "\n",
      "read and write BigQuery dataset for hypothese testing class initialization and load complete!\n"
     ]
    }
   ],
   "source": [
    "import os\n",
    "import sys\n",
    "\n",
    "proj_dir = os.path.abspath(os.pardir)\n",
    "sys.path.insert(1,proj_dir.split('mining/')[0])\n",
    "from rezaware.modules.etl.loader import sparkRDBM as db\n",
    "# from rezaware.modules.etl.loader import __propAttr__ as attr\n",
    "\n",
    "''' restart initiate classes '''\n",
    "if debug:\n",
    "    import importlib\n",
    "    db = importlib.reload(db)\n",
    "    # attr=importlib.reload(attr)\n",
    "\n",
    "__desc__ = \"read and write BigQuery dataset for hypothese testing\"\n",
    "clsSDB = db.dataWorkLoads(\n",
    "    desc=__desc__,\n",
    "    db_type = 'bigquery',\n",
    "    db_driver=None,\n",
    "    db_hostIP=None,\n",
    "    db_port = None,\n",
    "    db_name = None,\n",
    "    db_schema='combined_data_facebook_ads',\n",
    "    spark_partitions=None,\n",
    "    spark_format = 'bigquery',\n",
    "    spark_save_mode=None,\n",
    "    # spark_jar_dir = _jar,\n",
    ")\n",
    "# if clsSDB.session:\n",
    "#     clsSDB._session.stop\n",
    "print(\"\\n%s class initialization and load complete!\" % __desc__)"
   ]
  },
  {
   "cell_type": "markdown",
   "id": "2a8066d7-a018-4f32-aceb-b0f35fb1d3d2",
   "metadata": {},
   "source": [
    "## Load data\n",
    "There are two options for loading the data\n",
    "1. querying with a select statement by defining the sql _query_ statement string\n",
    "2. reading an entire table with row limit by defining the _tbl_ comprising _project:dataset.table_\n",
    "\n",
    "By default the function _read_data_from_table() will check for the select variable; else will revert to the _tbl description to read the data\n",
    "Use either or; i.e.,: \n",
    "* if using the select query set ```db_table = None``` and assign ```select=query```\n",
    "* if using db_table, then set ```select = None``` and assign ```db_table = _tbl```"
   ]
  },
  {
   "cell_type": "code",
   "execution_count": 4,
   "id": "958f7a62-0f2c-4908-a0a1-a2c0a42f9429",
   "metadata": {},
   "outputs": [
    {
     "name": "stderr",
     "output_type": "stream",
     "text": [
      "                                                                                "
     ]
    },
    {
     "name": "stdout",
     "output_type": "stream",
     "text": [
      "Loaded 1000 rows\n",
      "root\n",
      " |-- id: string (nullable = true)\n",
      " |-- name: string (nullable = true)\n",
      " |-- status: string (nullable = true)\n",
      " |-- campaign: string (nullable = true)\n",
      " |-- end_time: string (nullable = true)\n",
      " |-- estimate: string (nullable = true)\n",
      " |-- dsa_payor: string (nullable = true)\n",
      " |-- targeting: string (nullable = true)\n",
      " |-- account_id: string (nullable = true)\n",
      " |-- bid_amount: double (nullable = true)\n",
      " |-- start_time: string (nullable = true)\n",
      " |-- campaign_id: string (nullable = true)\n",
      " |-- created_time: string (nullable = true)\n",
      " |-- daily_budget: double (nullable = true)\n",
      " |-- source_adset: string (nullable = true)\n",
      " |-- updated_time: string (nullable = true)\n",
      " |-- billing_event: string (nullable = true)\n",
      " |-- lifetime_imps: double (nullable = true)\n",
      " |-- dsa_beneficiary: string (nullable = true)\n",
      " |-- lifetime_budget: double (nullable = true)\n",
      " |-- promoted_object: string (nullable = true)\n",
      " |-- review_feedback: string (nullable = true)\n",
      " |-- source_adset_id: string (nullable = true)\n",
      " |-- budget_remaining: double (nullable = true)\n",
      " |-- destination_type: string (nullable = true)\n",
      " |-- effective_status: string (nullable = true)\n",
      " |-- configured_status: string (nullable = true)\n",
      " |-- optimization_goal: string (nullable = true)\n",
      " |-- use_new_app_click: boolean (nullable = true)\n",
      " |-- is_dynamic_creative: boolean (nullable = true)\n",
      " |-- campaign_active_time: string (nullable = true)\n",
      " |-- campaign_attribution: string (nullable = true)\n",
      " |-- optimization_sub_event: string (nullable = true)\n",
      " |-- recurring_budget_semantics: boolean (nullable = true)\n",
      " |-- min_budget_spend_percentage: string (nullable = true)\n",
      " |-- multi_optimization_goal_weight: string (nullable = true)\n",
      "\n"
     ]
    }
   ],
   "source": [
    "query = \"\"\"\n",
    "    SELECT id, name, status, campaign, end_time, estimate, dsa_payor, targeting,\n",
    "        account_id, bid_amount, start_time, campaign_id, created_time, daily_budget,\n",
    "        source_adset, updated_time, billing_event, lifetime_imps, dsa_beneficiary, \n",
    "        lifetime_budget, promoted_object, review_feedback, source_adset_id, budget_remaining,\n",
    "        destination_type, effective_status, configured_status, optimization_goal,\n",
    "        use_new_app_click, is_dynamic_creative, campaign_active_time, campaign_attribution,\n",
    "        optimization_sub_event, recurring_budget_semantics, min_budget_spend_percentage,\n",
    "        multi_optimization_goal_weight\n",
    "    FROM fresh-deck-445306-b0.combined_data_facebook_ads.combine__metadata_adset as adset\n",
    "    LIMIT 1000\n",
    "\"\"\"\n",
    "_tbl = \"fresh-deck-445306-b0:combined_data_facebook_ads._bqc_fc44f128164342be8e2acc6b3c5587ba\"\n",
    "options = {\n",
    "    \"project\" : 'fresh-deck-445306-b0',\n",
    "    \"dataset\" : 'combined_data_facebook_ads',\n",
    "}\n",
    "sdf = clsSDB.read_data_from_table(\n",
    "    select=None, #query,\n",
    "    db_table=_tbl,\n",
    "    **options\n",
    ")\n",
    "print(\"Loaded %d rows\" % sdf.count())\n",
    "sdf.printSchema()"
   ]
  },
  {
   "cell_type": "markdown",
   "id": "b550ee49-88ad-438a-8f48-e44e9773a80c",
   "metadata": {},
   "source": [
    "## Randomly sample the data\n",
    "* _Tolerance_ interval: 90% (0.90 percentile) ensures that p% of the sample\n",
    "* _Confidence_ interval: 95% (alpha=0.95) to estimate the statistical significance (P-value)\n",
    "* _Prediction_ interval\n",
    "* Define the _Population_ by ramdomly selecting N representative rows"
   ]
  },
  {
   "cell_type": "code",
   "execution_count": 9,
   "id": "8762de5e-b7d0-477e-9739-1e965d38192e",
   "metadata": {},
   "outputs": [
    {
     "name": "stdout",
     "output_type": "stream",
     "text": [
      "+-------------+-----+-----+------------------+-----------------+------------------+\n",
      "|billing_event|  avg|total|               std|          ci95_hi|           ci95_lo|\n",
      "+-------------+-----+-----+------------------+-----------------+------------------+\n",
      "|  IMPRESSIONS|0.566| 1000|0.4958728565770563|0.596734518070095|0.5352654819299049|\n",
      "+-------------+-----+-----+------------------+-----------------+------------------+\n",
      "\n"
     ]
    },
    {
     "name": "stderr",
     "output_type": "stream",
     "text": [
      "                                                                                "
     ]
    }
   ],
   "source": [
    "def confidence_interval(df, grp):\n",
    "    col = F.when(F.col('status') == F.lit('ACTIVE'), 1.0).otherwise(0.0)\n",
    "\n",
    "    return df.groupBy(grp).agg(\n",
    "        F.mean(col).alias('avg'),\n",
    "        F.count(F.lit(1)).alias('total'),\n",
    "        F.stddev(col).alias('std')\n",
    "    ).withColumn(\n",
    "        'ci95_hi',\n",
    "        F.col('avg') + 1.96 * F.col('std') / F.sqrt(F.col('total'))\n",
    "    ).withColumn(\n",
    "        'ci95_lo',\n",
    "        F.col('avg') - 1.96 * F.col('std') / F.sqrt(F.col('total'))\n",
    "    )\n",
    "\n",
    "confidence_interval(sdf, 'billing_event').show()"
   ]
  },
  {
   "cell_type": "code",
   "execution_count": 5,
   "id": "55d06e5e",
   "metadata": {},
   "outputs": [
    {
     "name": "stdout",
     "output_type": "stream",
     "text": [
      "randomly selected 100 rows\n"
     ]
    },
    {
     "name": "stderr",
     "output_type": "stream",
     "text": [
      "[Stage 8:>                                                          (0 + 1) / 1]"
     ]
    },
    {
     "name": "stdout",
     "output_type": "stream",
     "text": [
      "+-----------------+-----------------+------+----------------+-----------------+-------------+-----------------+--------------------+--------------------+----------+------------+---------------+----------------+----------------+\n",
      "|               id|      campaign_id|status|effective_status|configured_status|billing_event|optimization_goal|          start_time|            end_time|bid_amount|daily_budget|lifetime_budget|budget_remaining|destination_type|\n",
      "+-----------------+-----------------+------+----------------+-----------------+-------------+-----------------+--------------------+--------------------+----------+------------+---------------+----------------+----------------+\n",
      "|23849924654200708|23849924654160708|ACTIVE|          ACTIVE|           ACTIVE|  IMPRESSIONS|  POST_ENGAGEMENT|2022-01-09T10:00:...|2022-01-11T10:00:...|      null|        null|           null|             0.0|       UNDEFINED|\n",
      "|    6296484390149|    6296375589549|PAUSED|          PAUSED|           PAUSED|  IMPRESSIONS|     QUALITY_LEAD|2022-09-08T14:06:...|                null|      null|        null|           null|             0.0|           ON_AD|\n",
      "|    6348145522531|    6348145521531|ACTIVE| CAMPAIGN_PAUSED|           ACTIVE|  IMPRESSIONS|    CONVERSATIONS|2023-06-03T08:33:...|2023-06-10T08:33:...|      null|        null|           null|             0.0|       MESSENGER|\n",
      "+-----------------+-----------------+------+----------------+-----------------+-------------+-----------------+--------------------+--------------------+----------+------------+---------------+----------------+----------------+\n",
      "only showing top 3 rows\n",
      "\n"
     ]
    },
    {
     "name": "stderr",
     "output_type": "stream",
     "text": [
      "                                                                                "
     ]
    }
   ],
   "source": [
    "from pyspark.sql import functions as F\n",
    "\n",
    "_filter_by_cols = ['id', 'campaign_id', 'status', 'effective_status', 'configured_status',\n",
    "                   'billing_event', 'optimization_goal', 'start_time', 'end_time',\n",
    "                   'bid_amount', 'daily_budget', 'lifetime_budget', 'budget_remaining', 'destination_type']\n",
    "\n",
    "sample_sdf = sdf.select(_filter_by_cols).orderBy(F.rand()).limit(100)\n",
    "print(\"randomly selected %d rows\" % sample_sdf.count())\n",
    "sample_sdf.show(n=3)"
   ]
  },
  {
   "cell_type": "markdown",
   "id": "2f8cdb60-7b02-4c4f-b2f5-646402d95476",
   "metadata": {},
   "source": [
    "## Chi-square test"
   ]
  },
  {
   "cell_type": "code",
   "execution_count": 13,
   "id": "c58471b4-a0cd-4904-9e5d-9d635bac014b",
   "metadata": {},
   "outputs": [
    {
     "name": "stderr",
     "output_type": "stream",
     "text": [
      "                                                                                "
     ]
    },
    {
     "name": "stdout",
     "output_type": "stream",
     "text": [
      "+------------------------------+---+------+\n",
      "|billing_event_budget_remaining|0.0|6000.0|\n",
      "+------------------------------+---+------+\n",
      "|                   IMPRESSIONS|999|     1|\n",
      "+------------------------------+---+------+\n",
      "\n",
      "Chi-Square Statistic: 0.0\n",
      "P-Value: 1.0\n",
      "Degrees of Freedom: 0\n",
      " \n",
      "Contingency Table:\n",
      "                                0.0  6000.0\n",
      "billing_event_budget_remaining             \n",
      "IMPRESSIONS                     999       1\n",
      " \n",
      "Expected Frequencies:\n",
      "                                  0.0  6000.0\n",
      "billing_event_budget_remaining               \n",
      "IMPRESSIONS                     999.0     1.0\n"
     ]
    }
   ],
   "source": [
    "import pandas as pd\n",
    "from scipy.stats import chi2_contingency\n",
    "\n",
    "chisqr_sdf = sdf.select('billing_event','budget_remaining')\n",
    "\n",
    "contingency_table = chisqr_sdf.stat.crosstab(\"billing_event\", \"budget_remaining\")\n",
    "contingency_table.show()\n",
    "\n",
    "#Converting spark contingency_table to pandas DataFrame\n",
    "contingency_table_df = contingency_table.toPandas()\n",
    "contingency_table_df = contingency_table_df.set_index('billing_event_budget_remaining')\n",
    "# Perform the chi-square test\n",
    "chi2, p_value, degrees_of_freedom, expected_frequencies = chi2_contingency(contingency_table_df)\n",
    "\n",
    "# Print the results\n",
    "print(\"Chi-Square Statistic:\", chi2)\n",
    "print(\"P-Value:\", p_value)\n",
    "print(\"Degrees of Freedom:\", degrees_of_freedom)\n",
    "\n",
    "print(\" \")\n",
    "print(\"Contingency Table:\")\n",
    "print(contingency_table_df)\n",
    "\n",
    "print(\" \")\n",
    "print(\"Expected Frequencies:\")\n",
    "print(pd.DataFrame(expected_frequencies, index=contingency_table_df.index, columns=contingency_table_df.columns))"
   ]
  },
  {
   "cell_type": "code",
   "execution_count": null,
   "id": "3fe519f0-be2b-4e17-9016-9f56cd6df1c5",
   "metadata": {},
   "outputs": [],
   "source": []
  }
 ],
 "metadata": {
  "kernelspec": {
   "display_name": "Python 3 (ipykernel)",
   "language": "python",
   "name": "python3"
  },
  "language_info": {
   "codemirror_mode": {
    "name": "ipython",
    "version": 3
   },
   "file_extension": ".py",
   "mimetype": "text/x-python",
   "name": "python",
   "nbconvert_exporter": "python",
   "pygments_lexer": "ipython3",
   "version": "3.10.16"
  }
 },
 "nbformat": 4,
 "nbformat_minor": 5
}
