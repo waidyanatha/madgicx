{
 "cells": [
  {
   "cell_type": "markdown",
   "id": "9e1a19de",
   "metadata": {},
   "source": [
    "# AIDAR Objective 1.0 Hypotheses Testing\n",
    "\n",
    "We are leaning towards employing [Naive Bayes](https://kiranvoleti.com/how-to-use-a-naive-bayes-classifier-for-marketing-analytics) or similar classifier for our budget predictions (i.e. autoML with [PyCaret](https://medium.com/@atalarifqy/optimizing-machine-learning-workflows-with-pycaret-e0b19d8caf2c)). In order to confirm the associated and impacting features on the actions, we must first run a Chi-square test to validate the importance of the variables.\n",
    "\n",
    "* Query a representative sample of the relevant dataset for each hypotheses\n",
    "* Test the null and alternative hypotheses (P-value) for the confidence interval \n",
    "* Present the results for discussion and evaluation\n",
    "\n",
    "[Fundermentals of Chi-Square Test](https://www.simplilearn.com/tutorials/statistics-tutorial/chi-square-test)"
   ]
  },
  {
   "cell_type": "code",
   "execution_count": 1,
   "id": "ea2801e6",
   "metadata": {},
   "outputs": [],
   "source": [
    "'''\n",
    "    WARNING CONTROL to display or ignore all warnings\n",
    "'''\n",
    "import warnings; warnings.simplefilter('ignore')     #switch betweeb 'default' and 'ignore'\n",
    "import traceback\n",
    "\n",
    "''' Set debug flag to view extended error messages; else set it to False to turn off debugging mode '''\n",
    "debug = True\n"
   ]
  },
  {
   "cell_type": "markdown",
   "id": "dcfe3c9e-0516-4db8-a9cc-fe014b727748",
   "metadata": {},
   "source": [
    "| Analytics Activity |Hypothese to test | Required data |\n",
    "|--------|-----|--------------|\n",
    "|AA-1.1.1.1 |Test whether Adsets with higher budget_remaining correlate with higher impressions but not necessarily with better ROI. |client type<br>ad_id<br>timestamp<br>remaining budget (allocated - spent)<br>impressions count<br>ROI (CTR, CPM, ...) |\n",
    "|AA-1.1.1.2 |Discover all  other correlating factors that may contribute to underperforming adsets | |\n",
    "|AA-1.2.1.1 |Consider all optimization_goal types (e.g., conversions) and their Powerset combinations on Adsets that outperform those targeting general engagement. | |\n",
    "|AA-1.3.1.1 |Campaigns with defined bid_strategy types (e.g., cost cap) lead to lower CPA. | |\n",
    "|AA-1.3.1.2 |Look at the statistically significant power sets of objective and strategy elements | |\n",
    "|AA-1.4.1.1 |Test whether campaigns with a higher daily_budget allocated to peak hours achieve better ROI | |\n",
    "|AA-1.4.1.2 |Calculate the timeframes that offer high impact time segments or seasonal effects (e.g. peak hours) | |\n",
    "|AA-1.5.1.1 |Evaluate whether Ads targeting specific demographics yield better ROI than generic targeting. | |"
   ]
  },
  {
   "cell_type": "markdown",
   "id": "fa3bda64",
   "metadata": {},
   "source": [
    "## Instantiate Classes"
   ]
  },
  {
   "cell_type": "code",
   "execution_count": 2,
   "id": "93e9a568",
   "metadata": {},
   "outputs": [
    {
     "name": "stdout",
     "output_type": "stream",
     "text": [
      "All functional __PROPATTR__-libraries in LOADER-package of ETL-module imported successfully!\n",
      "All functional SPARKRDBM-libraries in LOADER-package of ETL-module imported successfully!\n",
      "All functional SPARKRDBM-libraries in LOADER-package of ETL-module imported successfully!\n",
      "All functional APP-libraries in REZAWARE-package of REZAWARE-module imported successfully!\n",
      "__propAttr__ Class initialization complete\n",
      "\n",
      "read and write BigQuery dataset for hypothese testing class initialization and load complete!\n"
     ]
    }
   ],
   "source": [
    "import os\n",
    "import sys\n",
    "\n",
    "proj_dir = os.path.abspath(os.pardir)\n",
    "sys.path.insert(1,proj_dir.split('mining/')[0])\n",
    "from rezaware.modules.etl.loader import sparkRDBM as db\n",
    "# from rezaware.modules.etl.loader import __propAttr__ as attr\n",
    "\n",
    "''' restart initiate classes '''\n",
    "if debug:\n",
    "    import importlib\n",
    "    db = importlib.reload(db)\n",
    "    # attr=importlib.reload(attr)\n",
    "\n",
    "__desc__ = \"read and write BigQuery dataset for hypothese testing\"\n",
    "clsSDB = db.dataWorkLoads(\n",
    "    desc=__desc__,\n",
    "    db_type = 'bigquery',\n",
    "    db_driver=None,\n",
    "    db_hostIP=None,\n",
    "    db_port = None,\n",
    "    db_name = None,\n",
    "    db_schema='combined_data_facebook_ads',\n",
    "    spark_partitions=None,\n",
    "    spark_format = 'bigquery',\n",
    "    spark_save_mode=None,\n",
    "    # spark_jar_dir = _jar,\n",
    ")\n",
    "# if clsSDB.session:\n",
    "#     clsSDB._session.stop\n",
    "print(\"\\n%s class initialization and load complete!\" % __desc__)"
   ]
  },
  {
   "cell_type": "markdown",
   "id": "2a8066d7-a018-4f32-aceb-b0f35fb1d3d2",
   "metadata": {},
   "source": [
    "## Load data\n",
    "There are two options for loading the data\n",
    "1. querying with a select statement by defining the sql _query_ statement string\n",
    "2. reading an entire table with row limit by defining the _tbl_ comprising _project:dataset.table_\n",
    "\n",
    "By default the function _read_data_from_table() will check for the select variable; else will revert to the _tbl description to read the data\n",
    "Use either or; i.e.,: \n",
    "* if using the select query set ```db_table = None``` and assign ```select=query```\n",
    "* if using db_table, then set ```select = None``` and assign ```db_table = _tbl```"
   ]
  },
  {
   "cell_type": "code",
   "execution_count": 3,
   "id": "958f7a62-0f2c-4908-a0a1-a2c0a42f9429",
   "metadata": {},
   "outputs": [
    {
     "name": "stderr",
     "output_type": "stream",
     "text": [
      "Warning: Ignoring non-Spark config property: viewsEnabled\n",
      "Warning: Ignoring non-Spark config property: materializationDataset\n",
      "25/01/15 18:22:40 WARN Utils: Your hostname, Waidy-Think-Three resolves to a loopback address: 127.0.1.1; using 192.168.126.57 instead (on interface wlp3s0)\n",
      "25/01/15 18:22:40 WARN Utils: Set SPARK_LOCAL_IP if you need to bind to another address\n",
      "25/01/15 18:22:41 WARN NativeCodeLoader: Unable to load native-hadoop library for your platform... using builtin-java classes where applicable\n",
      "Setting default log level to \"WARN\".\n",
      "To adjust logging level use sc.setLogLevel(newLevel). For SparkR, use setLogLevel(newLevel).\n",
      "                                                                                "
     ]
    },
    {
     "name": "stdout",
     "output_type": "stream",
     "text": [
      "Loaded 172689 rows\n",
      "root\n",
      " |-- ad_id: string (nullable = true)\n",
      " |-- _airbyte_ab_id: string (nullable = true)\n",
      " |-- updated_time: string (nullable = true)\n",
      " |-- json_array: array (nullable = true)\n",
      " |    |-- element: string (containsNull = true)\n",
      " |-- d1_click: double (nullable = true)\n",
      " |-- d7_click: double (nullable = true)\n",
      " |-- d28_click: double (nullable = true)\n",
      " |-- d1_click_first_conversion: double (nullable = true)\n",
      " |-- d7_click_first_conversion: double (nullable = true)\n",
      " |-- d28_click_first_conversion: double (nullable = true)\n",
      " |-- d1_click_alll_conversion: double (nullable = true)\n",
      " |-- d7_click_all_conversion: double (nullable = true)\n",
      " |-- d28_click_allt_conversion: double (nullable = true)\n",
      " |-- d1_view: double (nullable = true)\n",
      " |-- d7_view: double (nullable = true)\n",
      " |-- d28_view: double (nullable = true)\n",
      " |-- d1_view_first_conversion: double (nullable = true)\n",
      " |-- d7_view_first_conversion: double (nullable = true)\n",
      " |-- d28_view_first_conversion: double (nullable = true)\n",
      " |-- d1_view_all_conversion: double (nullable = true)\n",
      " |-- d7_view_all_conversion: double (nullable = true)\n",
      " |-- d28_view_all_conversion: double (nullable = true)\n",
      " |-- action_target_id: double (nullable = true)\n",
      " |-- action_destination: string (nullable = true)\n",
      " |-- action_type: string (nullable = true)\n",
      " |-- dda: string (nullable = true)\n",
      " |-- inline: string (nullable = true)\n",
      " |-- action_reaction: string (nullable = true)\n",
      " |-- value: double (nullable = true)\n",
      "\n"
     ]
    }
   ],
   "source": [
    "query = \"\"\"\n",
    "    SELECT id, name, status, campaign, end_time, estimate, dsa_payor, targeting,\n",
    "        account_id, bid_amount, start_time, campaign_id, created_time, daily_budget,\n",
    "        source_adset, updated_time, billing_event, lifetime_imps, dsa_beneficiary, \n",
    "        lifetime_budget, promoted_object, review_feedback, source_adset_id, budget_remaining,\n",
    "        destination_type, effective_status, configured_status, optimization_goal,\n",
    "        use_new_app_click, is_dynamic_creative, campaign_active_time, campaign_attribution,\n",
    "        optimization_sub_event, recurring_budget_semantics, min_budget_spend_percentage,\n",
    "        multi_optimization_goal_weight\n",
    "    FROM fresh-deck-445306-b0.combined_data_facebook_ads.combine__metadata_adset as adset\n",
    "    LIMIT 1000\n",
    "\"\"\"\n",
    "_tbl = \"fresh-deck-445306-b0:combined_data_facebook_ads.cl_act__ads_insights_action_values\"\n",
    "options = {\n",
    "    \"project\" : 'fresh-deck-445306-b0',\n",
    "    \"dataset\" : 'combined_data_facebook_ads',\n",
    "}\n",
    "sdf = clsSDB.read_data_from_table(\n",
    "    select=None, #query,\n",
    "    db_table=_tbl,\n",
    "    **options\n",
    ")\n",
    "print(\"Loaded %d rows\" % sdf.count())\n",
    "sdf.printSchema()"
   ]
  },
  {
   "cell_type": "markdown",
   "id": "785829a9-b910-41ab-b3ca-eb5679763a3c",
   "metadata": {},
   "source": [
    "## Filter dataframe by selected columns\n",
    "__Inputs__\n",
    "* set the ```_pop_id_col``` variable with an identifier (not necessarilly unique)\n",
    "* list the ```_filter_by_cols``` with the required set of column names\n",
    "__outputs__\n",
    "* ```filt_sdf_``` will produce the filtered dataframe such that none of the rows contain a column with Null value"
   ]
  },
  {
   "cell_type": "code",
   "execution_count": 4,
   "id": "a4b27e10-e57f-45aa-b21f-5b1e2527eecd",
   "metadata": {},
   "outputs": [
    {
     "name": "stderr",
     "output_type": "stream",
     "text": [
      "[Stage 9:>                                                          (0 + 1) / 1]"
     ]
    },
    {
     "name": "stdout",
     "output_type": "stream",
     "text": [
      "Total filtered rows 172689 for 4906 unique AD_ID values\n"
     ]
    },
    {
     "name": "stderr",
     "output_type": "stream",
     "text": [
      "[Stage 15:>                                                         (0 + 1) / 1]"
     ]
    },
    {
     "name": "stdout",
     "output_type": "stream",
     "text": [
      "+-------------+--------+--------+---------+-------+-------+--------+-----------------------------------------+------+\n",
      "|ad_id        |d1_click|d7_click|d28_click|d1_view|d7_view|d28_view|action_type                              |value |\n",
      "+-------------+--------+--------+---------+-------+-------+--------+-----------------------------------------+------+\n",
      "|6216259122941|69.46   |305.04  |305.04   |160.31 |285.95 |490.8   |offsite_conversion.fb_pixel_add_to_cart  |465.35|\n",
      "|6216259122941|115.33  |168.53  |168.53   |54.52  |273.93 |273.93  |offsite_conversion.fb_pixel_purchase     |223.05|\n",
      "|6216259122941|0.0     |10.45   |10.45    |0.0    |0.0    |0.0     |offsite_conversion.fb_pixel_custom       |10.45 |\n",
      "|6216259122941|17.0    |55.5    |55.5     |847.77 |1975.11|2084.1  |add_to_cart                              |903.27|\n",
      "|6216259122941|0.0     |0.0     |0.0      |6.16   |6.16   |6.16    |offsite_conversion.custom.814730377326332|6.16  |\n",
      "+-------------+--------+--------+---------+-------+-------+--------+-----------------------------------------+------+\n",
      "only showing top 5 rows\n",
      "\n"
     ]
    },
    {
     "name": "stderr",
     "output_type": "stream",
     "text": [
      "                                                                                "
     ]
    }
   ],
   "source": [
    "from pyspark.sql import functions as F\n",
    "\n",
    "_pop_id_col = 'ad_id'\n",
    "_filter_by_cols = ['ad_id', 'd1_click', 'd7_click', 'd28_click', 'd1_view', 'd7_view', 'd28_view', \n",
    "                   'action_type', 'value']\n",
    "filt_sdf_ = sdf.select(_filter_by_cols).dropna()\n",
    "print(\"Total filtered rows %d for %d unique %s values\" \n",
    "      % (filt_sdf_.count(), filt_sdf_.select(F.col(_pop_id_col)).distinct().count(), _pop_id_col.upper()))\n",
    "filt_sdf_.show(n=5, truncate=False)"
   ]
  },
  {
   "cell_type": "markdown",
   "id": "b550ee49-88ad-438a-8f48-e44e9773a80c",
   "metadata": {},
   "source": [
    "## Randomly sample the data\n",
    "[Calculating your sample size](https://www.remesh.ai/resources/how-to-calculate-sample-size)\n",
    "#### Confidence interval\n",
    "* First we set the deisred _confidence level_:\n",
    "  * also cointed as margin of error; typically set at 5%\n",
    "  * will result in a 95% confindece interval (can also use 90% and 99%)\n",
    "  * hence, we set ```alpha=0.95```\n",
    "* _Tolerance_ interval: 90% (0.90 percentile) ensures that p% of the sample\n",
    "* _Prediction_ interval\n",
    "* Define the _Population_ by ramdomly selecting N representative rows"
   ]
  },
  {
   "cell_type": "code",
   "execution_count": 5,
   "id": "d2ef00ff-58a3-4d1c-b8ac-295e451d2ee3",
   "metadata": {},
   "outputs": [
    {
     "name": "stderr",
     "output_type": "stream",
     "text": [
      "[Stage 16:>                                                         (0 + 1) / 1]"
     ]
    },
    {
     "name": "stdout",
     "output_type": "stream",
     "text": [
      "+---------------------------------------------+------------------+-----+------------------+------------------+------------------+\n",
      "|action_type                                  |mean              |total|std               |ci95_hi           |ci95_lo           |\n",
      "+---------------------------------------------+------------------+-----+------------------+------------------+------------------+\n",
      "|offsite_conversion.fb_pixel_search           |640.7014705882353 |340  |870.6589685522944 |733.2489704276998 |548.1539707487709 |\n",
      "|offsite_conversion.custom.814730377326332    |0.7744172086043025|1999 |2.5929290250512023|0.8880857542863496|0.6607486629222554|\n",
      "|offsite_conversion.custom.6508804492500376   |36.32727272727273 |55   |34.51197030417264 |45.44831525517694 |27.206230199368523|\n",
      "|offsite_conversion.fb_pixel_purchase         |135.0893611937763 |69896|8289.946985837309 |196.54781971682343|73.6309026707292  |\n",
      "|offsite_conversion.fb_pixel_custom           |23.921662269129286|379  |60.276364137898845|29.990192422671438|17.853132115587133|\n",
      "|add_to_cart                                  |478.9864077531011 |34928|3570.108515057919 |516.4276827163085 |441.5451327898937 |\n",
      "|offsite_conversion.fb_pixel_initiate_checkout|2790.6016518506567|6187 |29118.705864183896|3516.1862957934227|2065.0170079078907|\n",
      "|initiate_checkout                            |2790.60165185066  |6187 |29118.70586418395 |3516.1862957934272|2065.0170079078925|\n",
      "|offsite_conversion.fb_pixel_lead             |35.604166666666664|480  |28.776033567251844|38.178509507717244|33.029823825616084|\n",
      "|offsite_conversion.fb_pixel_view_content     |75169.6703343424  |15194|275306.9432745128 |79547.28141315468 |70792.05925553013 |\n",
      "|offsite_conversion.custom.1293257727985657   |179.66666666666666|9    |64.82090712108247 |222.01632598577388|137.31700734755944|\n",
      "|offsite_conversion.custom.1041890976843444   |52.76923076923077 |39   |37.9296173253217  |64.6734859790317  |40.86497555942984 |\n",
      "|offsite_conversion.custom.1419289755516889   |86.36             |25   |87.68213425018044 |120.73139662607073|51.988603373929266|\n",
      "|search                                       |640.7014705882353 |340  |870.658968552294  |733.2489704276998 |548.1539707487709 |\n",
      "|onsite_conversion.purchase                   |2038.3763440860216|837  |3684.3282866738664|2287.980414192256 |1788.7722739797873|\n",
      "|offsite_conversion.fb_pixel_add_to_cart      |478.9864077531016 |34928|3570.108515057927 |516.427682716309  |441.5451327898941 |\n",
      "|offsite_conversion.fb_pixel_add_payment_info |10574.699538106237|866  |67222.69955474546 |15051.967365567592|6097.431710644882 |\n",
      "+---------------------------------------------+------------------+-----+------------------+------------------+------------------+\n",
      "\n"
     ]
    },
    {
     "name": "stderr",
     "output_type": "stream",
     "text": [
      "                                                                                "
     ]
    }
   ],
   "source": [
    "from pyspark.sql import functions as F\n",
    "\n",
    "def confidence_interval(df, grp):\n",
    "    # col = F.when(F.col('status') == F.lit('ACTIVE'), 1.0).otherwise(0.0)\n",
    "    col_ = 'd1_click'\n",
    "\n",
    "    return df.groupBy(grp).agg(\n",
    "        F.mean(col_).alias('mean'),\n",
    "        F.count(F.col(col_)).alias('total'),\n",
    "        F.stddev(col_).alias('std')\n",
    "    ).withColumn(\n",
    "        'ci95_hi',\n",
    "        F.col('mean') + 1.96 * F.col('std') / F.sqrt(F.col('total'))\n",
    "    ).withColumn(\n",
    "        'ci95_lo',\n",
    "        F.col('mean') - 1.96 * F.col('std') / F.sqrt(F.col('total'))\n",
    "    )\n",
    "\n",
    "confidence_interval(filt_sdf_, 'action_type').show(truncate=False)"
   ]
  },
  {
   "cell_type": "code",
   "execution_count": 5,
   "id": "57d8cf33-f98e-45ee-af81-d5c12bdb325e",
   "metadata": {},
   "outputs": [
    {
     "name": "stderr",
     "output_type": "stream",
     "text": [
      "                                                                                "
     ]
    },
    {
     "name": "stdout",
     "output_type": "stream",
     "text": [
      "created franctions for 73070 index pairs\n",
      "Sample 1: \n"
     ]
    },
    {
     "name": "stderr",
     "output_type": "stream",
     "text": [
      "                                                                                "
     ]
    },
    {
     "name": "stdout",
     "output_type": "stream",
     "text": [
      "+-------------+--------+--------+---------+-------+-------+--------+-----------------------------------------+------+\n",
      "|ad_id        |d1_click|d7_click|d28_click|d1_view|d7_view|d28_view|action_type                              |value |\n",
      "+-------------+--------+--------+---------+-------+-------+--------+-----------------------------------------+------+\n",
      "|6216259122941|69.46   |305.04  |305.04   |160.31 |285.95 |490.8   |offsite_conversion.fb_pixel_add_to_cart  |465.35|\n",
      "|6216259122941|115.33  |168.53  |168.53   |54.52  |273.93 |273.93  |offsite_conversion.fb_pixel_purchase     |223.05|\n",
      "|6216259122941|0.0     |0.0     |0.0      |6.16   |6.16   |6.16    |offsite_conversion.custom.814730377326332|6.16  |\n",
      "|6216259122941|150.8   |150.8   |150.8    |317.55 |530.58 |530.58  |offsite_conversion.fb_pixel_purchase     |468.35|\n",
      "|6216259324541|85.73   |290.66  |290.66   |395.09 |486.82 |505.65  |offsite_conversion.fb_pixel_purchase     |685.75|\n",
      "+-------------+--------+--------+---------+-------+-------+--------+-----------------------------------------+------+\n",
      "only showing top 5 rows\n",
      "\n",
      "Sample 2: \n"
     ]
    },
    {
     "name": "stderr",
     "output_type": "stream",
     "text": [
      "[Stage 21:>                                                         (0 + 1) / 1]"
     ]
    },
    {
     "name": "stdout",
     "output_type": "stream",
     "text": [
      "+-------------+--------+--------+---------+-------+-------+--------+-----------------------------------------+------+\n",
      "|ad_id        |d1_click|d7_click|d28_click|d1_view|d7_view|d28_view|action_type                              |value |\n",
      "+-------------+--------+--------+---------+-------+-------+--------+-----------------------------------------+------+\n",
      "|6216259122941|69.46   |305.04  |305.04   |160.31 |285.95 |490.8   |offsite_conversion.fb_pixel_add_to_cart  |465.35|\n",
      "|6216259122941|115.33  |168.53  |168.53   |54.52  |273.93 |273.93  |offsite_conversion.fb_pixel_purchase     |223.05|\n",
      "|6216259122941|17.0    |55.5    |55.5     |847.77 |1975.11|2084.1  |add_to_cart                              |903.27|\n",
      "|6216259122941|0.0     |0.0     |0.0      |6.16   |6.16   |6.16    |offsite_conversion.custom.814730377326332|6.16  |\n",
      "|6216259122941|26.24   |91.7    |91.7     |634.78 |697.34 |697.34  |offsite_conversion.fb_pixel_purchase     |726.48|\n",
      "+-------------+--------+--------+---------+-------+-------+--------+-----------------------------------------+------+\n",
      "only showing top 5 rows\n",
      "\n"
     ]
    },
    {
     "name": "stderr",
     "output_type": "stream",
     "text": [
      "                                                                                "
     ]
    }
   ],
   "source": [
    "column_index_1 = 'd28_click'\n",
    "column_index_2 = 'd28_view'\n",
    "\n",
    "fraction = 0.4\n",
    "''' Apply transformation on every element by defining the columns (first, second) \n",
    "    as well as sampling percentage as an argument in the map function '''\n",
    "fractions = filt_sdf_.rdd.map(lambda x:\n",
    "                              (x[column_index_1],\n",
    "                               x[column_index_2]))\\\n",
    "                    .distinct()\\\n",
    "                    .map(lambda x:\n",
    "                         (x,fraction)).collectAsMap()\n",
    "print(\"created franctions for %d index pairs\" % len(fractions))\n",
    "# Create tuple of elements using keyBy function \n",
    "key_df = filt_sdf_.rdd.keyBy(lambda x: (x[column_index_1],x[column_index_2]))\n",
    "\n",
    "# Extract random sample through sampleByKey function \n",
    "# using boolean, columns (first and second) and fraction as arguments \n",
    "print(\"Sample 1: \")\n",
    "sample_1_sdf = key_df.sampleByKey(\n",
    "    False, fractions).map(lambda x: x[1]).toDF(filt_sdf_.columns)\n",
    "sample_1_sdf.show(n=5, truncate=False)\n",
    " \n",
    "# Again extract random sample through sampleByKey function \n",
    "# using boolean, columns (first and second) and fraction as arguments \n",
    "print(\"Sample 2: \")\n",
    "sample_2_sdf = key_df.sampleByKey(\n",
    "    False, fractions).map(lambda x: x[1]).toDF(filt_sdf_.columns)\n",
    "sample_2_sdf.show(n=5, truncate=False)"
   ]
  },
  {
   "cell_type": "markdown",
   "id": "2f8cdb60-7b02-4c4f-b2f5-646402d95476",
   "metadata": {},
   "source": [
    "## Chi-square test"
   ]
  },
  {
   "cell_type": "markdown",
   "id": "955b93e3-d69b-4335-bfb6-736bccb51b36",
   "metadata": {},
   "source": [
    "#### Apply OneHotEncoding\n",
    "Convert categorical strings to numerical values"
   ]
  },
  {
   "cell_type": "code",
   "execution_count": 6,
   "id": "f7d7f151-f4d4-434a-b0e2-3bc245f48ffc",
   "metadata": {},
   "outputs": [
    {
     "name": "stderr",
     "output_type": "stream",
     "text": [
      "[Stage 25:>                                                         (0 + 1) / 1]"
     ]
    },
    {
     "name": "stdout",
     "output_type": "stream",
     "text": [
      "+-----------------------------------------+------------------+--------------+\n",
      "|action_type                              |Categories_Indexed|labels        |\n",
      "+-----------------------------------------+------------------+--------------+\n",
      "|offsite_conversion.fb_pixel_add_to_cart  |1.0               |(16,[1],[1.0])|\n",
      "|offsite_conversion.fb_pixel_purchase     |0.0               |(16,[0],[1.0])|\n",
      "|offsite_conversion.custom.814730377326332|6.0               |(16,[6],[1.0])|\n",
      "|offsite_conversion.fb_pixel_purchase     |0.0               |(16,[0],[1.0])|\n",
      "|offsite_conversion.fb_pixel_purchase     |0.0               |(16,[0],[1.0])|\n",
      "+-----------------------------------------+------------------+--------------+\n",
      "only showing top 5 rows\n",
      "\n"
     ]
    },
    {
     "name": "stderr",
     "output_type": "stream",
     "text": [
      "                                                                                "
     ]
    }
   ],
   "source": [
    "from pyspark.ml.feature import VectorAssembler, StringIndexer, OneHotEncoder\n",
    "from pyspark.ml.stat import ChiSquareTest\n",
    "\n",
    "''' define sample data '''\n",
    "sample_sdf = sample_1_sdf .drop(F.col('ad_id'))\n",
    "\n",
    "''' StringIndexer Initialization '''\n",
    "_label_col = 'action_type'\n",
    "indexer = StringIndexer(inputCol=_label_col, outputCol=\"Categories_Indexed\")\n",
    "indexerModel = indexer.fit(sample_sdf)\n",
    "\n",
    "# Transform the DataFrame using the fitted StringIndexer model\n",
    "indexed_df = indexerModel.transform(sample_sdf)\n",
    "# indexed_df.show()\n",
    "''' apply encoder '''\n",
    "encoder = OneHotEncoder(inputCol=\"Categories_Indexed\", outputCol=\"labels\")\n",
    "encoded_df = encoder.fit(indexed_df).transform(indexed_df)\n",
    "encoded_df.select(_label_col, \"Categories_Indexed\", \"labels\").show(n=5, truncate=False)"
   ]
  },
  {
   "cell_type": "code",
   "execution_count": 7,
   "id": "cc678f41-451f-467b-9a3c-2df223217a0f",
   "metadata": {},
   "outputs": [
    {
     "name": "stderr",
     "output_type": "stream",
     "text": [
      "[Stage 26:>                                                         (0 + 1) / 1]"
     ]
    },
    {
     "name": "stdout",
     "output_type": "stream",
     "text": [
      "+--------+--------+---------+-------+-------+--------+-----------------------------------------+------+------------------+--------------+-----------------------------------------------------+\n",
      "|d1_click|d7_click|d28_click|d1_view|d7_view|d28_view|action_type                              |value |Categories_Indexed|labels        |features                                             |\n",
      "+--------+--------+---------+-------+-------+--------+-----------------------------------------+------+------------------+--------------+-----------------------------------------------------+\n",
      "|69.46   |305.04  |305.04   |160.31 |285.95 |490.8   |offsite_conversion.fb_pixel_add_to_cart  |465.35|1.0               |(16,[1],[1.0])|[69.46,305.04,305.04,160.31,285.95,490.8,465.35,1.0] |\n",
      "|115.33  |168.53  |168.53   |54.52  |273.93 |273.93  |offsite_conversion.fb_pixel_purchase     |223.05|0.0               |(16,[0],[1.0])|[115.33,168.53,168.53,54.52,273.93,273.93,223.05,0.0]|\n",
      "|0.0     |0.0     |0.0      |6.16   |6.16   |6.16    |offsite_conversion.custom.814730377326332|6.16  |6.0               |(16,[6],[1.0])|[0.0,0.0,0.0,6.16,6.16,6.16,6.16,6.0]                |\n",
      "|150.8   |150.8   |150.8    |317.55 |530.58 |530.58  |offsite_conversion.fb_pixel_purchase     |468.35|0.0               |(16,[0],[1.0])|[150.8,150.8,150.8,317.55,530.58,530.58,468.35,0.0]  |\n",
      "|85.73   |290.66  |290.66   |395.09 |486.82 |505.65  |offsite_conversion.fb_pixel_purchase     |685.75|0.0               |(16,[0],[1.0])|[85.73,290.66,290.66,395.09,486.82,505.65,685.75,0.0]|\n",
      "+--------+--------+---------+-------+-------+--------+-----------------------------------------+------+------------------+--------------+-----------------------------------------------------+\n",
      "only showing top 5 rows\n",
      "\n"
     ]
    },
    {
     "name": "stderr",
     "output_type": "stream",
     "text": [
      "                                                                                "
     ]
    }
   ],
   "source": [
    "_remove_lst = ['action_type', 'labels']\n",
    "_feature_cols = [x for x in encoded_df.columns if x not in _remove_lst]\n",
    "# _features='d28_click'\n",
    "\n",
    "assembler = VectorAssembler(inputCols = _feature_cols, outputCol = 'features')\n",
    "vec_sdf = assembler.transform(encoded_df)\n",
    "vec_sdf.show(n=5, truncate=False)\n"
   ]
  },
  {
   "cell_type": "code",
   "execution_count": 26,
   "id": "a27be55e-290f-406f-b37a-8309b87ce4b2",
   "metadata": {},
   "outputs": [
    {
     "name": "stderr",
     "output_type": "stream",
     "text": [
      "                                                                                "
     ]
    }
   ],
   "source": [
    "r = ChiSquareTest.test(vec_sdf.select('features', 'Categories_Indexed').limit(100), 'features', 'Categories_Indexed')"
   ]
  },
  {
   "cell_type": "markdown",
   "id": "f1acde03-313e-4a23-8dc3-96b7c7109665",
   "metadata": {},
   "source": [
    "## Results\n",
    "the chi-square test result helps you determine if differences in feature values are due to chance or if they reflect a true pattern. It is used to test and compare two different types of data: observed data and expected data; thus, measures what is called the \"goodness to fit\" which is the difference between what you'd expect and what has been observed\n",
    "\n",
    "The hypothese we are testing is to determine if the features: ```d1_click, d7_click, d28_click, d1_view, d7_view, d28_view, value``` have an effect (or are associated) with ```action_type```; which may describe how budgets might be distributed???)\n",
    "\n",
    "w.r.t Chi-square test:\n",
    "*  _P-Value_ is a statistical measure that helps to assess the importance of your test results\n",
    "*  _ndegreesOfFreedom_ is the number of cells in the deature sample that can vary before the rest can be calculated\n",
    "*  _statistic_ compares the size of any discrepancies between the expected results and the actual results, given the size of the sample and the number of variables in the relationship"
   ]
  },
  {
   "cell_type": "code",
   "execution_count": 41,
   "id": "c4c8a163-be84-4401-b7c7-4b9882c73214",
   "metadata": {},
   "outputs": [
    {
     "name": "stdout",
     "output_type": "stream",
     "text": [
      "Sample size: 1000\n",
      "\n",
      "features: d1_click, d7_click, d28_click, d1_view, d7_view, d28_view, value\n",
      "label: action_type\n",
      "\n",
      "pValues: [0.048493226111149035,0.44627209161354975,0.6508140984033642,0.6624499875134036,0.46458059439628785,0.625566214596088,0.31327071857175204,0.0]\n"
     ]
    }
   ],
   "source": [
    "vals = r.first()\n",
    "print(\"Sample size: 1000\")\n",
    "print(\"\\nfeatures: d1_click, d7_click, d28_click, d1_view, d7_view, d28_view, value\")\n",
    "print(\"label: action_type\")\n",
    "print(\"\\npValues: \" + str(vals[0]))\n",
    "# print(\"\\ndegreesOfFreedom: \" + str(vals[1]))\n",
    "# print(\"\\nstatistics: \" + str(vals[2]))"
   ]
  },
  {
   "cell_type": "markdown",
   "id": "e2901752-2329-48d6-bbf3-a9963a88ed9f",
   "metadata": {},
   "source": [
    "## DEPRECATED"
   ]
  },
  {
   "cell_type": "code",
   "execution_count": 21,
   "id": "c58471b4-a0cd-4904-9e5d-9d635bac014b",
   "metadata": {},
   "outputs": [
    {
     "name": "stderr",
     "output_type": "stream",
     "text": [
      "                                                                                "
     ]
    },
    {
     "name": "stdout",
     "output_type": "stream",
     "text": [
      "+----------------------------+-----+\n",
      "|d28_click_Categories_Indexed|0.0  |\n",
      "+----------------------------+-----+\n",
      "|0.0                         |12353|\n",
      "+----------------------------+-----+\n",
      "\n"
     ]
    },
    {
     "name": "stderr",
     "output_type": "stream",
     "text": [
      "[Stage 47:>                                                         (0 + 1) / 1]"
     ]
    },
    {
     "name": "stdout",
     "output_type": "stream",
     "text": [
      "Chi-Square Statistic: 0.0\n",
      "P-Value: 1.0\n",
      "Degrees of Freedom: 0\n",
      " \n",
      "Contingency Table:\n",
      "                                0.0\n",
      "d28_click_Categories_Indexed       \n",
      "0.0                           12353\n",
      " \n",
      "Expected Frequencies:\n",
      "                                  0.0\n",
      "d28_click_Categories_Indexed         \n",
      "0.0                           12353.0\n"
     ]
    },
    {
     "name": "stderr",
     "output_type": "stream",
     "text": [
      "                                                                                "
     ]
    }
   ],
   "source": [
    "import pandas as pd\n",
    "from scipy.stats import chi2_contingency\n",
    "from pyspark.mllib.stat import Statistics as stat\n",
    "\n",
    "sample_sdf = vec_sdf\n",
    "\n",
    "col_1 = 'd28_click'\n",
    "col_2 = 'Categories_Indexed'\n",
    "\n",
    "chisqr_sdf = sample_sdf.select(col_1,col_2)\\\n",
    "                .where((F.col(col_1).isNotNull()) & (F.col(col_1)==0))\\\n",
    "                .where((F.col(col_2).isNotNull()) & (F.col(col_2)==0))\n",
    "\n",
    "contingency_table = chisqr_sdf.stat.crosstab(col_1, col_2)\n",
    "contingency_table.show(truncate=False)\n",
    "\n",
    "#Converting spark contingency_table to pandas DataFrame\n",
    "contingency_table_df = contingency_table.toPandas()\n",
    "contingency_table_df = contingency_table_df.set_index(col_1+\"_\"+col_2)\n",
    "# Perform the chi-square test\n",
    "chi2, p_value, degrees_of_freedom, expected_frequencies = chi2_contingency(contingency_table_df)\n",
    "\n",
    "# Print the results\n",
    "print(\"Chi-Square Statistic:\", chi2)\n",
    "print(\"P-Value:\", p_value)\n",
    "print(\"Degrees of Freedom:\", degrees_of_freedom)\n",
    "\n",
    "print(\" \")\n",
    "print(\"Contingency Table:\")\n",
    "print(contingency_table_df)\n",
    "\n",
    "print(\" \")\n",
    "print(\"Expected Frequencies:\")\n",
    "print(pd.DataFrame(expected_frequencies, index=contingency_table_df.index, columns=contingency_table_df.columns))"
   ]
  },
  {
   "cell_type": "code",
   "execution_count": null,
   "id": "c813f834-a756-4153-81a4-e09fadc6ae18",
   "metadata": {},
   "outputs": [
    {
     "name": "stdout",
     "output_type": "stream",
     "text": [
      "randomly selected 100 rows\n"
     ]
    },
    {
     "name": "stderr",
     "output_type": "stream",
     "text": [
      "[Stage 56:>                                                         (0 + 1) / 1]"
     ]
    },
    {
     "name": "stdout",
     "output_type": "stream",
     "text": [
      "+---------+------+\n",
      "|d28_click| value|\n",
      "+---------+------+\n",
      "|     45.0|  45.0|\n",
      "|      0.0|215.49|\n",
      "|   345.23|456.38|\n",
      "+---------+------+\n",
      "only showing top 3 rows\n",
      "\n"
     ]
    },
    {
     "name": "stderr",
     "output_type": "stream",
     "text": [
      "                                                                                "
     ]
    }
   ],
   "source": [
    "sample_sdf = sdf.select(_filter_by_cols)\\\n",
    "                .where(F.col('click_d28').isNotNull())\\\n",
    "                .orderBy(F.rand()).limit(100)\n",
    "print(\"randomly selected %d rows\" % sample_sdf.count())\n",
    "sample_sdf.show(n=3)"
   ]
  },
  {
   "cell_type": "code",
   "execution_count": null,
   "id": "3fe519f0-be2b-4e17-9016-9f56cd6df1c5",
   "metadata": {},
   "outputs": [],
   "source": []
  }
 ],
 "metadata": {
  "kernelspec": {
   "display_name": "Python 3 (ipykernel)",
   "language": "python",
   "name": "python3"
  },
  "language_info": {
   "codemirror_mode": {
    "name": "ipython",
    "version": 3
   },
   "file_extension": ".py",
   "mimetype": "text/x-python",
   "name": "python",
   "nbconvert_exporter": "python",
   "pygments_lexer": "ipython3",
   "version": "3.10.16"
  }
 },
 "nbformat": 4,
 "nbformat_minor": 5
}
