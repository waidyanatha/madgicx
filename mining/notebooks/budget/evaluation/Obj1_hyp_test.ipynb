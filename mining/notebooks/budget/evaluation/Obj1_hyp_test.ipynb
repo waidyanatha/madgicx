{
 "cells": [
  {
   "cell_type": "markdown",
   "id": "9e1a19de",
   "metadata": {},
   "source": [
    "# AIDAR Objective 1.0 Hypotheses Testing\n",
    "\n",
    "We are leaning towards employing [Naive Bayes](https://kiranvoleti.com/how-to-use-a-naive-bayes-classifier-for-marketing-analytics) or similar classifier for our budget predictions (i.e. autoML with [PyCaret](https://medium.com/@atalarifqy/optimizing-machine-learning-workflows-with-pycaret-e0b19d8caf2c)). In order to confirm the associated and impacting features on the actions, we must first run a Chi-square test to validate the importance of the variables.\n",
    "\n",
    "* Query a representative sample of the relevant dataset for each hypotheses\n",
    "* Test the null and alternative hypotheses (P-value) for the confidence interval \n",
    "* Present the results for discussion and evaluation\n",
    "\n",
    "[Fundermentals of Chi-Square Test](https://www.simplilearn.com/tutorials/statistics-tutorial/chi-square-test)"
   ]
  },
  {
   "cell_type": "code",
   "execution_count": 1,
   "id": "ea2801e6",
   "metadata": {},
   "outputs": [],
   "source": [
    "'''\n",
    "    WARNING CONTROL to display or ignore all warnings\n",
    "'''\n",
    "import warnings; warnings.simplefilter('ignore')     #switch betweeb 'default' and 'ignore'\n",
    "import traceback\n",
    "\n",
    "''' Set debug flag to view extended error messages; else set it to False to turn off debugging mode '''\n",
    "debug = True\n"
   ]
  },
  {
   "cell_type": "markdown",
   "id": "dcfe3c9e-0516-4db8-a9cc-fe014b727748",
   "metadata": {},
   "source": [
    "| Analytics Activity |Hypothese to test | Required data |\n",
    "|--------|-----|--------------|\n",
    "|AA-1.1.1.1 |Test whether Adsets with higher budget_remaining correlate with higher impressions but not necessarily with better ROI. |client type<br>ad_id<br>timestamp<br>remaining budget (allocated - spent)<br>impressions count<br>ROI (CTR, CPM, ...) |\n",
    "|AA-1.1.1.2 |Discover all  other correlating factors that may contribute to underperforming adsets | |\n",
    "|AA-1.2.1.1 |Consider all optimization_goal types (e.g., conversions) and their Powerset combinations on Adsets that outperform those targeting general engagement. | |\n",
    "|AA-1.3.1.1 |Campaigns with defined bid_strategy types (e.g., cost cap) lead to lower CPA. | |\n",
    "|AA-1.3.1.2 |Look at the statistically significant power sets of objective and strategy elements | |\n",
    "|AA-1.4.1.1 |Test whether campaigns with a higher daily_budget allocated to peak hours achieve better ROI | |\n",
    "|AA-1.4.1.2 |Calculate the timeframes that offer high impact time segments or seasonal effects (e.g. peak hours) | |\n",
    "|AA-1.5.1.1 |Evaluate whether Ads targeting specific demographics yield better ROI than generic targeting. | |"
   ]
  },
  {
   "cell_type": "markdown",
   "id": "fa3bda64",
   "metadata": {},
   "source": [
    "## Instantiate Classes"
   ]
  },
  {
   "cell_type": "code",
   "execution_count": 2,
   "id": "93e9a568",
   "metadata": {},
   "outputs": [
    {
     "name": "stdout",
     "output_type": "stream",
     "text": [
      "All functional __PROPATTR__-libraries in OPTIMIZATION-package of BUDGET-module imported successfully!\n",
      "All functional RWADSDATA-libraries in OPTIMIZATION-package of BUDGET-module imported successfully!\n",
      "All functional RWADSDATA-libraries in OPTIMIZATION-package of BUDGET-module imported successfully!\n",
      "All functional APP-libraries in REZAWARE-package of REZAWARE-module imported successfully!\n",
      "__propAttr__ Class initialization complete\n",
      "All functional __PROPATTR__-libraries in LOADER-package of ETL-module imported successfully!\n",
      "All functional SPARKFILE-libraries in LOADER-package of ETL-module imported successfully!\n",
      "__propAttr__ Class initialization complete\n",
      "sparkFile Class initialization complete\n",
      "rwAdsData Class initialization complete\n",
      "\n",
      "read and write dataset for MCMC sampling class initialization and load complete!\n"
     ]
    }
   ],
   "source": [
    "import os\n",
    "import sys\n",
    "import numpy as np\n",
    "from pyspark.sql import functions as F\n",
    "# import tensorflow_probability as tfp\n",
    "# import tensorflow as tf\n",
    "\n",
    "proj_dir = os.path.abspath(os.pardir)\n",
    "sys.path.insert(1,proj_dir.split('mining/')[0])\n",
    "# from rezaware.modules.etl.loader import sparkRDBM as db\n",
    "# from rezaware.modules.etl.loader import sparkFile as file\n",
    "from mining.modules.budget.optimization import rwAdsDataFile as file\n",
    "\n",
    "''' restart initiate classes '''\n",
    "if debug:\n",
    "    import importlib\n",
    "    # db = importlib.reload(db)\n",
    "    file=importlib.reload(file)\n",
    "    # attr=importlib.reload(attr)\n",
    "\n",
    "__desc__ = \"read and write dataset for MCMC sampling\"\n",
    "\n",
    "clsFile = file.dataWorkLoads(\n",
    "    desc = \"optimizing action_type budgets for an ad\",\n",
    "    f_store_mode='local-fs',\n",
    "    f_store_root=proj_dir.split('mining/')[0],\n",
    "    jar_dir=None,\n",
    ")\n",
    "# if clsSDB.session:\n",
    "#     clsSDB._session.stop\n",
    "print(\"\\n%s class initialization and load complete!\" % __desc__)"
   ]
  },
  {
   "cell_type": "markdown",
   "id": "2a8066d7-a018-4f32-aceb-b0f35fb1d3d2",
   "metadata": {},
   "source": [
    "## Load data\n",
    "There are two options for loading the data\n",
    "1. querying with a select statement by defining the sql _query_ statement string\n",
    "2. reading an entire table with row limit by defining the _tbl_ comprising _project:dataset.table_\n",
    "\n",
    "By default the function _read_data_from_table() will check for the select variable; else will revert to the _tbl description to read the data\n",
    "Use either or; i.e.,: \n",
    "* if using the select query set ```db_table = None``` and assign ```select=query```\n",
    "* if using db_table, then set ```select = None``` and assign ```db_table = _tbl```"
   ]
  },
  {
   "cell_type": "code",
   "execution_count": 3,
   "id": "958f7a62-0f2c-4908-a0a1-a2c0a42f9429",
   "metadata": {},
   "outputs": [
    {
     "name": "stderr",
     "output_type": "stream",
     "text": [
      "25/03/05 12:09:25 WARN Utils: Your hostname, FarmRaider2 resolves to a loopback address: 127.0.1.1; using 192.168.2.85 instead (on interface enp3s0)\n",
      "25/03/05 12:09:25 WARN Utils: Set SPARK_LOCAL_IP if you need to bind to another address\n",
      "25/03/05 12:09:26 WARN NativeCodeLoader: Unable to load native-hadoop library for your platform... using builtin-java classes where applicable\n",
      "Setting default log level to \"WARN\".\n",
      "To adjust logging level use sc.setLogLevel(newLevel). For SparkR, use setLogLevel(newLevel).\n",
      "25/03/05 12:09:28 WARN Utils: Service 'SparkUI' could not bind on port 4040. Attempting port 4041.\n",
      "25/03/05 12:10:12 WARN package: Truncated the string representation of a plan since it was too large. This behavior can be adjusted by setting 'spark.sql.debug.maxToStringFields'.\n",
      "[Stage 422:=============================================>           (4 + 1) / 5]"
     ]
    },
    {
     "name": "stdout",
     "output_type": "stream",
     "text": [
      "Loaded FullDataset.csv 1777681 rows\n"
     ]
    },
    {
     "name": "stderr",
     "output_type": "stream",
     "text": [
      "                                                                                "
     ]
    }
   ],
   "source": [
    "_fpath = \"mining/data/budget/\"\n",
    "_fname = \"FullDataset.csv\"\n",
    "\n",
    "__def_date_attr__=\"updated_time\"\n",
    "__def_realm__='OBJECTIVE'\n",
    "__def_obj__ = 'OUTCOME_LEADS'\n",
    "\n",
    "kwargs = {\n",
    "    \"REALMFILTATTR\" : 'objective',\n",
    "    \"REALMFILTLIST\" : [__def_obj__],\n",
    "    \"UNIXTIMESTAMP\" : __def_date_attr__,\n",
    "}\n",
    "sdf = clsFile.read_realm(\n",
    "    realm = __def_realm__,\n",
    "    to_date = None,\n",
    "    from_date=None,\n",
    "    fname = _fname,\n",
    "    fpath = _fpath,\n",
    "    # **kwargs,\n",
    ")\n",
    "print(\"Loaded %s %d rows\" % (_fname, sdf.count()))# sdf.printSchema()\n"
   ]
  },
  {
   "cell_type": "markdown",
   "id": "68e6c8b7-f81b-4977-b704-c47192f307a3",
   "metadata": {},
   "source": [
    "## Check performance metrics above average\n",
    "\n",
    "* performance metrics:\n",
    "   * ROAS: Return on Ad Spend = purchase value / spend value\n",
    "   * CPA : \n",
    "   * CVR : Conversion Rate = 100 * number of app-install-- clicks / number of subsequent clicks\n",
    "   * CTR : Click Through Rate = number of clicks / number of impressions\n",
    "* plot time series of daily mean of performance metric indicators\n",
    "* plot time series of daily adsets below and above performance metric average\n",
    "* break the plots for each top 85% objectives"
   ]
  },
  {
   "cell_type": "code",
   "execution_count": 18,
   "id": "f7b96086-254b-480a-8882-49a02c6d512a",
   "metadata": {},
   "outputs": [
    {
     "name": "stderr",
     "output_type": "stream",
     "text": [
      "[Stage 446:=============================================>           (4 + 1) / 5]"
     ]
    },
    {
     "name": "stdout",
     "output_type": "stream",
     "text": [
      "+-------------+----------+------------------+------------------+\n",
      "|    objective|      date|          adset_id|          roas_sum|\n",
      "+-------------+----------+------------------+------------------+\n",
      "|OUTCOME_SALES|2025-01-22|     6373413803995|1009.0617789194634|\n",
      "|OUTCOME_SALES|2025-01-22|120213305061630701|  416.438964942474|\n",
      "|OUTCOME_SALES|2025-01-22|120215710297960195| 48.61499708263958|\n",
      "|OUTCOME_SALES|2025-01-22|     6664447098619|246.38217642824733|\n",
      "|OUTCOME_SALES|2025-01-22|     6665980608819|291.40162666549537|\n",
      "|OUTCOME_SALES|2025-01-22|120213298329550738| 67.49257171074504|\n",
      "|OUTCOME_SALES|2025-01-22|120214055089320307| 219.1811174608215|\n",
      "|OUTCOME_SALES|2025-01-22|120213647732570307|  391.995679365509|\n",
      "|OUTCOME_SALES|2025-01-22|     6568827729938| 712.6942159264781|\n",
      "|OUTCOME_SALES|2025-01-22|120215119709310279|1910.4624130116188|\n",
      "|OUTCOME_SALES|2025-01-22|120206884086910622|18143.212656484957|\n",
      "|OUTCOME_SALES|2025-01-22|120214292613280622|104.52856290866312|\n",
      "|OUTCOME_SALES|2025-01-22|120213898922710622|22.409148762153283|\n",
      "|OUTCOME_SALES|2025-01-22|120213789535740498| 945.1625592064036|\n",
      "|OUTCOME_SALES|2025-01-22|120214945751220498| 6.594131223211343|\n",
      "|OUTCOME_SALES|2025-01-22|120216186514500748|26.763791022151565|\n",
      "|OUTCOME_SALES|2025-01-22|     6308428094020|27432.689993354015|\n",
      "|OUTCOME_SALES|2025-01-22|120215465544470560|109.92898351245336|\n",
      "|OUTCOME_SALES|2025-01-22|     6618692342421|31.501475524637936|\n",
      "|OUTCOME_SALES|2025-01-22| 23845046262040798| 105.9005139884594|\n",
      "+-------------+----------+------------------+------------------+\n",
      "only showing top 20 rows\n",
      "\n"
     ]
    },
    {
     "name": "stderr",
     "output_type": "stream",
     "text": [
      "                                                                                "
     ]
    }
   ],
   "source": [
    "metric_sdf_ = sdf.select(F.col('updated_time').alias('date'),\n",
    "                         F.col('purchase_roas').alias('roas'),\n",
    "                         F.col('objective'), F.col('adset_id'))\\\n",
    "                .dropna().orderBy('date', ascending=True)\n",
    "_grp_obj = metric_sdf_.groupBy(F.col('objective'), F.col('date'), F.col('adset_id'))\\\n",
    "                .sum('roas').withColumnRenamed('sum(roas)','roas_sum')\n",
    "_grp_obj.show()"
   ]
  },
  {
   "cell_type": "code",
   "execution_count": 27,
   "id": "385a8254-69f3-4a9d-b0b9-8a01057547d9",
   "metadata": {},
   "outputs": [
    {
     "name": "stderr",
     "output_type": "stream",
     "text": [
      "[Stage 472:=============================================>           (4 + 1) / 5]"
     ]
    },
    {
     "name": "stdout",
     "output_type": "stream",
     "text": [
      "+--------------------+----------+------------------+\n",
      "|      mean_objective| mean_date|         roas_mean|\n",
      "+--------------------+----------+------------------+\n",
      "|       OUTCOME_SALES|2025-01-22| 13161.57676383296|\n",
      "|         LINK_CLICKS|2025-01-22|107.32473806914537|\n",
      "|       OUTCOME_LEADS|2025-01-22| 372.5855127552828|\n",
      "|        APP_INSTALLS|2025-01-22| 23.37858087568432|\n",
      "|         CONVERSIONS|2025-01-22| 295.8445525166202|\n",
      "|  OUTCOME_ENGAGEMENT|2025-01-22|179.76734720463563|\n",
      "|   OUTCOME_AWARENESS|2025-01-22| 30.64177717012133|\n",
      "|PRODUCT_CATALOG_S...|2025-01-22|150.27289490374358|\n",
      "|     LEAD_GENERATION|2025-01-22|12.378958379130246|\n",
      "|     POST_ENGAGEMENT|2025-01-22| 94.46618414555337|\n",
      "|       OUTCOME_SALES|2025-01-23|481.87007497207344|\n",
      "|         LINK_CLICKS|2025-01-23|293.71254413930103|\n",
      "|        APP_INSTALLS|2025-01-23| 73.99436284200863|\n",
      "|       OUTCOME_LEADS|2025-01-23|13316.999899840526|\n",
      "|  OUTCOME_ENGAGEMENT|2025-01-23| 365.9411767394511|\n",
      "|   OUTCOME_AWARENESS|2025-01-23| 79.05056169408823|\n",
      "|         CONVERSIONS|2025-01-23| 473.1042836392623|\n",
      "|PRODUCT_CATALOG_S...|2025-01-23|2856.6997726459135|\n",
      "|     LEAD_GENERATION|2025-01-23| 92.80536360400613|\n",
      "|     POST_ENGAGEMENT|2025-01-23|105.18830000207062|\n",
      "+--------------------+----------+------------------+\n",
      "only showing top 20 rows\n",
      "\n"
     ]
    },
    {
     "name": "stderr",
     "output_type": "stream",
     "text": [
      "                                                                                "
     ]
    }
   ],
   "source": [
    "_daily_mean = _grp_obj.groupBy(F.col('objective').alias('mean_objective'), \n",
    "                               F.col('date').alias('mean_date'))\\\n",
    "                                .mean('roas_sum')\\\n",
    "                    .orderBy('mean_date', ascending=True)\\\n",
    "                    .withColumnRenamed('avg(roas_sum)', 'roas_mean')\n",
    "_daily_mean.show()"
   ]
  },
  {
   "cell_type": "code",
   "execution_count": 101,
   "id": "c40c0c82-95f7-441c-9baf-ff76fe364164",
   "metadata": {},
   "outputs": [
    {
     "name": "stderr",
     "output_type": "stream",
     "text": [
      "                                                                                "
     ]
    },
    {
     "name": "stdout",
     "output_type": "stream",
     "text": [
      "+------------------+----------+------------------+------------------+-----------------+-------------------+\n",
      "|         objective|      date|          adset_id|          roas_sum|        roas_mean|           variance|\n",
      "+------------------+----------+------------------+------------------+-----------------+-------------------+\n",
      "|OUTCOME_ENGAGEMENT|2025-01-23|120215563265000687|  8.63843648208469|365.9411767394511|-357.30274025736645|\n",
      "|OUTCOME_ENGAGEMENT|2025-01-23|     6406479405161| 6.975460122699387|365.9411767394511|-358.96571661675176|\n",
      "|OUTCOME_ENGAGEMENT|2025-01-23|     6718315056680|  64.5909090909091|365.9411767394511|-301.35026764854206|\n",
      "|OUTCOME_ENGAGEMENT|2025-01-23|120219543080940348|   2.0218304757305|365.9411767394511| -363.9193462637206|\n",
      "|OUTCOME_ENGAGEMENT|2025-01-23|120215958235320713|3.1949491838620263|365.9411767394511| -362.7462275555891|\n",
      "|OUTCOME_ENGAGEMENT|2025-01-23|120215958266920713|45.094175960346966|365.9411767394511| -320.8470007791042|\n",
      "|OUTCOME_ENGAGEMENT|2025-01-23|120215958318930713|0.8772348033373063|365.9411767394511| -365.0639419361138|\n",
      "|OUTCOME_ENGAGEMENT|2025-01-23|     6401798052961|0.7948207171314742|365.9411767394511|-365.14635602231965|\n",
      "|OUTCOME_ENGAGEMENT|2025-01-23|120215957950000713|47.500999183937495|365.9411767394511| -318.4401775555136|\n",
      "|OUTCOME_ENGAGEMENT|2025-01-23|120215377520540744|2.1341127922971115|365.9411767394511|  -363.807063947154|\n",
      "|OUTCOME_ENGAGEMENT|2025-01-23|120217596585560744| 93.19086219602062|365.9411767394511| -272.7503145434305|\n",
      "|OUTCOME_ENGAGEMENT|2025-01-23|120212154421650442|3.3150392279641974|365.9411767394511|-362.62613751148695|\n",
      "|OUTCOME_ENGAGEMENT|2025-01-23|120215377520550744| 9.298913043478262|365.9411767394511| -356.6422636959729|\n",
      "|OUTCOME_ENGAGEMENT|2025-01-23|120215186385980476| 16.11165048543689|365.9411767394511|-349.82952625401424|\n",
      "|OUTCOME_ENGAGEMENT|2025-01-23| 23858102414540537|101.52270189608363|365.9411767394511| -264.4184748433675|\n",
      "|OUTCOME_ENGAGEMENT|2025-01-23|     6393602618761|18.020551888170186|365.9411767394511|-347.92062485128093|\n",
      "|OUTCOME_ENGAGEMENT|2025-01-23|120202051562790211|219.37086092715234|365.9411767394511| -146.5703158122988|\n",
      "|OUTCOME_ENGAGEMENT|2025-01-23|120215563265150687| 1.703862660944206|365.9411767394511| -364.2373140785069|\n",
      "|OUTCOME_ENGAGEMENT|2025-01-23|120215001883790660|  229.631134931279|365.9411767394511|-136.31004180817212|\n",
      "|OUTCOME_ENGAGEMENT|2025-01-23|120215563265010687|11.735294117647058|365.9411767394511|-354.20588262180405|\n",
      "+------------------+----------+------------------+------------------+-----------------+-------------------+\n",
      "only showing top 20 rows\n",
      "\n"
     ]
    }
   ],
   "source": [
    "_join_obj_roas_sdf = _grp_obj.join(_daily_mean, \n",
    "               (_daily_mean['mean_objective'] == _grp_obj['objective']) & \\\n",
    "                  (_daily_mean['mean_date'] == _grp_obj['date']), \"inner\")\\\n",
    "            .withColumn('variance', F.col('roas_sum')-F.col('roas_mean'))\\\n",
    "            .select('objective','date','adset_id','roas_sum','roas_mean',\n",
    "                    'variance')\n",
    "_join_obj_roas_sdf.show()"
   ]
  },
  {
   "cell_type": "code",
   "execution_count": 89,
   "id": "62ae2a5b-52b7-4c00-b6cc-7e615bf1c491",
   "metadata": {},
   "outputs": [
    {
     "name": "stderr",
     "output_type": "stream",
     "text": [
      "[Stage 871:=============>   (4 + 1) / 5][Stage 873:>                (0 + 0) / 1]"
     ]
    },
    {
     "name": "stdout",
     "output_type": "stream",
     "text": [
      "Unique list of objectives: ['APP_INSTALLS', 'POST_ENGAGEMENT', 'MESSAGES', 'OUTCOME_AWARENESS', 'PRODUCT_CATALOG_SALES', 'LINK_CLICKS', 'OUTCOME_LEADS', 'OUTCOME_ENGAGEMENT', 'LEAD_GENERATION', 'VIDEO_VIEWS', 'CONVERSIONS', 'OUTCOME_SALES']\n"
     ]
    },
    {
     "name": "stderr",
     "output_type": "stream",
     "text": [
      "                                                                                "
     ]
    }
   ],
   "source": [
    "print(\"Unique list of objectives:\", \n",
    "      [x['objective'] for x in _join_obj_roas_sdf.select('objective').distinct().collect()])"
   ]
  },
  {
   "cell_type": "code",
   "execution_count": 104,
   "id": "c68920da-2987-4221-98f3-881a8944eda7",
   "metadata": {},
   "outputs": [
    {
     "name": "stderr",
     "output_type": "stream",
     "text": [
      "[Stage 1017:>                                                       (0 + 1) / 1]"
     ]
    },
    {
     "name": "stdout",
     "output_type": "stream",
     "text": [
      "+----------+---------+---------+\n",
      "|      date|pos_count|neg_count|\n",
      "+----------+---------+---------+\n",
      "|2025-02-16|       32|      195|\n",
      "|2025-02-01|      207|     1359|\n",
      "|2025-02-15|        5|      264|\n",
      "|2025-02-05|      135|     1999|\n",
      "|2025-02-13|       99|      470|\n",
      "|2025-02-06|      129|     1846|\n",
      "|2025-02-12|       14|      602|\n",
      "|2025-02-10|       87|      851|\n",
      "|2025-02-03|       45|     2880|\n",
      "|2025-01-28|      251|     3084|\n",
      "|2025-02-18|       65|      137|\n",
      "|2025-02-09|       43|      634|\n",
      "|2025-02-17|       15|      238|\n",
      "|2025-01-29|      241|     2812|\n",
      "|2025-02-08|       58|      916|\n",
      "|2025-01-26|        1|     1300|\n",
      "|2025-02-04|      210|     2387|\n",
      "|2025-01-22|       29|     2860|\n",
      "|2025-01-30|      213|     2523|\n",
      "|2025-01-31|      145|     2580|\n",
      "+----------+---------+---------+\n",
      "only showing top 20 rows\n",
      "\n"
     ]
    },
    {
     "name": "stderr",
     "output_type": "stream",
     "text": [
      "                                                                                "
     ]
    }
   ],
   "source": [
    "_objective = \"OUTCOME_SALES\"\n",
    "_neg_daily_counts = _join_obj_roas_sdf.filter((F.col('variance')<0) & \n",
    "                                              (F.col('objective').isin(_objective)))\\\n",
    "                            .groupBy('date').count().orderBy('date')\\\n",
    "                            .withColumnRenamed('count','neg_count')\\\n",
    "                            .withColumnRenamed('date','neg_date')\n",
    "_pos_daily_counts = _join_obj_roas_sdf.filter((F.col('variance')>0) & \n",
    "                                              (F.col('objective').isin(_objective)))\\\n",
    "                            .groupBy('date').count().orderBy('date')\\\n",
    "                            .withColumnRenamed('count','pos_count') \\\n",
    "                            .withColumnRenamed('date','pos_date')\n",
    "# _pos_daily_counts.show(), _neg_daily_counts.show()\n",
    "counts_sdf = _pos_daily_counts.join(_neg_daily_counts, \n",
    "                                    _pos_daily_counts['pos_date']==_neg_daily_counts['neg_date'])\\\n",
    "                            .select('pos_date','pos_count','neg_count')\\\n",
    "                            .withColumnRenamed('pos_date', 'date')\n",
    "counts_sdf.show()"
   ]
  },
  {
   "cell_type": "code",
   "execution_count": 112,
   "id": "64502aae-601c-412d-a7db-3b91a7e17e23",
   "metadata": {},
   "outputs": [
    {
     "data": {
      "text/plain": [
       "<matplotlib.legend.Legend at 0x7f3ffd2be590>"
      ]
     },
     "execution_count": 112,
     "metadata": {},
     "output_type": "execute_result"
    },
    {
     "data": {
      "image/png": "[encoded data removed]",
      "text/plain": [
       "<Figure size 1000x500 with 1 Axes>"
      ]
     },
     "metadata": {},
     "output_type": "display_data"
    }
   ],
   "source": [
    "import pandas as pd\n",
    "import numpy as np\n",
    "import matplotlib.pyplot as plt\n",
    "df = counts_sdf.toPandas()\n",
    "# df.plot(x='date',  kind='hist')\n",
    "\n",
    "fig, ax = plt.subplots(1, figsize=(10, 10))\n",
    "\n",
    "df.set_index('date')[['pos_count', 'neg_count']].plot(figsize=(10,5), grid=True, ax=ax)\n",
    "\n",
    "# ax.set_yticks(range(-10, 41, 5))\n",
    "# ax.set_yticklabels( ('{}%'.format(x) for x in range(0, 101, 10)), fontsize=15)\n",
    "# ax.set_xticks(df.date, rotation=45, ha='right')\n",
    "# ax.set_xticklabels([\"{}\".format(x) for x in df.date])\n",
    "ax.legend(loc='upper right')"
   ]
  },
  {
   "cell_type": "code",
   "execution_count": 90,
   "id": "0d2cd0f6-c3e3-4974-8406-01e1f9e0027f",
   "metadata": {},
   "outputs": [
    {
     "name": "stderr",
     "output_type": "stream",
     "text": [
      "[Stage 880:=============================================>           (4 + 1) / 5]"
     ]
    },
    {
     "name": "stdout",
     "output_type": "stream",
     "text": [
      "+----------+------------------+-------------------+\n",
      "|      date|         above_avg|          below_avg|\n",
      "+----------+------------------+-------------------+\n",
      "|2025-01-22| 9.649200047706396| -9.649200047706394|\n",
      "|2025-01-23|44.490590237930604| -44.49059023793063|\n",
      "|2025-01-24| 32.04163919381507| -32.04163919381507|\n",
      "|2025-01-25| 16.63207673478237| -16.63207673478237|\n",
      "|2025-01-26|63.380345820761896| -63.38034582076191|\n",
      "|2025-01-27| 11.31822779949522| -11.31822779949522|\n",
      "|2025-01-28| 72.83430553941345| -72.83430553941344|\n",
      "|2025-01-29| 46.17024208403831| -46.17024208403831|\n",
      "|2025-01-30|11.672596254095014|-11.672596254095014|\n",
      "|2025-01-31|62.671556754797706|-62.671556754797685|\n",
      "|2025-02-01|1.2799113067965608|-1.2799113067965608|\n",
      "|2025-02-02|4.3994116086688795|-4.3994116086688795|\n",
      "|2025-02-03|1.8499838587105126|-1.8499838587105133|\n",
      "|2025-02-04|1.2177051984435627| -1.217705198443563|\n",
      "|2025-02-05|1.0938729703485257|-1.0938729703485262|\n",
      "|2025-02-06|1.1049338814189598|-1.1049338814189598|\n",
      "|2025-02-07|1080.6764356399037|-1080.6764356399042|\n",
      "|2025-02-08|19.428868908363977|-19.428868908363974|\n",
      "|2025-02-09|               0.0|                0.0|\n",
      "|2025-02-10| 44.21376223322457| -44.21376223322456|\n",
      "+----------+------------------+-------------------+\n",
      "only showing top 20 rows\n",
      "\n"
     ]
    },
    {
     "name": "stderr",
     "output_type": "stream",
     "text": [
      "                                                                                "
     ]
    }
   ],
   "source": [
    "### DEPRECATED\n",
    "_objective = \"APP_INSTALLS\"\n",
    "# df = _join_obj_roas_sdf.select('date','above_avg','below_avg').where(F.col('objective').isin(_objective)).toPandas()\n",
    "_obj_sdf=_join_obj_roas_sdf\\\n",
    "                    .filter(F.col('objective').isin(_objective))\\\n",
    "                    .groupBy(F.col('date'))\\\n",
    "                    .agg(F.mean('above_avg').alias('above_avg'),\n",
    "                         F.mean('below_avg').alias('below_avg'))\\\n",
    "                    .orderBy('date')\n",
    "_obj_sdf.show()"
   ]
  },
  {
   "cell_type": "markdown",
   "id": "785829a9-b910-41ab-b3ca-eb5679763a3c",
   "metadata": {},
   "source": [
    "## Filter dataframe by selected columns\n",
    "__Inputs__\n",
    "* set the ```_pop_id_col``` variable with an identifier (not necessarilly unique)\n",
    "* list the ```_filter_by_cols``` with the required set of column names\n",
    "__outputs__\n",
    "* ```filt_sdf_``` will produce the filtered dataframe such that none of the rows contain a column with Null value"
   ]
  },
  {
   "cell_type": "code",
   "execution_count": 4,
   "id": "a4b27e10-e57f-45aa-b21f-5b1e2527eecd",
   "metadata": {},
   "outputs": [
    {
     "name": "stderr",
     "output_type": "stream",
     "text": [
      "[Stage 9:>                                                          (0 + 1) / 1]"
     ]
    },
    {
     "name": "stdout",
     "output_type": "stream",
     "text": [
      "Total filtered rows 172689 for 4906 unique AD_ID values\n"
     ]
    },
    {
     "name": "stderr",
     "output_type": "stream",
     "text": [
      "[Stage 15:>                                                         (0 + 1) / 1]"
     ]
    },
    {
     "name": "stdout",
     "output_type": "stream",
     "text": [
      "+-------------+--------+--------+---------+-------+-------+--------+-----------------------------------------+------+\n",
      "|ad_id        |d1_click|d7_click|d28_click|d1_view|d7_view|d28_view|action_type                              |value |\n",
      "+-------------+--------+--------+---------+-------+-------+--------+-----------------------------------------+------+\n",
      "|6216259122941|69.46   |305.04  |305.04   |160.31 |285.95 |490.8   |offsite_conversion.fb_pixel_add_to_cart  |465.35|\n",
      "|6216259122941|115.33  |168.53  |168.53   |54.52  |273.93 |273.93  |offsite_conversion.fb_pixel_purchase     |223.05|\n",
      "|6216259122941|0.0     |10.45   |10.45    |0.0    |0.0    |0.0     |offsite_conversion.fb_pixel_custom       |10.45 |\n",
      "|6216259122941|17.0    |55.5    |55.5     |847.77 |1975.11|2084.1  |add_to_cart                              |903.27|\n",
      "|6216259122941|0.0     |0.0     |0.0      |6.16   |6.16   |6.16    |offsite_conversion.custom.814730377326332|6.16  |\n",
      "+-------------+--------+--------+---------+-------+-------+--------+-----------------------------------------+------+\n",
      "only showing top 5 rows\n",
      "\n"
     ]
    },
    {
     "name": "stderr",
     "output_type": "stream",
     "text": [
      "                                                                                "
     ]
    }
   ],
   "source": [
    "from pyspark.sql import functions as F\n",
    "\n",
    "_pop_id_col = 'ad_id'\n",
    "_filter_by_cols = ['ad_id', 'd1_click', 'd7_click', 'd28_click', 'd1_view', 'd7_view', 'd28_view', \n",
    "                   'action_type', 'value']\n",
    "filt_sdf_ = sdf.select(_filter_by_cols).dropna()\n",
    "print(\"Total filtered rows %d for %d unique %s values\" \n",
    "      % (filt_sdf_.count(), filt_sdf_.select(F.col(_pop_id_col)).distinct().count(), _pop_id_col.upper()))\n",
    "filt_sdf_.show(n=5, truncate=False)"
   ]
  },
  {
   "cell_type": "markdown",
   "id": "b550ee49-88ad-438a-8f48-e44e9773a80c",
   "metadata": {},
   "source": [
    "## Randomly sample the data\n",
    "[Calculating your sample size](https://www.remesh.ai/resources/how-to-calculate-sample-size)\n",
    "#### Confidence interval\n",
    "* First we set the deisred _confidence level_:\n",
    "  * also cointed as margin of error; typically set at 5%\n",
    "  * will result in a 95% confindece interval (can also use 90% and 99%)\n",
    "  * hence, we set ```alpha=0.95```\n",
    "* _Tolerance_ interval: 90% (0.90 percentile) ensures that p% of the sample\n",
    "* _Prediction_ interval\n",
    "* Define the _Population_ by ramdomly selecting N representative rows"
   ]
  },
  {
   "cell_type": "code",
   "execution_count": 5,
   "id": "d2ef00ff-58a3-4d1c-b8ac-295e451d2ee3",
   "metadata": {},
   "outputs": [
    {
     "name": "stderr",
     "output_type": "stream",
     "text": [
      "[Stage 16:>                                                         (0 + 1) / 1]"
     ]
    },
    {
     "name": "stdout",
     "output_type": "stream",
     "text": [
      "+---------------------------------------------+------------------+-----+------------------+------------------+------------------+\n",
      "|action_type                                  |mean              |total|std               |ci95_hi           |ci95_lo           |\n",
      "+---------------------------------------------+------------------+-----+------------------+------------------+------------------+\n",
      "|offsite_conversion.fb_pixel_search           |640.7014705882353 |340  |870.6589685522944 |733.2489704276998 |548.1539707487709 |\n",
      "|offsite_conversion.custom.814730377326332    |0.7744172086043025|1999 |2.5929290250512023|0.8880857542863496|0.6607486629222554|\n",
      "|offsite_conversion.custom.6508804492500376   |36.32727272727273 |55   |34.51197030417264 |45.44831525517694 |27.206230199368523|\n",
      "|offsite_conversion.fb_pixel_purchase         |135.0893611937763 |69896|8289.946985837309 |196.54781971682343|73.6309026707292  |\n",
      "|offsite_conversion.fb_pixel_custom           |23.921662269129286|379  |60.276364137898845|29.990192422671438|17.853132115587133|\n",
      "|add_to_cart                                  |478.9864077531011 |34928|3570.108515057919 |516.4276827163085 |441.5451327898937 |\n",
      "|offsite_conversion.fb_pixel_initiate_checkout|2790.6016518506567|6187 |29118.705864183896|3516.1862957934227|2065.0170079078907|\n",
      "|initiate_checkout                            |2790.60165185066  |6187 |29118.70586418395 |3516.1862957934272|2065.0170079078925|\n",
      "|offsite_conversion.fb_pixel_lead             |35.604166666666664|480  |28.776033567251844|38.178509507717244|33.029823825616084|\n",
      "|offsite_conversion.fb_pixel_view_content     |75169.6703343424  |15194|275306.9432745128 |79547.28141315468 |70792.05925553013 |\n",
      "|offsite_conversion.custom.1293257727985657   |179.66666666666666|9    |64.82090712108247 |222.01632598577388|137.31700734755944|\n",
      "|offsite_conversion.custom.1041890976843444   |52.76923076923077 |39   |37.9296173253217  |64.6734859790317  |40.86497555942984 |\n",
      "|offsite_conversion.custom.1419289755516889   |86.36             |25   |87.68213425018044 |120.73139662607073|51.988603373929266|\n",
      "|search                                       |640.7014705882353 |340  |870.658968552294  |733.2489704276998 |548.1539707487709 |\n",
      "|onsite_conversion.purchase                   |2038.3763440860216|837  |3684.3282866738664|2287.980414192256 |1788.7722739797873|\n",
      "|offsite_conversion.fb_pixel_add_to_cart      |478.9864077531016 |34928|3570.108515057927 |516.427682716309  |441.5451327898941 |\n",
      "|offsite_conversion.fb_pixel_add_payment_info |10574.699538106237|866  |67222.69955474546 |15051.967365567592|6097.431710644882 |\n",
      "+---------------------------------------------+------------------+-----+------------------+------------------+------------------+\n",
      "\n"
     ]
    },
    {
     "name": "stderr",
     "output_type": "stream",
     "text": [
      "                                                                                "
     ]
    }
   ],
   "source": [
    "from pyspark.sql import functions as F\n",
    "\n",
    "def confidence_interval(df, grp):\n",
    "    # col = F.when(F.col('status') == F.lit('ACTIVE'), 1.0).otherwise(0.0)\n",
    "    col_ = 'd1_click'\n",
    "\n",
    "    return df.groupBy(grp).agg(\n",
    "        F.mean(col_).alias('mean'),\n",
    "        F.count(F.col(col_)).alias('total'),\n",
    "        F.stddev(col_).alias('std')\n",
    "    ).withColumn(\n",
    "        'ci95_hi',\n",
    "        F.col('mean') + 1.96 * F.col('std') / F.sqrt(F.col('total'))\n",
    "    ).withColumn(\n",
    "        'ci95_lo',\n",
    "        F.col('mean') - 1.96 * F.col('std') / F.sqrt(F.col('total'))\n",
    "    )\n",
    "\n",
    "confidence_interval(filt_sdf_, 'action_type').show(truncate=False)"
   ]
  },
  {
   "cell_type": "code",
   "execution_count": 5,
   "id": "57d8cf33-f98e-45ee-af81-d5c12bdb325e",
   "metadata": {},
   "outputs": [
    {
     "name": "stderr",
     "output_type": "stream",
     "text": [
      "                                                                                "
     ]
    },
    {
     "name": "stdout",
     "output_type": "stream",
     "text": [
      "created franctions for 73070 index pairs\n",
      "Sample 1: \n"
     ]
    },
    {
     "name": "stderr",
     "output_type": "stream",
     "text": [
      "                                                                                "
     ]
    },
    {
     "name": "stdout",
     "output_type": "stream",
     "text": [
      "+-------------+--------+--------+---------+-------+-------+--------+-----------------------------------------+------+\n",
      "|ad_id        |d1_click|d7_click|d28_click|d1_view|d7_view|d28_view|action_type                              |value |\n",
      "+-------------+--------+--------+---------+-------+-------+--------+-----------------------------------------+------+\n",
      "|6216259122941|69.46   |305.04  |305.04   |160.31 |285.95 |490.8   |offsite_conversion.fb_pixel_add_to_cart  |465.35|\n",
      "|6216259122941|115.33  |168.53  |168.53   |54.52  |273.93 |273.93  |offsite_conversion.fb_pixel_purchase     |223.05|\n",
      "|6216259122941|0.0     |0.0     |0.0      |6.16   |6.16   |6.16    |offsite_conversion.custom.814730377326332|6.16  |\n",
      "|6216259122941|150.8   |150.8   |150.8    |317.55 |530.58 |530.58  |offsite_conversion.fb_pixel_purchase     |468.35|\n",
      "|6216259324541|85.73   |290.66  |290.66   |395.09 |486.82 |505.65  |offsite_conversion.fb_pixel_purchase     |685.75|\n",
      "+-------------+--------+--------+---------+-------+-------+--------+-----------------------------------------+------+\n",
      "only showing top 5 rows\n",
      "\n",
      "Sample 2: \n"
     ]
    },
    {
     "name": "stderr",
     "output_type": "stream",
     "text": [
      "[Stage 21:>                                                         (0 + 1) / 1]"
     ]
    },
    {
     "name": "stdout",
     "output_type": "stream",
     "text": [
      "+-------------+--------+--------+---------+-------+-------+--------+-----------------------------------------+------+\n",
      "|ad_id        |d1_click|d7_click|d28_click|d1_view|d7_view|d28_view|action_type                              |value |\n",
      "+-------------+--------+--------+---------+-------+-------+--------+-----------------------------------------+------+\n",
      "|6216259122941|69.46   |305.04  |305.04   |160.31 |285.95 |490.8   |offsite_conversion.fb_pixel_add_to_cart  |465.35|\n",
      "|6216259122941|115.33  |168.53  |168.53   |54.52  |273.93 |273.93  |offsite_conversion.fb_pixel_purchase     |223.05|\n",
      "|6216259122941|17.0    |55.5    |55.5     |847.77 |1975.11|2084.1  |add_to_cart                              |903.27|\n",
      "|6216259122941|0.0     |0.0     |0.0      |6.16   |6.16   |6.16    |offsite_conversion.custom.814730377326332|6.16  |\n",
      "|6216259122941|26.24   |91.7    |91.7     |634.78 |697.34 |697.34  |offsite_conversion.fb_pixel_purchase     |726.48|\n",
      "+-------------+--------+--------+---------+-------+-------+--------+-----------------------------------------+------+\n",
      "only showing top 5 rows\n",
      "\n"
     ]
    },
    {
     "name": "stderr",
     "output_type": "stream",
     "text": [
      "                                                                                "
     ]
    }
   ],
   "source": [
    "column_index_1 = 'd28_click'\n",
    "column_index_2 = 'd28_view'\n",
    "\n",
    "fraction = 0.4\n",
    "''' Apply transformation on every element by defining the columns (first, second) \n",
    "    as well as sampling percentage as an argument in the map function '''\n",
    "fractions = filt_sdf_.rdd.map(lambda x:\n",
    "                              (x[column_index_1],\n",
    "                               x[column_index_2]))\\\n",
    "                    .distinct()\\\n",
    "                    .map(lambda x:\n",
    "                         (x,fraction)).collectAsMap()\n",
    "print(\"created franctions for %d index pairs\" % len(fractions))\n",
    "# Create tuple of elements using keyBy function \n",
    "key_df = filt_sdf_.rdd.keyBy(lambda x: (x[column_index_1],x[column_index_2]))\n",
    "\n",
    "# Extract random sample through sampleByKey function \n",
    "# using boolean, columns (first and second) and fraction as arguments \n",
    "print(\"Sample 1: \")\n",
    "sample_1_sdf = key_df.sampleByKey(\n",
    "    False, fractions).map(lambda x: x[1]).toDF(filt_sdf_.columns)\n",
    "sample_1_sdf.show(n=5, truncate=False)\n",
    " \n",
    "# Again extract random sample through sampleByKey function \n",
    "# using boolean, columns (first and second) and fraction as arguments \n",
    "print(\"Sample 2: \")\n",
    "sample_2_sdf = key_df.sampleByKey(\n",
    "    False, fractions).map(lambda x: x[1]).toDF(filt_sdf_.columns)\n",
    "sample_2_sdf.show(n=5, truncate=False)"
   ]
  },
  {
   "cell_type": "markdown",
   "id": "2f8cdb60-7b02-4c4f-b2f5-646402d95476",
   "metadata": {},
   "source": [
    "## Chi-square test"
   ]
  },
  {
   "cell_type": "markdown",
   "id": "955b93e3-d69b-4335-bfb6-736bccb51b36",
   "metadata": {},
   "source": [
    "#### Apply OneHotEncoding\n",
    "Convert categorical strings to numerical values"
   ]
  },
  {
   "cell_type": "code",
   "execution_count": 6,
   "id": "f7d7f151-f4d4-434a-b0e2-3bc245f48ffc",
   "metadata": {},
   "outputs": [
    {
     "name": "stderr",
     "output_type": "stream",
     "text": [
      "[Stage 25:>                                                         (0 + 1) / 1]"
     ]
    },
    {
     "name": "stdout",
     "output_type": "stream",
     "text": [
      "+-----------------------------------------+------------------+--------------+\n",
      "|action_type                              |Categories_Indexed|labels        |\n",
      "+-----------------------------------------+------------------+--------------+\n",
      "|offsite_conversion.fb_pixel_add_to_cart  |1.0               |(16,[1],[1.0])|\n",
      "|offsite_conversion.fb_pixel_purchase     |0.0               |(16,[0],[1.0])|\n",
      "|offsite_conversion.custom.814730377326332|6.0               |(16,[6],[1.0])|\n",
      "|offsite_conversion.fb_pixel_purchase     |0.0               |(16,[0],[1.0])|\n",
      "|offsite_conversion.fb_pixel_purchase     |0.0               |(16,[0],[1.0])|\n",
      "+-----------------------------------------+------------------+--------------+\n",
      "only showing top 5 rows\n",
      "\n"
     ]
    },
    {
     "name": "stderr",
     "output_type": "stream",
     "text": [
      "                                                                                "
     ]
    }
   ],
   "source": [
    "from pyspark.ml.feature import VectorAssembler, StringIndexer, OneHotEncoder\n",
    "from pyspark.ml.stat import ChiSquareTest\n",
    "\n",
    "''' define sample data '''\n",
    "sample_sdf = sample_1_sdf .drop(F.col('ad_id'))\n",
    "\n",
    "''' StringIndexer Initialization '''\n",
    "_label_col = 'action_type'\n",
    "indexer = StringIndexer(inputCol=_label_col, outputCol=\"Categories_Indexed\")\n",
    "indexerModel = indexer.fit(sample_sdf)\n",
    "\n",
    "# Transform the DataFrame using the fitted StringIndexer model\n",
    "indexed_df = indexerModel.transform(sample_sdf)\n",
    "# indexed_df.show()\n",
    "''' apply encoder '''\n",
    "encoder = OneHotEncoder(inputCol=\"Categories_Indexed\", outputCol=\"labels\")\n",
    "encoded_df = encoder.fit(indexed_df).transform(indexed_df)\n",
    "encoded_df.select(_label_col, \"Categories_Indexed\", \"labels\").show(n=5, truncate=False)"
   ]
  },
  {
   "cell_type": "code",
   "execution_count": 7,
   "id": "cc678f41-451f-467b-9a3c-2df223217a0f",
   "metadata": {},
   "outputs": [
    {
     "name": "stderr",
     "output_type": "stream",
     "text": [
      "[Stage 26:>                                                         (0 + 1) / 1]"
     ]
    },
    {
     "name": "stdout",
     "output_type": "stream",
     "text": [
      "+--------+--------+---------+-------+-------+--------+-----------------------------------------+------+------------------+--------------+-----------------------------------------------------+\n",
      "|d1_click|d7_click|d28_click|d1_view|d7_view|d28_view|action_type                              |value |Categories_Indexed|labels        |features                                             |\n",
      "+--------+--------+---------+-------+-------+--------+-----------------------------------------+------+------------------+--------------+-----------------------------------------------------+\n",
      "|69.46   |305.04  |305.04   |160.31 |285.95 |490.8   |offsite_conversion.fb_pixel_add_to_cart  |465.35|1.0               |(16,[1],[1.0])|[69.46,305.04,305.04,160.31,285.95,490.8,465.35,1.0] |\n",
      "|115.33  |168.53  |168.53   |54.52  |273.93 |273.93  |offsite_conversion.fb_pixel_purchase     |223.05|0.0               |(16,[0],[1.0])|[115.33,168.53,168.53,54.52,273.93,273.93,223.05,0.0]|\n",
      "|0.0     |0.0     |0.0      |6.16   |6.16   |6.16    |offsite_conversion.custom.814730377326332|6.16  |6.0               |(16,[6],[1.0])|[0.0,0.0,0.0,6.16,6.16,6.16,6.16,6.0]                |\n",
      "|150.8   |150.8   |150.8    |317.55 |530.58 |530.58  |offsite_conversion.fb_pixel_purchase     |468.35|0.0               |(16,[0],[1.0])|[150.8,150.8,150.8,317.55,530.58,530.58,468.35,0.0]  |\n",
      "|85.73   |290.66  |290.66   |395.09 |486.82 |505.65  |offsite_conversion.fb_pixel_purchase     |685.75|0.0               |(16,[0],[1.0])|[85.73,290.66,290.66,395.09,486.82,505.65,685.75,0.0]|\n",
      "+--------+--------+---------+-------+-------+--------+-----------------------------------------+------+------------------+--------------+-----------------------------------------------------+\n",
      "only showing top 5 rows\n",
      "\n"
     ]
    },
    {
     "name": "stderr",
     "output_type": "stream",
     "text": [
      "                                                                                "
     ]
    }
   ],
   "source": [
    "_remove_lst = ['action_type', 'labels']\n",
    "_feature_cols = [x for x in encoded_df.columns if x not in _remove_lst]\n",
    "# _features='d28_click'\n",
    "\n",
    "assembler = VectorAssembler(inputCols = _feature_cols, outputCol = 'features')\n",
    "vec_sdf = assembler.transform(encoded_df)\n",
    "vec_sdf.show(n=5, truncate=False)\n"
   ]
  },
  {
   "cell_type": "code",
   "execution_count": 26,
   "id": "a27be55e-290f-406f-b37a-8309b87ce4b2",
   "metadata": {},
   "outputs": [
    {
     "name": "stderr",
     "output_type": "stream",
     "text": [
      "                                                                                "
     ]
    }
   ],
   "source": [
    "r = ChiSquareTest.test(vec_sdf.select('features', 'Categories_Indexed').limit(100), 'features', 'Categories_Indexed')"
   ]
  },
  {
   "cell_type": "markdown",
   "id": "f1acde03-313e-4a23-8dc3-96b7c7109665",
   "metadata": {},
   "source": [
    "## Results\n",
    "the chi-square test result helps you determine if differences in feature values are due to chance or if they reflect a true pattern. It is used to test and compare two different types of data: observed data and expected data; thus, measures what is called the \"goodness to fit\" which is the difference between what you'd expect and what has been observed\n",
    "\n",
    "The hypothese we are testing is to determine if the features: ```d1_click, d7_click, d28_click, d1_view, d7_view, d28_view, value``` have an effect (or are associated) with ```action_type```; which may describe how budgets might be distributed???)\n",
    "\n",
    "w.r.t Chi-square test:\n",
    "*  _P-Value_ is a statistical measure that helps to assess the importance of your test results\n",
    "*  _ndegreesOfFreedom_ is the number of cells in the deature sample that can vary before the rest can be calculated\n",
    "*  _statistic_ compares the size of any discrepancies between the expected results and the actual results, given the size of the sample and the number of variables in the relationship"
   ]
  },
  {
   "cell_type": "code",
   "execution_count": 41,
   "id": "c4c8a163-be84-4401-b7c7-4b9882c73214",
   "metadata": {},
   "outputs": [
    {
     "name": "stdout",
     "output_type": "stream",
     "text": [
      "Sample size: 1000\n",
      "\n",
      "features: d1_click, d7_click, d28_click, d1_view, d7_view, d28_view, value\n",
      "label: action_type\n",
      "\n",
      "pValues: [0.048493226111149035,0.44627209161354975,0.6508140984033642,0.6624499875134036,0.46458059439628785,0.625566214596088,0.31327071857175204,0.0]\n"
     ]
    }
   ],
   "source": [
    "vals = r.first()\n",
    "print(\"Sample size: 1000\")\n",
    "print(\"\\nfeatures: d1_click, d7_click, d28_click, d1_view, d7_view, d28_view, value\")\n",
    "print(\"label: action_type\")\n",
    "print(\"\\npValues: \" + str(vals[0]))\n",
    "# print(\"\\ndegreesOfFreedom: \" + str(vals[1]))\n",
    "# print(\"\\nstatistics: \" + str(vals[2]))"
   ]
  },
  {
   "cell_type": "markdown",
   "id": "e2901752-2329-48d6-bbf3-a9963a88ed9f",
   "metadata": {},
   "source": [
    "## DEPRECATED"
   ]
  },
  {
   "cell_type": "code",
   "execution_count": 21,
   "id": "c58471b4-a0cd-4904-9e5d-9d635bac014b",
   "metadata": {},
   "outputs": [
    {
     "name": "stderr",
     "output_type": "stream",
     "text": [
      "                                                                                "
     ]
    },
    {
     "name": "stdout",
     "output_type": "stream",
     "text": [
      "+----------------------------+-----+\n",
      "|d28_click_Categories_Indexed|0.0  |\n",
      "+----------------------------+-----+\n",
      "|0.0                         |12353|\n",
      "+----------------------------+-----+\n",
      "\n"
     ]
    },
    {
     "name": "stderr",
     "output_type": "stream",
     "text": [
      "[Stage 47:>                                                         (0 + 1) / 1]"
     ]
    },
    {
     "name": "stdout",
     "output_type": "stream",
     "text": [
      "Chi-Square Statistic: 0.0\n",
      "P-Value: 1.0\n",
      "Degrees of Freedom: 0\n",
      " \n",
      "Contingency Table:\n",
      "                                0.0\n",
      "d28_click_Categories_Indexed       \n",
      "0.0                           12353\n",
      " \n",
      "Expected Frequencies:\n",
      "                                  0.0\n",
      "d28_click_Categories_Indexed         \n",
      "0.0                           12353.0\n"
     ]
    },
    {
     "name": "stderr",
     "output_type": "stream",
     "text": [
      "                                                                                "
     ]
    }
   ],
   "source": [
    "import pandas as pd\n",
    "from scipy.stats import chi2_contingency\n",
    "from pyspark.mllib.stat import Statistics as stat\n",
    "\n",
    "sample_sdf = vec_sdf\n",
    "\n",
    "col_1 = 'd28_click'\n",
    "col_2 = 'Categories_Indexed'\n",
    "\n",
    "chisqr_sdf = sample_sdf.select(col_1,col_2)\\\n",
    "                .where((F.col(col_1).isNotNull()) & (F.col(col_1)==0))\\\n",
    "                .where((F.col(col_2).isNotNull()) & (F.col(col_2)==0))\n",
    "\n",
    "contingency_table = chisqr_sdf.stat.crosstab(col_1, col_2)\n",
    "contingency_table.show(truncate=False)\n",
    "\n",
    "#Converting spark contingency_table to pandas DataFrame\n",
    "contingency_table_df = contingency_table.toPandas()\n",
    "contingency_table_df = contingency_table_df.set_index(col_1+\"_\"+col_2)\n",
    "# Perform the chi-square test\n",
    "chi2, p_value, degrees_of_freedom, expected_frequencies = chi2_contingency(contingency_table_df)\n",
    "\n",
    "# Print the results\n",
    "print(\"Chi-Square Statistic:\", chi2)\n",
    "print(\"P-Value:\", p_value)\n",
    "print(\"Degrees of Freedom:\", degrees_of_freedom)\n",
    "\n",
    "print(\" \")\n",
    "print(\"Contingency Table:\")\n",
    "print(contingency_table_df)\n",
    "\n",
    "print(\" \")\n",
    "print(\"Expected Frequencies:\")\n",
    "print(pd.DataFrame(expected_frequencies, index=contingency_table_df.index, columns=contingency_table_df.columns))"
   ]
  },
  {
   "cell_type": "code",
   "execution_count": null,
   "id": "c813f834-a756-4153-81a4-e09fadc6ae18",
   "metadata": {},
   "outputs": [
    {
     "name": "stdout",
     "output_type": "stream",
     "text": [
      "randomly selected 100 rows\n"
     ]
    },
    {
     "name": "stderr",
     "output_type": "stream",
     "text": [
      "[Stage 56:>                                                         (0 + 1) / 1]"
     ]
    },
    {
     "name": "stdout",
     "output_type": "stream",
     "text": [
      "+---------+------+\n",
      "|d28_click| value|\n",
      "+---------+------+\n",
      "|     45.0|  45.0|\n",
      "|      0.0|215.49|\n",
      "|   345.23|456.38|\n",
      "+---------+------+\n",
      "only showing top 3 rows\n",
      "\n"
     ]
    },
    {
     "name": "stderr",
     "output_type": "stream",
     "text": [
      "                                                                                "
     ]
    }
   ],
   "source": [
    "sample_sdf = sdf.select(_filter_by_cols)\\\n",
    "                .where(F.col('click_d28').isNotNull())\\\n",
    "                .orderBy(F.rand()).limit(100)\n",
    "print(\"randomly selected %d rows\" % sample_sdf.count())\n",
    "sample_sdf.show(n=3)"
   ]
  },
  {
   "cell_type": "code",
   "execution_count": null,
   "id": "3fe519f0-be2b-4e17-9016-9f56cd6df1c5",
   "metadata": {},
   "outputs": [],
   "source": []
  }
 ],
 "metadata": {
  "kernelspec": {
   "display_name": "Python 3 (ipykernel)",
   "language": "python",
   "name": "python3"
  },
  "language_info": {
   "codemirror_mode": {
    "name": "ipython",
    "version": 3
   },
   "file_extension": ".py",
   "mimetype": "text/x-python",
   "name": "python",
   "nbconvert_exporter": "python",
   "pygments_lexer": "ipython3",
   "version": "3.10.16"
  }
 },
 "nbformat": 4,
 "nbformat_minor": 5
}
