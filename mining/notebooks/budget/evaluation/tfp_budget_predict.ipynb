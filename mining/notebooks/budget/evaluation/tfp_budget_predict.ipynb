{
 "cells": [
  {
   "cell_type": "markdown",
   "id": "9e1a19de",
   "metadata": {},
   "source": [
    "# Applying the Hidden Markov Model on Budget allocation\n",
    "\n",
    "The hidden markov model would recommend a budget using conversion state transitions, budget emissions, and return on investment indicators \n",
    "\n",
    "### Objective\n",
    "Minimize the budget _B<sub>t</sub>_ to transition from state _S<sub>t</sub>_ to _S<sub>t+1</sub>_\n",
    "\n",
    "### Subject to\n",
    "* Sum of _B<sub>t</sub>_ <= _B_;  for all _t_\n",
    "* RMS of _R_ <= $\\epsilon$; where _R_ is the Residual of the expected and actual return on investmenet _B_\n",
    "* Sum of _S<sub>t+1</sub> - S<sub>t</sub>_ <= _T_; where _T_ is the total allowable time period to complete all transitions from S<sub>start</sub> to S<sub>final</sub>\n",
    "\n",
    "#### Reference\n",
    "[Analyzing Time Series Data with Markov Transition Matrices](https://medium.com/towards-data-science/time-series-data-markov-transition-matrices-7060771e362b)"
   ]
  },
  {
   "cell_type": "code",
   "execution_count": 1,
   "id": "ea2801e6",
   "metadata": {},
   "outputs": [],
   "source": [
    "'''\n",
    "    WARNING CONTROL to display or ignore all warnings\n",
    "'''\n",
    "import warnings; warnings.simplefilter('ignore')     #switch betweeb 'default' and 'ignore'\n",
    "import traceback\n",
    "\n",
    "''' Set debug flag to view extended error messages; else set it to False to turn off debugging mode '''\n",
    "debug = True\n"
   ]
  },
  {
   "cell_type": "markdown",
   "id": "fa3bda64",
   "metadata": {},
   "source": [
    "## Instantiate Classes"
   ]
  },
  {
   "cell_type": "code",
   "execution_count": 3,
   "id": "93e9a568",
   "metadata": {},
   "outputs": [
    {
     "name": "stdout",
     "output_type": "stream",
     "text": [
      "All functional SPARKFILE-libraries in LOADER-package of ETL-module imported successfully!\n",
      "__propAttr__ Class initialization complete\n",
      "sparkFile Class initialization complete\n",
      "\n",
      "read and write BigQuery dataset for hypothese testing class initialization and load complete!\n"
     ]
    }
   ],
   "source": [
    "import os\n",
    "import sys\n",
    "import numpy as np\n",
    "from pyspark.sql import functions as F\n",
    "import tensorflow_probability as tfp\n",
    "import tensorflow as tf\n",
    "\n",
    "proj_dir = os.path.abspath(os.pardir)\n",
    "sys.path.insert(1,proj_dir.split('mining/')[0])\n",
    "# from rezaware.modules.etl.loader import sparkRDBM as db\n",
    "from rezaware.modules.etl.loader import sparkFile as file\n",
    "# from rezaware.modules.etl.loader import __propAttr__ as attr\n",
    "\n",
    "''' restart initiate classes '''\n",
    "if debug:\n",
    "    import importlib\n",
    "    # db = importlib.reload(db)\n",
    "    file=importlib.reload(file)\n",
    "    # attr=importlib.reload(attr)\n",
    "\n",
    "__desc__ = \"read and write BigQuery dataset for hypothese testing\"\n",
    "# clsSDB = db.dataWorkLoads(\n",
    "#     desc=__desc__,\n",
    "#     db_type = 'bigquery',\n",
    "#     db_driver=None,\n",
    "#     db_hostIP=None,\n",
    "#     db_port = None,\n",
    "#     db_name = None,\n",
    "#     db_schema='combined_data_facebook_ads',\n",
    "#     spark_partitions=None,\n",
    "#     spark_format = 'bigquery',\n",
    "#     spark_save_mode=None,\n",
    "#     # spark_jar_dir = _jar,\n",
    "# )\n",
    "clsFile = file.dataWorkLoads(\n",
    "    desc = \"optimizing action_type budgets for an ad\",\n",
    "    store_mode='local-fs',\n",
    "    store_root=proj_dir.split('mining/')[0],\n",
    "    jar_dir=None,\n",
    ")\n",
    "# if clsSDB.session:\n",
    "#     clsSDB._session.stop\n",
    "print(\"\\n%s class initialization and load complete!\" % __desc__)"
   ]
  },
  {
   "cell_type": "markdown",
   "id": "2a8066d7-a018-4f32-aceb-b0f35fb1d3d2",
   "metadata": {},
   "source": [
    "## Load data"
   ]
  },
  {
   "cell_type": "code",
   "execution_count": 4,
   "id": "958f7a62-0f2c-4908-a0a1-a2c0a42f9429",
   "metadata": {},
   "outputs": [
    {
     "name": "stderr",
     "output_type": "stream",
     "text": [
      "25/02/15 16:25:22 WARN Utils: Your hostname, Waidy-Think-Three resolves to a loopback address: 127.0.1.1; using 192.168.2.82 instead (on interface enp0s25)\n",
      "25/02/15 16:25:22 WARN Utils: Set SPARK_LOCAL_IP if you need to bind to another address\n",
      "25/02/15 16:25:32 WARN NativeCodeLoader: Unable to load native-hadoop library for your platform... using builtin-java classes where applicable\n",
      "Setting default log level to \"WARN\".\n",
      "To adjust logging level use sc.setLogLevel(newLevel). For SparkR, use setLogLevel(newLevel).\n",
      "                                                                                "
     ]
    },
    {
     "name": "stdout",
     "output_type": "stream",
     "text": [
      "Loaded 61513 rows\n",
      "root\n",
      " |-- account_id: long (nullable = true)\n",
      " |-- ad_id: long (nullable = true)\n",
      " |-- adset_id: long (nullable = true)\n",
      " |-- campaign_id: long (nullable = true)\n",
      " |-- updated_time: date (nullable = true)\n",
      " |-- impressions: integer (nullable = true)\n",
      " |-- frequency: double (nullable = true)\n",
      " |-- reach: integer (nullable = true)\n",
      " |-- CTR: double (nullable = true)\n",
      " |-- CPC: double (nullable = true)\n",
      " |-- CPM: double (nullable = true)\n",
      " |-- ROAS: double (nullable = true)\n",
      " |-- social_spend: double (nullable = true)\n",
      " |-- spend: double (nullable = true)\n",
      " |-- click: integer (nullable = true)\n",
      " |-- auction_bid: integer (nullable = true)\n",
      " |-- goal: string (nullable = true)\n",
      " |-- purchase_value: double (nullable = true)\n",
      " |-- account_currency: string (nullable = true)\n",
      " |-- purchase: double (nullable = true)\n",
      " |-- fb_pixel_view_value: double (nullable = true)\n",
      " |-- fb_pixel_purchase_value: double (nullable = true)\n",
      " |-- fb_pixel_add_to_cart_value: double (nullable = true)\n",
      " |-- mobile_app_purchase_value: string (nullable = true)\n",
      " |-- link_click_value: string (nullable = true)\n",
      " |-- landing_page_view_value: string (nullable = true)\n",
      " |-- like_value: string (nullable = true)\n",
      " |-- comment_value: string (nullable = true)\n",
      " |-- post_reaction_value: string (nullable = true)\n",
      " |-- video_view_value: string (nullable = true)\n",
      " |-- app_install_value: string (nullable = true)\n",
      " |-- outbound_click_value: string (nullable = true)\n",
      " |-- engagement_value: string (nullable = true)\n",
      " |-- omni_purchase_value: double (nullable = true)\n",
      " |-- omni_view_content_value: double (nullable = true)\n",
      " |-- omni_add_to_cart_value: double (nullable = true)\n",
      " |-- omni_initiated_checkout_value: double (nullable = true)\n",
      " |-- omni_search_value: string (nullable = true)\n",
      "\n"
     ]
    }
   ],
   "source": [
    "options = {\n",
    "    \"inferSchema\":True,\n",
    "    \"header\":True,\n",
    "    \"delimiter\":\",\",\n",
    "    \"pathGlobFilter\":'*.csv',\n",
    "    \"recursiveFileLookup\":True,\n",
    "}\n",
    "\n",
    "sdf=clsFile.read_files_to_dtype(\n",
    "    as_type = \"SPARK\",      # optional - define the data type to return\n",
    "    folder_path=\"mining/data/budget/\",  # optional - relative path, w.r.t. self.storeRoot\n",
    "        file_name=\"complete-60-accounts.csv\",  # optional - name of the file to read\n",
    "        file_type=None,  # optional - read all the files of same type\n",
    "        **options,\n",
    ")\n",
    "print(\"Loaded %d rows\" % sdf.count())\n",
    "sdf.printSchema()"
   ]
  },
  {
   "cell_type": "markdown",
   "id": "88ef9eba-46fe-4961-a60f-8c2b9f627275",
   "metadata": {},
   "source": [
    "## Filter data into Inputs and Outputs\n"
   ]
  },
  {
   "cell_type": "code",
   "execution_count": 28,
   "id": "14ffc03e-b8bd-4795-b841-e3cb5cb491f1",
   "metadata": {},
   "outputs": [
    {
     "name": "stdout",
     "output_type": "stream",
     "text": [
      "26193\n",
      "25554\n"
     ]
    }
   ],
   "source": [
    "from pyspark.sql import functions as F\n",
    "\n",
    "filt_sdf = sdf.select('spend','CTR', 'CPC', 'CPM', 'ROAS').dropna()\n",
    "print(filt_sdf.count())\n",
    "mean_stddev_sdf = filt_sdf.agg(F.mean('spend').alias('spend_mean'), F.mean('CTR').alias('CTR_mean'), \n",
    "                        F.mean('CPC').alias('CPC_mean'), F.mean('CPM').alias('CPM_mean'), \n",
    "                        F.mean('ROAS').alias('ROAS_mean'),\n",
    "                        F.stddev('spend').alias('spend_stddev'), F.stddev('CTR').alias('CTR_stddev'), \n",
    "                        F.stddev('CPC').alias('CPC_stddev'), F.stddev('CPM').alias('CPM_stddev'),\n",
    "                        F.mean('ROAS').alias('ROAS_stddev'))\n",
    "_lb = mean_stddev_sdf.select(F.col('spend_mean')).first()[0] + \\\n",
    "        3*mean_stddev_sdf.select(F.col('spend_stddev')).first()[0]\n",
    "filt_sdf = filt_sdf.select('*').where(F.col('spend') <= _lb)\n",
    "                   \n",
    "print(filt_sdf.count())"
   ]
  },
  {
   "cell_type": "code",
   "execution_count": 61,
   "id": "ae65b2a4-01ea-414e-bf18-ca4384256daa",
   "metadata": {},
   "outputs": [
    {
     "name": "stderr",
     "output_type": "stream",
     "text": [
      "                                                                                "
     ]
    },
    {
     "name": "stdout",
     "output_type": "stream",
     "text": [
      "(26193, 5)\n",
      "data shape: (1000, 5)\n",
      "            spend          CTR          CPC          CPM         ROAS\n",
      "count  1000.00000  1000.000000  1000.000000  1000.000000  1000.000000\n",
      "mean   1353.51126     3.495548     3.704650    88.710291     3.672618\n",
      "std    1378.39755     2.648121     3.289767    73.112959     8.818108\n",
      "min       3.00000     0.296883     0.100000     5.486355     0.069855\n",
      "25%     235.91000     1.423133     1.234649    25.518812     0.855013\n",
      "50%     717.99500     2.613780     3.148969    56.681347     1.480782\n",
      "75%    2512.50250     4.571602     5.159725   146.481902     2.799525\n",
      "max    4371.23000    11.139263    19.841667   267.869227   169.184290\n"
     ]
    }
   ],
   "source": [
    "    # 'spend','omni_view_content_value', 'omni_add_to_cart_value',\n",
    "    # 'omni_initiated_checkout_value', 'omni_purchase_value').dropna().collect())\n",
    "\n",
    "_data_df= sdf.select('spend','CTR', 'CPC', 'CPM', 'ROAS').dropna().toPandas()\n",
    "print(_data_df.shape)\n",
    "_data_df = _data_df[_data_df['spend']<=\\\n",
    "                    _data_df['spend'].mean()+2*_data_df['spend'].std()]\n",
    "_data_df = _data_df[_data_df['CTR']<=\\\n",
    "                    _data_df['CTR'].mean()+2*_data_df['CTR'].std()]\n",
    "_data_df = _data_df[_data_df['CPC']<=\\\n",
    "                    _data_df['CPC'].mean()+2*_data_df['CPC'].std()]\n",
    "_data_df = _data_df[_data_df['ROAS']<=\\\n",
    "                    _data_df['ROAS'].mean()+2*_data_df['ROAS'].std()]\n",
    "_data_df = _data_df[_data_df['CPM']<=\\\n",
    "                    _data_df['CPM'].mean()+2*_data_df['CPM'].std()]\n",
    "# _data_df = _data_df[_data_df['spend']<=4000]\n",
    "\n",
    "_data_df = _data_df.sample(n=1000)\n",
    "\n",
    "print(\"data shape:\", _data_df.shape)\n",
    "print(\"data quartile  :\", _data_df.describe())"
   ]
  },
  {
   "cell_type": "code",
   "execution_count": 62,
   "id": "9c1b8ee1-9378-4ea6-836b-dfa01cbe7b59",
   "metadata": {},
   "outputs": [
    {
     "data": {
      "image/png": "[encoded data removed]",
      "text/plain": [
       "<Figure size 640x480 with 1 Axes>"
      ]
     },
     "metadata": {},
     "output_type": "display_data"
    }
   ],
   "source": [
    "import matplotlib.pyplot as plt\n",
    "%matplotlib inline\n",
    "\n",
    "plt.scatter(_data_df['spend'],_data_df['CPM'])\n",
    "plt.title(\"Scatter Plot\")\n",
    "plt.xlabel(\"spend\")\n",
    "plt.ylabel(\"CPM\")\n",
    "plt.show()"
   ]
  },
  {
   "cell_type": "markdown",
   "id": "bb7bbdd3-65df-4051-ada8-f2d293ca423c",
   "metadata": {},
   "source": [
    "## Define the model\n",
    "\n",
    "* [Probabilistic Modeling with TensorFlow Probability](https://www.scaler.com/topics/tensorflow/tensorflow-probability/)\n",
    "* [Tensorflow probability examples](https://github.com/tensorflow/probability/tree/main/tensorflow_probability/examples/jupyter_notebooks)"
   ]
  },
  {
   "cell_type": "markdown",
   "id": "a0439274-5a42-4303-808a-73ec0aeabafb",
   "metadata": {},
   "source": [
    "## Split the train & test data"
   ]
  },
  {
   "cell_type": "code",
   "execution_count": 32,
   "id": "d298a953-6e34-4e43-ae1c-85c3cd4cb230",
   "metadata": {},
   "outputs": [
    {
     "name": "stdout",
     "output_type": "stream",
     "text": [
      "X:  (1000, 4) y:  (1000, 1)\n"
     ]
    }
   ],
   "source": [
    "# Compile and train the standard neural network\n",
    "_pred_cols = ['CTR','CPC', 'CPM', 'ROAS']\n",
    "_label_col = ['spend']\n",
    "X = np.array(_data_df[_pred_cols])\n",
    "y = np.array(_data_df[_label_col])             \n",
    "print(\"X: \",X.shape,\"y: \", y.shape)"
   ]
  },
  {
   "cell_type": "code",
   "execution_count": 33,
   "id": "10222b78-01b8-48ec-a62e-afb23f02c5dc",
   "metadata": {},
   "outputs": [
    {
     "name": "stdout",
     "output_type": "stream",
     "text": [
      "X_train:  (800, 4) y_train:  (800, 1) \n",
      "X_test:  (200, 4) y_test:  (200, 1)\n"
     ]
    }
   ],
   "source": [
    "from sklearn.model_selection import train_test_split\n",
    "X_train, X_test, y_train, y_test = train_test_split(X,y,test_size=0.2)\n",
    "print(\"X_train: \",X_train.shape, \"y_train: \", y_train.shape,\n",
    "      \"\\nX_test: \", X_test.shape, \"y_test: \", y_test.shape)"
   ]
  },
  {
   "cell_type": "code",
   "execution_count": 35,
   "id": "157c8bf2-eda9-4a8c-92a6-9570bbd9ac1f",
   "metadata": {},
   "outputs": [
    {
     "name": "stdout",
     "output_type": "stream",
     "text": [
      "(1000, 100, 4)\n"
     ]
    }
   ],
   "source": [
    "X_reshaped = np.tile(X[:, np.newaxis, :], (1, 100, 1)) \n",
    "print(X_reshaped.shape)"
   ]
  },
  {
   "cell_type": "markdown",
   "id": "0e1e2fbb-20da-476a-976e-b5a2d540cb50",
   "metadata": {},
   "source": [
    "## DistibutionLambda wrapper function"
   ]
  },
  {
   "cell_type": "code",
   "execution_count": 9,
   "id": "fb2013a9-21ee-4fa9-a58d-dc50dc13f88b",
   "metadata": {},
   "outputs": [],
   "source": [
    "from tensorflow.keras.layers import Layer\n",
    "class DistributionLambdaLayer(Layer):\n",
    "    def __init__(self, **kwargs):\n",
    "        super(DistributionLambdaLayer, self).__init__(**kwargs)\n",
    "        self.dist_lambda = tfp.layers.DistributionLambda(\n",
    "            lambda t: tfp.distributions.Normal(loc=t, scale=1)\n",
    "        )\n",
    "\n",
    "    def call(self, inputs):\n",
    "        # Get the distribution\n",
    "        distribution = self.dist_lambda(inputs)\n",
    "        # Return a tensor (e.g., the mean of the distribution)\n",
    "        return distribution.mean()"
   ]
  },
  {
   "cell_type": "markdown",
   "id": "19f9f110-be01-4f5c-875d-8061eed7a7dc",
   "metadata": {},
   "source": [
    "## Custom loss function"
   ]
  },
  {
   "cell_type": "code",
   "execution_count": 46,
   "id": "4f8ac6aa-318a-4968-b156-50bdeacfde2b",
   "metadata": {},
   "outputs": [],
   "source": [
    "# Define a custom loss function\n",
    "# custom_loss = lambda y, y_pred: -y_pred.log_prob(y)\n",
    "\n",
    "# def custom_loss(y_true, y_pred):\n",
    "#     return -y_pred.log_prob(y_true)\n",
    "\n",
    "def custom_loss(y_true, y_pred):\n",
    "    # Reshape y_true to match y_pred's shape\n",
    "    y_true = tf.expand_dims(y_true, axis=-1)  # Shape: [8] -> [8, 1]\n",
    "    y_true = tf.expand_dims(y_true, axis=-1)  # Shape: [8, 1] -> [8, 1, 1]\n",
    "    y_true = tf.tile(y_true, [1, 100, 32])   # Shape: [8, 1, 1] -> [8, 100, 32]\n",
    "\n",
    "    # Recreate the distribution\n",
    "    dist = tfp.distributions.Normal(loc=y_pred, scale=1)\n",
    "    # Compute the negative log probability\n",
    "    return -dist.log_prob(y_true)"
   ]
  },
  {
   "cell_type": "code",
   "execution_count": 56,
   "id": "39500fd8-3311-45ea-80c6-0a8b361867dd",
   "metadata": {},
   "outputs": [
    {
     "name": "stdout",
     "output_type": "stream",
     "text": [
      "Epoch 1/10\n",
      "\u001b[1m25/25\u001b[0m \u001b[32m━━━━━━━━━━━━━━━━━━━━\u001b[0m\u001b[37m\u001b[0m \u001b[1m3s\u001b[0m 39ms/step - loss: 14.9526\n",
      "Epoch 2/10\n",
      "\u001b[1m25/25\u001b[0m \u001b[32m━━━━━━━━━━━━━━━━━━━━\u001b[0m\u001b[37m\u001b[0m \u001b[1m1s\u001b[0m 37ms/step - loss: 9.8375 \n",
      "Epoch 3/10\n",
      "\u001b[1m25/25\u001b[0m \u001b[32m━━━━━━━━━━━━━━━━━━━━\u001b[0m\u001b[37m\u001b[0m \u001b[1m1s\u001b[0m 40ms/step - loss: 7.4172\n",
      "Epoch 4/10\n",
      "\u001b[1m25/25\u001b[0m \u001b[32m━━━━━━━━━━━━━━━━━━━━\u001b[0m\u001b[37m\u001b[0m \u001b[1m1s\u001b[0m 37ms/step - loss: 6.8330\n",
      "Epoch 5/10\n",
      "\u001b[1m25/25\u001b[0m \u001b[32m━━━━━━━━━━━━━━━━━━━━\u001b[0m\u001b[37m\u001b[0m \u001b[1m1s\u001b[0m 37ms/step - loss: 6.6153\n",
      "Epoch 6/10\n",
      "\u001b[1m25/25\u001b[0m \u001b[32m━━━━━━━━━━━━━━━━━━━━\u001b[0m\u001b[37m\u001b[0m \u001b[1m1s\u001b[0m 38ms/step - loss: 6.3438\n",
      "Epoch 7/10\n",
      "\u001b[1m25/25\u001b[0m \u001b[32m━━━━━━━━━━━━━━━━━━━━\u001b[0m\u001b[37m\u001b[0m \u001b[1m1s\u001b[0m 37ms/step - loss: 6.6200\n",
      "Epoch 8/10\n",
      "\u001b[1m25/25\u001b[0m \u001b[32m━━━━━━━━━━━━━━━━━━━━\u001b[0m\u001b[37m\u001b[0m \u001b[1m1s\u001b[0m 40ms/step - loss: 6.5274 \n",
      "Epoch 9/10\n",
      "\u001b[1m25/25\u001b[0m \u001b[32m━━━━━━━━━━━━━━━━━━━━\u001b[0m\u001b[37m\u001b[0m \u001b[1m1s\u001b[0m 40ms/step - loss: 6.6954\n",
      "Epoch 10/10\n",
      "\u001b[1m25/25\u001b[0m \u001b[32m━━━━━━━━━━━━━━━━━━━━\u001b[0m\u001b[37m\u001b[0m \u001b[1m1s\u001b[0m 41ms/step - loss: 6.5355 \n",
      "\u001b[1m7/7\u001b[0m \u001b[32m━━━━━━━━━━━━━━━━━━━━\u001b[0m\u001b[37m\u001b[0m \u001b[1m1s\u001b[0m 56ms/step \n",
      "y_test shape: (200, 100, 1)\n",
      "y_pred shape: (200, 100, 32)\n",
      "Mean Squared Error (MSE) on test set: 11.070491\n"
     ]
    },
    {
     "data": {
      "text/html": [
       "<pre style=\"white-space:pre;overflow-x:auto;line-height:normal;font-family:Menlo,'DejaVu Sans Mono',consolas,'Courier New',monospace\"><span style=\"font-weight: bold\">Model: \"functional_16\"</span>\n",
       "</pre>\n"
      ],
      "text/plain": [
       "\u001b[1mModel: \"functional_16\"\u001b[0m\n"
      ]
     },
     "metadata": {},
     "output_type": "display_data"
    },
    {
     "data": {
      "text/html": [
       "<pre style=\"white-space:pre;overflow-x:auto;line-height:normal;font-family:Menlo,'DejaVu Sans Mono',consolas,'Courier New',monospace\">┏━━━━━━━━━━━━━━━━━━━━━━━━━━━━━━━━━┳━━━━━━━━━━━━━━━━━━━━━━━━┳━━━━━━━━━━━━━━━┓\n",
       "┃<span style=\"font-weight: bold\"> Layer (type)                    </span>┃<span style=\"font-weight: bold\"> Output Shape           </span>┃<span style=\"font-weight: bold\">       Param # </span>┃\n",
       "┡━━━━━━━━━━━━━━━━━━━━━━━━━━━━━━━━━╇━━━━━━━━━━━━━━━━━━━━━━━━╇━━━━━━━━━━━━━━━┩\n",
       "│ input_layer_23 (<span style=\"color: #0087ff; text-decoration-color: #0087ff\">InputLayer</span>)     │ (<span style=\"color: #00d7ff; text-decoration-color: #00d7ff\">None</span>, <span style=\"color: #00af00; text-decoration-color: #00af00\">100</span>, <span style=\"color: #00af00; text-decoration-color: #00af00\">4</span>)         │             <span style=\"color: #00af00; text-decoration-color: #00af00\">0</span> │\n",
       "├─────────────────────────────────┼────────────────────────┼───────────────┤\n",
       "│ lstm_9 (<span style=\"color: #0087ff; text-decoration-color: #0087ff\">LSTM</span>)                   │ (<span style=\"color: #00d7ff; text-decoration-color: #00d7ff\">None</span>, <span style=\"color: #00af00; text-decoration-color: #00af00\">100</span>, <span style=\"color: #00af00; text-decoration-color: #00af00\">64</span>)        │        <span style=\"color: #00af00; text-decoration-color: #00af00\">17,664</span> │\n",
       "├─────────────────────────────────┼────────────────────────┼───────────────┤\n",
       "│ dense_35 (<span style=\"color: #0087ff; text-decoration-color: #0087ff\">Dense</span>)                │ (<span style=\"color: #00d7ff; text-decoration-color: #00d7ff\">None</span>, <span style=\"color: #00af00; text-decoration-color: #00af00\">100</span>, <span style=\"color: #00af00; text-decoration-color: #00af00\">32</span>)        │         <span style=\"color: #00af00; text-decoration-color: #00af00\">2,080</span> │\n",
       "├─────────────────────────────────┼────────────────────────┼───────────────┤\n",
       "│ lambda_7 (<span style=\"color: #0087ff; text-decoration-color: #0087ff\">Lambda</span>)               │ (<span style=\"color: #00d7ff; text-decoration-color: #00d7ff\">None</span>, <span style=\"color: #00af00; text-decoration-color: #00af00\">100</span>, <span style=\"color: #00af00; text-decoration-color: #00af00\">32</span>)        │             <span style=\"color: #00af00; text-decoration-color: #00af00\">0</span> │\n",
       "└─────────────────────────────────┴────────────────────────┴───────────────┘\n",
       "</pre>\n"
      ],
      "text/plain": [
       "┏━━━━━━━━━━━━━━━━━━━━━━━━━━━━━━━━━┳━━━━━━━━━━━━━━━━━━━━━━━━┳━━━━━━━━━━━━━━━┓\n",
       "┃\u001b[1m \u001b[0m\u001b[1mLayer (type)                   \u001b[0m\u001b[1m \u001b[0m┃\u001b[1m \u001b[0m\u001b[1mOutput Shape          \u001b[0m\u001b[1m \u001b[0m┃\u001b[1m \u001b[0m\u001b[1m      Param #\u001b[0m\u001b[1m \u001b[0m┃\n",
       "┡━━━━━━━━━━━━━━━━━━━━━━━━━━━━━━━━━╇━━━━━━━━━━━━━━━━━━━━━━━━╇━━━━━━━━━━━━━━━┩\n",
       "│ input_layer_23 (\u001b[38;5;33mInputLayer\u001b[0m)     │ (\u001b[38;5;45mNone\u001b[0m, \u001b[38;5;34m100\u001b[0m, \u001b[38;5;34m4\u001b[0m)         │             \u001b[38;5;34m0\u001b[0m │\n",
       "├─────────────────────────────────┼────────────────────────┼───────────────┤\n",
       "│ lstm_9 (\u001b[38;5;33mLSTM\u001b[0m)                   │ (\u001b[38;5;45mNone\u001b[0m, \u001b[38;5;34m100\u001b[0m, \u001b[38;5;34m64\u001b[0m)        │        \u001b[38;5;34m17,664\u001b[0m │\n",
       "├─────────────────────────────────┼────────────────────────┼───────────────┤\n",
       "│ dense_35 (\u001b[38;5;33mDense\u001b[0m)                │ (\u001b[38;5;45mNone\u001b[0m, \u001b[38;5;34m100\u001b[0m, \u001b[38;5;34m32\u001b[0m)        │         \u001b[38;5;34m2,080\u001b[0m │\n",
       "├─────────────────────────────────┼────────────────────────┼───────────────┤\n",
       "│ lambda_7 (\u001b[38;5;33mLambda\u001b[0m)               │ (\u001b[38;5;45mNone\u001b[0m, \u001b[38;5;34m100\u001b[0m, \u001b[38;5;34m32\u001b[0m)        │             \u001b[38;5;34m0\u001b[0m │\n",
       "└─────────────────────────────────┴────────────────────────┴───────────────┘\n"
      ]
     },
     "metadata": {},
     "output_type": "display_data"
    },
    {
     "data": {
      "text/html": [
       "<pre style=\"white-space:pre;overflow-x:auto;line-height:normal;font-family:Menlo,'DejaVu Sans Mono',consolas,'Courier New',monospace\"><span style=\"font-weight: bold\"> Total params: </span><span style=\"color: #00af00; text-decoration-color: #00af00\">59,234</span> (231.39 KB)\n",
       "</pre>\n"
      ],
      "text/plain": [
       "\u001b[1m Total params: \u001b[0m\u001b[38;5;34m59,234\u001b[0m (231.39 KB)\n"
      ]
     },
     "metadata": {},
     "output_type": "display_data"
    },
    {
     "data": {
      "text/html": [
       "<pre style=\"white-space:pre;overflow-x:auto;line-height:normal;font-family:Menlo,'DejaVu Sans Mono',consolas,'Courier New',monospace\"><span style=\"font-weight: bold\"> Trainable params: </span><span style=\"color: #00af00; text-decoration-color: #00af00\">19,744</span> (77.12 KB)\n",
       "</pre>\n"
      ],
      "text/plain": [
       "\u001b[1m Trainable params: \u001b[0m\u001b[38;5;34m19,744\u001b[0m (77.12 KB)\n"
      ]
     },
     "metadata": {},
     "output_type": "display_data"
    },
    {
     "data": {
      "text/html": [
       "<pre style=\"white-space:pre;overflow-x:auto;line-height:normal;font-family:Menlo,'DejaVu Sans Mono',consolas,'Courier New',monospace\"><span style=\"font-weight: bold\"> Non-trainable params: </span><span style=\"color: #00af00; text-decoration-color: #00af00\">0</span> (0.00 B)\n",
       "</pre>\n"
      ],
      "text/plain": [
       "\u001b[1m Non-trainable params: \u001b[0m\u001b[38;5;34m0\u001b[0m (0.00 B)\n"
      ]
     },
     "metadata": {},
     "output_type": "display_data"
    },
    {
     "data": {
      "text/html": [
       "<pre style=\"white-space:pre;overflow-x:auto;line-height:normal;font-family:Menlo,'DejaVu Sans Mono',consolas,'Courier New',monospace\"><span style=\"font-weight: bold\"> Optimizer params: </span><span style=\"color: #00af00; text-decoration-color: #00af00\">39,490</span> (154.26 KB)\n",
       "</pre>\n"
      ],
      "text/plain": [
       "\u001b[1m Optimizer params: \u001b[0m\u001b[38;5;34m39,490\u001b[0m (154.26 KB)\n"
      ]
     },
     "metadata": {},
     "output_type": "display_data"
    }
   ],
   "source": [
    "import numpy as np\n",
    "import tensorflow as tf\n",
    "import tensorflow_probability as tfp\n",
    "from tensorflow.keras import Model, Input\n",
    "from tensorflow.keras.layers import Dense, LSTM, Lambda\n",
    "\n",
    "# Step 1: Generate or load your data\n",
    "# Example: Create dummy data\n",
    "num_samples = 1000  # Number of samples\n",
    "num_timesteps = 100  # Number of time steps\n",
    "num_features = 4  # Number of features per time step\n",
    "num_classes = 10  # Number of output classes\n",
    "\n",
    "# X has shape (num_samples, num_features)\n",
    "X = np.random.rand(num_samples, num_features)  # Example input data\n",
    "# Reshape X to (num_samples, num_timesteps, num_features)\n",
    "X_reshaped = np.tile(X[:, np.newaxis, :], (1, num_timesteps, 1))\n",
    "\n",
    "# y has shape (num_samples,)\n",
    "y = np.random.randint(0, num_classes, size=num_samples)  # Example target data\n",
    "# Reshape y to (num_samples, num_timesteps, 1)\n",
    "y_reshaped = np.tile(y[:, np.newaxis, np.newaxis], (1, num_timesteps, 1))\n",
    "\n",
    "# Split data into training and testing sets\n",
    "split = int(0.8 * num_samples)  # 80% training, 20% testing\n",
    "x_train, x_test = X_reshaped[:split], X_reshaped[split:]\n",
    "y_train, y_test = y_reshaped[:split], y_reshaped[split:]\n",
    "\n",
    "# Step 2: Define the model\n",
    "# Input layer expects (num_timesteps, num_features)\n",
    "inputs = Input(shape=(num_timesteps, num_features))\n",
    "\n",
    "# LSTM layer for sequential data\n",
    "x = LSTM(64, return_sequences=True)(inputs)\n",
    "\n",
    "# Dense layer\n",
    "x = Dense(32, activation='relu')(x)\n",
    "\n",
    "# Output a distribution (e.g., Normal distribution) and extract the mean\n",
    "outputs = Lambda(\n",
    "    lambda t: tfp.distributions.Normal(loc=t, scale=1).mean(),  # Extract the mean\n",
    "    output_shape=(num_timesteps, 32)  # Specify the output shape\n",
    ")(x)\n",
    "\n",
    "# Create the model\n",
    "model = Model(inputs, outputs)\n",
    "\n",
    "# Step 3: Define a custom loss function\n",
    "def custom_loss(y_true, y_pred):\n",
    "    # Ensure y_true has the correct shape [batch_size, num_timesteps, 1]\n",
    "    y_true = tf.reshape(y_true, [-1, num_timesteps, 1])  # Reshape to [batch_size, num_timesteps, 1]\n",
    "\n",
    "    # Recreate the distribution\n",
    "    dist = tfp.distributions.Normal(loc=y_pred, scale=1)\n",
    "    # Compute the negative log probability\n",
    "    return -dist.log_prob(y_true)\n",
    "\n",
    "# Step 4: Compile the model\n",
    "model.compile(optimizer='adam', loss=custom_loss)\n",
    "\n",
    "# Step 5: Train the model\n",
    "model.fit(x_train, y_train, epochs=10, batch_size=32, verbose=1)\n",
    "\n",
    "# Step 6: Evaluate the model on the test set\n",
    "# Generate predictions for the test set\n",
    "y_pred = model.predict(x_test)\n",
    "\n",
    "# Print the shapes of y_test and y_pred\n",
    "print(\"y_test shape:\", y_test.shape)  # Should be (num_test_samples, num_timesteps, 1)\n",
    "print(\"y_pred shape:\", y_pred.shape)  # Should be (num_test_samples, num_timesteps, 32)\n",
    "\n",
    "# Step 7: Evaluate the predictions\n",
    "# Compute the mean squared error (MSE) between y_test and y_pred\n",
    "mse = tf.keras.losses.MeanSquaredError()\n",
    "mse_value = mse(y_test, y_pred).numpy()\n",
    "print(\"Mean Squared Error (MSE) on test set:\", mse_value)\n",
    "\n",
    "# Step 8: Summary of the model\n",
    "model.summary()"
   ]
  },
  {
   "cell_type": "code",
   "execution_count": null,
   "id": "0b8348fc-c1e9-4fb7-9a58-e3d320dc51c8",
   "metadata": {},
   "outputs": [],
   "source": []
  }
 ],
 "metadata": {
  "kernelspec": {
   "display_name": "Python 3 (ipykernel)",
   "language": "python",
   "name": "python3"
  },
  "language_info": {
   "codemirror_mode": {
    "name": "ipython",
    "version": 3
   },
   "file_extension": ".py",
   "mimetype": "text/x-python",
   "name": "python",
   "nbconvert_exporter": "python",
   "pygments_lexer": "ipython3",
   "version": "3.10.16"
  }
 },
 "nbformat": 4,
 "nbformat_minor": 5
}
