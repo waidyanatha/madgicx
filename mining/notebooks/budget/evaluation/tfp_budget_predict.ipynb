{
 "cells": [
  {
   "cell_type": "markdown",
   "id": "9e1a19de",
   "metadata": {},
   "source": [
    "# Applying the Hidden Markov Model on Budget allocation\n",
    "\n",
    "The hidden markov model would recommend a budget using conversion state transitions, budget emissions, and return on investment indicators \n",
    "\n",
    "### Objective\n",
    "Minimize the budget _B<sub>t</sub>_ to transition from state _S<sub>t</sub>_ to _S<sub>t+1</sub>_\n",
    "\n",
    "### Subject to\n",
    "* Sum of _B<sub>t</sub>_ <= _B_;  for all _t_\n",
    "* RMS of _R_ <= $\\epsilon$; where _R_ is the Residual of the expected and actual return on investmenet _B_\n",
    "* Sum of _S<sub>t+1</sub> - S<sub>t</sub>_ <= _T_; where _T_ is the total allowable time period to complete all transitions from S<sub>start</sub> to S<sub>final</sub>\n",
    "\n",
    "#### Reference\n",
    "[Analyzing Time Series Data with Markov Transition Matrices](https://medium.com/towards-data-science/time-series-data-markov-transition-matrices-7060771e362b)"
   ]
  },
  {
   "cell_type": "code",
   "execution_count": 1,
   "id": "ea2801e6",
   "metadata": {},
   "outputs": [],
   "source": [
    "'''\n",
    "    WARNING CONTROL to display or ignore all warnings\n",
    "'''\n",
    "import warnings; warnings.simplefilter('ignore')     #switch betweeb 'default' and 'ignore'\n",
    "import traceback\n",
    "\n",
    "''' Set debug flag to view extended error messages; else set it to False to turn off debugging mode '''\n",
    "debug = True\n"
   ]
  },
  {
   "cell_type": "markdown",
   "id": "fa3bda64",
   "metadata": {},
   "source": [
    "## Instantiate Classes"
   ]
  },
  {
   "cell_type": "code",
   "execution_count": 2,
   "id": "93e9a568",
   "metadata": {},
   "outputs": [
    {
     "name": "stderr",
     "output_type": "stream",
     "text": [
      "2025-02-17 16:32:11.020440: I external/local_xla/xla/tsl/cuda/cudart_stub.cc:32] Could not find cuda drivers on your machine, GPU will not be used.\n",
      "2025-02-17 16:32:12.839450: I external/local_xla/xla/tsl/cuda/cudart_stub.cc:32] Could not find cuda drivers on your machine, GPU will not be used.\n",
      "2025-02-17 16:32:14.006228: E external/local_xla/xla/stream_executor/cuda/cuda_fft.cc:477] Unable to register cuFFT factory: Attempting to register factory for plugin cuFFT when one has already been registered\n",
      "WARNING: All log messages before absl::InitializeLog() is called are written to STDERR\n",
      "E0000 00:00:1739781135.051761   76262 cuda_dnn.cc:8310] Unable to register cuDNN factory: Attempting to register factory for plugin cuDNN when one has already been registered\n",
      "E0000 00:00:1739781135.263028   76262 cuda_blas.cc:1418] Unable to register cuBLAS factory: Attempting to register factory for plugin cuBLAS when one has already been registered\n",
      "2025-02-17 16:32:17.077397: I tensorflow/core/platform/cpu_feature_guard.cc:210] This TensorFlow binary is optimized to use available CPU instructions in performance-critical operations.\n",
      "To enable the following instructions: AVX2 FMA, in other operations, rebuild TensorFlow with the appropriate compiler flags.\n"
     ]
    },
    {
     "name": "stdout",
     "output_type": "stream",
     "text": [
      "All functional __PROPATTR__-libraries in LOADER-package of ETL-module imported successfully!\n",
      "All functional SPARKFILE-libraries in LOADER-package of ETL-module imported successfully!\n",
      "All functional SPARKFILE-libraries in LOADER-package of ETL-module imported successfully!\n",
      "All functional APP-libraries in REZAWARE-package of REZAWARE-module imported successfully!\n",
      "__propAttr__ Class initialization complete\n",
      "sparkFile Class initialization complete\n",
      "\n",
      "read and write BigQuery dataset for hypothese testing class initialization and load complete!\n"
     ]
    }
   ],
   "source": [
    "import os\n",
    "import sys\n",
    "import numpy as np\n",
    "from pyspark.sql import functions as F\n",
    "import tensorflow_probability as tfp\n",
    "import tensorflow as tf\n",
    "\n",
    "proj_dir = os.path.abspath(os.pardir)\n",
    "sys.path.insert(1,proj_dir.split('mining/')[0])\n",
    "# from rezaware.modules.etl.loader import sparkRDBM as db\n",
    "from rezaware.modules.etl.loader import sparkFile as file\n",
    "# from rezaware.modules.etl.loader import __propAttr__ as attr\n",
    "\n",
    "''' restart initiate classes '''\n",
    "if debug:\n",
    "    import importlib\n",
    "    # db = importlib.reload(db)\n",
    "    file=importlib.reload(file)\n",
    "    # attr=importlib.reload(attr)\n",
    "\n",
    "__desc__ = \"read and write BigQuery dataset for hypothese testing\"\n",
    "# clsSDB = db.dataWorkLoads(\n",
    "#     desc=__desc__,\n",
    "#     db_type = 'bigquery',\n",
    "#     db_driver=None,\n",
    "#     db_hostIP=None,\n",
    "#     db_port = None,\n",
    "#     db_name = None,\n",
    "#     db_schema='combined_data_facebook_ads',\n",
    "#     spark_partitions=None,\n",
    "#     spark_format = 'bigquery',\n",
    "#     spark_save_mode=None,\n",
    "#     # spark_jar_dir = _jar,\n",
    "# )\n",
    "clsFile = file.dataWorkLoads(\n",
    "    desc = \"optimizing action_type budgets for an ad\",\n",
    "    store_mode='local-fs',\n",
    "    store_root=proj_dir.split('mining/')[0],\n",
    "    jar_dir=None,\n",
    ")\n",
    "# if clsSDB.session:\n",
    "#     clsSDB._session.stop\n",
    "print(\"\\n%s class initialization and load complete!\" % __desc__)"
   ]
  },
  {
   "cell_type": "markdown",
   "id": "2a8066d7-a018-4f32-aceb-b0f35fb1d3d2",
   "metadata": {},
   "source": [
    "## Load data"
   ]
  },
  {
   "cell_type": "code",
   "execution_count": 3,
   "id": "958f7a62-0f2c-4908-a0a1-a2c0a42f9429",
   "metadata": {},
   "outputs": [
    {
     "name": "stderr",
     "output_type": "stream",
     "text": [
      "25/02/17 16:32:55 WARN Utils: Your hostname, Waidy-Think-Three resolves to a loopback address: 127.0.1.1; using 192.168.2.82 instead (on interface enp0s25)\n",
      "25/02/17 16:32:55 WARN Utils: Set SPARK_LOCAL_IP if you need to bind to another address\n",
      "25/02/17 16:32:56 WARN NativeCodeLoader: Unable to load native-hadoop library for your platform... using builtin-java classes where applicable\n",
      "Setting default log level to \"WARN\".\n",
      "To adjust logging level use sc.setLogLevel(newLevel). For SparkR, use setLogLevel(newLevel).\n",
      "25/02/17 16:32:59 WARN Utils: Service 'SparkUI' could not bind on port 4040. Attempting port 4041.\n",
      "                                                                                "
     ]
    },
    {
     "name": "stdout",
     "output_type": "stream",
     "text": [
      "Loaded 61513 rows\n"
     ]
    }
   ],
   "source": [
    "options = {\n",
    "    \"inferSchema\":True,\n",
    "    \"header\":True,\n",
    "    \"delimiter\":\",\",\n",
    "    \"pathGlobFilter\":'*.csv',\n",
    "    \"recursiveFileLookup\":True,\n",
    "}\n",
    "\n",
    "sdf=clsFile.read_files_to_dtype(\n",
    "    as_type = \"SPARK\",      # optional - define the data type to return\n",
    "    folder_path=\"mining/data/budget/\",  # optional - relative path, w.r.t. self.storeRoot\n",
    "        file_name=\"complete-60-accounts.csv\",  # optional - name of the file to read\n",
    "        file_type=None,  # optional - read all the files of same type\n",
    "        **options,\n",
    ")\n",
    "print(\"Loaded %d rows\" % sdf.count())\n",
    "# sdf.printSchema()"
   ]
  },
  {
   "cell_type": "markdown",
   "id": "014b4eec-8ed5-454d-adb4-290e94ca2921",
   "metadata": {},
   "source": [
    "## Currency convertion"
   ]
  },
  {
   "cell_type": "code",
   "execution_count": 2,
   "id": "409e4950-01e0-408e-a6d5-a90cea519921",
   "metadata": {},
   "outputs": [
    {
     "ename": "NameError",
     "evalue": "name 'sdf' is not defined",
     "output_type": "error",
     "traceback": [
      "\u001b[0;31m---------------------------------------------------------------------------\u001b[0m",
      "\u001b[0;31mNameError\u001b[0m                                 Traceback (most recent call last)",
      "Cell \u001b[0;32mIn[2], line 2\u001b[0m\n\u001b[1;32m      1\u001b[0m \u001b[38;5;66;03m# Corrected code\u001b[39;00m\n\u001b[0;32m----> 2\u001b[0m sdf \u001b[38;5;241m=\u001b[39m \u001b[43msdf\u001b[49m\u001b[38;5;241m.\u001b[39mwithColumn(\n\u001b[1;32m      3\u001b[0m     \u001b[38;5;124m\"\u001b[39m\u001b[38;5;124mspend_usd\u001b[39m\u001b[38;5;124m\"\u001b[39m,\n\u001b[1;32m      4\u001b[0m     F\u001b[38;5;241m.\u001b[39mwhen(F\u001b[38;5;241m.\u001b[39mcol(\u001b[38;5;124m'\u001b[39m\u001b[38;5;124maccount_currency\u001b[39m\u001b[38;5;124m'\u001b[39m)\u001b[38;5;241m.\u001b[39misin(\u001b[38;5;124m'\u001b[39m\u001b[38;5;124mCAD\u001b[39m\u001b[38;5;124m'\u001b[39m), F\u001b[38;5;241m.\u001b[39mcol(\u001b[38;5;124m'\u001b[39m\u001b[38;5;124mspend\u001b[39m\u001b[38;5;124m'\u001b[39m) \u001b[38;5;241m*\u001b[39m \u001b[38;5;241m0.70\u001b[39m)\n\u001b[1;32m      5\u001b[0m      \u001b[38;5;241m.\u001b[39mwhen(F\u001b[38;5;241m.\u001b[39mcol(\u001b[38;5;124m'\u001b[39m\u001b[38;5;124maccount_currency\u001b[39m\u001b[38;5;124m'\u001b[39m)\u001b[38;5;241m.\u001b[39misin(\u001b[38;5;124m'\u001b[39m\u001b[38;5;124mEUR\u001b[39m\u001b[38;5;124m'\u001b[39m), F\u001b[38;5;241m.\u001b[39mcol(\u001b[38;5;124m'\u001b[39m\u001b[38;5;124mspend\u001b[39m\u001b[38;5;124m'\u001b[39m) \u001b[38;5;241m*\u001b[39m \u001b[38;5;241m1.05\u001b[39m)\n\u001b[1;32m      6\u001b[0m      \u001b[38;5;241m.\u001b[39mwhen(F\u001b[38;5;241m.\u001b[39mcol(\u001b[38;5;124m'\u001b[39m\u001b[38;5;124maccount_currency\u001b[39m\u001b[38;5;124m'\u001b[39m)\u001b[38;5;241m.\u001b[39misin(\u001b[38;5;124m'\u001b[39m\u001b[38;5;124mTHB\u001b[39m\u001b[38;5;124m'\u001b[39m), F\u001b[38;5;241m.\u001b[39mcol(\u001b[38;5;124m'\u001b[39m\u001b[38;5;124mspend\u001b[39m\u001b[38;5;124m'\u001b[39m) \u001b[38;5;241m*\u001b[39m \u001b[38;5;241m0.03\u001b[39m)\n\u001b[1;32m      7\u001b[0m      \u001b[38;5;241m.\u001b[39mwhen(F\u001b[38;5;241m.\u001b[39mcol(\u001b[38;5;124m'\u001b[39m\u001b[38;5;124maccount_currency\u001b[39m\u001b[38;5;124m'\u001b[39m)\u001b[38;5;241m.\u001b[39misin(\u001b[38;5;124m'\u001b[39m\u001b[38;5;124mINR\u001b[39m\u001b[38;5;124m'\u001b[39m), F\u001b[38;5;241m.\u001b[39mcol(\u001b[38;5;124m'\u001b[39m\u001b[38;5;124mspend\u001b[39m\u001b[38;5;124m'\u001b[39m) \u001b[38;5;241m*\u001b[39m \u001b[38;5;241m0.012\u001b[39m)\n\u001b[1;32m      8\u001b[0m      \u001b[38;5;241m.\u001b[39mwhen(F\u001b[38;5;241m.\u001b[39mcol(\u001b[38;5;124m'\u001b[39m\u001b[38;5;124maccount_currency\u001b[39m\u001b[38;5;124m'\u001b[39m)\u001b[38;5;241m.\u001b[39misin(\u001b[38;5;124m'\u001b[39m\u001b[38;5;124mUSD\u001b[39m\u001b[38;5;124m'\u001b[39m), F\u001b[38;5;241m.\u001b[39mcol(\u001b[38;5;124m'\u001b[39m\u001b[38;5;124mspend\u001b[39m\u001b[38;5;124m'\u001b[39m) \u001b[38;5;241m*\u001b[39m \u001b[38;5;241m1.00\u001b[39m)\n\u001b[1;32m      9\u001b[0m      \u001b[38;5;241m.\u001b[39motherwise(F\u001b[38;5;241m.\u001b[39mcol(\u001b[38;5;124m'\u001b[39m\u001b[38;5;124mspend\u001b[39m\u001b[38;5;124m'\u001b[39m) \u001b[38;5;241m*\u001b[39m \u001b[38;5;241m1.00\u001b[39m)\n\u001b[1;32m     10\u001b[0m )\n\u001b[1;32m     12\u001b[0m sdf\u001b[38;5;241m.\u001b[39mprintSchema()\n",
      "\u001b[0;31mNameError\u001b[0m: name 'sdf' is not defined"
     ]
    }
   ],
   "source": [
    "# Corrected code\n",
    "sdf = sdf.withColumn(\n",
    "    \"spend_usd\",\n",
    "    F.when(F.col('account_currency').isin('CAD'), F.col('spend') * 0.70)\n",
    "     .when(F.col('account_currency').isin('EUR'), F.col('spend') * 1.05)\n",
    "     .when(F.col('account_currency').isin('THB'), F.col('spend') * 0.03)\n",
    "     .when(F.col('account_currency').isin('INR'), F.col('spend') * 0.012)\n",
    "     .when(F.col('account_currency').isin('USD'), F.col('spend') * 1.00)\n",
    "     .otherwise(F.col('spend') * 1.00)\n",
    ")\n",
    "\n",
    "sdf.printSchema()"
   ]
  },
  {
   "cell_type": "markdown",
   "id": "88ef9eba-46fe-4961-a60f-8c2b9f627275",
   "metadata": {},
   "source": [
    "## Filter data into Inputs and Outputs\n"
   ]
  },
  {
   "cell_type": "code",
   "execution_count": 1,
   "id": "14ffc03e-b8bd-4795-b841-e3cb5cb491f1",
   "metadata": {},
   "outputs": [
    {
     "ename": "NameError",
     "evalue": "name 'sdf' is not defined",
     "output_type": "error",
     "traceback": [
      "\u001b[0;31m---------------------------------------------------------------------------\u001b[0m",
      "\u001b[0;31mNameError\u001b[0m                                 Traceback (most recent call last)",
      "Cell \u001b[0;32mIn[1], line 1\u001b[0m\n\u001b[0;32m----> 1\u001b[0m _data_df\u001b[38;5;241m=\u001b[39m \u001b[43msdf\u001b[49m\u001b[38;5;241m.\u001b[39mselect(\u001b[38;5;124m'\u001b[39m\u001b[38;5;124mspend_usd\u001b[39m\u001b[38;5;124m'\u001b[39m,\u001b[38;5;124m'\u001b[39m\u001b[38;5;124mCPC\u001b[39m\u001b[38;5;124m'\u001b[39m, \u001b[38;5;124m'\u001b[39m\u001b[38;5;124mCPM\u001b[39m\u001b[38;5;124m'\u001b[39m, \u001b[38;5;124m'\u001b[39m\u001b[38;5;124mCTR\u001b[39m\u001b[38;5;124m'\u001b[39m, \u001b[38;5;124m'\u001b[39m\u001b[38;5;124mROAS\u001b[39m\u001b[38;5;124m'\u001b[39m, \n\u001b[1;32m      2\u001b[0m                      \u001b[38;5;124m'\u001b[39m\u001b[38;5;124mimpressions\u001b[39m\u001b[38;5;124m'\u001b[39m, \u001b[38;5;124m'\u001b[39m\u001b[38;5;124mclick\u001b[39m\u001b[38;5;124m'\u001b[39m, \u001b[38;5;124m'\u001b[39m\u001b[38;5;124mreach\u001b[39m\u001b[38;5;124m'\u001b[39m, \u001b[38;5;124m'\u001b[39m\u001b[38;5;124mfrequency\u001b[39m\u001b[38;5;124m'\u001b[39m)\\\n\u001b[1;32m      3\u001b[0m             \u001b[38;5;241m.\u001b[39mwhere(F\u001b[38;5;241m.\u001b[39mcol(\u001b[38;5;124m'\u001b[39m\u001b[38;5;124mgoal\u001b[39m\u001b[38;5;124m'\u001b[39m)\u001b[38;5;241m.\u001b[39misin(\u001b[38;5;124m'\u001b[39m\u001b[38;5;124mOFFSITE_CONVERSIONS\u001b[39m\u001b[38;5;124m'\u001b[39m) \u001b[38;5;241m&\u001b[39m \\\n\u001b[1;32m      4\u001b[0m                   F\u001b[38;5;241m.\u001b[39mcol(\u001b[38;5;124m'\u001b[39m\u001b[38;5;124maccount_currency\u001b[39m\u001b[38;5;124m'\u001b[39m)\u001b[38;5;241m.\u001b[39misin(\u001b[38;5;124m'\u001b[39m\u001b[38;5;124mUSD\u001b[39m\u001b[38;5;124m'\u001b[39m))\\\n\u001b[1;32m      5\u001b[0m             \u001b[38;5;241m.\u001b[39mdropna()\u001b[38;5;241m.\u001b[39mtoPandas()\n\u001b[1;32m      6\u001b[0m \u001b[38;5;28mprint\u001b[39m(_data_df\u001b[38;5;241m.\u001b[39mshape)\n\u001b[1;32m      7\u001b[0m \u001b[38;5;124;03m''' keep 95 percentile of the data '''\u001b[39;00m\n",
      "\u001b[0;31mNameError\u001b[0m: name 'sdf' is not defined"
     ]
    }
   ],
   "source": [
    "_data_df= sdf.select('spend_usd','CPC', 'CPM', 'CTR', 'ROAS', \n",
    "                     'impressions', 'click', 'reach', 'frequency')\\\n",
    "            .where(F.col('goal').isin('OFFSITE_CONVERSIONS') & \\\n",
    "                  F.col('account_currency').isin('USD'))\\\n",
    "            .dropna().toPandas()\n",
    "print(_data_df.shape)\n",
    "''' keep 95 percentile of the data '''\n",
    "for _col in _data_df.columns:\n",
    "    _data_df = _data_df[_data_df[_col]<=\\\n",
    "                    _data_df[_col].mean()+2*_data_df[_col].std()]\n",
    "# _data_df = _data_df.sample(n=1000)\n",
    "\n",
    "print(\"data shape:\", _data_df.shape)\n",
    "print(\"some stats:\\n\", _data_df.describe())"
   ]
  },
  {
   "cell_type": "code",
   "execution_count": 6,
   "id": "9c1b8ee1-9378-4ea6-836b-dfa01cbe7b59",
   "metadata": {},
   "outputs": [
    {
     "data": {
      "image/png": "[encoded data removed]",
      "text/plain": [
       "<Figure size 640x480 with 1 Axes>"
      ]
     },
     "metadata": {},
     "output_type": "display_data"
    }
   ],
   "source": [
    "import matplotlib.pyplot as plt\n",
    "%matplotlib inline\n",
    "\n",
    "_x_col, _y_col = 'spend_usd', 'CTR'\n",
    "plt.scatter(_data_df[_x_col],_data_df[_y_col])\n",
    "plt.title(\"Scatter Plot\")\n",
    "plt.xlabel(_x_col)\n",
    "plt.ylabel(_y_col)\n",
    "plt.show()"
   ]
  },
  {
   "cell_type": "markdown",
   "id": "bb7bbdd3-65df-4051-ada8-f2d293ca423c",
   "metadata": {},
   "source": [
    "## Define the model\n",
    "\n",
    "* [Probabilistic Modeling with TensorFlow Probability](https://www.scaler.com/topics/tensorflow/tensorflow-probability/)\n",
    "* [Tensorflow probability examples](https://github.com/tensorflow/probability/tree/main/tensorflow_probability/examples/jupyter_notebooks)"
   ]
  },
  {
   "cell_type": "markdown",
   "id": "a0439274-5a42-4303-808a-73ec0aeabafb",
   "metadata": {},
   "source": [
    "## Split the train & test data"
   ]
  },
  {
   "cell_type": "code",
   "execution_count": 7,
   "id": "d298a953-6e34-4e43-ae1c-85c3cd4cb230",
   "metadata": {},
   "outputs": [
    {
     "name": "stdout",
     "output_type": "stream",
     "text": [
      "X:  (3772, 8) y:  (3772, 1)\n"
     ]
    }
   ],
   "source": [
    "# Compile and train the standard neural network\n",
    "_pred_cols = ['CPC', 'CPM', 'CTR', 'ROAS', \n",
    "              'click', 'impressions', 'frequency', 'reach']\n",
    "_label_col = ['spend_usd']\n",
    "X = np.array(_data_df[_pred_cols])\n",
    "y = np.array(_data_df[_label_col])             \n",
    "print(\"X: \",X.shape,\"y: \", y.shape)"
   ]
  },
  {
   "cell_type": "markdown",
   "id": "19f9f110-be01-4f5c-875d-8061eed7a7dc",
   "metadata": {},
   "source": [
    "## Custom loss function"
   ]
  },
  {
   "cell_type": "code",
   "execution_count": 39,
   "id": "ad4b24ff-fe05-4e33-8b76-1fa1dc1efc93",
   "metadata": {
    "scrolled": true
   },
   "outputs": [
    {
     "data": {
      "text/html": [
       "<pre style=\"white-space:pre;overflow-x:auto;line-height:normal;font-family:Menlo,'DejaVu Sans Mono',consolas,'Courier New',monospace\"><span style=\"font-weight: bold\">Model: \"functional_17\"</span>\n",
       "</pre>\n"
      ],
      "text/plain": [
       "\u001b[1mModel: \"functional_17\"\u001b[0m\n"
      ]
     },
     "metadata": {},
     "output_type": "display_data"
    },
    {
     "data": {
      "text/html": [
       "<pre style=\"white-space:pre;overflow-x:auto;line-height:normal;font-family:Menlo,'DejaVu Sans Mono',consolas,'Courier New',monospace\">┏━━━━━━━━━━━━━━━━━━━━━━━━━━━━━━━━━┳━━━━━━━━━━━━━━━━━━━━━━━━┳━━━━━━━━━━━━━━━┓\n",
       "┃<span style=\"font-weight: bold\"> Layer (type)                    </span>┃<span style=\"font-weight: bold\"> Output Shape           </span>┃<span style=\"font-weight: bold\">       Param # </span>┃\n",
       "┡━━━━━━━━━━━━━━━━━━━━━━━━━━━━━━━━━╇━━━━━━━━━━━━━━━━━━━━━━━━╇━━━━━━━━━━━━━━━┩\n",
       "│ input_layer_17 (<span style=\"color: #0087ff; text-decoration-color: #0087ff\">InputLayer</span>)     │ (<span style=\"color: #00d7ff; text-decoration-color: #00d7ff\">None</span>, <span style=\"color: #00af00; text-decoration-color: #00af00\">1</span>, <span style=\"color: #00af00; text-decoration-color: #00af00\">8</span>)           │             <span style=\"color: #00af00; text-decoration-color: #00af00\">0</span> │\n",
       "├─────────────────────────────────┼────────────────────────┼───────────────┤\n",
       "│ simple_rnn_5 (<span style=\"color: #0087ff; text-decoration-color: #0087ff\">SimpleRNN</span>)        │ (<span style=\"color: #00d7ff; text-decoration-color: #00d7ff\">None</span>, <span style=\"color: #00af00; text-decoration-color: #00af00\">1</span>, <span style=\"color: #00af00; text-decoration-color: #00af00\">128</span>)         │        <span style=\"color: #00af00; text-decoration-color: #00af00\">17,536</span> │\n",
       "├─────────────────────────────────┼────────────────────────┼───────────────┤\n",
       "│ dense_17 (<span style=\"color: #0087ff; text-decoration-color: #0087ff\">Dense</span>)                │ (<span style=\"color: #00d7ff; text-decoration-color: #00d7ff\">None</span>, <span style=\"color: #00af00; text-decoration-color: #00af00\">1</span>, <span style=\"color: #00af00; text-decoration-color: #00af00\">32</span>)          │         <span style=\"color: #00af00; text-decoration-color: #00af00\">4,128</span> │\n",
       "├─────────────────────────────────┼────────────────────────┼───────────────┤\n",
       "│ lambda_17 (<span style=\"color: #0087ff; text-decoration-color: #0087ff\">Lambda</span>)              │ (<span style=\"color: #00d7ff; text-decoration-color: #00d7ff\">None</span>, <span style=\"color: #00af00; text-decoration-color: #00af00\">1</span>, <span style=\"color: #00af00; text-decoration-color: #00af00\">32</span>)          │             <span style=\"color: #00af00; text-decoration-color: #00af00\">0</span> │\n",
       "└─────────────────────────────────┴────────────────────────┴───────────────┘\n",
       "</pre>\n"
      ],
      "text/plain": [
       "┏━━━━━━━━━━━━━━━━━━━━━━━━━━━━━━━━━┳━━━━━━━━━━━━━━━━━━━━━━━━┳━━━━━━━━━━━━━━━┓\n",
       "┃\u001b[1m \u001b[0m\u001b[1mLayer (type)                   \u001b[0m\u001b[1m \u001b[0m┃\u001b[1m \u001b[0m\u001b[1mOutput Shape          \u001b[0m\u001b[1m \u001b[0m┃\u001b[1m \u001b[0m\u001b[1m      Param #\u001b[0m\u001b[1m \u001b[0m┃\n",
       "┡━━━━━━━━━━━━━━━━━━━━━━━━━━━━━━━━━╇━━━━━━━━━━━━━━━━━━━━━━━━╇━━━━━━━━━━━━━━━┩\n",
       "│ input_layer_17 (\u001b[38;5;33mInputLayer\u001b[0m)     │ (\u001b[38;5;45mNone\u001b[0m, \u001b[38;5;34m1\u001b[0m, \u001b[38;5;34m8\u001b[0m)           │             \u001b[38;5;34m0\u001b[0m │\n",
       "├─────────────────────────────────┼────────────────────────┼───────────────┤\n",
       "│ simple_rnn_5 (\u001b[38;5;33mSimpleRNN\u001b[0m)        │ (\u001b[38;5;45mNone\u001b[0m, \u001b[38;5;34m1\u001b[0m, \u001b[38;5;34m128\u001b[0m)         │        \u001b[38;5;34m17,536\u001b[0m │\n",
       "├─────────────────────────────────┼────────────────────────┼───────────────┤\n",
       "│ dense_17 (\u001b[38;5;33mDense\u001b[0m)                │ (\u001b[38;5;45mNone\u001b[0m, \u001b[38;5;34m1\u001b[0m, \u001b[38;5;34m32\u001b[0m)          │         \u001b[38;5;34m4,128\u001b[0m │\n",
       "├─────────────────────────────────┼────────────────────────┼───────────────┤\n",
       "│ lambda_17 (\u001b[38;5;33mLambda\u001b[0m)              │ (\u001b[38;5;45mNone\u001b[0m, \u001b[38;5;34m1\u001b[0m, \u001b[38;5;34m32\u001b[0m)          │             \u001b[38;5;34m0\u001b[0m │\n",
       "└─────────────────────────────────┴────────────────────────┴───────────────┘\n"
      ]
     },
     "metadata": {},
     "output_type": "display_data"
    },
    {
     "data": {
      "text/html": [
       "<pre style=\"white-space:pre;overflow-x:auto;line-height:normal;font-family:Menlo,'DejaVu Sans Mono',consolas,'Courier New',monospace\"><span style=\"font-weight: bold\"> Total params: </span><span style=\"color: #00af00; text-decoration-color: #00af00\">64,994</span> (253.89 KB)\n",
       "</pre>\n"
      ],
      "text/plain": [
       "\u001b[1m Total params: \u001b[0m\u001b[38;5;34m64,994\u001b[0m (253.89 KB)\n"
      ]
     },
     "metadata": {},
     "output_type": "display_data"
    },
    {
     "data": {
      "text/html": [
       "<pre style=\"white-space:pre;overflow-x:auto;line-height:normal;font-family:Menlo,'DejaVu Sans Mono',consolas,'Courier New',monospace\"><span style=\"font-weight: bold\"> Trainable params: </span><span style=\"color: #00af00; text-decoration-color: #00af00\">21,664</span> (84.62 KB)\n",
       "</pre>\n"
      ],
      "text/plain": [
       "\u001b[1m Trainable params: \u001b[0m\u001b[38;5;34m21,664\u001b[0m (84.62 KB)\n"
      ]
     },
     "metadata": {},
     "output_type": "display_data"
    },
    {
     "data": {
      "text/html": [
       "<pre style=\"white-space:pre;overflow-x:auto;line-height:normal;font-family:Menlo,'DejaVu Sans Mono',consolas,'Courier New',monospace\"><span style=\"font-weight: bold\"> Non-trainable params: </span><span style=\"color: #00af00; text-decoration-color: #00af00\">0</span> (0.00 B)\n",
       "</pre>\n"
      ],
      "text/plain": [
       "\u001b[1m Non-trainable params: \u001b[0m\u001b[38;5;34m0\u001b[0m (0.00 B)\n"
      ]
     },
     "metadata": {},
     "output_type": "display_data"
    },
    {
     "data": {
      "text/html": [
       "<pre style=\"white-space:pre;overflow-x:auto;line-height:normal;font-family:Menlo,'DejaVu Sans Mono',consolas,'Courier New',monospace\"><span style=\"font-weight: bold\"> Optimizer params: </span><span style=\"color: #00af00; text-decoration-color: #00af00\">43,330</span> (169.26 KB)\n",
       "</pre>\n"
      ],
      "text/plain": [
       "\u001b[1m Optimizer params: \u001b[0m\u001b[38;5;34m43,330\u001b[0m (169.26 KB)\n"
      ]
     },
     "metadata": {},
     "output_type": "display_data"
    }
   ],
   "source": [
    "import numpy as np\n",
    "import tensorflow as tf\n",
    "import tensorflow_probability as tfp\n",
    "from tensorflow.keras import Model, Input\n",
    "from tensorflow.keras.layers import Dense, LSTM, Lambda, SimpleRNN\n",
    "\n",
    "# Step 1: Generate or load your data\n",
    "# Example: Create dummy data\n",
    "num_samples = 10000  # Number of samples\n",
    "num_timesteps = 1  # Number of time steps\n",
    "num_features = 8  # Number of features per time step\n",
    "num_classes = 1  # Number of output classes\n",
    "\n",
    "# X has shape (num_samples, num_features)\n",
    "# X = np.random.rand(num_samples, num_features)  # Example input data\n",
    "# Reshape X to (num_samples, num_timesteps, num_features)\n",
    "X_reshaped = np.tile(X[:, np.newaxis, :], (1, num_timesteps, 1))\n",
    "\n",
    "# y has shape (num_samples,)\n",
    "# y = np.random.randint(0, num_classes, size=num_samples)  # Example target data\n",
    "# Reshape y to (num_samples, num_timesteps, 1)\n",
    "y_reshaped = np.tile(y[:, np.newaxis, np.newaxis], (1, num_timesteps, 1))\n",
    "\n",
    "# Split data into training and testing sets\n",
    "split = int(0.8 * X_reshaped.shape[0])  # 80% training, 20% testing\n",
    "x_train, x_test = X_reshaped[:split], X_reshaped[split:]\n",
    "y_train, y_test = y_reshaped[:split], y_reshaped[split:]\n",
    "\n",
    "# Step 2: Define the model\n",
    "# Input layer expects (num_timesteps, num_features)\n",
    "inputs = Input(shape=(num_timesteps, num_features))\n",
    "\n",
    "# LSTM layer for sequential data\n",
    "x = LSTM(64, return_sequences=True)(inputs)\n",
    "x = SimpleRNN(128, return_sequences=True)(inputs)\n",
    "# Dense layer\n",
    "x = Dense(32, activation='relu')(x)\n",
    "\n",
    "# Output a distribution (e.g., Normal distribution) and extract the mean\n",
    "outputs = Lambda(\n",
    "    lambda t: tfp.distributions.Normal(loc=t, scale=1).mean(),  # Extract the mean\n",
    "    output_shape=(num_timesteps, 32)  # Specify the output shape\n",
    ")(x)\n",
    "\n",
    "# Create the model\n",
    "model = Model(inputs, outputs)\n",
    "\n",
    "# Step 3: Define a custom loss function\n",
    "def custom_loss(y_true, y_pred):\n",
    "    # Ensure y_true has the correct shape [batch_size, num_timesteps, 1]\n",
    "    y_true = tf.reshape(y_true, [-1, num_timesteps, 1])  # Reshape to [batch_size, num_timesteps, 1]\n",
    "\n",
    "    # Recreate the distribution\n",
    "    dist = tfp.distributions.Normal(loc=y_pred, scale=1)\n",
    "    # Compute the negative log probability\n",
    "    return -dist.log_prob(y_true)\n",
    "\n",
    "# Step 4: Compile the model\n",
    "model.compile(optimizer='adam', loss=custom_loss, \n",
    "              metrics=['accuracy', 'mean_absolute_error'])\n",
    "\n",
    "# Step 5: Train the model\n",
    "model.fit(x_train, y_train, epochs=200, batch_size=32, verbose=0)\n",
    "\n",
    "# Step 8: Summary of the model\n",
    "model.summary()\n"
   ]
  },
  {
   "cell_type": "code",
   "execution_count": 40,
   "id": "faa8dedb-1a74-4e24-a9e3-0f4eaf345dfc",
   "metadata": {},
   "outputs": [
    {
     "name": "stdout",
     "output_type": "stream",
     "text": [
      "\u001b[1m24/24\u001b[0m \u001b[32m━━━━━━━━━━━━━━━━━━━━\u001b[0m\u001b[37m\u001b[0m \u001b[1m0s\u001b[0m 4ms/step - accuracy: 6.8324e-05 - loss: 1369.2926 - mean_absolute_error: 37.3888  \n"
     ]
    },
    {
     "data": {
      "text/plain": [
       "[1551.1549072265625, 0.0001241721911355853, 44.439476013183594]"
      ]
     },
     "execution_count": 40,
     "metadata": {},
     "output_type": "execute_result"
    }
   ],
   "source": [
    "model.evaluate(x_test, y_test)"
   ]
  },
  {
   "cell_type": "code",
   "execution_count": 33,
   "id": "d93461f5-c314-47f4-aafc-f65680388eab",
   "metadata": {},
   "outputs": [
    {
     "name": "stdout",
     "output_type": "stream",
     "text": [
      "\u001b[1m24/24\u001b[0m \u001b[32m━━━━━━━━━━━━━━━━━━━━\u001b[0m\u001b[37m\u001b[0m \u001b[1m1s\u001b[0m 12ms/step \n",
      "y_test shape: (755, 1, 1, 1)\n",
      "y_pred shape: (755, 1, 32)\n",
      "Mean Squared Error (MSE) on test set: 766.09204\n"
     ]
    }
   ],
   "source": [
    "# Step 6: Evaluate the model on the test set\n",
    "# Generate predictions for the test set\n",
    "y_pred = model.predict(x_test)\n",
    "\n",
    "# Print the shapes of y_test and y_pred\n",
    "print(\"y_test shape:\", y_test.shape)  # Should be (num_test_samples, num_timesteps, 1)\n",
    "print(\"y_pred shape:\", y_pred.shape)  # Should be (num_test_samples, num_timesteps, 32)\n",
    "\n",
    "# Step 7: Evaluate the predictions\n",
    "# Compute the mean squared error (MSE) between y_test and y_pred\n",
    "mse = tf.keras.losses.MeanSquaredError()\n",
    "mse_value = mse(y_test, y_pred).numpy()\n",
    "print(\"Mean Squared Error (MSE) on test set:\", mse_value)"
   ]
  },
  {
   "cell_type": "markdown",
   "id": "0e1e2fbb-20da-476a-976e-b5a2d540cb50",
   "metadata": {},
   "source": [
    "## DistibutionLambda wrapper function"
   ]
  },
  {
   "cell_type": "code",
   "execution_count": 16,
   "id": "fb2013a9-21ee-4fa9-a58d-dc50dc13f88b",
   "metadata": {},
   "outputs": [],
   "source": [
    "## DEPRECATED unused\n",
    "from tensorflow.keras.layers import Layer\n",
    "class DistributionLambdaLayer(Layer):\n",
    "    def __init__(self, **kwargs):\n",
    "        super(DistributionLambdaLayer, self).__init__(**kwargs)\n",
    "        self.dist_lambda = tfp.layers.DistributionLambda(\n",
    "            lambda t: tfp.distributions.Normal(loc=t, scale=1)\n",
    "        )\n",
    "\n",
    "    def call(self, inputs):\n",
    "        # Get the distribution\n",
    "        distribution = self.dist_lambda(inputs)\n",
    "        # Return a tensor (e.g., the mean of the distribution)\n",
    "        return distribution.mean()"
   ]
  },
  {
   "cell_type": "code",
   "execution_count": null,
   "id": "47c5b441-26ec-4941-b947-f2ca69df0466",
   "metadata": {},
   "outputs": [],
   "source": []
  }
 ],
 "metadata": {
  "kernelspec": {
   "display_name": "Python 3 (ipykernel)",
   "language": "python",
   "name": "python3"
  },
  "language_info": {
   "codemirror_mode": {
    "name": "ipython",
    "version": 3
   },
   "file_extension": ".py",
   "mimetype": "text/x-python",
   "name": "python",
   "nbconvert_exporter": "python",
   "pygments_lexer": "ipython3",
   "version": "3.10.16"
  }
 },
 "nbformat": 4,
 "nbformat_minor": 5
}
