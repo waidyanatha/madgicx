{
 "cells": [
  {
   "cell_type": "markdown",
   "id": "9e1a19de",
   "metadata": {},
   "source": [
    "# Applying the Hidden Markov Model on Budget allocation\n",
    "\n",
    "The hidden markov model would recommend a budget using conversion state transitions, budget emissions, and return on investment indicators \n",
    "\n",
    "### Objective\n",
    "Minimize the budget _B<sub>t</sub>_ to transition from state _S<sub>t</sub>_ to _S<sub>t+1</sub>_\n",
    "\n",
    "### Subject to\n",
    "* Sum of _B<sub>t</sub>_ <= _B_;  for all _t_\n",
    "* RMS of _R_ <= $\\epsilon$; where _R_ is the Residual of the expected and actual return on investmenet _B_\n",
    "* Sum of _S<sub>t+1</sub> - S<sub>t</sub>_ <= _T_; where _T_ is the total allowable time period to complete all transitions from S<sub>start</sub> to S<sub>final</sub>\n",
    "\n",
    "#### Reference\n",
    "[Analyzing Time Series Data with Markov Transition Matrices](https://medium.com/towards-data-science/time-series-data-markov-transition-matrices-7060771e362b)"
   ]
  },
  {
   "cell_type": "code",
   "execution_count": 1,
   "id": "ea2801e6",
   "metadata": {},
   "outputs": [],
   "source": [
    "'''\n",
    "    WARNING CONTROL to display or ignore all warnings\n",
    "'''\n",
    "import warnings; warnings.simplefilter('ignore')     #switch betweeb 'default' and 'ignore'\n",
    "import traceback\n",
    "\n",
    "''' Set debug flag to view extended error messages; else set it to False to turn off debugging mode '''\n",
    "debug = True\n"
   ]
  },
  {
   "cell_type": "markdown",
   "id": "fa3bda64",
   "metadata": {},
   "source": [
    "## Instantiate Classes"
   ]
  },
  {
   "cell_type": "code",
   "execution_count": 2,
   "id": "93e9a568",
   "metadata": {},
   "outputs": [
    {
     "name": "stderr",
     "output_type": "stream",
     "text": [
      "2025-02-24 07:57:26.675447: I external/local_xla/xla/tsl/cuda/cudart_stub.cc:32] Could not find cuda drivers on your machine, GPU will not be used.\n",
      "2025-02-24 07:57:26.679185: I external/local_xla/xla/tsl/cuda/cudart_stub.cc:32] Could not find cuda drivers on your machine, GPU will not be used.\n",
      "2025-02-24 07:57:26.691541: E external/local_xla/xla/stream_executor/cuda/cuda_fft.cc:477] Unable to register cuFFT factory: Attempting to register factory for plugin cuFFT when one has already been registered\n",
      "WARNING: All log messages before absl::InitializeLog() is called are written to STDERR\n",
      "E0000 00:00:1740355046.713461   87979 cuda_dnn.cc:8310] Unable to register cuDNN factory: Attempting to register factory for plugin cuDNN when one has already been registered\n",
      "E0000 00:00:1740355046.719686   87979 cuda_blas.cc:1418] Unable to register cuBLAS factory: Attempting to register factory for plugin cuBLAS when one has already been registered\n",
      "2025-02-24 07:57:26.741106: I tensorflow/core/platform/cpu_feature_guard.cc:210] This TensorFlow binary is optimized to use available CPU instructions in performance-critical operations.\n",
      "To enable the following instructions: AVX2 FMA, in other operations, rebuild TensorFlow with the appropriate compiler flags.\n"
     ]
    },
    {
     "name": "stdout",
     "output_type": "stream",
     "text": [
      "All functional __PROPATTR__-libraries in LOADER-package of ETL-module imported successfully!\n",
      "All functional SPARKRDBM-libraries in LOADER-package of ETL-module imported successfully!\n",
      "All functional SPARKFILE-libraries in LOADER-package of ETL-module imported successfully!\n",
      "All functional SPARKRDBM-libraries in LOADER-package of ETL-module imported successfully!\n",
      "All functional SPARKFILE-libraries in LOADER-package of ETL-module imported successfully!\n",
      "All functional APP-libraries in REZAWARE-package of REZAWARE-module imported successfully!\n",
      "__propAttr__ Class initialization complete\n",
      "__propAttr__ Class initialization complete\n",
      "sparkFile Class initialization complete\n",
      "\n",
      "read and write BigQuery dataset for hypothese testing class initialization and load complete!\n"
     ]
    }
   ],
   "source": [
    "import os\n",
    "import sys\n",
    "import numpy as np\n",
    "from pyspark.sql import functions as F\n",
    "import tensorflow_probability as tfp\n",
    "import tensorflow as tf\n",
    "\n",
    "proj_dir = os.path.abspath(os.pardir)\n",
    "sys.path.insert(1,proj_dir.split('mining/')[0])\n",
    "from rezaware.modules.etl.loader import sparkRDBM as db\n",
    "from rezaware.modules.etl.loader import sparkFile as file\n",
    "# from rezaware.modules.etl.loader import __propAttr__ as attr\n",
    "\n",
    "''' restart initiate classes '''\n",
    "if debug:\n",
    "    import importlib\n",
    "    db = importlib.reload(db)\n",
    "    file=importlib.reload(file)\n",
    "    # attr=importlib.reload(attr)\n",
    "\n",
    "__desc__ = \"read and write BigQuery dataset for hypothese testing\"\n",
    "# clsSDB = db.dataWorkLoads(\n",
    "#     desc=__desc__,\n",
    "#     db_type = 'bigquery',\n",
    "#     db_driver=None,\n",
    "#     db_hostIP=None,\n",
    "#     db_port = None,\n",
    "#     db_name = None,\n",
    "#     db_schema='combined_data_facebook_ads',\n",
    "#     spark_partitions=None,\n",
    "#     spark_format = 'bigquery',\n",
    "#     spark_save_mode=None,\n",
    "#     # spark_jar_dir = _jar,\n",
    "# )\n",
    "clsFile = file.dataWorkLoads(\n",
    "    desc = \"optimizing action_type budgets for an ad\",\n",
    "    store_mode='local-fs',\n",
    "    store_root=proj_dir.split('mining/')[0],\n",
    "    jar_dir=None,\n",
    ")\n",
    "# if clsSDB.session:\n",
    "#     clsSDB._session.stop\n",
    "print(\"\\n%s class initialization and load complete!\" % __desc__)"
   ]
  },
  {
   "cell_type": "markdown",
   "id": "2a8066d7-a018-4f32-aceb-b0f35fb1d3d2",
   "metadata": {},
   "source": [
    "## Load data"
   ]
  },
  {
   "cell_type": "code",
   "execution_count": 3,
   "id": "8c11aab7-5f71-4915-b35a-9b4eaeed4b40",
   "metadata": {},
   "outputs": [],
   "source": [
    "from pyspark.sql.functions import unix_timestamp\n",
    "\n",
    "options = {\n",
    "    \"inferSchema\":True,\n",
    "    \"header\":True,\n",
    "    \"delimiter\":\",\",\n",
    "    \"pathGlobFilter\":'*.csv',\n",
    "    \"recursiveFileLookup\":True,\n",
    "}"
   ]
  },
  {
   "cell_type": "markdown",
   "id": "47d40d3c-beb3-49c0-8675-6720f2ac44f7",
   "metadata": {},
   "source": [
    "#### Action Types"
   ]
  },
  {
   "cell_type": "code",
   "execution_count": 4,
   "id": "ebabb987-fa45-4b06-ad4e-d3ee86df6570",
   "metadata": {},
   "outputs": [
    {
     "name": "stderr",
     "output_type": "stream",
     "text": [
      "25/02/24 07:59:20 WARN Utils: Your hostname, Waidy-Think-Three resolves to a loopback address: 127.0.1.1; using 192.168.2.82 instead (on interface enp0s25)\n",
      "25/02/24 07:59:20 WARN Utils: Set SPARK_LOCAL_IP if you need to bind to another address\n",
      "25/02/24 07:59:21 WARN NativeCodeLoader: Unable to load native-hadoop library for your platform... using builtin-java classes where applicable\n",
      "Setting default log level to \"WARN\".\n",
      "To adjust logging level use sc.setLogLevel(newLevel). For SparkR, use setLogLevel(newLevel).\n",
      "25/02/24 07:59:23 WARN Utils: Service 'SparkUI' could not bind on port 4040. Attempting port 4041.\n"
     ]
    },
    {
     "name": "stdout",
     "output_type": "stream",
     "text": [
      "Loaded action_types.csv 101 rows\n"
     ]
    }
   ],
   "source": [
    "_fname = \"action_types.csv\"\n",
    "_fpath = \"mining/data/budget/\"\n",
    "_act_sdf=clsFile.read_files_to_dtype(\n",
    "    as_type = \"SPARK\",      # optional - define the data type to return\n",
    "    folder_path=_fpath,  # optional - relative path, w.r.t. self.storeRoot\n",
    "    file_name=_fname,  # optional - name of the file to read (complete-60-accounts.csv)\n",
    "    file_type=None,  # optional - read all the files of same type\n",
    "    **options,\n",
    ")\n",
    "print(\"Loaded %s %d rows\" % (_fname, _act_sdf.count()))"
   ]
  },
  {
   "cell_type": "markdown",
   "id": "ffef26ca-1f9a-447e-8bb4-e0600c0a8e4d",
   "metadata": {},
   "source": [
    "#### Action group list\n",
    "\n",
    "With data = {app_interactions, checkout, custom_conversions, lead_generation, purchase, registration, }"
   ]
  },
  {
   "cell_type": "code",
   "execution_count": 5,
   "id": "78103641-ed4b-4048-a34b-5dafe4a87905",
   "metadata": {},
   "outputs": [
    {
     "name": "stdout",
     "output_type": "stream",
     "text": [
      "Action group list: \n",
      " app_interactions, awareness, checkout, custom_conversions, engagement, lead_generation, purchase, registration, search, subscriptions, trial_and_demos\n"
     ]
    }
   ],
   "source": [
    "_act_grp_lst = [x['action_group'] for x in\n",
    "                          _act_sdf.select(F.col('action_group'))\\\n",
    "                          .distinct().orderBy(F.col('action_group')).collect()]\n",
    "print(\"Action group list: \\n\", \", \".join(_act_grp_lst))"
   ]
  },
  {
   "cell_type": "code",
   "execution_count": 1,
   "id": "cce5bda1-128d-44c2-9459-036fc56336a6",
   "metadata": {},
   "outputs": [
    {
     "ename": "NameError",
     "evalue": "name '_act_sdf' is not defined",
     "output_type": "error",
     "traceback": [
      "\u001b[0;31m---------------------------------------------------------------------------\u001b[0m",
      "\u001b[0;31mNameError\u001b[0m                                 Traceback (most recent call last)",
      "Cell \u001b[0;32mIn[1], line 3\u001b[0m\n\u001b[1;32m      1\u001b[0m _act_grp \u001b[38;5;241m=\u001b[39m \u001b[38;5;124m\"\u001b[39m\u001b[38;5;124mcustom_conversions\u001b[39m\u001b[38;5;124m\"\u001b[39m\n\u001b[1;32m      2\u001b[0m _grp_act_lst \u001b[38;5;241m=\u001b[39m [x[\u001b[38;5;124m'\u001b[39m\u001b[38;5;124maction_type\u001b[39m\u001b[38;5;124m'\u001b[39m] \u001b[38;5;28;01mfor\u001b[39;00m x \u001b[38;5;129;01min\u001b[39;00m \n\u001b[0;32m----> 3\u001b[0m                 \u001b[43m_act_sdf\u001b[49m\u001b[38;5;241m.\u001b[39mselect(F\u001b[38;5;241m.\u001b[39mcol(\u001b[38;5;124m'\u001b[39m\u001b[38;5;124maction_type\u001b[39m\u001b[38;5;124m'\u001b[39m))\\\n\u001b[1;32m      4\u001b[0m                     \u001b[38;5;241m.\u001b[39mwhere(F\u001b[38;5;241m.\u001b[39mcol(\u001b[38;5;124m'\u001b[39m\u001b[38;5;124maction_group\u001b[39m\u001b[38;5;124m'\u001b[39m)\u001b[38;5;241m.\u001b[39misin(_act_grp))\\\n\u001b[1;32m      5\u001b[0m                     \u001b[38;5;241m.\u001b[39mcollect()]\n\u001b[1;32m      6\u001b[0m \u001b[38;5;28mprint\u001b[39m(\u001b[38;5;124m\"\u001b[39m\u001b[38;5;124maction types for group:\u001b[39m\u001b[38;5;124m\"\u001b[39m,_act_grp\u001b[38;5;241m.\u001b[39mupper())\n\u001b[1;32m      7\u001b[0m \u001b[38;5;28mprint\u001b[39m(\u001b[38;5;124m\"\u001b[39m\u001b[38;5;124m, \u001b[39m\u001b[38;5;124m\"\u001b[39m\u001b[38;5;241m.\u001b[39mjoin(_grp_act_lst))\n",
      "\u001b[0;31mNameError\u001b[0m: name '_act_sdf' is not defined"
     ]
    }
   ],
   "source": [
    "_act_grp = \"custom_conversions\"\n",
    "_grp_act_lst = [x['action_type'] for x in \n",
    "                _act_sdf.select(F.col('action_type'))\\\n",
    "                    .where(F.col('action_group').isin(_act_grp))\\\n",
    "                    .collect()]\n",
    "print(\"action types for group:\",_act_grp.upper())\n",
    "print(\", \".join(_grp_act_lst))"
   ]
  },
  {
   "cell_type": "code",
   "execution_count": 126,
   "id": "81aee9e4-9d38-46fa-bd69-9b47b39b43f5",
   "metadata": {
    "scrolled": true
   },
   "outputs": [
    {
     "name": "stdout",
     "output_type": "stream",
     "text": [
      "lead_generation_onsite_conversion__lead_grouped, lead_generation_offsite_conversion__fb_pixel_lead, lead_generation_lead, lead_generation_leadgen_grouped\n"
     ]
    }
   ],
   "source": [
    "_act_cols_lst = [x for x in sdf.columns if x.find(_act_grp)==0]\n",
    "print(\", \".join(_act_cols_lst))"
   ]
  },
  {
   "cell_type": "code",
   "execution_count": 127,
   "id": "bb60701e-c0c6-4ab7-995a-916e79ca93a9",
   "metadata": {},
   "outputs": [
    {
     "data": {
      "text/plain": [
       "{'lead_generation_onsite_conversion__lead_grouped': 3,\n",
       " 'lead_generation_offsite_conversion__fb_pixel_lead': 30701,\n",
       " 'lead_generation_lead': 31039,\n",
       " 'lead_generation_leadgen_grouped': 0}"
      ]
     },
     "execution_count": 127,
     "metadata": {},
     "output_type": "execute_result"
    }
   ],
   "source": [
    "count_dict= {}\n",
    "for act  in _act_cols_lst:\n",
    "    count_dict[act]=sdf.select(act).dropna().count()\n",
    "count_dict"
   ]
  },
  {
   "cell_type": "markdown",
   "id": "40528a3f-cf9f-4da8-920a-30484fa46370",
   "metadata": {},
   "source": [
    "#### Full Dataset"
   ]
  },
  {
   "cell_type": "code",
   "execution_count": 11,
   "id": "221d0989-55fe-4ad3-81a0-f9f2a51f1052",
   "metadata": {},
   "outputs": [
    {
     "name": "stderr",
     "output_type": "stream",
     "text": [
      "                                                                                "
     ]
    },
    {
     "name": "stdout",
     "output_type": "stream",
     "text": [
      "Loaded FullDataset.csv 1777681 rows\n"
     ]
    },
    {
     "name": "stderr",
     "output_type": "stream",
     "text": [
      "[Stage 55:==============================================>           (4 + 1) / 5]"
     ]
    },
    {
     "name": "stdout",
     "output_type": "stream",
     "text": [
      "timestamp converted unix_timestamp for 1777681 rows\n"
     ]
    },
    {
     "name": "stderr",
     "output_type": "stream",
     "text": [
      "                                                                                "
     ]
    }
   ],
   "source": [
    "_fname = \"FullDataset.csv\"\n",
    "sdf=clsFile.read_files_to_dtype(\n",
    "    as_type = \"SPARK\",      # optional - define the data type to return\n",
    "    folder_path=_fpath,  # optional - relative path, w.r.t. self.storeRoot\n",
    "    file_name=_fname,  # optional - name of the file to read (complete-60-accounts.csv)\n",
    "    file_type=None,  # optional - read all the files of same type\n",
    "    **options,\n",
    ")\n",
    "print(\"Loaded %s %d rows\" % (_fname, sdf.count()))# sdf.printSchema()\n",
    "''' convert date to int '''\n",
    "sdf = sdf.withColumn('date', unix_timestamp('updated_time'))\n",
    "print(\"timestamp converted unix_timestamp for %d rows\" % sdf.count())\n"
   ]
  },
  {
   "cell_type": "code",
   "execution_count": 115,
   "id": "8af32474-ce29-4560-b6d5-cfd269498c20",
   "metadata": {},
   "outputs": [
    {
     "name": "stdout",
     "output_type": "stream",
     "text": [
      "+--------------------+-------+\n",
      "|           objective|  count|\n",
      "+--------------------+-------+\n",
      "|        APP_INSTALLS|  10753|\n",
      "|     POST_ENGAGEMENT|    910|\n",
      "|               REACH|     81|\n",
      "|            MESSAGES|    944|\n",
      "|   OUTCOME_AWARENESS|  20332|\n",
      "|PRODUCT_CATALOG_S...|  16081|\n",
      "|         LINK_CLICKS|  71717|\n",
      "|       OUTCOME_LEADS|  58280|\n",
      "|  OUTCOME_ENGAGEMENT|  33818|\n",
      "|     LEAD_GENERATION|   1145|\n",
      "|         VIDEO_VIEWS|    127|\n",
      "|         CONVERSIONS|  59053|\n",
      "|       OUTCOME_SALES|1504435|\n",
      "|          PAGE_LIKES|      4|\n",
      "|     BRAND_AWARENESS|      1|\n",
      "+--------------------+-------+\n",
      "\n"
     ]
    }
   ],
   "source": [
    "sdf.groupBy('objective').count().show()"
   ]
  },
  {
   "cell_type": "code",
   "execution_count": 44,
   "id": "5d79a4c7-6438-43a6-ac37-0bd7c0834753",
   "metadata": {},
   "outputs": [
    {
     "name": "stdout",
     "output_type": "stream",
     "text": [
      "root\n",
      " |-- account_id: long (nullable = true)\n",
      " |-- ad_id: long (nullable = true)\n",
      " |-- adset_id: long (nullable = true)\n",
      " |-- campaign_id: long (nullable = true)\n",
      " |-- updated_time: date (nullable = true)\n",
      " |-- impressions: integer (nullable = true)\n",
      " |-- frequency: double (nullable = true)\n",
      " |-- reach: integer (nullable = true)\n",
      " |-- CTR: double (nullable = true)\n",
      " |-- CPP: double (nullable = true)\n",
      " |-- CPC: double (nullable = true)\n",
      " |-- CPM: double (nullable = true)\n",
      " |-- spend: double (nullable = true)\n",
      " |-- clicks: integer (nullable = true)\n",
      " |-- auction_bid: string (nullable = true)\n",
      " |-- objective: string (nullable = true)\n",
      " |-- account_currency: string (nullable = true)\n",
      " |-- business_country_code: string (nullable = true)\n",
      " |-- business_city: string (nullable = true)\n",
      " |-- business_state: string (nullable = true)\n",
      " |-- timezone_name: string (nullable = true)\n",
      " |-- d1_view: double (nullable = true)\n",
      " |-- d7_view: double (nullable = true)\n",
      " |-- d28_view: double (nullable = true)\n",
      " |-- d1_click: double (nullable = true)\n",
      " |-- d7_click: double (nullable = true)\n",
      " |-- d28_click: double (nullable = true)\n",
      " |-- purchase_value: double (nullable = true)\n",
      " |-- purchase_roas: double (nullable = true)\n",
      " |-- app_interactions_app_custom_event__fb_mobile_tutorial_completion: string (nullable = true)\n",
      " |-- app_interactions_app_custom_event__fb_mobile_add_to_wishlist: double (nullable = true)\n",
      " |-- app_interactions_omni_app_install: string (nullable = true)\n",
      " |-- app_interactions_app_custom_event__fb_mobile_level_achieved: string (nullable = true)\n",
      " |-- app_interactions_app_custom_event__fb_mobile_activate_app: string (nullable = true)\n",
      " |-- app_interactions_app_install: string (nullable = true)\n",
      " |-- app_interactions_app_custom_event__fb_mobile_spent_credits: double (nullable = true)\n",
      " |-- app_interactions_mobile_app_install: string (nullable = true)\n",
      " |-- app_interactions_app_custom_event__fb_mobile_rate: string (nullable = true)\n",
      " |-- app_interactions_app_custom_event__fb_mobile_content_view: double (nullable = true)\n",
      " |-- app_interactions_app_custom_event__fb_mobile_achievement_unlocked: string (nullable = true)\n",
      " |-- awareness_ad_click_mobile_app: string (nullable = true)\n",
      " |-- awareness_photo_view: string (nullable = true)\n",
      " |-- awareness_post_engagement: string (nullable = true)\n",
      " |-- awareness_ad_impression_mobile_app: string (nullable = true)\n",
      " |-- awareness_post: string (nullable = true)\n",
      " |-- awareness_landing_page_view_value: string (nullable = true)\n",
      " |-- awareness_page_engagement: string (nullable = true)\n",
      " |-- awareness_fb_pixel_view_value: string (nullable = true)\n",
      " |-- awareness_omni_view_content_value: string (nullable = true)\n",
      " |-- awareness_outbound_click_value: string (nullable = true)\n",
      " |-- awareness_video_view: string (nullable = true)\n",
      " |-- awareness_rsvp: string (nullable = true)\n",
      " |-- checkout_offsite_conversion__fb_pixel_add_to_cart: double (nullable = true)\n",
      " |-- checkout_app_custom_event__fb_mobile_initiated_checkout: double (nullable = true)\n",
      " |-- checkout_offsite_conversion__fb_pixel_initiate_checkout: double (nullable = true)\n",
      " |-- checkout_app_custom_event__fb_mobile_add_to_cart: double (nullable = true)\n",
      " |-- checkout_app_custom_event__fb_mobile_add_payment_info: double (nullable = true)\n",
      " |-- checkout_omni_initiated_checkout_value: string (nullable = true)\n",
      " |-- checkout_fb_pixel_add_to_cart_value: string (nullable = true)\n",
      " |-- checkout_omni_add_to_cart_value: string (nullable = true)\n",
      " |-- checkout_offsite_conversion__fb_pixel_add_payment_info: double (nullable = true)\n",
      " |-- custom_conversions_app_custom_event__other: double (nullable = true)\n",
      " |-- custom_conversions_offsite_conversion__fb_pixel_custom: double (nullable = true)\n",
      " |-- custom_conversions_offsite_conversion__custom__<custom_conv_id>: string (nullable = true)\n",
      " |-- custom_conversions_omni_custom: double (nullable = true)\n",
      " |-- engagement_video_view_value: string (nullable = true)\n",
      " |-- engagement_post_reaction_value: string (nullable = true)\n",
      " |-- engagement_like_value: string (nullable = true)\n",
      " |-- engagement_onsite_conversion__messaging_user_subscribed: string (nullable = true)\n",
      " |-- engagement_engagement_value: string (nullable = true)\n",
      " |-- engagement_games__plays: string (nullable = true)\n",
      " |-- engagement_onsite_conversion__messaging_conversation_started_7d: string (nullable = true)\n",
      " |-- engagement_link_click: string (nullable = true)\n",
      " |-- engagement_post_engagement: string (nullable = true)\n",
      " |-- engagement_app_use: string (nullable = true)\n",
      " |-- engagement_comment_value: string (nullable = true)\n",
      " |-- engagement_onsite_conversion__messaging_first_reply: string (nullable = true)\n",
      " |-- engagement_checkin: string (nullable = true)\n",
      " |-- engagement_onsite_conversion__post_save: string (nullable = true)\n",
      " |-- lead_generation_onsite_conversion__lead_grouped: double (nullable = true)\n",
      " |-- lead_generation_offsite_conversion__fb_pixel_lead: double (nullable = true)\n",
      " |-- lead_generation_lead: double (nullable = true)\n",
      " |-- lead_generation_leadgen_grouped: string (nullable = true)\n",
      " |-- purchase_fb_pixel_purchase_value: string (nullable = true)\n",
      " |-- purchase_onsite_conversion__purchase: double (nullable = true)\n",
      " |-- purchase_recurring_subscription_payment_offline: string (nullable = true)\n",
      " |-- purchase_donate_total: string (nullable = true)\n",
      " |-- purchase_omni_purchase_value: string (nullable = true)\n",
      " |-- purchase_donate_offline: string (nullable = true)\n",
      " |-- purchase_recurring_subscription_payment_mobile_app: string (nullable = true)\n",
      " |-- purchase_recurring_subscription_payment_total: string (nullable = true)\n",
      " |-- purchase_offsite_conversion__fb_pixel_purchase: double (nullable = true)\n",
      " |-- purchase_donate_website: string (nullable = true)\n",
      " |-- purchase_mobile_app_purchase_value: string (nullable = true)\n",
      " |-- purchase_recurring_subscription_payment_website: string (nullable = true)\n",
      " |-- purchase_app_custom_event__fb_mobile_purchase: double (nullable = true)\n",
      " |-- purchase_purchase_value: string (nullable = true)\n",
      " |-- purchase_omni_purchase: double (nullable = true)\n",
      " |-- purchase_donate_mobile_app: string (nullable = true)\n",
      " |-- purchase_donate_on_facebook: string (nullable = true)\n",
      " |-- registration_omni_complete_registration: double (nullable = true)\n",
      " |-- registration_submit_application_total: string (nullable = true)\n",
      " |-- registration_submit_application_offline: string (nullable = true)\n",
      " |-- registration_submit_application_website: string (nullable = true)\n",
      " |-- registration_submit_application_on_facebook: string (nullable = true)\n",
      " |-- registration_submit_application_mobile_app: string (nullable = true)\n",
      " |-- registration_app_custom_event__fb_mobile_complete_registration: double (nullable = true)\n",
      " |-- registration_offsite_conversion__fb_pixel_complete_registration: double (nullable = true)\n",
      " |-- search_find_location_offline: string (nullable = true)\n",
      " |-- search_omni_search_value: string (nullable = true)\n",
      " |-- search_offsite_conversion__fb_pixel_search: double (nullable = true)\n",
      " |-- search_find_location_mobile_app: string (nullable = true)\n",
      " |-- search_find_location_total: string (nullable = true)\n",
      " |-- search_find_location_website: string (nullable = true)\n",
      " |-- subscriptions_subscribe_offline: string (nullable = true)\n",
      " |-- subscriptions_subscribe_website: string (nullable = true)\n",
      " |-- subscriptions_subscribe_mobile_app: string (nullable = true)\n",
      " |-- subscriptions_cancel_subscription_website: string (nullable = true)\n",
      " |-- subscriptions_cancel_subscription_mobile_app: string (nullable = true)\n",
      " |-- subscriptions_cancel_subscription_offline: string (nullable = true)\n",
      " |-- subscriptions_subscribe_total: string (nullable = true)\n",
      " |-- subscriptions_cancel_subscription_total: string (nullable = true)\n",
      " |-- trial_and_demos_schedule_website: string (nullable = true)\n",
      " |-- trial_and_demos_schedule_mobile_app: string (nullable = true)\n",
      " |-- trial_and_demos_schedule_offline: string (nullable = true)\n",
      " |-- trial_and_demos_start_trial_website: string (nullable = true)\n",
      " |-- trial_and_demos_start_trial_total: string (nullable = true)\n",
      " |-- trial_and_demos_schedule_total: string (nullable = true)\n",
      " |-- trial_and_demos_start_trial_mobile_app: string (nullable = true)\n",
      " |-- trial_and_demos_start_trial_offline: string (nullable = true)\n",
      " |-- date: long (nullable = true)\n",
      "\n"
     ]
    }
   ],
   "source": [
    "sdf.printSchema()"
   ]
  },
  {
   "cell_type": "code",
   "execution_count": 4,
   "id": "8da72508-fbf0-495d-891b-077f6fe23ff7",
   "metadata": {},
   "outputs": [
    {
     "name": "stderr",
     "output_type": "stream",
     "text": [
      "                                                                                "
     ]
    },
    {
     "name": "stdout",
     "output_type": "stream",
     "text": [
      "emmisions df shape: (24670, 7)\n",
      "emssisions df stats:\n",
      "                ROAS           CPC           CTR           CPM   impressions  \\\n",
      "count  24670.000000  24670.000000  24670.000000  24670.000000  2.467000e+04   \n",
      "mean       6.772952      5.364572      3.646024    109.382239  1.407236e+04   \n",
      "std      106.486162      6.781688      3.773560    113.130134  3.668238e+04   \n",
      "min        0.000332      0.000000      0.000000      0.545455  1.000000e+00   \n",
      "25%        0.679807      1.207814      1.388103     37.305505  1.519000e+03   \n",
      "50%        1.404545      3.006176      2.389706     71.853380  4.904000e+03   \n",
      "75%        3.038977      6.994643      4.421769    147.826330  1.401450e+04   \n",
      "max    10100.000000    139.398333     50.000000   3668.377193  1.873861e+06   \n",
      "\n",
      "               click         reach  \n",
      "count   24670.000000  2.467000e+04  \n",
      "mean      570.365302  1.214955e+04  \n",
      "std      2667.583861  3.130191e+04  \n",
      "min         0.000000  1.000000e+00  \n",
      "25%        34.000000  1.284000e+03  \n",
      "50%       112.000000  4.123000e+03  \n",
      "75%       367.000000  1.196250e+04  \n",
      "max    165274.000000  1.506747e+06  \n"
     ]
    },
    {
     "name": "stderr",
     "output_type": "stream",
     "text": [
      "                                                                                "
     ]
    },
    {
     "name": "stdout",
     "output_type": "stream",
     "text": [
      "transition probabilities df shape: (56309, 5)\n",
      "transition probabilities df stats:\n",
      "                date   impressions          click         reach     frequency\n",
      "count  5.630900e+04  5.630900e+04   56309.000000  5.630900e+04  56309.000000\n",
      "mean   1.730340e+09  7.318835e+03     306.342166  6.316045e+03      0.987710\n",
      "std    5.082494e+06  2.551094e+04    1856.726374  2.181607e+04      0.463990\n",
      "min    1.696262e+09  0.000000e+00       0.000000  0.000000e+00      0.000000\n",
      "25%    1.726502e+09  1.810000e+02       4.000000  1.530000e+02      1.051282\n",
      "50%    1.730909e+09  1.394000e+03      32.000000  1.186000e+03      1.116855\n",
      "75%    1.734451e+09  5.682000e+03     144.000000  4.761000e+03      1.203747\n",
      "max    1.738858e+09  1.873861e+06  165274.000000  1.506747e+06      3.500000\n",
      "observations df shape: (56309, 5)\n",
      "observations df stats:\n",
      "           spend_usd\n",
      "count  56309.000000\n",
      "mean      29.966158\n",
      "std       96.009231\n",
      "min        0.000000\n",
      "25%        0.840840\n",
      "50%        4.980720\n",
      "75%       18.213720\n",
      "max     5152.530000\n"
     ]
    }
   ],
   "source": [
    "__def_geom__ = 'NYC,USA'\n",
    "__def_demog__= [{\"age\":'35-55', \"male\": 0.60, \"female\": 0.37, \"unknown\": 0.03}]\n",
    "__def_obj__ = 'APP_INSTALLS'\n",
    "__def_goal__= 'OFFSITE_CONVERSIONS'  # action group\n",
    "__def_model_name__=\"_\".join([__def_goal__,])\n",
    "\n",
    "__def_obs_cols__= ['spend','impressions', 'clicks', 'reach', 'frequency']\n",
    "__def_dt_cols__ = ['date']\n",
    "__def_tran_lst__ =_act_cols_lst #['impressions', 'click', 'reach']\n",
    "__def_feats_lst__=[&__def_dt_cols__,  ]\n",
    "__def_emm_lst__ = ['ROAS','CPC','CTR','CPM']\n",
    "''' wihout updated_time', 'spend_usd', 'impressions', 'click', 'reach', 'frequency '''\n",
    "# _goal_df= sdf.select('date','spend_usd', 'impressions', 'click', 'reach', 'frequency',\n",
    "#                      'ROAS','CPC','CTR','CPM')\\\n",
    "\n",
    "_emmis_df= sdf.select(*__def_emm_lst__, *__def_tran_lst__) \\\n",
    "            .where(F.col('goal').isin(__def_goal__)) \\\n",
    "            .dropna().toPandas()\n",
    "print(\"emmisions df shape:\", _emmis_df.shape)\n",
    "print(\"emssisions df stats:\\n\", _emmis_df.describe())\n",
    "\n",
    "_tran_prob_df= sdf.select(__def_feats_lst__) \\\n",
    "            .where(F.col('goal').isin(__def_goal__)) \\\n",
    "            .dropna().orderBy('updated_time').toPandas()\n",
    "print(\"transition probabilities df shape:\", _tran_prob_df.shape)\n",
    "print(\"transition probabilities df stats:\\n\", _tran_prob_df.describe())\n",
    "\n",
    "_label_df = sdf.select(*__def_obs__) \\\n",
    "            .where(F.col('goal').isin(__def_goal__)) \\\n",
    "            .dropna().orderBy('updated_time').toPandas()\n",
    "print(\"observations df shape:\", _tran_prob_df.shape)\n",
    "print(\"observations df stats:\\n\", _label_df.describe())"
   ]
  },
  {
   "cell_type": "markdown",
   "id": "1502f5eb-959c-461a-85b0-fadcd9caf292",
   "metadata": {},
   "source": [
    "## Implement the Belman equation\n",
    "The [Belman equation](https://www.datacamp.com/tutorial/bellman-equation-reinforcement-learning) has the following componensts:\n",
    "1. R(s,a): The immediate reward received for taking action aaa in state sss.\n",
    "2. γ: The discount factor (between 0 and 1) that determines the importance of future rewards compared to immediate rewards.\n",
    "3. P(s′∣s,a) The probability of transitioning to state s′ from state sss by taking action a.\n",
    "4. max⁡(a): The optimal action that maximizes the expected value of future rewards.\n",
    "\n",
    "### Filter and Separate dataset\n",
    "1. Transition matrix features and values\n",
    "2. Emission matrix features and values\n",
    "3. Observed outcomes"
   ]
  },
  {
   "cell_type": "markdown",
   "id": "9923cf50-7781-423e-81af-b12c8c96c195",
   "metadata": {},
   "source": [
    "### Compute the transition probabilities"
   ]
  },
  {
   "cell_type": "code",
   "execution_count": 11,
   "id": "ee40f562-60df-4419-9ea7-64037108e4d3",
   "metadata": {},
   "outputs": [
    {
     "name": "stdout",
     "output_type": "stream",
     "text": [
      "[[0.09515828 0.04185669 0.86298504]\n",
      " [0.         1.         0.        ]\n",
      " [0.         0.         1.        ]]\n"
     ]
    },
    {
     "data": {
      "image/png": "[encoded data removed]",
      "text/plain": [
       "<Figure size 640x480 with 1 Axes>"
      ]
     },
     "metadata": {},
     "output_type": "display_data"
    }
   ],
   "source": [
    "import networkx as nx\n",
    "import matplotlib.pyplot as plt\n",
    "\n",
    "G = nx.DiGraph()\n",
    "G.add_edges_from([('impressions', 'click'), ('impressions', 'reach')])\n",
    "\n",
    "i=0\n",
    "for _node in G.nodes:\n",
    "    G.add_node(_node, stateid=i, emission=0.0)\n",
    "    i+=1\n",
    "\n",
    "_trans_matrix = np.zeros((int(G.number_of_nodes()),int(G.number_of_nodes())),dtype=float)\n",
    "\n",
    "''' transition probabilities '''\n",
    "for u, v in G.edges():\n",
    "    u_count = _tran_prob_df[u].sum()\n",
    "    v_count = _tran_prob_df[v].sum()\n",
    "    if v_count <= u_count:\n",
    "        _trans_matrix[G.nodes[u]['stateid'],G.nodes[v]['stateid']]=float(v_count/u_count)\n",
    "''' fill the diagnals '''\n",
    "for i in range(0,_trans_matrix.shape[0],1):\n",
    "    if _trans_matrix[i,].sum() <= 1.0:\n",
    "        _trans_matrix[i,i]=1.0-_trans_matrix[i,].sum()\n",
    "    else:\n",
    "        _trans_matrix[i,i]=1.0\n",
    "print(_trans_matrix)\n",
    "\n",
    "options = {\n",
    "    'node_color': 'blue',\n",
    "    'node_size': 100,\n",
    "    'width': 3,\n",
    "    'arrowstyle': '-|>',\n",
    "    'arrowsize': 12,\n",
    "}\n",
    "nx.draw_networkx(G, arrows=True, **options)"
   ]
  },
  {
   "cell_type": "markdown",
   "id": "e59f4483-5cfd-4f97-b270-aa5f2dace626",
   "metadata": {},
   "source": [
    "### Compute the emission probabilities"
   ]
  },
  {
   "cell_type": "code",
   "execution_count": 101,
   "id": "1028eace-fdb4-45fc-a5bf-b6e94d4a62c2",
   "metadata": {},
   "outputs": [
    {
     "name": "stdout",
     "output_type": "stream",
     "text": [
      "_emissions\n",
      " (4,) \n",
      " [0.00055747 0.00044154 0.0003001  0.00900299]\n"
     ]
    }
   ],
   "source": [
    "_emmi_lst = []\n",
    "for _state in _emmis_df[__def_tran_lst__].columns:\n",
    "    _state_sum = _emmis_df[_state].sum()\n",
    "    _emmi_lst.append((_emmis_df[__def_emm_lst__]/_row_sum).sum())\n",
    "_emm_matrix = np.array(_emmi_lst[0])\n",
    "print(\"_emissions\\n\",_emm_matrix.shape, \"\\n\", _emm_matrix)\n",
    "    # for col in _emmis_df[__def_emm_lst__].columns:\n",
    "        # _col_sum = _emmis_df[col].sum()\n",
    "        # print(_col_sum/_row_sum)"
   ]
  },
  {
   "cell_type": "code",
   "execution_count": 106,
   "id": "6c4e7200-e148-4612-b362-bb3112cc1ed0",
   "metadata": {},
   "outputs": [
    {
     "name": "stderr",
     "output_type": "stream",
     "text": [
      "MultinomialHMM has undergone major changes. The previous version was implementing a CategoricalHMM (a special case of MultinomialHMM). This new implementation follows the standard definition for a Multinomial distribution (e.g. as in https://en.wikipedia.org/wiki/Multinomial_distribution). See these issues for details:\n",
      "https://github.com/hmmlearn/hmmlearn/issues/335\n",
      "https://github.com/hmmlearn/hmmlearn/issues/340\n"
     ]
    },
    {
     "ename": "ValueError",
     "evalue": "operands could not be broadcast together with shapes (4,) (3,) ",
     "output_type": "error",
     "traceback": [
      "\u001b[0;31m---------------------------------------------------------------------------\u001b[0m",
      "\u001b[0;31mValueError\u001b[0m                                Traceback (most recent call last)",
      "Cell \u001b[0;32mIn[106], line 12\u001b[0m\n\u001b[1;32m      3\u001b[0m _observations \u001b[38;5;241m=\u001b[39m np\u001b[38;5;241m.\u001b[39marray(_emmis_df[__def_tran_lst__])\n\u001b[1;32m      5\u001b[0m model \u001b[38;5;241m=\u001b[39m MultinomialHMM(\n\u001b[1;32m      6\u001b[0m     n_components\u001b[38;5;241m=\u001b[39m_trans_matrix\u001b[38;5;241m.\u001b[39mshape[\u001b[38;5;241m1\u001b[39m],\n\u001b[1;32m      7\u001b[0m     startprob_prior\u001b[38;5;241m=\u001b[39m_emm_matrix,\n\u001b[0;32m   (...)\u001b[0m\n\u001b[1;32m     10\u001b[0m     n_iter\u001b[38;5;241m=\u001b[39m\u001b[38;5;241m100\u001b[39m,\n\u001b[1;32m     11\u001b[0m )\n\u001b[0;32m---> 12\u001b[0m \u001b[43mmodel\u001b[49m\u001b[38;5;241;43m.\u001b[39;49m\u001b[43mfit\u001b[49m\u001b[43m(\u001b[49m\u001b[43m_observations\u001b[49m\u001b[43m)\u001b[49m\n",
      "File \u001b[0;32m~/.cache/pypoetry/virtualenvs/madgicx-63NknB0J-py3.10/lib/python3.10/site-packages/hmmlearn/base.py:492\u001b[0m, in \u001b[0;36m_AbstractHMM.fit\u001b[0;34m(self, X, lengths)\u001b[0m\n\u001b[1;32m    488\u001b[0m lower_bound \u001b[38;5;241m=\u001b[39m \u001b[38;5;28mself\u001b[39m\u001b[38;5;241m.\u001b[39m_compute_lower_bound(curr_logprob)\n\u001b[1;32m    490\u001b[0m \u001b[38;5;66;03m# XXX must be before convergence check, because otherwise\u001b[39;00m\n\u001b[1;32m    491\u001b[0m \u001b[38;5;66;03m#     there won't be any updates for the case ``n_iter=1``.\u001b[39;00m\n\u001b[0;32m--> 492\u001b[0m \u001b[38;5;28;43mself\u001b[39;49m\u001b[38;5;241;43m.\u001b[39;49m\u001b[43m_do_mstep\u001b[49m\u001b[43m(\u001b[49m\u001b[43mstats\u001b[49m\u001b[43m)\u001b[49m\n\u001b[1;32m    493\u001b[0m \u001b[38;5;28mself\u001b[39m\u001b[38;5;241m.\u001b[39mmonitor_\u001b[38;5;241m.\u001b[39mreport(lower_bound)\n\u001b[1;32m    494\u001b[0m \u001b[38;5;28;01mif\u001b[39;00m \u001b[38;5;28mself\u001b[39m\u001b[38;5;241m.\u001b[39mmonitor_\u001b[38;5;241m.\u001b[39mconverged:\n",
      "File \u001b[0;32m~/.cache/pypoetry/virtualenvs/madgicx-63NknB0J-py3.10/lib/python3.10/site-packages/hmmlearn/hmm.py:939\u001b[0m, in \u001b[0;36mMultinomialHMM._do_mstep\u001b[0;34m(self, stats)\u001b[0m\n\u001b[1;32m    938\u001b[0m \u001b[38;5;28;01mdef\u001b[39;00m\u001b[38;5;250m \u001b[39m\u001b[38;5;21m_do_mstep\u001b[39m(\u001b[38;5;28mself\u001b[39m, stats):\n\u001b[0;32m--> 939\u001b[0m     \u001b[38;5;28;43msuper\u001b[39;49m\u001b[43m(\u001b[49m\u001b[43m)\u001b[49m\u001b[38;5;241;43m.\u001b[39;49m\u001b[43m_do_mstep\u001b[49m\u001b[43m(\u001b[49m\u001b[43mstats\u001b[49m\u001b[43m)\u001b[49m\n\u001b[1;32m    940\u001b[0m     \u001b[38;5;28;01mif\u001b[39;00m \u001b[38;5;124m'\u001b[39m\u001b[38;5;124me\u001b[39m\u001b[38;5;124m'\u001b[39m \u001b[38;5;129;01min\u001b[39;00m \u001b[38;5;28mself\u001b[39m\u001b[38;5;241m.\u001b[39mparams:\n\u001b[1;32m    941\u001b[0m         \u001b[38;5;28mself\u001b[39m\u001b[38;5;241m.\u001b[39memissionprob_ \u001b[38;5;241m=\u001b[39m (\n\u001b[1;32m    942\u001b[0m             stats[\u001b[38;5;124m'\u001b[39m\u001b[38;5;124mobs\u001b[39m\u001b[38;5;124m'\u001b[39m] \u001b[38;5;241m/\u001b[39m stats[\u001b[38;5;124m'\u001b[39m\u001b[38;5;124mobs\u001b[39m\u001b[38;5;124m'\u001b[39m]\u001b[38;5;241m.\u001b[39msum(axis\u001b[38;5;241m=\u001b[39m\u001b[38;5;241m1\u001b[39m, keepdims\u001b[38;5;241m=\u001b[39m\u001b[38;5;28;01mTrue\u001b[39;00m))\n",
      "File \u001b[0;32m~/.cache/pypoetry/virtualenvs/madgicx-63NknB0J-py3.10/lib/python3.10/site-packages/hmmlearn/base.py:907\u001b[0m, in \u001b[0;36mBaseHMM._do_mstep\u001b[0;34m(self, stats)\u001b[0m\n\u001b[1;32m    900\u001b[0m \u001b[38;5;66;03m# If a prior is < 1, `prior - 1 + starts['start']` can be negative.  In\u001b[39;00m\n\u001b[1;32m    901\u001b[0m \u001b[38;5;66;03m# that case maximization of (n1+e1) log p1 + ... + (ns+es) log ps under\u001b[39;00m\n\u001b[1;32m    902\u001b[0m \u001b[38;5;66;03m# the conditions sum(p) = 1 and all(p >= 0) show that the negative\u001b[39;00m\n\u001b[1;32m    903\u001b[0m \u001b[38;5;66;03m# terms can just be set to zero.\u001b[39;00m\n\u001b[1;32m    904\u001b[0m \u001b[38;5;66;03m# The ``np.where`` calls guard against updating forbidden states\u001b[39;00m\n\u001b[1;32m    905\u001b[0m \u001b[38;5;66;03m# or transitions in e.g. a left-right HMM.\u001b[39;00m\n\u001b[1;32m    906\u001b[0m \u001b[38;5;28;01mif\u001b[39;00m \u001b[38;5;124m'\u001b[39m\u001b[38;5;124ms\u001b[39m\u001b[38;5;124m'\u001b[39m \u001b[38;5;129;01min\u001b[39;00m \u001b[38;5;28mself\u001b[39m\u001b[38;5;241m.\u001b[39mparams:\n\u001b[0;32m--> 907\u001b[0m     startprob_ \u001b[38;5;241m=\u001b[39m np\u001b[38;5;241m.\u001b[39mmaximum(\u001b[38;5;28;43mself\u001b[39;49m\u001b[38;5;241;43m.\u001b[39;49m\u001b[43mstartprob_prior\u001b[49m\u001b[43m \u001b[49m\u001b[38;5;241;43m-\u001b[39;49m\u001b[43m \u001b[49m\u001b[38;5;241;43m1\u001b[39;49m\u001b[43m \u001b[49m\u001b[38;5;241;43m+\u001b[39;49m\u001b[43m \u001b[49m\u001b[43mstats\u001b[49m\u001b[43m[\u001b[49m\u001b[38;5;124;43m'\u001b[39;49m\u001b[38;5;124;43mstart\u001b[39;49m\u001b[38;5;124;43m'\u001b[39;49m\u001b[43m]\u001b[49m,\n\u001b[1;32m    908\u001b[0m                             \u001b[38;5;241m0\u001b[39m)\n\u001b[1;32m    909\u001b[0m     \u001b[38;5;28mself\u001b[39m\u001b[38;5;241m.\u001b[39mstartprob_ \u001b[38;5;241m=\u001b[39m np\u001b[38;5;241m.\u001b[39mwhere(\u001b[38;5;28mself\u001b[39m\u001b[38;5;241m.\u001b[39mstartprob_ \u001b[38;5;241m==\u001b[39m \u001b[38;5;241m0\u001b[39m, \u001b[38;5;241m0\u001b[39m, startprob_)\n\u001b[1;32m    910\u001b[0m     normalize(\u001b[38;5;28mself\u001b[39m\u001b[38;5;241m.\u001b[39mstartprob_)\n",
      "\u001b[0;31mValueError\u001b[0m: operands could not be broadcast together with shapes (4,) (3,) "
     ]
    }
   ],
   "source": [
    "from hmmlearn.hmm import MultinomialHMM\n",
    "\n",
    "_observations = np.array(_emmis_df[__def_tran_lst__])\n",
    "\n",
    "model = MultinomialHMM(\n",
    "    n_components=_trans_matrix.shape[1],\n",
    "    startprob_prior=_emm_matrix,\n",
    "    algorithm='viterbi',\n",
    "    random_state=0,\n",
    "    n_iter=100,\n",
    ")\n",
    "model.fit(_observations)"
   ]
  },
  {
   "cell_type": "code",
   "execution_count": null,
   "id": "ba19f7f8-4e4b-4ad1-ba28-e4a7dc4a256f",
   "metadata": {},
   "outputs": [],
   "source": []
  },
  {
   "cell_type": "code",
   "execution_count": 7,
   "id": "87c6b548-c585-4847-812b-a1807f0fb2ba",
   "metadata": {},
   "outputs": [
    {
     "name": "stdout",
     "output_type": "stream",
     "text": [
      "OrderedDict([(0, ('impressions', 'click')), (1, ('click', 'reach'))])\n",
      "['impressions', 'reach', 'click']\n",
      "impressions impressions\n",
      "impressions reach\n",
      "impressions click\n",
      "reach impressions\n",
      "reach reach\n",
      "reach click\n",
      "click impressions\n",
      "click reach\n",
      "click click\n"
     ]
    },
    {
     "data": {
      "text/plain": [
       "array([[0., 0., 0.],\n",
       "       [0., 0., 0.],\n",
       "       [0., 0., 0.]])"
      ]
     },
     "execution_count": 7,
     "metadata": {},
     "output_type": "execute_result"
    }
   ],
   "source": [
    "### DEPRECATED\n",
    "\n",
    "import collections\n",
    "import numpy as np\n",
    "from itertools import chain\n",
    "\n",
    "# _state_trans = [\n",
    "#     ('omni_view_content_value','omni_add_to_cart_value'),\n",
    "#     ('omni_view_content_value', 'omni_initiated_checkout_value'),\n",
    "#     ('omni_add_to_cart_value', 'omni_purchase_value'),\n",
    "#     ('omni_initiated_checkout_value', 'omni_purchase_value'),\n",
    "# ]\n",
    "# 'impressions', 'click', 'reach'\n",
    "_state_trans = {\n",
    "    0:('impressions','click'),\n",
    "    1:('impressions', 'reach'),\n",
    "}\n",
    "_state_trans=collections.OrderedDict(sorted(_state_trans.items()))\n",
    "print(_state_trans)\n",
    "''' discover the states from the transition meta data '''\n",
    "_states = list(set(list(chain(*[_state_trans[k] for k in _state_trans.keys()]))))\n",
    "print(_states)\n",
    "_trans_matrix = np.zeros((len(_states),len(_states)))\n",
    "\n",
    "for i in range(0,len(_states),1):\n",
    "    for j in range(0,len(_states),1):\n",
    "        print(_states[i],_states[j])\n",
    "        if (_states[i],_states[j]) in _state_trans:\n",
    "            # print(_states[i],_states[j])\n",
    "            _trans_matrix[i,j]=10\n",
    "_trans_matrix\n",
    "\n",
    "# _max_states = len(_state_trans)\n",
    "\n",
    "# for _trans in _state_trans:\n",
    "#     _from_state, _to_state = _state_trans[_trans][0], _state_trans[_trans][1]\n",
    "#     print(_from_state, _to_state)"
   ]
  }
 ],
 "metadata": {
  "kernelspec": {
   "display_name": "Python 3 (ipykernel)",
   "language": "python",
   "name": "python3"
  },
  "language_info": {
   "codemirror_mode": {
    "name": "ipython",
    "version": 3
   },
   "file_extension": ".py",
   "mimetype": "text/x-python",
   "name": "python",
   "nbconvert_exporter": "python",
   "pygments_lexer": "ipython3",
   "version": "3.10.16"
  }
 },
 "nbformat": 4,
 "nbformat_minor": 5
}
